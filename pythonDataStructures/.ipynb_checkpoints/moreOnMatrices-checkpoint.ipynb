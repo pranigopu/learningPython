{
 "cells": [
  {
   "cell_type": "markdown",
   "metadata": {},
   "source": [
    "# Symmetric or skew symmetric"
   ]
  },
  {
   "cell_type": "code",
   "execution_count": 123,
   "metadata": {},
   "outputs": [
    {
     "name": "stdout",
     "output_type": "stream",
     "text": [
      "\n",
      "A =\n",
      "[[ 1  5  4]\n",
      " [ 4  6  6]\n",
      " [-5  1  5]]\n",
      "Is symmetric? False\n",
      "is skew symmetric? False\n",
      "\n",
      "B =\n",
      "[[-1  3  9]\n",
      " [-8  2  1]\n",
      " [-5  1 -7]]\n",
      "Is symmetric? False\n",
      "is skew symmetric? False\n"
     ]
    }
   ],
   "source": [
    "from numpy import matrix\n",
    "def checkSymmetry(M, name):\n",
    "    print(\"\\n{0} =\\n{1}\".format(name, M))\n",
    "    # Transpose = Original...?\n",
    "    print(\"Is symmetric? {0}\".format((False not in (M == M.T))))\n",
    "    # Negative of transpose = Original...?\n",
    "    print(\"is skew symmetric? {0}\".format(False not in (M == -M.T)))\n",
    "\n",
    "# Matrices to be tested\n",
    "A = matrix([[1, 5, 4], [4, 6, 6], [-5, 1, 5]])\n",
    "B = matrix([[-1, 3, 9], [-8, 2, 1], [-5, 1, -7]])\n",
    "\n",
    "# Function call\n",
    "checkSymmetry(A, \"A\")\n",
    "checkSymmetry(B, \"B\")"
   ]
  },
  {
   "cell_type": "markdown",
   "metadata": {},
   "source": [
    "# Row & column operations and reshaping"
   ]
  },
  {
   "cell_type": "code",
   "execution_count": 4,
   "metadata": {},
   "outputs": [
    {
     "name": "stdout",
     "output_type": "stream",
     "text": [
      "[[18. 21. 22.  2.  1.]\n",
      " [ 7. 24. 14. 21. 15.]\n",
      " [14.  6.  9.  9. 10.]\n",
      " [20.  3. 10.  6.  7.]\n",
      " [ 9.  1. 11.  6. 21.]\n",
      " [23.  4.  5. 12. 10.]]\n",
      "\n",
      "Square root of 5th row's elements...\n",
      "0 : 3.0\n",
      "1 : 1.0\n",
      "2 : 3.3166247903554\n",
      "3 : 2.449489742783178\n",
      "4 : 4.58257569495584\n",
      "\n",
      "Sum of corresponding elements of 2nd and 4th rows...\n",
      "0 : 27.0\n",
      "1 : 27.0\n",
      "2 : 24.0\n",
      "3 : 27.0\n",
      "4 : 22.0\n",
      "\n",
      "Column extracted...\n",
      "21.0\n",
      "24.0\n",
      "6.0\n",
      "3.0\n",
      "1.0\n",
      "4.0\n",
      "Reshaped into a 2 x 3 matrix...\n",
      "[[21. 24.  6.]\n",
      " [ 3.  1.  4.]]\n"
     ]
    }
   ],
   "source": [
    "from numpy import matrix, zeros, reshape, sqrt, random\n",
    "# Random matrix\n",
    "M = zeros([6, 5])\n",
    "for i in range(0, 6):\n",
    "    for j in range(0, 5):\n",
    "        M[i, j] = random.randint(1, 25)\n",
    "print(M)\n",
    "\n",
    "# Square root of every element of 5th row\n",
    "tmp = sqrt(M[4])\n",
    "print(\"\\nSquare root of 5th row's elements...\")\n",
    "for i, e in enumerate(tmp): print(i, \":\", e)\n",
    "    \n",
    "# Adding corresponding elements of the 2nd and 4th row\n",
    "tmp = M[1] + M[3]\n",
    "print(\"\\nSum of corresponding elements of 2nd and 4th rows...\")\n",
    "for i, e in enumerate(tmp): print(i, \":\", e)\n",
    "\n",
    "# Extracting the second column of the matrix.\n",
    "# Reshaping this column into a 2 x 3 matrix.\n",
    "tmp = M[:, 1]\n",
    "# NOTE:\n",
    "# All rows, column 2 => 2nd column\n",
    "# You can given a specified number of rows or columns as well.\n",
    "# Example: M[2:3, 1:4] => rows 3 to 4, columns 2 to 5.\n",
    "# This enables you to extract submatrices of various dimensions from M.\n",
    "print(\"\\nColumn extracted...\")\n",
    "for i in tmp: print(i)\n",
    "print(\"Reshaped into a 2 x 3 matrix...\")\n",
    "print(matrix(reshape(tmp, (2, 3))))\n",
    "# NOTES\n",
    "# The reshape function returns an array of the given order.\n",
    "# I have converted this array to a matrix using the matrix class constructor.\n",
    "# Reshaping of the 1D array above can be also done as tmp.reshape(2,3)."
   ]
  },
  {
   "cell_type": "markdown",
   "metadata": {},
   "source": [
    "For more on reshaping a matrix...\n",
    "<br>\n",
    "https://numpy.org/doc/stable/reference/generated/numpy.reshape.html"
   ]
  },
  {
   "cell_type": "markdown",
   "metadata": {},
   "source": [
    "# Aggregation & sorting operations for matrices"
   ]
  },
  {
   "cell_type": "code",
   "execution_count": 3,
   "metadata": {},
   "outputs": [
    {
     "name": "stdout",
     "output_type": "stream",
     "text": [
      "The matrix...\n",
      "[[3. 2. 1. 2. 2.]\n",
      " [4. 3. 1. 4. 3.]\n",
      " [1. 4. 2. 1. 1.]\n",
      " [2. 2. 2. 4. 4.]\n",
      " [1. 3. 3. 4. 3.]]\n",
      "\n",
      "Sum = 62.0\n",
      "Product = 382205952.0\n",
      "Trace = 15.0\n",
      "Minimum = 1.0\n",
      "Maximum = 4.0\n",
      "\n",
      "The matrix with every row sorted...\n",
      "[[1. 2. 2. 2. 3.]\n",
      " [1. 3. 3. 4. 4.]\n",
      " [1. 1. 1. 2. 4.]\n",
      " [2. 2. 2. 4. 4.]\n",
      " [1. 3. 3. 3. 4.]]\n"
     ]
    }
   ],
   "source": [
    "from numpy import matrix, zeros, sum, product, trace, min, max, sort\n",
    "# NOTE:\n",
    "# For a multi-dimensional array or matrix...\n",
    "# - sum from numpy can add all the elements\n",
    "# - product from numpy can multiply all the elements\n",
    "# - min and max from numpy can find the minimum and maximum values\n",
    "\n",
    "# Random matrix\n",
    "M = zeros([5, 5])\n",
    "for i in range(0, 5):\n",
    "    for j in range(0, 5):\n",
    "        M[i, j] = random.randint(1, 5)\n",
    "print(\"The matrix...\\n{0}\\n\".format(M))\n",
    "print(\"Sum =\", sum(M))\n",
    "print(\"Product =\",product(M))\n",
    "print(\"Trace =\", trace(M))\n",
    "print(\"Minimum =\", min(M))\n",
    "print(\"Maximum =\", max(M))\n",
    "print(\"\\nThe matrix with every row sorted...\\n{0}\".format(sort(M)))\n",
    "# NOTE\n",
    "# Even though we pass the matrix, the sort function only sorts each row, since it only sorts 1D arrays."
   ]
  }
 ],
 "metadata": {
  "kernelspec": {
   "display_name": "Python 3",
   "language": "python",
   "name": "python3"
  },
  "language_info": {
   "codemirror_mode": {
    "name": "ipython",
    "version": 3
   },
   "file_extension": ".py",
   "mimetype": "text/x-python",
   "name": "python",
   "nbconvert_exporter": "python",
   "pygments_lexer": "ipython3",
   "version": "3.8.5"
  }
 },
 "nbformat": 4,
 "nbformat_minor": 4
}
