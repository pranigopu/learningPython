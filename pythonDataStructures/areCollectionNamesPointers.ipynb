{
 "cells": [
  {
   "cell_type": "markdown",
   "metadata": {},
   "source": [
    "# General explanation"
   ]
  },
  {
   "cell_type": "markdown",
   "metadata": {},
   "source": [
    "The identifier of a collection data type is a pointer to the collection. I don't know the underlying structure of collection data types in Python, so I cannot exactly pinpoint what exactly do the identifiers point to. The first element? The hash table for the collection?"
   ]
  },
  {
   "cell_type": "markdown",
   "metadata": {},
   "source": [
    "This is not immediately apparent in Python as it is in C, for example, since the name of a collection gets automatically presented as the contents of the collection. However, the following demontrations with mutable collection data types indicate this property..."
   ]
  },
  {
   "cell_type": "markdown",
   "metadata": {},
   "source": [
    "The demonstrations show that even if you pass a mutable collection's name as an argument to a function or assign the collection's name's value to another identifier, any changes you make in the other identifier (function argument or duplicate) will reflect in the original collection itself, since each identifier points to the same memory address."
   ]
  },
  {
   "cell_type": "markdown",
   "metadata": {},
   "source": [
    "# Passing collection name as argument"
   ]
  },
  {
   "cell_type": "code",
   "execution_count": 3,
   "metadata": {},
   "outputs": [
    {
     "name": "stdout",
     "output_type": "stream",
     "text": [
      "[1, 2, 3, 'new']\n"
     ]
    }
   ],
   "source": [
    "def addItem(lst, item):\n",
    "    lst.append(item)\n",
    "l = [1, 2, 3]\n",
    "addItem(l, \"new\")\n",
    "print(l)"
   ]
  },
  {
   "cell_type": "markdown",
   "metadata": {},
   "source": [
    "Here, by passing l, you are duplicating not the original list for the argument lst, but rather the memory address of that list. Hence, while l and lst by themselves are stored in different memory addresses (as they store the pointer and not the actual list and its values), they point to the same address"
   ]
  },
  {
   "cell_type": "markdown",
   "metadata": {},
   "source": [
    "# Working with collection name's duplicate"
   ]
  },
  {
   "cell_type": "code",
   "execution_count": 8,
   "metadata": {},
   "outputs": [
    {
     "name": "stdout",
     "output_type": "stream",
     "text": [
      "[10, 9, 8, 2]\n"
     ]
    }
   ],
   "source": [
    "l1 = [10, 9, 8]\n",
    "l2 = l1\n",
    "l2.append(2)\n",
    "print(l1)"
   ]
  },
  {
   "cell_type": "markdown",
   "metadata": {},
   "source": [
    "Here, by assigning l2 to l1, you are duplicating not the original list, but rather the memory address of that list. Hence, while l1 and l2 by themselves are stored in different memory addresses (as they store the pointer and not the actual list and its values), they point to the same address."
   ]
  },
  {
   "cell_type": "markdown",
   "metadata": {},
   "source": [
    "# Notes"
   ]
  },
  {
   "cell_type": "markdown",
   "metadata": {},
   "source": [
    "## "
   ]
  },
  {
   "cell_type": "markdown",
   "metadata": {},
   "source": [
    "I have only demonstrated for lists, but the above can be demonstrated for any mutable collection data type, including data types such sets, dictionaries and tuples..."
   ]
  },
  {
   "cell_type": "code",
   "execution_count": 16,
   "metadata": {},
   "outputs": [
    {
     "name": "stdout",
     "output_type": "stream",
     "text": [
      "{8, 9}\n"
     ]
    }
   ],
   "source": [
    "s1 = {10, 9, 8}\n",
    "s2 = s1\n",
    "s2.remove(10)\n",
    "print(s1)"
   ]
  },
  {
   "cell_type": "code",
   "execution_count": 19,
   "metadata": {},
   "outputs": [
    {
     "name": "stdout",
     "output_type": "stream",
     "text": [
      "{'a': 1, 'b': 2, 'x': -1, 'y': -2}\n"
     ]
    }
   ],
   "source": [
    "d1 = {\"a\":1, \"b\":2}\n",
    "d2 = d1\n",
    "d2.update({\"x\":-1, \"y\":-2})\n",
    "print(d1)"
   ]
  },
  {
   "cell_type": "markdown",
   "metadata": {},
   "source": [
    "## "
   ]
  },
  {
   "cell_type": "markdown",
   "metadata": {},
   "source": [
    "I have used only mutable collection data types for the demostrations, but I think I can safely assume that the fact that the name of a collection is in fact the pointer to the collection applies to all collection data types, mutable or not, and ordered or not."
   ]
  }
 ],
 "metadata": {
  "kernelspec": {
   "display_name": "Python 3",
   "language": "python",
   "name": "python3"
  },
  "language_info": {
   "codemirror_mode": {
    "name": "ipython",
    "version": 3
   },
   "file_extension": ".py",
   "mimetype": "text/x-python",
   "name": "python",
   "nbconvert_exporter": "python",
   "pygments_lexer": "ipython3",
   "version": "3.8.5"
  }
 },
 "nbformat": 4,
 "nbformat_minor": 4
}
