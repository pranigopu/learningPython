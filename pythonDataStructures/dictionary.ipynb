{
 "cells": [
  {
   "cell_type": "markdown",
   "metadata": {},
   "source": [
    "A dictionary is a kind of upgraded set, wherein you can map each unique element (keys) to a value. Remember that in a set, you cannot index or refer to specific elements of a set. Dictionary solves that problem using keys."
   ]
  },
  {
   "cell_type": "markdown",
   "metadata": {},
   "source": [
    "An item is a combination of a value with a key. Every item in a dictionary is present as if in a set. Each item is written in the format key:value..."
   ]
  },
  {
   "cell_type": "code",
   "execution_count": 35,
   "metadata": {},
   "outputs": [
    {
     "name": "stdout",
     "output_type": "stream",
     "text": [
      "The full dictionary: {1: 'Pranav', 2: 'Arnav', 3: 'Hrithik'}\n",
      "dict_keys([1, 2, 3])\n",
      "dict_values(['Pranav', 'Arnav', 'Hrithik'])\n",
      "dict_items([(1, 'Pranav'), (2, 'Arnav'), (3, 'Hrithik')])\n"
     ]
    }
   ],
   "source": [
    "myDictionary = {1:\"Pranav\", 2:\"Arnav\", 3:\"Hrithik\"}\n",
    "print(\"The full dictionary:\", myDictionary)\n",
    "print(myDictionary.keys())\n",
    "print(myDictionary.values())\n",
    "print(myDictionary.items())"
   ]
  },
  {
   "cell_type": "markdown",
   "metadata": {},
   "source": [
    "# Referring to specific elements using keys"
   ]
  },
  {
   "cell_type": "markdown",
   "metadata": {},
   "source": [
    "Note that keys can be any data type. More will be discussed when we talk about the heterogeneity of dictionaries..."
   ]
  },
  {
   "cell_type": "code",
   "execution_count": 2,
   "metadata": {},
   "outputs": [
    {
     "data": {
      "text/plain": [
       "'Hrithik'"
      ]
     },
     "execution_count": 2,
     "metadata": {},
     "output_type": "execute_result"
    }
   ],
   "source": [
    "myDictionary = {1:\"Pranav\", 2:\"Arnav\", 3:\"Hrithik\"}\n",
    "myDictionary[3]"
   ]
  },
  {
   "cell_type": "code",
   "execution_count": 3,
   "metadata": {},
   "outputs": [
    {
     "data": {
      "text/plain": [
       "8"
      ]
     },
     "execution_count": 3,
     "metadata": {},
     "output_type": "execute_result"
    }
   ],
   "source": [
    "# Pairing games with star ratings\n",
    "myDictionary = {\"Gladihoppers\":8, \"Minecraft\":9, \"Call of duty\":6}\n",
    "myDictionary[\"Gladihoppers\"]"
   ]
  },
  {
   "cell_type": "markdown",
   "metadata": {},
   "source": [
    "# Looping through a dictionary"
   ]
  },
  {
   "cell_type": "code",
   "execution_count": 4,
   "metadata": {},
   "outputs": [
    {
     "name": "stdout",
     "output_type": "stream",
     "text": [
      "\n",
      "Keys only (without specifying)...\n",
      "Gladihoppers\n",
      "Minecraft\n",
      "Call of duty\n",
      "\n",
      "Keys only (after specifying)...\n",
      "Gladihoppers\n",
      "Minecraft\n",
      "Call of duty\n",
      "\n",
      "Values only...\n",
      "8\n",
      "9\n",
      "6\n",
      "\n",
      "Whole items...\n",
      "('Gladihoppers', 8)\n",
      "('Minecraft', 9)\n",
      "('Call of duty', 6)\n"
     ]
    }
   ],
   "source": [
    "# Keys only\n",
    "print(\"\\nKeys only (without specifying)...\")\n",
    "for i in myDictionary:\n",
    "    print(i)\n",
    "# Keys only\n",
    "print(\"\\nKeys only (after specifying)...\")\n",
    "for i in myDictionary.keys():\n",
    "    print(i)\n",
    "# Values only\n",
    "print(\"\\nValues only...\")\n",
    "for i in myDictionary.values():\n",
    "    print(i)\n",
    "# Whole items i.e. keys and values\n",
    "print(\"\\nWhole items...\")\n",
    "for i in myDictionary.items():\n",
    "    print(i)"
   ]
  },
  {
   "cell_type": "markdown",
   "metadata": {},
   "source": [
    "As we can see, when we simply iterate i through 'a', i takes the values of only the keys in the dictionary. We can also specify this using a.keys() to return the set of keys for i to iterate through.\n",
    "<br><br>\n",
    "To make sure i takes the values of only values in the dictionary, we use a.values() to return the set of values for i to iterate through.\n",
    "<br><br>\n",
    "To make sure i takes the values of the whole items in the dictionary, we use a.items() to return the set of items for i to iterate through."
   ]
  },
  {
   "cell_type": "markdown",
   "metadata": {},
   "source": [
    "# Properties"
   ]
  },
  {
   "cell_type": "markdown",
   "metadata": {},
   "source": [
    "## Potentially heterogenous in every way"
   ]
  },
  {
   "cell_type": "markdown",
   "metadata": {},
   "source": [
    "Both keys and values can be heterogenous, and data type combinations for each item can also be heterogenous."
   ]
  },
  {
   "cell_type": "code",
   "execution_count": 40,
   "metadata": {},
   "outputs": [
    {
     "name": "stdout",
     "output_type": "stream",
     "text": [
      "The full dictionary: {'a': 1, 2: 'b', 4.5: 3}\n",
      "dict_keys(['a', 2, 4.5])\n",
      "dict_values([1, 'b', 3])\n",
      "dict_items([('a', 1), (2, 'b'), (4.5, 3)])\n"
     ]
    }
   ],
   "source": [
    "myDictionary = {\"a\":1, 2:\"b\", 4.5:3}\n",
    "print(\"The full dictionary:\", myDictionary)\n",
    "print(myDictionary.keys())\n",
    "print(myDictionary.values())\n",
    "print(myDictionary.items())"
   ]
  },
  {
   "cell_type": "markdown",
   "metadata": {},
   "source": [
    "## No duplicate keys"
   ]
  },
  {
   "cell_type": "markdown",
   "metadata": {},
   "source": [
    "Similar to non-duplication in sets, but only applicable for keys. In the case that two keys are duplicated, only the last mention of the key in the dictionary will be counted. As with sets, it does not matter if the duplicate key values are present as different variables."
   ]
  },
  {
   "cell_type": "code",
   "execution_count": 37,
   "metadata": {},
   "outputs": [
    {
     "data": {
      "text/plain": [
       "{1: 'Pranav', 2: 'Arnav', 3: 'Gabriel'}"
      ]
     },
     "execution_count": 37,
     "metadata": {},
     "output_type": "execute_result"
    }
   ],
   "source": [
    "myDictionary = {1:\"Pranav\", 2:\"Arnav\", 3:\"Hrithik\", 3:\"Gabriel\"}\n",
    "myDictionary"
   ]
  },
  {
   "cell_type": "code",
   "execution_count": 38,
   "metadata": {},
   "outputs": [
    {
     "data": {
      "text/plain": [
       "{1: 'Pranav', 2: 'Arnav', 3: 'Gabriel'}"
      ]
     },
     "execution_count": 38,
     "metadata": {},
     "output_type": "execute_result"
    }
   ],
   "source": [
    "x = 3\n",
    "y = 3\n",
    "myDictionary = {1:\"Pranav\", 2:\"Arnav\", x:\"Hrithik\", y:\"Gabriel\"}\n",
    "myDictionary"
   ]
  },
  {
   "cell_type": "markdown",
   "metadata": {},
   "source": [
    "## Mutable"
   ]
  },
  {
   "cell_type": "markdown",
   "metadata": {},
   "source": [
    "### Changing values"
   ]
  },
  {
   "cell_type": "markdown",
   "metadata": {},
   "source": [
    "Like a set, a dictionary is also mutable. Unlike a set, we can access specific elements of the dictionary using the respective key. This increases our options, when we want to change, add or remove values from a dictionary."
   ]
  },
  {
   "cell_type": "code",
   "execution_count": 1,
   "metadata": {},
   "outputs": [
    {
     "data": {
      "text/plain": [
       "{1: 'Pranav', 2: 'Gopinath', 3: 'Hrithik', 4: 'Gabriel'}"
      ]
     },
     "execution_count": 1,
     "metadata": {},
     "output_type": "execute_result"
    }
   ],
   "source": [
    "myDictionary = {1:\"Pranav\", 2:\"Arnav\", 3:\"Hrithik\", 4:\"Gabriel\"}\n",
    "myDictionary[2] = \"Gopinath\"\n",
    "myDictionary"
   ]
  },
  {
   "cell_type": "markdown",
   "metadata": {},
   "source": [
    "### Adding items"
   ]
  },
  {
   "cell_type": "markdown",
   "metadata": {},
   "source": [
    "#### Invalid operations"
   ]
  },
  {
   "cell_type": "code",
   "execution_count": 9,
   "metadata": {},
   "outputs": [
    {
     "ename": "TypeError",
     "evalue": "unsupported operand type(s) for +: 'dict' and 'dict'",
     "output_type": "error",
     "traceback": [
      "\u001b[0;31m---------------------------------------------------------------------------\u001b[0m",
      "\u001b[0;31mTypeError\u001b[0m                                 Traceback (most recent call last)",
      "\u001b[0;32m<ipython-input-9-30cdc21a15d0>\u001b[0m in \u001b[0;36m<module>\u001b[0;34m\u001b[0m\n\u001b[1;32m      1\u001b[0m \u001b[0mmyDictionary\u001b[0m \u001b[0;34m=\u001b[0m \u001b[0;34m{\u001b[0m\u001b[0;36m1\u001b[0m\u001b[0;34m:\u001b[0m\u001b[0;34m\"Pranav\"\u001b[0m\u001b[0;34m,\u001b[0m \u001b[0;36m2\u001b[0m\u001b[0;34m:\u001b[0m\u001b[0;34m\"Arnav\"\u001b[0m\u001b[0;34m,\u001b[0m \u001b[0;36m3\u001b[0m\u001b[0;34m:\u001b[0m\u001b[0;34m\"Hrithik\"\u001b[0m\u001b[0;34m}\u001b[0m\u001b[0;34m\u001b[0m\u001b[0;34m\u001b[0m\u001b[0m\n\u001b[0;32m----> 2\u001b[0;31m \u001b[0mmyDictionary\u001b[0m \u001b[0;34m+\u001b[0m \u001b[0;34m{\u001b[0m\u001b[0;36m4\u001b[0m\u001b[0;34m:\u001b[0m\u001b[0;34m\"Gabriel\"\u001b[0m\u001b[0;34m}\u001b[0m\u001b[0;34m\u001b[0m\u001b[0;34m\u001b[0m\u001b[0m\n\u001b[0m",
      "\u001b[0;31mTypeError\u001b[0m: unsupported operand type(s) for +: 'dict' and 'dict'"
     ]
    }
   ],
   "source": [
    "myDictionary = {1:\"Pranav\", 2:\"Arnav\", 3:\"Hrithik\"}\n",
    "myDictionary + {4:\"Gabriel\"}"
   ]
  },
  {
   "cell_type": "markdown",
   "metadata": {},
   "source": [
    "#### Adding items"
   ]
  },
  {
   "cell_type": "markdown",
   "metadata": {},
   "source": [
    "To add single or multiple values, you use the same function, update. This function adds the dictionary passed as the argument to the dictionary that is calling the function."
   ]
  },
  {
   "cell_type": "markdown",
   "metadata": {},
   "source": [
    "#### Implicitly creating a new key"
   ]
  },
  {
   "cell_type": "code",
   "execution_count": 1,
   "metadata": {},
   "outputs": [
    {
     "data": {
      "text/plain": [
       "{1: 'Pranav', 2: 'Arnav', 3: 'Hrithik', 4: 'Ronaldo'}"
      ]
     },
     "execution_count": 1,
     "metadata": {},
     "output_type": "execute_result"
    }
   ],
   "source": [
    "# Single item\n",
    "myDictionary = {1:\"Pranav\", 2:\"Arnav\", 3:\"Hrithik\"}\n",
    "myDictionary[4] = \"Ronaldo\"\n",
    "myDictionary\n",
    "# Here you see that a new key is implicitly created."
   ]
  },
  {
   "cell_type": "markdown",
   "metadata": {},
   "source": [
    "Hence, when an unused key is used for the assigment of a new value, that key is automatically added to the dictionary with the value assigned to it."
   ]
  },
  {
   "cell_type": "markdown",
   "metadata": {},
   "source": [
    "#### Using the update function"
   ]
  },
  {
   "cell_type": "code",
   "execution_count": 2,
   "metadata": {},
   "outputs": [
    {
     "data": {
      "text/plain": [
       "{1: 'Pranav', 2: 'Arnav', 3: 'Hrithik', 4: 'Mani'}"
      ]
     },
     "execution_count": 2,
     "metadata": {},
     "output_type": "execute_result"
    }
   ],
   "source": [
    "# Single item\n",
    "myDictionary = {1:\"Pranav\", 2:\"Arnav\", 3:\"Hrithik\"}\n",
    "myDictionary.update({4:\"Mani\"})\n",
    "myDictionary"
   ]
  },
  {
   "cell_type": "code",
   "execution_count": 13,
   "metadata": {},
   "outputs": [
    {
     "data": {
      "text/plain": [
       "{1: 'Pranav', 2: 'Arnav', 3: 'Hrithik', 4: 'Manu', 5: 'Yani', 6: 'Rupa'}"
      ]
     },
     "execution_count": 13,
     "metadata": {},
     "output_type": "execute_result"
    }
   ],
   "source": [
    "# Multiple items\n",
    "myDictionary = {1:\"Pranav\", 2:\"Arnav\", 3:\"Hrithik\"}\n",
    "myDictionary.update({4:\"Manu\", 5:\"Yani\", 6:\"Rupa\"})\n",
    "myDictionary"
   ]
  },
  {
   "cell_type": "markdown",
   "metadata": {},
   "source": [
    "As usual, if you have duplicate key, the last item with that key alone is counted."
   ]
  },
  {
   "cell_type": "code",
   "execution_count": 3,
   "metadata": {},
   "outputs": [],
   "source": [
    "# If duplicate keys are present after updation\n",
    "myDictionary = {1:\"Pranav\", 2:\"Arnav\", 3:\"Hrithik\"}\n",
    "myDictionary.update({3:\"Manu\", 4:\"Yani\", 5:\"Rupa\"})\n",
    "myDictionary"
   ]
  },
  {
   "cell_type": "markdown",
   "metadata": {},
   "source": [
    "### Removing items"
   ]
  },
  {
   "cell_type": "markdown",
   "metadata": {},
   "source": [
    "#### Removing single items"
   ]
  },
  {
   "cell_type": "markdown",
   "metadata": {},
   "source": [
    "To remove single or multiple values, you use the same function, del. This function removes the dictionary values in the arguments, referred using their respective keys, from the identified dictionary."
   ]
  },
  {
   "cell_type": "code",
   "execution_count": 18,
   "metadata": {},
   "outputs": [
    {
     "data": {
      "text/plain": [
       "{1: 'Pranav', 3: 'Hrithik', 4: 'Gabriel'}"
      ]
     },
     "execution_count": 18,
     "metadata": {},
     "output_type": "execute_result"
    }
   ],
   "source": [
    "# Removing a single item\n",
    "myDictionary = {1:\"Pranav\", 2:\"Arnav\", 3:\"Hrithik\", 4:\"Gabriel\"}\n",
    "del(myDictionary[2])\n",
    "myDictionary"
   ]
  },
  {
   "cell_type": "code",
   "execution_count": 10,
   "metadata": {},
   "outputs": [
    {
     "data": {
      "text/plain": [
       "{1: 'Pranav', 3: 'Hrithik'}"
      ]
     },
     "execution_count": 10,
     "metadata": {},
     "output_type": "execute_result"
    }
   ],
   "source": [
    "# Removing multiple items\n",
    "myDictionary = {1:\"Pranav\", 2:\"Arnav\", 3:\"Hrithik\", 4:\"Gabriel\"}\n",
    "del(myDictionary[2], myDictionary[4])\n",
    "myDictionary"
   ]
  },
  {
   "cell_type": "markdown",
   "metadata": {},
   "source": [
    "#### Emptying the entire dictionary"
   ]
  },
  {
   "cell_type": "code",
   "execution_count": 9,
   "metadata": {},
   "outputs": [
    {
     "data": {
      "text/plain": [
       "{}"
      ]
     },
     "execution_count": 9,
     "metadata": {},
     "output_type": "execute_result"
    }
   ],
   "source": [
    "myDictionary = {1:\"Pranav\", 2:\"Arnav\", 3:\"Hrithik\", 4:\"Gabriel\"}\n",
    "myDictionary.clear()\n",
    "myDictionary"
   ]
  }
 ],
 "metadata": {
  "kernelspec": {
   "display_name": "Python 3",
   "language": "python",
   "name": "python3"
  },
  "language_info": {
   "codemirror_mode": {
    "name": "ipython",
    "version": 3
   },
   "file_extension": ".py",
   "mimetype": "text/x-python",
   "name": "python",
   "nbconvert_exporter": "python",
   "pygments_lexer": "ipython3",
   "version": "3.8.5"
  }
 },
 "nbformat": 4,
 "nbformat_minor": 4
}
