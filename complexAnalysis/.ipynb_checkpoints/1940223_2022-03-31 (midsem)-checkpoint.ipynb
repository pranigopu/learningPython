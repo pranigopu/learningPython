{
 "cells": [
  {
   "cell_type": "markdown",
   "metadata": {},
   "source": [
    "# Question 1"
   ]
  },
  {
   "cell_type": "code",
   "execution_count": 18,
   "metadata": {},
   "outputs": [
    {
     "name": "stdout",
     "output_type": "stream",
     "text": [
      "z1:\n",
      "Enter real part: 3\n",
      "Enter imaginary part: 25\n",
      "z2:\n",
      "Enter real part: 6\n",
      "Enter imaginary part: -52\n",
      "z3:\n",
      "Enter real part: 23\n",
      "Enter imaginary part: -41\n"
     ]
    },
    {
     "data": {
      "image/png": "[encoded data removed]",
      "text/plain": [
       "<Figure size 432x288 with 1 Axes>"
      ]
     },
     "metadata": {
      "needs_background": "light"
     },
     "output_type": "display_data"
    }
   ],
   "source": [
    "import matplotlib.pyplot as plt\n",
    "re, im = [], []\n",
    "for i in range(0, 3):\n",
    "    print(\"z\" + str(i + 1) + \":\")\n",
    "    re.append(float(input(\"Enter real part: \")))\n",
    "    im.append(float(input(\"Enter imaginary part: \")))\n",
    "\n",
    "plt.scatter(re, im)\n",
    "plt.show()"
   ]
  },
  {
   "cell_type": "markdown",
   "metadata": {},
   "source": [
    "# Question 2"
   ]
  },
  {
   "cell_type": "code",
   "execution_count": 17,
   "metadata": {},
   "outputs": [
    {
     "name": "stdout",
     "output_type": "stream",
     "text": [
      "Complex numbers:  [(3+4j), (2+4j), 32j, (4+0j), (5+0j)]\n",
      "Magnitudes:  [5.0, 4.47213595499958, 32.0, 4.0, 5.0]\n",
      "\n",
      "Sorted...\n",
      "[32j, (3+4j), (5+0j), (2+4j), (4+0j)] [32.0, 5.0, 5.0, 4.47213595499958, 4.0]\n"
     ]
    }
   ],
   "source": [
    "clist = [complex(3, 4),\n",
    "         complex(2, 4),\n",
    "         complex(0, 32),\n",
    "         complex(4, 0),\n",
    "         complex(5, 0)]\n",
    "\n",
    "mags = list(map(abs, clist)) # Getting magnitudes\n",
    "print(\"Complex numbers: \", clist)\n",
    "print(\"Magnitudes: \", mags)\n",
    "\n",
    "maximum, upper = 0, len(clist)\n",
    "for i in range(0, upper - 1):\n",
    "    for j in range(i + 1, upper):\n",
    "        if mags[j] > mags[maximum]:\n",
    "            maximum = j\n",
    "    tmp1, tmp2 = mags[i], clist[i]\n",
    "    mags[i], clist[i] = mags[maximum], clist[maximum]\n",
    "    mags[maximum], clist[maximum] = tmp1, tmp2\n",
    "    \n",
    "print(\"\\nSorted...\")\n",
    "print(clist, mags)"
   ]
  }
 ],
 "metadata": {
  "kernelspec": {
   "display_name": "Python 3",
   "language": "python",
   "name": "python3"
  },
  "language_info": {
   "codemirror_mode": {
    "name": "ipython",
    "version": 3
   },
   "file_extension": ".py",
   "mimetype": "text/x-python",
   "name": "python",
   "nbconvert_exporter": "python",
   "pygments_lexer": "ipython3",
   "version": "3.8.5"
  }
 },
 "nbformat": 4,
 "nbformat_minor": 4
}
