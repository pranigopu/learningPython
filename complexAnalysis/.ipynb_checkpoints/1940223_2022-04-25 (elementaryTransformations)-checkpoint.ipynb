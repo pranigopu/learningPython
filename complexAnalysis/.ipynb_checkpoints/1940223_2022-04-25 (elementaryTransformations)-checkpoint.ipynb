{
 "cells": [
  {
   "cell_type": "code",
   "execution_count": 189,
   "metadata": {},
   "outputs": [],
   "source": [
    "from random import randint\n",
    "from matplotlib.pyplot import scatter, plot, show, axhline, axvline, axis"
   ]
  },
  {
   "cell_type": "code",
   "execution_count": 190,
   "metadata": {},
   "outputs": [],
   "source": [
    "def inputComplex(prompt):\n",
    "    try: return complex(input(prompt))\n",
    "    except:\n",
    "        print(\"Not a complex number! Defaulting to 0.\")\n",
    "        return complex(0, 0)\n",
    "\n",
    "def inputReal(prompt):\n",
    "    try: return float(input(prompt))\n",
    "    except:\n",
    "        print(\"Not a real number! Defaulting to 0.\")\n",
    "        return 0\n",
    "\n",
    "def graph(z, w):\n",
    "    scatter([z.real, w.real], [z.imag, w.imag])\n",
    "    axhline()\n",
    "    axvline()\n",
    "    axis('square')\n",
    "    show()\n",
    "\n",
    "def graphWithConnection(z, w):\n",
    "    scatter([z.real, w.real], [z.imag, w.imag])\n",
    "    plot([z.real, w.real], [z.imag, w.imag])\n",
    "    axhline()\n",
    "    axvline()\n",
    "    axis('square')\n",
    "    show()\n",
    "    \n",
    "def graphWithOriginVectors(z, w):\n",
    "    scatter([z.real, w.real], [z.imag, w.imag])\n",
    "    plot([0, z.real], [0, z.imag], color = \"red\")\n",
    "    plot([0, w.real], [0, w.imag], color = \"blue\")\n",
    "    axhline()\n",
    "    axvline()\n",
    "    axis('square')\n",
    "    show()"
   ]
  },
  {
   "cell_type": "markdown",
   "metadata": {},
   "source": [
    "# Translation"
   ]
  },
  {
   "cell_type": "markdown",
   "metadata": {},
   "source": [
    "$w=z+k,\\; k \\in R$"
   ]
  },
  {
   "cell_type": "code",
   "execution_count": 179,
   "metadata": {},
   "outputs": [],
   "source": [
    "def translate(z, k): return z + k"
   ]
  },
  {
   "cell_type": "code",
   "execution_count": 193,
   "metadata": {},
   "outputs": [
    {
     "name": "stdout",
     "output_type": "stream",
     "text": [
      "Preimage = 2-9j\n",
      "Translate by: 2-7j\n",
      "Image = (4-16j)\n"
     ]
    }
   ],
   "source": [
    "z1 = inputComplex(\"Preimage = \")\n",
    "k = inputComplex(\"Translate by: \")\n",
    "w1 = translate(z1, k)\n",
    "print(\"Image =\", w1)"
   ]
  },
  {
   "cell_type": "code",
   "execution_count": 194,
   "metadata": {},
   "outputs": [
    {
     "data": {
      "image/png": "[encoded data removed]",
      "text/plain": [
       "<Figure size 432x288 with 1 Axes>"
      ]
     },
     "metadata": {
      "needs_background": "light"
     },
     "output_type": "display_data"
    }
   ],
   "source": [
    "graphWithConnection(z, w)"
   ]
  },
  {
   "cell_type": "markdown",
   "metadata": {},
   "source": [
    "# Rotation"
   ]
  },
  {
   "cell_type": "code",
   "execution_count": 150,
   "metadata": {},
   "outputs": [],
   "source": [
    "from numpy import e\n",
    "def rotate(z, theta): return z*(e**(complex(0, 1)*theta))"
   ]
  },
  {
   "cell_type": "code",
   "execution_count": 174,
   "metadata": {},
   "outputs": [
    {
     "name": "stdout",
     "output_type": "stream",
     "text": [
      "Preimage = 3-9j\n",
      "Rotate by: 1.5709\n",
      "Image = (8.999688932018646+3.000933042722058j)\n"
     ]
    }
   ],
   "source": [
    "z = inputComplex(\"Preimage = \")\n",
    "k = inputReal(\"Rotate by: \")\n",
    "w = rotate(z, k)\n",
    "print(\"Image =\", w)"
   ]
  },
  {
   "cell_type": "code",
   "execution_count": 183,
   "metadata": {},
   "outputs": [
    {
     "data": {
      "image/png": "[encoded data removed]",
      "text/plain": [
       "<Figure size 432x288 with 1 Axes>"
      ]
     },
     "metadata": {
      "needs_background": "light"
     },
     "output_type": "display_data"
    }
   ],
   "source": [
    "graphWithOriginVectors(z, w)"
   ]
  },
  {
   "cell_type": "markdown",
   "metadata": {},
   "source": [
    "# Inversion"
   ]
  },
  {
   "cell_type": "code",
   "execution_count": 153,
   "metadata": {},
   "outputs": [],
   "source": [
    "def invert(z): return 1/z"
   ]
  },
  {
   "cell_type": "code",
   "execution_count": 185,
   "metadata": {},
   "outputs": [
    {
     "name": "stdout",
     "output_type": "stream",
     "text": [
      "Preimage = 2-9j\n",
      "Image = (0.023529411764705882+0.10588235294117647j)\n"
     ]
    }
   ],
   "source": [
    "z = inputComplex(\"Preimage = \")\n",
    "w = invert(z)\n",
    "print(\"Image =\", w)"
   ]
  },
  {
   "cell_type": "code",
   "execution_count": 186,
   "metadata": {},
   "outputs": [
    {
     "data": {
      "image/png": "[encoded data removed]",
      "text/plain": [
       "<Figure size 432x288 with 1 Axes>"
      ]
     },
     "metadata": {
      "needs_background": "light"
     },
     "output_type": "display_data"
    }
   ],
   "source": [
    "graphWithOriginVectors(z, w)"
   ]
  },
  {
   "cell_type": "markdown",
   "metadata": {},
   "source": [
    "# Reflection"
   ]
  },
  {
   "cell_type": "code",
   "execution_count": null,
   "metadata": {},
   "outputs": [],
   "source": [
    "def reflect:"
   ]
  }
 ],
 "metadata": {
  "kernelspec": {
   "display_name": "Python 3",
   "language": "python",
   "name": "python3"
  },
  "language_info": {
   "codemirror_mode": {
    "name": "ipython",
    "version": 3
   },
   "file_extension": ".py",
   "mimetype": "text/x-python",
   "name": "python",
   "nbconvert_exporter": "python",
   "pygments_lexer": "ipython3",
   "version": "3.8.5"
  }
 },
 "nbformat": 4,
 "nbformat_minor": 4
}
