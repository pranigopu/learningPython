{
 "cells": [
  {
   "cell_type": "markdown",
   "metadata": {},
   "source": [
    "**AIM**: List revision"
   ]
  },
  {
   "cell_type": "markdown",
   "metadata": {},
   "source": [
    "# Playing around with lists"
   ]
  },
  {
   "cell_type": "code",
   "execution_count": 70,
   "metadata": {},
   "outputs": [
    {
     "name": "stdout",
     "output_type": "stream",
     "text": [
      "\n",
      "After adding:\n",
      ">> ['gamma', 1, 0, 'alpha']\n",
      "\n",
      "After removing 3rd element:\n",
      ">> ['gamma', 1, 'alpha']\n",
      "\n",
      "After reinserting 3rd element:\n",
      ">> ['gamma', 1, 0, 'alpha']\n"
     ]
    }
   ],
   "source": [
    "# Blank list\n",
    "myList = []\n",
    "\n",
    "# Adding elements\n",
    "myList.append(1)\n",
    "myList.append(\"alpha\")\n",
    "myList.insert(1, 0) # Inserted 0 into index 1\n",
    "myList.insert(0, \"gamma\") # Inserted 'gamma' into index 0\n",
    "print(\"\\nAfter adding:\\n>>\", myList)\n",
    "\n",
    "# Removing 3rd element\n",
    "removedValue = myList.pop(2)\n",
    "print(\"\\nAfter removing 3rd element:\\n>>\", myList)\n",
    "\n",
    "# Insert removed element back to the same index\n",
    "myList.insert(2, removedValue)\n",
    "print(\"\\nAfter reinserting 3rd element:\\n>>\", myList)"
   ]
  },
  {
   "cell_type": "code",
   "execution_count": 71,
   "metadata": {},
   "outputs": [
    {
     "name": "stdout",
     "output_type": "stream",
     "text": [
      "\n",
      "After extending:\n",
      ">> ['gamma', 1, 0, 'alpha', -1, -2, -3]\n"
     ]
    }
   ],
   "source": [
    "# Appending multiple elements to a list\n",
    "# (extending a list by a given iterable object)\n",
    "myList.extend([-1, -2, -3])\n",
    "print(\"\\nAfter extending:\\n>>\", myList)\n",
    "# In extend, you can only have one argument.\n",
    "# The argument must be an iterable object, such as a list, tuple, map, etc."
   ]
  },
  {
   "cell_type": "code",
   "execution_count": 72,
   "metadata": {},
   "outputs": [
    {
     "name": "stdout",
     "output_type": "stream",
     "text": [
      "\n",
      "After removing -3:\n",
      ">> ['gamma', 1, 0, 'alpha', -1, -2]\n",
      "['gamma', 1, 0, 'alpha', -1, -2, -3]\n",
      "\n",
      "After deleting 7th element:\n",
      ">> ['gamma', 1, 0, 'alpha', -1, -2]\n",
      "\n",
      "After popping 7th element:\n",
      ">> ['gamma', 1, 0, 'alpha', -1, -2]\n"
     ]
    }
   ],
   "source": [
    "# Removing 7th element from list using different methods\n",
    "\n",
    "# remove\n",
    "myList.remove(-3)\n",
    "print(\"\\nAfter removing -3:\\n>>\", myList)\n",
    "\n",
    "# del\n",
    "myList.insert(6, -3) # Resetting the list\n",
    "print(myList)\n",
    "del myList[6]\n",
    "print(\"\\nAfter deleting 7th element:\\n>>\", myList)\n",
    "# del is a keyword and can be used with or without parantheses\n",
    "\n",
    "# pop\n",
    "myList.insert(6, -3) # Resetting the list\n",
    "myList.pop(6)\n",
    "print(\"\\nAfter popping 7th element:\\n>>\", myList)\n",
    "# pop without argument will simply remove the last element and return it."
   ]
  }
 ],
 "metadata": {
  "kernelspec": {
   "display_name": "Python 3",
   "language": "python",
   "name": "python3"
  },
  "language_info": {
   "codemirror_mode": {
    "name": "ipython",
    "version": 3
   },
   "file_extension": ".py",
   "mimetype": "text/x-python",
   "name": "python",
   "nbconvert_exporter": "python",
   "pygments_lexer": "ipython3",
   "version": "3.8.5"
  }
 },
 "nbformat": 4,
 "nbformat_minor": 4
}
