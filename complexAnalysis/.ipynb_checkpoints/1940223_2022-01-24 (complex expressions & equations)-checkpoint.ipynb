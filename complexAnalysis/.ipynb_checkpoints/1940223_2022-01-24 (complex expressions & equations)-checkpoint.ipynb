{
 "cells": [
  {
   "cell_type": "code",
   "execution_count": 6,
   "metadata": {},
   "outputs": [
    {
     "data": {
      "text/plain": [
       "['__doc__',\n",
       " '__file__',\n",
       " '__loader__',\n",
       " '__name__',\n",
       " '__package__',\n",
       " '__spec__',\n",
       " 'acos',\n",
       " 'acosh',\n",
       " 'asin',\n",
       " 'asinh',\n",
       " 'atan',\n",
       " 'atanh',\n",
       " 'cos',\n",
       " 'cosh',\n",
       " 'e',\n",
       " 'exp',\n",
       " 'inf',\n",
       " 'infj',\n",
       " 'isclose',\n",
       " 'isfinite',\n",
       " 'isinf',\n",
       " 'isnan',\n",
       " 'log',\n",
       " 'log10',\n",
       " 'nan',\n",
       " 'nanj',\n",
       " 'phase',\n",
       " 'pi',\n",
       " 'polar',\n",
       " 'rect',\n",
       " 'sin',\n",
       " 'sinh',\n",
       " 'sqrt',\n",
       " 'tan',\n",
       " 'tanh',\n",
       " 'tau']"
      ]
     },
     "execution_count": 6,
     "metadata": {},
     "output_type": "execute_result"
    }
   ],
   "source": [
    "import cmath\n",
    "dir(cmath)"
   ]
  },
  {
   "cell_type": "markdown",
   "metadata": {},
   "source": [
    "# Euler's formula to evaluate $e^{x+iy}$"
   ]
  },
  {
   "cell_type": "markdown",
   "metadata": {},
   "source": [
    "Euler's formula states that\n",
    "<br>$e^{iy}=cos(y)+isin(y)$\n",
    "<br><br>Hence, by Euler's formula<br>$e^{x+iy}=e^{x}e^{iy}=e^{x}(cos(y)+isin(y))$."
   ]
  },
  {
   "cell_type": "code",
   "execution_count": 75,
   "metadata": {},
   "outputs": [
    {
     "name": "stdout",
     "output_type": "stream",
     "text": [
      ">> 4-2j\n"
     ]
    }
   ],
   "source": [
    "z = complex(input(\">> \"))"
   ]
  },
  {
   "cell_type": "code",
   "execution_count": 76,
   "metadata": {},
   "outputs": [
    {
     "name": "stdout",
     "output_type": "stream",
     "text": [
      "e^z (using inbuilt CMath function): (-22.72084741761923-49.64595733458056j)\n",
      "e^z (Euler's formula): (-22.72084741761923-49.64595733458056j)\n"
     ]
    }
   ],
   "source": [
    "def eulersFormula(z):\n",
    "    e_power_x = cmath.e**z.real # Can also use cmath.exp(z.real)\n",
    "    e_power_iy = cmath.cos(z.imag) + complex(0, 1)*cmath.sin(z.imag)\n",
    "    return e_power_x * e_power_iy\n",
    "\n",
    "print(\"e^z (using inbuilt CMath function):\", cmath.e**z) # Can also use cmath.exp(z)\n",
    "print(\"e^z (Euler's formula):\", eulersFormula(z))"
   ]
  },
  {
   "cell_type": "markdown",
   "metadata": {},
   "source": [
    "# Finding point furthest from origin"
   ]
  },
  {
   "cell_type": "markdown",
   "metadata": {},
   "source": [
    "The magnitude of a complex number gives its distance from the origin. Hence, to see which point is furthest from the origin, we must see which point has the greatest magnitude."
   ]
  },
  {
   "cell_type": "markdown",
   "metadata": {},
   "source": [
    "**QUESTION**: Out of the three points,  $z_1=2.5+1.9j$ ,  $z_2=1.5−2.9j$  and  $z_3=−2+2.2j$ , find the point which is farthest away from the origin"
   ]
  },
  {
   "cell_type": "code",
   "execution_count": 24,
   "metadata": {},
   "outputs": [],
   "source": [
    "complexNumbers = [complex(2.5, 1.9), # z1\n",
    "                  complex(1.5, 2.9), # z2\n",
    "                  complex(-2, 2.2)]  # z3"
   ]
  },
  {
   "cell_type": "code",
   "execution_count": 42,
   "metadata": {},
   "outputs": [
    {
     "name": "stdout",
     "output_type": "stream",
     "text": [
      "Complex number with most distance from origin: (1.5+2.9j)\n"
     ]
    }
   ],
   "source": [
    "# METHOD 1\n",
    "# Finding complex number with largest magnitude\n",
    "zmax = complexNumbers[0]\n",
    "for z in complexNumbers:\n",
    "    if abs(z) > abs(zmax):\n",
    "        zmax = z\n",
    "print(\"Complex number with most distance from origin:\", zmax)"
   ]
  },
  {
   "cell_type": "code",
   "execution_count": 47,
   "metadata": {},
   "outputs": [
    {
     "name": "stdout",
     "output_type": "stream",
     "text": [
      "Complex number with most distance from origin: (1.5+2.9j)\n"
     ]
    }
   ],
   "source": [
    "# METHOD 2\n",
    "# List of magnitudes\n",
    "magnitudes = list(map(abs, complexNumbers))\n",
    "zmax = complexNumbers[magnitudes.index(max(magnitudes))]\n",
    "print(\"Complex number with most distance from origin:\", zmax)"
   ]
  },
  {
   "cell_type": "markdown",
   "metadata": {},
   "source": [
    "# Solving simple complex equations"
   ]
  },
  {
   "cell_type": "markdown",
   "metadata": {},
   "source": [
    "If  $a+ib=\\frac{3−i}{2+3i}+\\frac{2−2i}{1−5i}$  , find  a  and  b ."
   ]
  },
  {
   "cell_type": "code",
   "execution_count": 49,
   "metadata": {},
   "outputs": [
    {
     "name": "stdout",
     "output_type": "stream",
     "text": [
      "a = 1.153846153846154\n",
      "b = -0.23076923076923084\n"
     ]
    }
   ],
   "source": [
    "# First, we must compute the complex expression.\n",
    "# Here, a is the real part and b is the imaginary part of this complex expression.\n",
    "complexExpression = complex(3, 1) / complex(2, 3) + complex(2, -2) / complex(1, -5)\n",
    "print(\"a =\", complexExpression.real)\n",
    "print(\"b =\", complexExpression.imag)"
   ]
  }
 ],
 "metadata": {
  "kernelspec": {
   "display_name": "Python 3",
   "language": "python",
   "name": "python3"
  },
  "language_info": {
   "codemirror_mode": {
    "name": "ipython",
    "version": 3
   },
   "file_extension": ".py",
   "mimetype": "text/x-python",
   "name": "python",
   "nbconvert_exporter": "python",
   "pygments_lexer": "ipython3",
   "version": "3.8.5"
  }
 },
 "nbformat": 4,
 "nbformat_minor": 4
}
