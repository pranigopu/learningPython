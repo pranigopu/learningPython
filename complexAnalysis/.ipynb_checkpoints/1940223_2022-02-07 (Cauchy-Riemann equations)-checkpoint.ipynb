{
 "cells": [
  {
   "cell_type": "markdown",
   "metadata": {},
   "source": [
    "**AIM**: Verifying analytic functions using Caucy-Riemann equations"
   ]
  },
  {
   "cell_type": "markdown",
   "metadata": {},
   "source": [
    "A complex function $f(z) = u(x, y) + iv(x, y)$ (where $z=x+iy$) is analytic if and only if the following equations are satisfied: $\\dfrac{\\partial u}{\\partial x}=\\dfrac{\\partial v}{\\partial y}$ and $\\dfrac{\\partial u}{\\partial y}=-\\dfrac{\\partial v}{\\partial x}$. These are the Cauchy-Riemann equations."
   ]
  },
  {
   "cell_type": "markdown",
   "metadata": {},
   "source": [
    "# Necessary libraries"
   ]
  },
  {
   "cell_type": "code",
   "execution_count": 1,
   "metadata": {},
   "outputs": [],
   "source": [
    "import sympy as sp"
   ]
  },
  {
   "cell_type": "markdown",
   "metadata": {},
   "source": [
    "# Check if $f(z)=x^2-y^2+2xyi$ is analytic"
   ]
  },
  {
   "cell_type": "code",
   "execution_count": 2,
   "metadata": {},
   "outputs": [],
   "source": [
    "# Defining variable symbols\n",
    "x = sp.Symbol('x')\n",
    "y = sp.Symbol('y')\n",
    "\n",
    "# Defining u(x, y) (real part) and v(x, y) (imaginary part)\n",
    "u = x**2 - y**2\n",
    "v = 2*x*y"
   ]
  },
  {
   "cell_type": "code",
   "execution_count": 3,
   "metadata": {},
   "outputs": [],
   "source": [
    "# Defining a function to test whether the Cauchy-Riemann equations are satisfied\n",
    "# (If satisfied, it means the complex function is analytic)\n",
    "def isAnalytic(u, v, x, y):\n",
    "    # Obtaining partial derivatives\n",
    "    du_dx = sp.diff(u, x)\n",
    "    du_dy = sp.diff(u, y)\n",
    "\n",
    "    dv_dx = sp.diff(v, x)\n",
    "    dv_dy = sp.diff(v, y)\n",
    "    #------------------------\n",
    "    # Displaying the obtained partial derivatives\n",
    "    print(\"Partial derivative of u w.r.t. x:\")\n",
    "    print(du_dx)\n",
    "    print(\"Partial derivative of u w.r.t. y:\")\n",
    "    print(du_dy)\n",
    "    print(\"------------------------\")\n",
    "    print(\"Partial derivative of v w.r.t. x:\")\n",
    "    print(dv_dx)\n",
    "    print(\"Partial derivative of v w.r.t. x:\")\n",
    "    print(dv_dy)\n",
    "    print(\"------------------------\")\n",
    "    #------------------------\n",
    "    # Confirming Cauchy-Riemann equations\n",
    "    print(\"Cauchy-Riemann equations are satisfied?\", end = \" \")\n",
    "    print(du_dx == dv_dy and du_dy == -dv_dx)"
   ]
  },
  {
   "cell_type": "code",
   "execution_count": 4,
   "metadata": {},
   "outputs": [
    {
     "name": "stdout",
     "output_type": "stream",
     "text": [
      "Partial derivative of u w.r.t. x:\n",
      "2*x\n",
      "Partial derivative of u w.r.t. y:\n",
      "-2*y\n",
      "------------------------\n",
      "Partial derivative of v w.r.t. x:\n",
      "2*y\n",
      "Partial derivative of v w.r.t. x:\n",
      "2*x\n",
      "------------------------\n",
      "Cauchy-Riemann equations are satisfied? True\n"
     ]
    }
   ],
   "source": [
    "isAnalytic(u, v, x, y)"
   ]
  },
  {
   "cell_type": "markdown",
   "metadata": {},
   "source": [
    "Since the Cauchy-Riemann equations are satisfied, we can conclude that $f(z)$ is analytic."
   ]
  },
  {
   "cell_type": "markdown",
   "metadata": {},
   "source": [
    "# Check if $f(z)=2xy+2xi$ is analytic"
   ]
  },
  {
   "cell_type": "code",
   "execution_count": 5,
   "metadata": {},
   "outputs": [
    {
     "name": "stdout",
     "output_type": "stream",
     "text": [
      "Partial derivative of u w.r.t. x:\n",
      "2*y\n",
      "Partial derivative of u w.r.t. y:\n",
      "2*x\n",
      "------------------------\n",
      "Partial derivative of v w.r.t. x:\n",
      "2\n",
      "Partial derivative of v w.r.t. x:\n",
      "0\n",
      "------------------------\n",
      "Cauchy-Riemann equations are satisfied? False\n"
     ]
    }
   ],
   "source": [
    "# Defining variable symbols\n",
    "x = sp.Symbol('x')\n",
    "y = sp.Symbol('y')\n",
    "\n",
    "# Defining u(x, y) (real part) and v(x, y) (imaginary part)\n",
    "u = 2*x*y\n",
    "v = 2*x\n",
    "\n",
    "# Checking if Cauchy-Riemann equations are satisfied\n",
    "isAnalytic(u, v, x, y)"
   ]
  },
  {
   "cell_type": "markdown",
   "metadata": {},
   "source": [
    "Since the Cauchy-Riemann equations are not satisfied, we can conclude that $f(z)$ is not analytic."
   ]
  },
  {
   "cell_type": "markdown",
   "metadata": {},
   "source": [
    "# Check if $f(z)=\\frac{x-iy}{x^2+y^2}$ is analytic"
   ]
  },
  {
   "cell_type": "code",
   "execution_count": 6,
   "metadata": {},
   "outputs": [
    {
     "name": "stdout",
     "output_type": "stream",
     "text": [
      "Partial derivative of u w.r.t. x:\n",
      "-2*x**2/(x**2 + y**2)**2 + 1/(x**2 + y**2)\n",
      "Partial derivative of u w.r.t. y:\n",
      "-2*x*y/(x**2 + y**2)**2\n",
      "------------------------\n",
      "Partial derivative of v w.r.t. x:\n",
      "2*x*y/(x**2 + y**2)**2\n",
      "Partial derivative of v w.r.t. x:\n",
      "2*y**2/(x**2 + y**2)**2 - 1/(x**2 + y**2)\n",
      "------------------------\n",
      "Cauchy-Riemann equations are satisfied? False\n"
     ]
    }
   ],
   "source": [
    "# Defining variable symbols\n",
    "x = sp.Symbol('x')\n",
    "y = sp.Symbol('y')\n",
    "\n",
    "# Defining u(x, y) (real part) and v(x, y) (imaginary part)\n",
    "u = x/(x**2 + y**2)\n",
    "v = -y/(x**2 + y**2)\n",
    "\n",
    "# Checking if Cauchy-Riemann equations are satisfied\n",
    "isAnalytic(u, v, x, y)"
   ]
  },
  {
   "cell_type": "markdown",
   "metadata": {},
   "source": [
    "Since the Cauchy-Riemann equations are not satisfied, we can conclude that $f(z)$ is not analytic."
   ]
  }
 ],
 "metadata": {
  "kernelspec": {
   "display_name": "Python 3",
   "language": "python",
   "name": "python3"
  },
  "language_info": {
   "codemirror_mode": {
    "name": "ipython",
    "version": 3
   },
   "file_extension": ".py",
   "mimetype": "text/x-python",
   "name": "python",
   "nbconvert_exporter": "python",
   "pygments_lexer": "ipython3",
   "version": "3.8.5"
  }
 },
 "nbformat": 4,
 "nbformat_minor": 4
}
