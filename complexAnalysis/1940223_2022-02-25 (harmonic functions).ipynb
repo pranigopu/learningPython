{
 "cells": [
  {
   "cell_type": "markdown",
   "metadata": {},
   "source": [
    "A function $u(x, y)$ is said to be harmonic if it satisfies the Laplace equation i.e. $\\frac{\\partial^2 u}{\\partial x^2} + \\frac{\\partial^2 v}{\\partial x^2} = 0$"
   ]
  },
  {
   "cell_type": "code",
   "execution_count": 1,
   "metadata": {},
   "outputs": [],
   "source": [
    "import sympy as sp\n",
    "def isHarmonic(function, variables):\n",
    "    summation = 0\n",
    "    print(\"------------\\nFunction:\")\n",
    "    print(f)\n",
    "    for var in variables:\n",
    "        # Calculating the partial derivative of order 2\n",
    "        partialDerivative = function.diff(var, 2)\n",
    "        print(\"Partial derivative w.r.t.\", var, end = \":\\n\")\n",
    "        print(partialDerivative)\n",
    "        \n",
    "        # Adding to the cumulative\n",
    "        summation = summation + partialDerivative\n",
    "    # Forcing expression evaluation through 'sp.simplify'\n",
    "    summation = sp.simplify(summation)\n",
    "    \n",
    "    # Returning a Boolean\n",
    "    return summation == 0"
   ]
  },
  {
   "cell_type": "code",
   "execution_count": 2,
   "metadata": {},
   "outputs": [
    {
     "name": "stdout",
     "output_type": "stream",
     "text": [
      "------------\n",
      "Function:\n",
      "2*x*y\n",
      "Partial derivative w.r.t. x:\n",
      "0\n",
      "Partial derivative w.r.t. y:\n",
      "0\n",
      "Harmonic? True\n",
      "------------\n",
      "Function:\n",
      "log(sqrt(x**2 + y**2))\n",
      "Partial derivative w.r.t. x:\n",
      "(-2*x**2/(x**2 + y**2) + 1)/(x**2 + y**2)\n",
      "Partial derivative w.r.t. y:\n",
      "(-2*y**2/(x**2 + y**2) + 1)/(x**2 + y**2)\n",
      "Harmonic? True\n",
      "------------\n",
      "Function:\n",
      "atan(y/x)\n",
      "Partial derivative w.r.t. x:\n",
      "2*y*(1 - y**2/(x**2*(1 + y**2/x**2)))/(x**3*(1 + y**2/x**2))\n",
      "Partial derivative w.r.t. y:\n",
      "-2*y/(x**3*(1 + y**2/x**2)**2)\n",
      "Harmonic? True\n"
     ]
    }
   ],
   "source": [
    "x, y, = sp.Symbol('x'), sp.Symbol('y')\n",
    "functions = [\n",
    "    2*x*y,\n",
    "    sp.log(sp.sqrt(x**2 + y**2)),\n",
    "    sp.atan(y/x)]\n",
    "for f in functions:\n",
    "    print(\"Harmonic?\",  isHarmonic(f, (x, y)))"
   ]
  },
  {
   "cell_type": "markdown",
   "metadata": {},
   "source": [
    "# Milne-Thompson method"
   ]
  },
  {
   "cell_type": "markdown",
   "metadata": {},
   "source": [
    "This is a method to find the complex function (in terms of z) whose real or imaginary part is given. If real part $u(x,y)$ is given, we use the equation $f'(z)=\\frac{\\partial u}{\\partial x}+i\\frac{\\partial u}{\\partial y}$. If imaginary part $v(x,y)$, we use the equation $f'(z)=\\frac{\\partial v}{\\partial y}-i\\frac{\\partial v}{\\partial x}$"
   ]
  },
  {
   "cell_type": "code",
   "execution_count": 3,
   "metadata": {},
   "outputs": [],
   "source": [
    "def milne_thompson(function, variables, isReal):\n",
    "    if isReal: df_dz = sp.diff(function, x) + sp.I*sp.diff(function, y)\n",
    "    else: df_dz = sp.diff(function, y) - sp.I*sp.diff(function, x)\n",
    "    # Substituting x = z and y = 0\n",
    "    df_dz = df_dz.subs({x:z, y:0})\n",
    "    # Obtaining f(z)\n",
    "    f = df_dz.integrate(z)\n",
    "    return f"
   ]
  },
  {
   "cell_type": "code",
   "execution_count": 4,
   "metadata": {},
   "outputs": [
    {
     "data": {
      "text/latex": [
       "$\\displaystyle \\log{\\left(z \\right)}$"
      ],
      "text/plain": [
       "log(z)"
      ]
     },
     "execution_count": 4,
     "metadata": {},
     "output_type": "execute_result"
    }
   ],
   "source": [
    "x, y, z = sp.Symbol('x'), sp.Symbol('y'), sp.Symbol('z')\n",
    "u = sp.log(sp.sqrt(x**2 + y**2))\n",
    "milne_thompson(u, (x, y), True)"
   ]
  },
  {
   "cell_type": "markdown",
   "metadata": {},
   "source": [
    "## With user input"
   ]
  },
  {
   "cell_type": "code",
   "execution_count": 12,
   "metadata": {},
   "outputs": [],
   "source": [
    "def milne_thompson_with_input():\n",
    "    function = input(\"Enter function:\\n\")\n",
    "    isReal = input(\"For f(z) = u + iv, is the above function u or v? \")\n",
    "    if isReal == \"u\": isReal = True\n",
    "    elif isReal == \"v\": isReal = False\n",
    "    else:\n",
    "        print(\"Invalid inputs!\")\n",
    "        return\n",
    "\n",
    "    # Recognising variables...\n",
    "    variables = []\n",
    "    for c in function:\n",
    "        if c.isalpha() and c not in variables: variables.append(sp.Symbol(c))\n",
    "            \n",
    "    # It seems that you can apply SymPy functions on strings as well.\n",
    "    # (as long as the required symbols are defined)\n",
    "\n",
    "    # Applying Milne-Thompson method...\n",
    "    print(\"The above function in terms of z:\")\n",
    "    print(milne_thompson(function, variables, isReal))"
   ]
  },
  {
   "cell_type": "code",
   "execution_count": 13,
   "metadata": {},
   "outputs": [
    {
     "name": "stdout",
     "output_type": "stream",
     "text": [
      "Enter function:\n",
      "x^2-y^2\n",
      "For f(z) = u + iv, is the above function u or v? u\n",
      "The above function in terms of z:\n",
      "z**2\n"
     ]
    }
   ],
   "source": [
    "milne_thompson_with_input()"
   ]
  },
  {
   "cell_type": "markdown",
   "metadata": {},
   "source": [
    "# Harmonic conjugates"
   ]
  },
  {
   "cell_type": "markdown",
   "metadata": {},
   "source": [
    "If $u(x,y)$ is a harmonic function, its harmonic conjugate is another harmonic function $v(x,y)$ such that they satisfy the Cauchy-Riemann equatioins in the following manner:$\\frac{\\partial u}{\\partial x}=\\frac{\\partial v}{\\partial y}$ , $\\frac{\\partial u}{\\partial y}=-\\frac{\\partial v}{\\partial x}$"
   ]
  },
  {
   "cell_type": "code",
   "execution_count": 14,
   "metadata": {},
   "outputs": [],
   "source": [
    "# Redefining the 'isHarmonic' function without the print statements\n",
    "def isHarmonic(function, variables):\n",
    "    summation = 0\n",
    "    for var in variables:\n",
    "        # Calculating the partial derivative of order 2\n",
    "        partialDerivative = function.diff(var, 2)\n",
    "        \n",
    "        # Adding to the cumulative\n",
    "        summation = summation + partialDerivative\n",
    "    # Forcing expression evaluation through 'sp.simplify'\n",
    "    summation = sp.simplify(summation)\n",
    "\n",
    "    # Returning a Boolean\n",
    "    return summation == 0\n",
    "#========================\n",
    "# Finding harmonic conjugate\n",
    "def harmonicConjugate(function, variables):\n",
    "    if not isHarmonic(function, variables):\n",
    "        return \"Given function is not harmonic!\"\n",
    "    \n",
    "    # Finding partial derivatives of 'function'\n",
    "    du_dx = function.diff(x)\n",
    "    du_dy = function.diff(y)\n",
    "    \n",
    "    # Applying Cauchy-Riemann equations for an unknown function v\n",
    "    dv_dx = -du_dy\n",
    "    dv_dy = du_dx\n",
    "    \"\"\"\n",
    "    The above assignment operations are merely done for conceptual clarity.\n",
    "    They are not practically necessary, and these steps can be reduced.\n",
    "    \"\"\"\n",
    "    \n",
    "    # Obtaining and simplifying v\n",
    "    v = (dv_dx.integrate(x) + dv_dy.integrate(y)) / 2\n",
    "    \"\"\"\n",
    "    The integrals are divided by 2 based on what led to the correct results.\n",
    "    The exact reasoning is yet unknown to me.\n",
    "    \"\"\"\n",
    "    v.simplify()\n",
    "    return v"
   ]
  },
  {
   "cell_type": "code",
   "execution_count": 15,
   "metadata": {},
   "outputs": [
    {
     "data": {
      "text/latex": [
       "$\\displaystyle \\frac{\\log{\\left(x^{2} + y^{2} \\right)}}{2}$"
      ],
      "text/plain": [
       "log(x**2 + y**2)/2"
      ]
     },
     "execution_count": 15,
     "metadata": {},
     "output_type": "execute_result"
    }
   ],
   "source": [
    "x, y, z = sp.Symbol('x'), sp.Symbol('y'), sp.Symbol('z')\n",
    "u = sp.log(x**2+y**2)/2\n",
    "u"
   ]
  },
  {
   "cell_type": "code",
   "execution_count": 17,
   "metadata": {},
   "outputs": [
    {
     "data": {
      "text/latex": [
       "$\\displaystyle \\frac{i \\log{\\left(x - i y \\right)}}{4} - \\frac{i \\log{\\left(x + i y \\right)}}{4} - \\frac{i \\log{\\left(- i x + y \\right)}}{4} + \\frac{i \\log{\\left(i x + y \\right)}}{4}$"
      ],
      "text/plain": [
       "I*log(x - I*y)/4 - I*log(x + I*y)/4 - I*log(-I*x + y)/4 + I*log(I*x + y)/4"
      ]
     },
     "execution_count": 17,
     "metadata": {},
     "output_type": "execute_result"
    }
   ],
   "source": [
    "harmonicConjugate(u, (x, y))"
   ]
  }
 ],
 "metadata": {
  "kernelspec": {
   "display_name": "Python 3",
   "language": "python",
   "name": "python3"
  },
  "language_info": {
   "codemirror_mode": {
    "name": "ipython",
    "version": 3
   },
   "file_extension": ".py",
   "mimetype": "text/x-python",
   "name": "python",
   "nbconvert_exporter": "python",
   "pygments_lexer": "ipython3",
   "version": "3.8.5"
  }
 },
 "nbformat": 4,
 "nbformat_minor": 4
}
