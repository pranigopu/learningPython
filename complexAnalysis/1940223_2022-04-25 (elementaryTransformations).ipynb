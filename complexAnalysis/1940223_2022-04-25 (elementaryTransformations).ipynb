{
 "cells": [
  {
   "cell_type": "code",
   "execution_count": 1,
   "metadata": {},
   "outputs": [],
   "source": [
    "from random import randint\n",
    "from matplotlib.pyplot import scatter, plot, show, axhline, axvline, axis"
   ]
  },
  {
   "cell_type": "code",
   "execution_count": 2,
   "metadata": {},
   "outputs": [],
   "source": [
    "def inputComplex(prompt):\n",
    "    try: return complex(input(prompt))\n",
    "    except:\n",
    "        print(\"Not a complex number! Defaulting to 0.\")\n",
    "        return complex(0, 0)\n",
    "\n",
    "def inputReal(prompt):\n",
    "    try: return float(input(prompt))\n",
    "    except:\n",
    "        print(\"Not a real number! Defaulting to 0.\")\n",
    "        return 0\n",
    "\n",
    "def graph(z, w):\n",
    "    scatter([z.real, w.real], [z.imag, w.imag])\n",
    "    axhline()\n",
    "    axvline()\n",
    "    axis('square')\n",
    "    show()\n",
    "\n",
    "def graphWithConnection(z, w):\n",
    "    scatter([z.real, w.real], [z.imag, w.imag])\n",
    "    plot([z.real, w.real], [z.imag, w.imag])\n",
    "    axhline()\n",
    "    axvline()\n",
    "    axis('square')\n",
    "    show()\n",
    "    \n",
    "def graphWithOriginVectors(z, w):\n",
    "    scatter([z.real, w.real], [z.imag, w.imag])\n",
    "    plot([0, z.real], [0, z.imag], color = \"red\")\n",
    "    plot([0, w.real], [0, w.imag], color = \"blue\")\n",
    "    axhline()\n",
    "    axvline()\n",
    "    axis('square')\n",
    "    show()"
   ]
  },
  {
   "cell_type": "markdown",
   "metadata": {},
   "source": [
    "# Translation"
   ]
  },
  {
   "cell_type": "markdown",
   "metadata": {},
   "source": [
    "$w=z+k,\\; k \\in R$"
   ]
  },
  {
   "cell_type": "code",
   "execution_count": 3,
   "metadata": {},
   "outputs": [],
   "source": [
    "def translate(z, k): return z + k"
   ]
  },
  {
   "cell_type": "code",
   "execution_count": 4,
   "metadata": {},
   "outputs": [
    {
     "name": "stdout",
     "output_type": "stream",
     "text": [
      "Preimage = 2-3j\n",
      "Translate by: 7-12j\n",
      "Image = (9-15j)\n"
     ]
    }
   ],
   "source": [
    "z1 = inputComplex(\"Preimage = \")\n",
    "k = inputComplex(\"Translate by: \")\n",
    "w1 = translate(z1, k)\n",
    "print(\"Image =\", w1)"
   ]
  },
  {
   "cell_type": "code",
   "execution_count": 6,
   "metadata": {},
   "outputs": [
    {
     "data": {
      "image/png": "[encoded data removed]",
      "text/plain": [
       "<Figure size 432x288 with 1 Axes>"
      ]
     },
     "metadata": {
      "needs_background": "light"
     },
     "output_type": "display_data"
    }
   ],
   "source": [
    "graphWithConnection(z1, w1)"
   ]
  },
  {
   "cell_type": "markdown",
   "metadata": {},
   "source": [
    "# Rotation"
   ]
  },
  {
   "cell_type": "code",
   "execution_count": 8,
   "metadata": {},
   "outputs": [],
   "source": [
    "from numpy import e\n",
    "def rotate(z, theta): return z*(e**(complex(0, 1)*theta))"
   ]
  },
  {
   "cell_type": "code",
   "execution_count": 9,
   "metadata": {},
   "outputs": [
    {
     "name": "stdout",
     "output_type": "stream",
     "text": [
      "Preimage = 21-67j\n",
      "Rotate by: 1.705\n",
      "Image = (63.58772412718167+29.775851630565278j)\n"
     ]
    }
   ],
   "source": [
    "z2 = inputComplex(\"Preimage = \")\n",
    "k = inputReal(\"Rotate by: \")\n",
    "w2 = rotate(z2, k)\n",
    "print(\"Image =\", w2)"
   ]
  },
  {
   "cell_type": "code",
   "execution_count": 11,
   "metadata": {},
   "outputs": [
    {
     "data": {
      "image/png": "[encoded data removed]",
      "text/plain": [
       "<Figure size 432x288 with 1 Axes>"
      ]
     },
     "metadata": {
      "needs_background": "light"
     },
     "output_type": "display_data"
    }
   ],
   "source": [
    "graphWithOriginVectors(z2, w2)"
   ]
  },
  {
   "cell_type": "markdown",
   "metadata": {},
   "source": [
    "# Inversion"
   ]
  },
  {
   "cell_type": "code",
   "execution_count": 12,
   "metadata": {},
   "outputs": [],
   "source": [
    "def invert(z): return 1/z"
   ]
  },
  {
   "cell_type": "code",
   "execution_count": 15,
   "metadata": {},
   "outputs": [
    {
     "name": "stdout",
     "output_type": "stream",
     "text": [
      "Preimage = 3-4j\n",
      "Image = (0.12+0.16j)\n"
     ]
    }
   ],
   "source": [
    "z = inputComplex(\"Preimage = \")\n",
    "w = invert(z)\n",
    "print(\"Image =\", w)"
   ]
  },
  {
   "cell_type": "code",
   "execution_count": 16,
   "metadata": {},
   "outputs": [
    {
     "data": {
      "image/png": "[encoded data removed]",
      "text/plain": [
       "<Figure size 432x288 with 1 Axes>"
      ]
     },
     "metadata": {
      "needs_background": "light"
     },
     "output_type": "display_data"
    }
   ],
   "source": [
    "graphWithOriginVectors(z, w)"
   ]
  }
 ],
 "metadata": {
  "kernelspec": {
   "display_name": "Python 3",
   "language": "python",
   "name": "python3"
  },
  "language_info": {
   "codemirror_mode": {
    "name": "ipython",
    "version": 3
   },
   "file_extension": ".py",
   "mimetype": "text/x-python",
   "name": "python",
   "nbconvert_exporter": "python",
   "pygments_lexer": "ipython3",
   "version": "3.8.5"
  }
 },
 "nbformat": 4,
 "nbformat_minor": 4
}
