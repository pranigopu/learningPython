{
 "cells": [
  {
   "cell_type": "markdown",
   "metadata": {},
   "source": [
    "**AIM**: CMath module for dealing with complex numbers"
   ]
  },
  {
   "cell_type": "code",
   "execution_count": 11,
   "metadata": {},
   "outputs": [
    {
     "data": {
      "text/plain": [
       "['__doc__',\n",
       " '__file__',\n",
       " '__loader__',\n",
       " '__name__',\n",
       " '__package__',\n",
       " '__spec__',\n",
       " 'acos',\n",
       " 'acosh',\n",
       " 'asin',\n",
       " 'asinh',\n",
       " 'atan',\n",
       " 'atanh',\n",
       " 'cos',\n",
       " 'cosh',\n",
       " 'e',\n",
       " 'exp',\n",
       " 'inf',\n",
       " 'infj',\n",
       " 'isclose',\n",
       " 'isfinite',\n",
       " 'isinf',\n",
       " 'isnan',\n",
       " 'log',\n",
       " 'log10',\n",
       " 'nan',\n",
       " 'nanj',\n",
       " 'phase',\n",
       " 'pi',\n",
       " 'polar',\n",
       " 'rect',\n",
       " 'sin',\n",
       " 'sinh',\n",
       " 'sqrt',\n",
       " 'tan',\n",
       " 'tanh',\n",
       " 'tau']"
      ]
     },
     "execution_count": 11,
     "metadata": {},
     "output_type": "execute_result"
    }
   ],
   "source": [
    "import cmath as cm\n",
    "dir(cm)"
   ]
  },
  {
   "cell_type": "markdown",
   "metadata": {},
   "source": [
    "Note that the 'a' in acos, asin, atan, etc. means 'arc' i.e. acos is arccosine, asin is arcsine, etc."
   ]
  },
  {
   "cell_type": "markdown",
   "metadata": {},
   "source": [
    "# Read complex number & apply some CMath functions"
   ]
  },
  {
   "cell_type": "code",
   "execution_count": 13,
   "metadata": {},
   "outputs": [
    {
     "name": "stdout",
     "output_type": "stream",
     "text": [
      ">> 3+8j\n"
     ]
    }
   ],
   "source": [
    "# A valid complex number string must be in the form a+bj\n",
    "# a and b must be numeric values, and j represents sqrt(-1)\n",
    "# No spaces must be between the complex number characters\n",
    "# Spaces may be put before and after the complex number\n",
    "z = complex(input(\">> \"))"
   ]
  },
  {
   "cell_type": "code",
   "execution_count": 29,
   "metadata": {},
   "outputs": [
    {
     "name": "stdout",
     "output_type": "stream",
     "text": [
      "Sine: (210.3364312489715-1475.5628538734973j)\n",
      "Cosine: (-1475.5631859789817-210.33638390848276j)\n",
      "Square root:  (2.402499089002692+1.6649329934441104j)\n"
     ]
    }
   ],
   "source": [
    "print(\"Sine:\", cm.sin(z))\n",
    "print(\"Cosine:\", cm.cos(z))\n",
    "print(\"Square root: \", cm.sqrt(z))"
   ]
  },
  {
   "cell_type": "markdown",
   "metadata": {},
   "source": [
    "# Verifying commutativity & associativity"
   ]
  },
  {
   "cell_type": "markdown",
   "metadata": {},
   "source": [
    "**(of addition and multiplication of complex numbers)**"
   ]
  },
  {
   "cell_type": "code",
   "execution_count": 34,
   "metadata": {},
   "outputs": [
    {
     "name": "stdout",
     "output_type": "stream",
     "text": [
      "Input three complex numbers:\n",
      ">> 3-7j\n",
      ">> 2-9j\n",
      ">> 3+6j\n"
     ]
    }
   ],
   "source": [
    "print(\"Input three complex numbers:\")\n",
    "z1 = complex(input(\">> \"))\n",
    "z2 = complex(input(\">> \"))\n",
    "z3 = complex(input(\">> \"))"
   ]
  },
  {
   "cell_type": "code",
   "execution_count": 35,
   "metadata": {},
   "outputs": [
    {
     "name": "stdout",
     "output_type": "stream",
     "text": [
      "Commutative w.r.t. addition? True\n",
      "Commutative w.r.t. multiplication? True\n"
     ]
    }
   ],
   "source": [
    "print(\"Commutative w.r.t. addition?\", z1+z2 == z2+z1)\n",
    "print(\"Commutative w.r.t. multiplication?\", z1*z2 == z2*z1)"
   ]
  },
  {
   "cell_type": "code",
   "execution_count": 38,
   "metadata": {},
   "outputs": [
    {
     "name": "stdout",
     "output_type": "stream",
     "text": [
      "Associative w.r.t. addition? True\n",
      "Associative w.r.t. multiplication? True\n"
     ]
    }
   ],
   "source": [
    "print(\"Associative w.r.t. addition?\", z1+(z2+z3) == (z1+z2)+z3)\n",
    "print(\"Associative w.r.t. multiplication?\", z1*(z2*z3) == (z1*z2)*z3)"
   ]
  },
  {
   "cell_type": "markdown",
   "metadata": {},
   "source": [
    "# Magnitude of complex number"
   ]
  },
  {
   "cell_type": "code",
   "execution_count": 27,
   "metadata": {},
   "outputs": [
    {
     "name": "stdout",
     "output_type": "stream",
     "text": [
      "Complex number: (4-8j)\n",
      "Magnitude (using 'abs' function): 8.94427190999916\n",
      "Magnitude (using formula): 8.94427190999916\n"
     ]
    }
   ],
   "source": [
    "z = complex(4, -8)\n",
    "print(\"Complex number:\", z)\n",
    "#------------\n",
    "print(\"Magnitude (using 'abs' function):\", abs(z))\n",
    "from math import sqrt\n",
    "print(\"Magnitude (using formula):\", sqrt(z.real**2 + z.imag**2))"
   ]
  },
  {
   "cell_type": "markdown",
   "metadata": {},
   "source": [
    "# Phase of a complex number"
   ]
  },
  {
   "cell_type": "markdown",
   "metadata": {},
   "source": [
    "Phase of a complex number is simply the argument of the complex number, i.e. the angle between the vector representing the complex number in the complex plane and the real number axis in the same plane. For a complex number x + iy, the phase i.e. argument is given by $tan^{-1}(\\frac{y}{x})$ i.e. $tan^{-1}(\\frac{im(z)}{re(z)})$."
   ]
  },
  {
   "cell_type": "code",
   "execution_count": 28,
   "metadata": {},
   "outputs": [
    {
     "name": "stdout",
     "output_type": "stream",
     "text": [
      "Complex number: (3+4j)\n",
      "Phase (using 'phase' function): 0.9272952180016122\n",
      "Phase (using arctan(im(z)/re(z))): 0.9272952180016122\n"
     ]
    }
   ],
   "source": [
    "z = complex(3, 4)\n",
    "print(\"Complex number:\", z)\n",
    "#------------\n",
    "print(\"Phase (using 'phase' function):\", cm.phase(z))\n",
    "from numpy import arctan\n",
    "# (Using purely numeric arctan function for demo purposes, though CMath also offerns arctan).\n",
    "print(\"Phase (using arctan(im(z)/re(z))):\", arctan(z.imag/z.real))"
   ]
  },
  {
   "cell_type": "markdown",
   "metadata": {},
   "source": [
    "# Polar coordinates of a complex number"
   ]
  },
  {
   "cell_type": "markdown",
   "metadata": {},
   "source": [
    "## Representing in polar form"
   ]
  },
  {
   "cell_type": "markdown",
   "metadata": {},
   "source": [
    "Polar coordinates represent a complex number using the complex number's magnitude and argument (i.e. phase). For a complex number z, if the magnitude is $r$ and the argument is $\\theta$, then the polar coordinates of z are $(r, \\theta)$."
   ]
  },
  {
   "cell_type": "code",
   "execution_count": 30,
   "metadata": {},
   "outputs": [
    {
     "name": "stdout",
     "output_type": "stream",
     "text": [
      "Complex number: (1+7j)\n",
      "Polar coordinates (using 'abs' and 'phase'): (7.0710678118654755, 1.4288992721907328)\n",
      "Polar coordinates (using 'polar' function): (7.0710678118654755, 1.4288992721907328)\n"
     ]
    }
   ],
   "source": [
    "z = complex(1, 7)\n",
    "print(\"Complex number:\", z)\n",
    "#------------\n",
    "print(\"Polar coordinates (using 'abs' and 'phase'):\", (abs(z), cm.phase(z)))\n",
    "print(\"Polar coordinates (using 'polar' function):\", cm.polar(z))"
   ]
  },
  {
   "cell_type": "markdown",
   "metadata": {},
   "source": [
    "## Polar coordinates to rectangular coordinates"
   ]
  },
  {
   "cell_type": "markdown",
   "metadata": {},
   "source": [
    "For a complex number $z = x + iy$, its rectangular coordinates are $(x, y)$. Rectangular coordinates are simply the Cartesian representation of the complex number, by giving the real and imaginary parts as the x and y coordinates respectively."
   ]
  },
  {
   "cell_type": "code",
   "execution_count": 47,
   "metadata": {},
   "outputs": [
    {
     "name": "stdout",
     "output_type": "stream",
     "text": [
      "Complex number (polar coordinates): (1+7j)\n",
      "Rectangular coordinates (using 'rect'): (-1.3072872417272239-1.5136049906158564j)\n"
     ]
    }
   ],
   "source": [
    "p = (2, 4)\n",
    "# For this complex number, magnitude is 2 and argument is 4.\n",
    "print(\"Complex number (polar coordinates):\", z)\n",
    "#------------\n",
    "print(\"Rectangular coordinates (using 'rect'):\", cm.rect(p[0], p[1]))"
   ]
  },
  {
   "cell_type": "markdown",
   "metadata": {},
   "source": [
    "# Conjugate"
   ]
  },
  {
   "cell_type": "markdown",
   "metadata": {},
   "source": [
    "Conjugate of a complex number can be found by simply inverting the sign of the imaginary part. In Python, we have an in-built attribute method for complex numbers '.conjugate( )' that evaluates the conjugate of a given complex number."
   ]
  },
  {
   "cell_type": "code",
   "execution_count": 1,
   "metadata": {},
   "outputs": [
    {
     "name": "stdout",
     "output_type": "stream",
     "text": [
      "Complex number: (1+7j)\n",
      "Conjugate: (1-7j)\n"
     ]
    }
   ],
   "source": [
    "z = complex(1, 7)\n",
    "print(\"Complex number:\", z)\n",
    "print(\"Conjugate:\", z.conjugate())"
   ]
  }
 ],
 "metadata": {
  "kernelspec": {
   "display_name": "Python 3",
   "language": "python",
   "name": "python3"
  },
  "language_info": {
   "codemirror_mode": {
    "name": "ipython",
    "version": 3
   },
   "file_extension": ".py",
   "mimetype": "text/x-python",
   "name": "python",
   "nbconvert_exporter": "python",
   "pygments_lexer": "ipython3",
   "version": "3.8.5"
  }
 },
 "nbformat": 4,
 "nbformat_minor": 4
}
