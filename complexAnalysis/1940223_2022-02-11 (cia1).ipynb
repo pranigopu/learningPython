{
 "cells": [
  {
   "cell_type": "markdown",
   "metadata": {},
   "source": [
    "# Question 1",
    "Input 2 complex numbers and calculate the following..."
   ]
  },
  {
   "cell_type": "code",
   "execution_count": 26,
   "metadata": {},
   "outputs": [
    {
     "name": "stdout",
     "output_type": "stream",
     "text": [
      "Enter two complex numbers...\n",
      ">> 1+8j\n",
      ">> 8-9j\n"
     ]
    }
   ],
   "source": [
    "print(\"Enter two complex numbers...\")\n",
    "try:\n",
    "    z1, z2 = complex(input(\">> \")), complex(input(\">> \"))\n",
    "except:\n",
    "    print(\"Invalid inputs!\")"
   ]
  },
  {
   "cell_type": "code",
   "execution_count": 27,
   "metadata": {},
   "outputs": [
    {
     "name": "stdout",
     "output_type": "stream",
     "text": [
      "(a)\n",
      "LHS: 97.082439194738\n",
      "RHS: 97.08243919473799\n",
      "False\n",
      "(b)\n",
      "LHS: 0.6695340634119862\n",
      "RHS: 0.6695340634119861\n",
      "False\n",
      "(c)\n",
      "LHS: 82.00000000000001\n",
      "RHS: 82.0\n",
      "False\n",
      "(d)\n",
      "LHS: 338.0\n",
      "RHS: 338.0\n",
      "True\n",
      "(e)\n",
      "LHS: 82.00000000000001\n",
      "RHS: 210.0\n",
      "True\n",
      "(f)\n",
      "LHS: 82.00000000000001\n",
      "RHS: -80.00000000000001\n",
      "True\n"
     ]
    }
   ],
   "source": [
    "def display(lhs, rhs, condition):\n",
    "    print(\"LHS:\", lhs)\n",
    "    print(\"RHS:\", rhs)\n",
    "    print(condition)\n",
    "# a\n",
    "print(\"(a)\")\n",
    "lhs = abs(z1*z2)\n",
    "rhs = abs(z1)*abs(z2)\n",
    "display(lhs, rhs, lhs == rhs)\n",
    "# b\n",
    "print(\"(b)\")\n",
    "if z2 == 0: print(\"z2 = 0, hence (b) does not hold.\")\n",
    "else:\n",
    "    lhs = abs(z1/z2)\n",
    "    rhs = abs(z1)/abs(z2)\n",
    "    display(lhs, rhs, lhs == rhs)\n",
    "# c\n",
    "print(\"(c)\")\n",
    "lhs = abs(z1+z2)**2\n",
    "rhs = abs(z1)**2 + abs(z2)**2 + 2*(z1*z2.conjugate()).real\n",
    "display(lhs, rhs, lhs == rhs)\n",
    "# d\n",
    "print(\"(d)\")\n",
    "lhs = abs(z1-z2)**2\n",
    "rhs = abs(z1)**2 + abs(z2)**2 - 2*(z1*z2.conjugate()).real\n",
    "display(lhs, rhs, lhs == rhs)\n",
    "# e\n",
    "print(\"(e)\")\n",
    "lhs = abs(z1+z2)**2\n",
    "rhs = abs(z1)**2 + abs(z2)**2\n",
    "display(lhs, rhs, lhs <= rhs)\n",
    "# e\n",
    "print(\"(f)\")\n",
    "lhs = abs(z1+z2)**2\n",
    "rhs = abs(z1)**2 - abs(z2)**2\n",
    "display(lhs, rhs, lhs >= rhs)"
   ]
  },
  {
   "cell_type": "markdown",
   "metadata": {},
   "source": [
    "# Question 2",
    "# Input 2 complex numbers in rectangular and 1 in polar form, and calculate the following..."
   ]
  },
  {
   "cell_type": "code",
   "execution_count": 61,
   "metadata": {},
   "outputs": [
    {
     "name": "stdout",
     "output_type": "stream",
     "text": [
      "Enter a complex number in rectangular form...\n",
      ">> 2-8j\n",
      "\n",
      "Enter a complex number in polar form...\n",
      "Enter modulus: 3\n",
      "Enter argument (in radians): 2.4\n"
     ]
    }
   ],
   "source": [
    "import cmath as c\n",
    "try:\n",
    "    print(\"Enter a complex number in rectangular form...\")\n",
    "    z1 = complex(input(\">> \"))\n",
    "    print(\"\\nEnter a complex number in polar form...\")\n",
    "    r = round(float(input(\"Enter modulus: \")), 8)\n",
    "    theta = round(float(input(\"Enter argument (in radians): \")), 8)\n",
    "    z2 = (r, theta)\n",
    "except:\n",
    "    print(\"Invalid inputs!\")"
   ]
  },
  {
   "cell_type": "code",
   "execution_count": 79,
   "metadata": {},
   "outputs": [
    {
     "name": "stdout",
     "output_type": "stream",
     "text": [
      "(a)\n",
      "|(2-8j)| = 8.246211251235321\n",
      "|(3.0, 2.4)| = 3.0\n",
      "\n",
      "(b)\n",
      "Phase of (2-8j) = -1.3258176636680326\n",
      "Phase of (3.0, 2.4) = 2.4\n",
      "\n",
      "(c)\n",
      "Representing the rectangular form complex number as a polar form tuple...\n",
      "(2-8j) = (8.246211251235321, -1.3258176636680326)\n",
      "\n",
      "(d)\n",
      "Representing the polar form complex number in rectangular form...\n",
      "(3.0, 2.4) = (-2.2121811466237364+2.0263895416534528j)\n",
      "\n",
      "(e)\n",
      "Verifying Euler's formula for z1...\n",
      "EULER'S FORMULA:\n",
      "e^(x+iy) = e^x * (cos(y) + isin(y)\n",
      "------------\n",
      "e^(2-8j) (using inbuilt CMath function): (-1.0751079122081515-7.310423586239833j)\n",
      "e^(2-8j) (Euler's formula): (-1.0751079122081515-7.310423586239833j)\n",
      "\n",
      "(f)\n",
      "Distance between (2-8j) and (3.0, 2.4) is given by\n",
      "10.875245158291843\n",
      "\n",
      "(g)\n",
      "Midpoint of (2-8j) and (3.0, 2.4) is given by\n",
      "(-0.10609057331186822, -2.9868052291732736)\n"
     ]
    }
   ],
   "source": [
    "# a\n",
    "print(\"(a)\")\n",
    "print(\"|{0}| = {1}\".format(z1, abs(z1)))\n",
    "print(\"|{0}| = {1}\".format(z2, abs(c.rect(r, theta))))\n",
    "# b\n",
    "print(\"\\n(b)\")\n",
    "print(\"Phase of {0} = {1}\".format(z1, c.phase(z1)))\n",
    "print(\"Phase of {0} = {1}\".format(z2, theta))\n",
    "# c\n",
    "print(\"\\n(c)\")\n",
    "print(\"Representing the rectangular form complex number as a polar form tuple...\")\n",
    "print(\"{0} = {1}\".format(z1, c.polar(z1)))\n",
    "# d\n",
    "print(\"\\n(d)\")\n",
    "print(\"Representing the polar form complex number in rectangular form...\")\n",
    "print(\"{0} = {1}\".format(z2, c.rect(r, theta)))\n",
    "# e\n",
    "print(\"\\n(e)\")\n",
    "print(\"Verifying Euler's formula for z1...\")\n",
    "print(\"EULER'S FORMULA:\")\n",
    "print(\"e^(x+iy) = e^x * (cos(y) + isin(y)\")\n",
    "def eulersFormula(z):\n",
    "    e_power_x = c.e**z.real # Can also use cmath.exp(z.real)\n",
    "    e_power_iy = c.cos(z.imag) + complex(0, 1)*c.sin(z.imag)\n",
    "    return e_power_x * e_power_iy\n",
    "print(\"------------\")\n",
    "print(\"e^{0} (using inbuilt CMath function): {1}\".format(z1, c.e**z1))\n",
    "print(\"e^{0} (Euler's formula): {1}\".format(z1, eulersFormula(z1)))\n",
    "# f\n",
    "print(\"\\n(f)\")\n",
    "print(\"Distance between {0} and {1} is given by\".format(z1, z2))\n",
    "print(abs(z1 - c.rect(r, theta)))\n",
    "# g\n",
    "print(\"\\n(g)\")\n",
    "print(\"Midpoint of {0} and {1} is given by\".format(z1, z2))\n",
    "z2_rect = c.rect(r, theta)\n",
    "midpoint = ((z1.real + z2_rect.real)/2, (z1.imag + z2_rect.imag)/2)\n",
    "print(midpoint)"
   ]
  }
 ],
 "metadata": {
  "kernelspec": {
   "display_name": "Python 3",
   "language": "python",
   "name": "python3"
  },
  "language_info": {
   "codemirror_mode": {
    "name": "ipython",
    "version": 3
   },
   "file_extension": ".py",
   "mimetype": "text/x-python",
   "name": "python",
   "nbconvert_exporter": "python",
   "pygments_lexer": "ipython3",
   "version": "3.8.5"
  }
 },
 "nbformat": 4,
 "nbformat_minor": 4
}
