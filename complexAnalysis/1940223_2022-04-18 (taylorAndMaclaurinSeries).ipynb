{
 "cells": [
  {
   "cell_type": "markdown",
   "metadata": {},
   "source": [
    "# Taylor series expansion"
   ]
  },
  {
   "cell_type": "markdown",
   "metadata": {},
   "source": [
    "The $n$th degree Taylor's series expansion for $f(z)$ is given by $\\sum_{0}^{n}\\frac{f^k(z_0)(z-z_0)^k}{k!}$, which is an approximation of $f(z)$ around the point $z=z_0$."
   ]
  },
  {
   "cell_type": "code",
   "execution_count": 1,
   "metadata": {},
   "outputs": [],
   "source": [
    "from sympy import *\n",
    "# HELPER FUNCTION\n",
    "def expression(expansion):\n",
    "    expansion = '+'.join(list(map(str, expansion)))\n",
    "    expansion = sympify(expansion)\n",
    "    return expansion\n",
    "\n",
    "# MAIN FUNCTION\n",
    "def taylor(f, z, c, n, returnType):\n",
    "    z = Symbol(z)\n",
    "    expansion, prevDiff, factorial = [], f, 1\n",
    "    # prevDiff contains the previous derivative of f.\n",
    "    # So, if we are at the kth iteration, prevDiff contains the (k-1)th derivate of f.\n",
    "    # This is to reduce computational cost.\n",
    "    \n",
    "    # factorial contains the factorial of the previous k value.\n",
    "    # This is also to reduce computational cost.\n",
    "    for i in range(0, n+1):\n",
    "        tmp = prevDiff.subs({z:c})\n",
    "        if float(tmp) != 0: expansion.append((tmp*(z-c)**i)/factorial)\n",
    "        \n",
    "        prevDiff = prevDiff.diff()\n",
    "        factorial = factorial*(i+1)\n",
    "    \n",
    "    # Processing expansion based on return type option\n",
    "    return {\"expression\": expression,\n",
    "            \"list\": list,\n",
    "            \"tuple\": tuple}[returnType](expansion)"
   ]
  },
  {
   "cell_type": "code",
   "execution_count": 7,
   "metadata": {},
   "outputs": [
    {
     "data": {
      "text/latex": [
       "$\\displaystyle \\frac{z^{5}}{120} + \\frac{z^{4}}{24} + \\frac{z^{3}}{6} + \\frac{z^{2}}{2} + z + 1$"
      ],
      "text/plain": [
       "z**5/120 + z**4/24 + z**3/6 + z**2/2 + z + 1"
      ]
     },
     "execution_count": 7,
     "metadata": {},
     "output_type": "execute_result"
    }
   ],
   "source": [
    "taylor(exp('z'), 'z', 0, 5, 'expression')"
   ]
  },
  {
   "cell_type": "code",
   "execution_count": 8,
   "metadata": {},
   "outputs": [
    {
     "data": {
      "text/latex": [
       "$\\displaystyle - z - \\frac{\\left(z - \\pi\\right)^{5}}{120} + \\frac{\\left(z - \\pi\\right)^{3}}{6} + \\pi$"
      ],
      "text/plain": [
       "-z - (z - pi)**5/120 + (z - pi)**3/6 + pi"
      ]
     },
     "execution_count": 8,
     "metadata": {},
     "output_type": "execute_result"
    }
   ],
   "source": [
    "taylor(sin('z'), 'z', pi, 5, 'expression')"
   ]
  },
  {
   "cell_type": "markdown",
   "metadata": {},
   "source": [
    "# Radius of convergence"
   ]
  },
  {
   "cell_type": "markdown",
   "metadata": {},
   "source": [
    "An infinite series of the form $S = \\sum_{0}^{n}a_k(z-z_0)^k$ is called a power series centred at $z_0$ (centre of the series). The circle $|z-z_0|=r \\in R_+$ such that $S$ converges for every set of points within this crcle is called the circle of convergence of the series, and its radius is called the radius of convergence of the series."
   ]
  }
 ],
 "metadata": {
  "kernelspec": {
   "display_name": "Python 3",
   "language": "python",
   "name": "python3"
  },
  "language_info": {
   "codemirror_mode": {
    "name": "ipython",
    "version": 3
   },
   "file_extension": ".py",
   "mimetype": "text/x-python",
   "name": "python",
   "nbconvert_exporter": "python",
   "pygments_lexer": "ipython3",
   "version": "3.8.5"
  }
 },
 "nbformat": 4,
 "nbformat_minor": 4
}
