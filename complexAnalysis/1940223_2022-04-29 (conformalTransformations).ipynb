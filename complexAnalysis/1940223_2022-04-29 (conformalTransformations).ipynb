{
 "cells": [
  {
   "cell_type": "markdown",
   "metadata": {},
   "source": [
    "A transformation is said to be conformal if it preserves the orientation and magnitude of the angle of intersection between any two curves. In other words, consider curves $c_1$ and $c_2$ that are transformed to $c_1^\\prime$ and $c_2^\\prime$ respectively, under some transformation $w=f(z)$. Then, this transformation is conformal if and only if the angle of intersection at a certain direction between $c_1$ and $c_2$ is the same as the angle of intersection at the same direction between $c_1^\\prime$ and $c_2^\\prime$."
   ]
  },
  {
   "cell_type": "markdown",
   "metadata": {},
   "source": [
    "According to a result, at each point where the function $f(z)$ is analytic and $f^\\prime(z) \\neq 0$, the mapping between $z$ and $f(z)$ is conformal. Using this result, we will check if a given transformation is conformal within a certain range. Note that to test if a function $f$ is analytic for a given point $z=x+iy, \\; x, y \\in R$, then $\\frac{\\partial u}{\\partial x}=\\frac{\\partial v}{\\partial y}$ and $\\frac{\\partial u}{\\partial y}=-\\frac{\\partial v}{\\partial x}$ i.e. the Cauchy-Riemann equations are satisfied."
   ]
  },
  {
   "cell_type": "code",
   "execution_count": 70,
   "metadata": {},
   "outputs": [],
   "source": [
    "from sympy import Symbol, I, simplify, sympify, expand, solve\n",
    "def isAnalytic(u, v, val=[]): # u and v are strings of expressions containing x and y\n",
    "    \"\"\"\n",
    "    Note: z = u + iv, where u and v are real valued functions.\n",
    "    \"\"\"\n",
    "    x, y, pd = Symbol('x'), Symbol('y'), []\n",
    "    # Obtaining partial derivatives\n",
    "    pd.append(u.diff(x))\n",
    "    pd.append(v.diff(y))\n",
    "    pd.append(u.diff(y))\n",
    "    pd.append(v.diff(x))\n",
    "    if len(val) == 2:\n",
    "        for i in range(0, 4):\n",
    "              pd[i] = pd[i].subs({x:val[0], y:val[1]})\n",
    "    return pd[0] == pd[1] and pd[2] == -pd[3]"
   ]
  },
  {
   "cell_type": "markdown",
   "metadata": {},
   "source": [
    "Testing above function..."
   ]
  },
  {
   "cell_type": "code",
   "execution_count": 72,
   "metadata": {},
   "outputs": [
    {
     "name": "stdout",
     "output_type": "stream",
     "text": [
      "\n",
      "EXAMPLE 1\n",
      "(Analytic everywhere)\n",
      "u: x**2 - y**2\n",
      "v: 2*x*y\n",
      "True\n",
      "\n",
      "EXAMPLE 2\n",
      "(Analytic at a point)\n",
      "u: x**3\n",
      "v: y**3\n",
      "False\n",
      "True\n"
     ]
    }
   ],
   "source": [
    "print(\"\\nEXAMPLE 1\")\n",
    "print(\"(Analytic everywhere)\")\n",
    "u = sympify(\"x**2-y**2\")\n",
    "v = sympify(\"2*x*y\")\n",
    "print(\"u:\", u)\n",
    "print(\"v:\", v)\n",
    "print(isAnalytic(u, v))\n",
    "#------------------------\n",
    "print(\"\\nEXAMPLE 2\")\n",
    "print(\"(Analytic at a point)\")\n",
    "u = sympify(\"x**3\")\n",
    "v = sympify(\"y**3\")\n",
    "print(\"u:\", u)\n",
    "print(\"v:\", v)\n",
    "print(isAnalytic(u, v))\n",
    "print(isAnalytic(u, v, [0, 0]))"
   ]
  },
  {
   "cell_type": "code",
   "execution_count": 32,
   "metadata": {},
   "outputs": [],
   "source": [
    "def getExpression(f):\n",
    "    f = sympify(f)\n",
    "    x, y, z = Symbol('x'), Symbol('y'), Symbol('z')\n",
    "    f = f.subs({z:x+I*y}).expand().simplify()\n",
    "    return f\n",
    "\n",
    "def getRealAndImaginaryParts(f):\n",
    "    RE, IM = [], []\n",
    "    i, sign = 0, ''\n",
    "    while i < len(f):\n",
    "        tmp, isImaginary = '', False\n",
    "        while i < len(f) and f[i] not in '+-':\n",
    "            if f[i] == 'I':\n",
    "                isImaginary = True\n",
    "                i += 2\n",
    "            else:\n",
    "                tmp += f[i]\n",
    "                i += 1\n",
    "        if isImaginary: IM.append(sign + tmp)\n",
    "        else: RE.append(sign + tmp)\n",
    "        if i < len(f): sign = {'+':'', '-':'-'}[f[i]]\n",
    "        i += 1\n",
    "    \n",
    "    # Processing real and imaginary term lists\n",
    "    RE = sympify('+'.join(RE))\n",
    "    IM = sympify('+'.join(IM))\n",
    "    return {'real':RE, 'imag':IM}"
   ]
  },
  {
   "cell_type": "markdown",
   "metadata": {},
   "source": [
    "Testing the above functions..."
   ]
  },
  {
   "cell_type": "code",
   "execution_count": 33,
   "metadata": {},
   "outputs": [
    {
     "name": "stdout",
     "output_type": "stream",
     "text": [
      "x**2 + 2*I*x*y - y**2\n",
      "{'real': x**2 - y**2, 'imag': 2*x*y}\n"
     ]
    }
   ],
   "source": [
    "f = str(getExpression('z**2'))\n",
    "print(f)\n",
    "print(getRealAndImaginaryParts(f))"
   ]
  },
  {
   "cell_type": "code",
   "execution_count": 96,
   "metadata": {},
   "outputs": [],
   "source": [
    "def isConformal(f, D):\n",
    "    # Converting and expanding complex function string\n",
    "    # (Converting by using 'sympy.sympify')\n",
    "    # (Expanding by substituting z = x+iy)\n",
    "    f = sympify(f)\n",
    "    z = Symbol('z')\n",
    "    for d in D:\n",
    "        g = f.diff()\n",
    "        g = g.subs({z:d})\n",
    "        print(g)"
   ]
  },
  {
   "cell_type": "code",
   "execution_count": 102,
   "metadata": {},
   "outputs": [
    {
     "name": "stdout",
     "output_type": "stream",
     "text": [
      "-1/14641\n",
      "-1/961\n"
     ]
    }
   ],
   "source": [
    "isConformal('1/z', [-121, 31])"
   ]
  }
 ],
 "metadata": {
  "kernelspec": {
   "display_name": "Python 3",
   "language": "python",
   "name": "python3"
  },
  "language_info": {
   "codemirror_mode": {
    "name": "ipython",
    "version": 3
   },
   "file_extension": ".py",
   "mimetype": "text/x-python",
   "name": "python",
   "nbconvert_exporter": "python",
   "pygments_lexer": "ipython3",
   "version": "3.8.5"
  }
 },
 "nbformat": 4,
 "nbformat_minor": 4
}
