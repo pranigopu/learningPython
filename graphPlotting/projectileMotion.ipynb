{
 "cells": [
  {
   "cell_type": "markdown",
   "metadata": {},
   "source": [
    "# Projectile motion"
   ]
  },
  {
   "cell_type": "markdown",
   "metadata": {},
   "source": [
    "Initial velocity = u"
   ]
  },
  {
   "cell_type": "markdown",
   "metadata": {},
   "source": [
    "Angle between projectile motion and ground = θ"
   ]
  },
  {
   "cell_type": "markdown",
   "metadata": {},
   "source": [
    "The projectile has two velocity components, horizontal (x) and vertical (y)"
   ]
  },
  {
   "cell_type": "markdown",
   "metadata": {},
   "source": [
    "x-direction component = $u_x = ucos\\theta$"
   ]
  },
  {
   "cell_type": "markdown",
   "metadata": {},
   "source": [
    "y-direction component = $u_y = sin\\theta$"
   ]
  },
  {
   "cell_type": "markdown",
   "metadata": {},
   "source": [
    "---"
   ]
  },
  {
   "cell_type": "markdown",
   "metadata": {},
   "source": [
    "As the projectile moves through space, the velocity changes. We represent the changed velocity as v"
   ]
  },
  {
   "cell_type": "markdown",
   "metadata": {},
   "source": [
    "x-direction component of velocity change = $v_x$"
   ]
  },
  {
   "cell_type": "markdown",
   "metadata": {},
   "source": [
    "y-direction component of velocity change = $v_y$"
   ]
  },
  {
   "cell_type": "markdown",
   "metadata": {},
   "source": [
    "---"
   ]
  },
  {
   "cell_type": "markdown",
   "metadata": {},
   "source": [
    "Assume $v_x$ does not change, but $v_y$ does due to gravity"
   ]
  },
  {
   "cell_type": "markdown",
   "metadata": {},
   "source": [
    "$v_y = u_y - gt$, where g is the gravitational constant and and t is the time from launch at which the instantaneous velocity v is measured"
   ]
  },
  {
   "cell_type": "markdown",
   "metadata": {},
   "source": [
    "We have $u_y = usin\\theta$, hence $v_y = usin\\theta - gt$"
   ]
  },
  {
   "cell_type": "markdown",
   "metadata": {},
   "source": [
    "---"
   ]
  },
  {
   "cell_type": "markdown",
   "metadata": {},
   "source": [
    "The x-direction component of the projectile motion does not change, so the horizontal distance traveled ($S_x$ ) is given by $S_x = v_xt$ => $S_x = u(cos\\theta)t$"
   ]
  },
  {
   "cell_type": "markdown",
   "metadata": {},
   "source": [
    "The y-direction component of the projectile motion does changes, so the vertical distance traveled is given by the formula $S_y = v_yt$ => $S_y = usin(\\theta)t - \\frac{1}{2}gt^2$"
   ]
  },
  {
   "cell_type": "markdown",
   "metadata": {},
   "source": [
    "$S_x$ and $S_y$ are used to calculate the position of the projectile at any given point in time."
   ]
  },
  {
   "cell_type": "markdown",
   "metadata": {},
   "source": [
    "---"
   ]
  },
  {
   "cell_type": "markdown",
   "metadata": {},
   "source": [
    "Before we write our program, however, we'll need to find out how long the ball will be in  flight before it hits the ground so that we know when our program should stop plotting the trajectory of the ball."
   ]
  },
  {
   "cell_type": "markdown",
   "metadata": {},
   "source": [
    "The ball reaches its highest point when the vertical component of the velocity $(v_y )$ is 0, which is when $v_y = u sin \\theta- gt = 0$."
   ]
  },
  {
   "cell_type": "markdown",
   "metadata": {},
   "source": [
    "So we're looking for the value $t$ using the formula $t = \\frac{u sin\\theta}{g}$"
   ]
  },
  {
   "cell_type": "markdown",
   "metadata": {},
   "source": [
    "We'll call this time $t_{peak}$ . After it reaches its highest point, the ball will hit the ground after being airborne for another $t_{peak}$ seconds, so the total time of flight $(t_{flight} )$ of the ball is $t_{flight} = 2\\frac{u sin\\theta}{g} $"
   ]
  },
  {
   "cell_type": "markdown",
   "metadata": {},
   "source": [
    "Let's take a ball that's thrown with an initial velocity ($u$) of $5m/s$ at an angle ($\\theta$) of 45 degrees. To calculate the total time of fight, we substitute $u = 5; \\theta = 45$, and $g = 9.8$ into the equation we saw above:\n"
   ]
  },
  {
   "cell_type": "markdown",
   "metadata": {},
   "source": [
    "The ball will be in air for this period of time, so to draw the trajectory, we'll calculate its x- and y-coordinates at regular intervals during this time period."
   ]
  },
  {
   "cell_type": "markdown",
   "metadata": {},
   "source": [
    "## Program"
   ]
  },
  {
   "cell_type": "code",
   "execution_count": 3,
   "metadata": {},
   "outputs": [
    {
     "name": "stdout",
     "output_type": "stream",
     "text": [
      "Enter the initial velocity (m/s): 3\n",
      "Enter the angle of projection (degres):30\n"
     ]
    },
    {
     "data": {
      "image/png": "[encoded data removed]",
      "text/plain": [
       "<matplotlib.figure.Figure at 0x110137358>"
      ]
     },
     "metadata": {},
     "output_type": "display_data"
    }
   ],
   "source": [
    "from matplotlib import pyplot as plt\n",
    "import math\n",
    "def draw_graph(x, y):\n",
    "    plt.plot(x,y)\n",
    "    plt.xlabel('x-coordinate')\n",
    "    plt.ylabel('y-coordinate')\n",
    "    plt.title('Projectile motion of a ball')\n",
    "def frange(start,final,increment):\n",
    "    numbers=[]\n",
    "    while start < final:\n",
    "        numbers.append(start)\n",
    "        start=start+increment\n",
    "    return numbers\n",
    "def draw_trajectory(u, theta):\n",
    "    theta=math.radians(theta)\n",
    "    g=9.8\n",
    "    t_fight=2*u*math.sin(theta)/g\n",
    "    intervals = frange(0, t_fight, 0.01)\n",
    "    x=[]\n",
    "    y=[]\n",
    "    for t in intervals:\n",
    "        x.append(u*math.cos(theta)*t)\n",
    "        y.append(u*math.sin(theta)*t-0.5*g*t*t)\n",
    "        \n",
    "        draw_graph(x, y)\n",
    "try:\n",
    "    u=float(input('Enter the initial velocity (m/s): '))\n",
    "    theta=float(input('Enter the angle of projection (degrees):'))\n",
    "except ValueError:\n",
    "    print('You entered an invalid input')\n",
    "else:\n",
    "    draw_trajectory(u, theta)\n",
    "    plt.show() "
   ]
  }
 ],
 "metadata": {
  "kernelspec": {
   "display_name": "Python 3",
   "language": "python",
   "name": "python3"
  },
  "language_info": {
   "codemirror_mode": {
    "name": "ipython",
    "version": 3
   },
   "file_extension": ".py",
   "mimetype": "text/x-python",
   "name": "python",
   "nbconvert_exporter": "python",
   "pygments_lexer": "ipython3",
   "version": "3.6.4"
  }
 },
 "nbformat": 4,
 "nbformat_minor": 2
}
