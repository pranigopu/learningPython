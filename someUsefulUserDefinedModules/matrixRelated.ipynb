{
 "cells": [
  {
   "cell_type": "markdown",
   "metadata": {},
   "source": [
    "# Matrix input"
   ]
  },
  {
   "cell_type": "markdown",
   "metadata": {},
   "source": [
    "## Entering one row at a time"
   ]
  },
  {
   "cell_type": "code",
   "execution_count": 1,
   "metadata": {},
   "outputs": [],
   "source": [
    "import numpy as np\n",
    "# Input positive integers\n",
    "def inputPositiveInteger(prompt):\n",
    "    while True:\n",
    "        try:\n",
    "            n = int(input(prompt))\n",
    "            if n < 0: raise ValueError\n",
    "            return n\n",
    "        except: print(\"Not a positive integer!\")\n",
    "# Input matrix\n",
    "def inputMatrix(prompt):\n",
    "    print(prompt)\n",
    "    n = inputPositiveInteger(\"Size: \")\n",
    "    print(\"------------------------\")\n",
    "    A = np.zeros((n, n))\n",
    "    for i in range(0, n):\n",
    "        while True:\n",
    "            row = input(\"Row \" + str(i + 1) + \": \").split(',')\n",
    "            try:\n",
    "                list(map(float, row))\n",
    "                A[i] = row\n",
    "                break\n",
    "            except: print(\"Invalid inputs!\")\n",
    "    return A"
   ]
  }
 ],
 "metadata": {
  "kernelspec": {
   "display_name": "Python 3",
   "language": "python",
   "name": "python3"
  },
  "language_info": {
   "codemirror_mode": {
    "name": "ipython",
    "version": 3
   },
   "file_extension": ".py",
   "mimetype": "text/x-python",
   "name": "python",
   "nbconvert_exporter": "python",
   "pygments_lexer": "ipython3",
   "version": "3.8.5"
  }
 },
 "nbformat": 4,
 "nbformat_minor": 4
}
