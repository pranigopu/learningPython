{
 "cells": [
  {
   "cell_type": "markdown",
   "metadata": {},
   "source": [
    "# Simultaneous equation solver"
   ]
  },
  {
   "cell_type": "markdown",
   "metadata": {},
   "source": [
    "## Support functions"
   ]
  },
  {
   "cell_type": "code",
   "execution_count": null,
   "metadata": {},
   "outputs": [],
   "source": [
    "# Reads the equation strings and converts them into lists of various values...\n",
    "def getLists(equationList):\n",
    "    var, coef, const, varCount, eqCount = {}, [], [], 0, 0\n",
    "    for e in equationList:\n",
    "        e, i, varsFound, sign = e + \"\\\\\", 0, [], 1\n",
    "        # If coefficient of a variable is to the right of \"=\", we will take it to the LHS, reversing its sign.\n",
    "        # If constant term is to the left of \"=\", we will take it to the RHS, reversing its sign.\n",
    "        \n",
    "        # Going through the equation...\n",
    "        while e[i] != \"\\\\\":\n",
    "            coefValue = \"\"\n",
    "            while e[i].isspace(): i = i + 1 # To traverse possible spaces before '-'.\n",
    "            if e[i] == \"-\": coefValue, i = coefValue + \"-\", i + 1 # Negative sign detection.\n",
    "            while e[i].isspace(): i = i + 1 # To traverse possible spaces after '-'.\n",
    "            \n",
    "            # Number encountered...\n",
    "            if e[i].isnumeric():\n",
    "                coefValue, i = coefValue + e[i], i + 1\n",
    "                while e[i].isnumeric() and e[i] != \"\\\\\":\n",
    "                    coefValue, i = coefValue + e[i], i + 1\n",
    "            \n",
    "            # Alphabet encountered (potential variable)...\n",
    "            if e[i].isalpha():\n",
    "                varName, i = e[i], i + 1\n",
    "                while e[i].isalnum() and e[i] != \"\\\\\":\n",
    "                    varName, i = varName + e[i], i + 1\n",
    "                # If variable already encountered in equation...\n",
    "                if varName in varsFound:\n",
    "                    coef[var[varName]][-1] = coef[var[varName]][-1] + float(coefValue) * sign\n",
    "                # If variable is newly encountered in the equation...\n",
    "                else:\n",
    "                    varsFound.append(varName)\n",
    "                    # If the variable is newly encountered in the system...\n",
    "                    if(varName not in var):\n",
    "                        var[varName], varCount = varCount, varCount + 1\n",
    "                        coef.append([])\n",
    "                    # If no numerical coefficient specified...\n",
    "                    if coefValue == \"\" or coefValue == \"-\": coefValue = coefValue + \"1\"\n",
    "                    # Making sure zero constants are put where required...\n",
    "                    l = len(coef[var[varName]])\n",
    "                    while l < eqCount:\n",
    "                        coef[var[varName]].append(0)\n",
    "                        l = l + 1\n",
    "                    coef[var[varName]].append(float(coefValue) * sign)\n",
    "            \n",
    "            # If a constant is identified...\n",
    "            elif coefValue != \"\":\n",
    "                # If a constant already exists in the equation...\n",
    "                if \"c\" in varsFound:\n",
    "                    const[-1] = const[-1] + float(coefValue) * -sign\n",
    "                # If a constant hasn't been encountered before...\n",
    "                else:\n",
    "                    varsFound.append(\"c\")\n",
    "                    const.append(float(coefValue) * -sign)\n",
    "            \n",
    "            # If equal-to sign encountered, invert the sign variable...\n",
    "            else:\n",
    "                if e[i] == \"=\": sign = -1\n",
    "                i = i + 1\n",
    "        eqCount = eqCount + 1\n",
    "        \n",
    "        # Making sure zero constant sums are put where required...\n",
    "        if len(const) < eqCount: const.append(0)\n",
    "    return (coef, const, var)"
   ]
  },
  {
   "cell_type": "code",
   "execution_count": null,
   "metadata": {},
   "outputs": [],
   "source": [
    "# Uses the lists of values from \"getLists\" and creates the necessary matrices...\n",
    "def getMatrices(equationList):\n",
    "    (coef, const, var) = getLists(equationList)\n",
    "    nVar, nEq = len(coef), len(const)\n",
    "    A = zeros((nEq, nVar))\n",
    "    B = zeros((nEq, 1))\n",
    "    for i in range(0, nEq):\n",
    "        for j in range(0, nVar):\n",
    "            try: A[i][j] = coef[j][i]\n",
    "            except: A[i][j] = 0\n",
    "    for i in range(0, nEq):\n",
    "        B[i][0] = const[i]\n",
    "    return (A, B, var)"
   ]
  },
  {
   "cell_type": "markdown",
   "metadata": {},
   "source": [
    "## Main function"
   ]
  },
  {
   "cell_type": "code",
   "execution_count": null,
   "metadata": {},
   "outputs": [],
   "source": [
    "# Uses the matrices from \"getMatrices\" and finds the solutions if they exists...\n",
    "\n",
    "def solveSystem(equationList):\n",
    "    (A, B, var) = getMatrices(equationList)\n",
    "    A = matrix(A)\n",
    "    B = matrix(B)\n",
    "    print(\"Coefficient matrix:\")\n",
    "    print(A)\n",
    "    print(\"Constant sum matrix:\")\n",
    "    print(B)\n",
    "    try: linalg.inv(A)\n",
    "    except:\n",
    "        print(\"Inverse of coefficient matrix does not exist.\")\n",
    "        print(\"No solutions.\")\n",
    "    else: print(\"Inverse of coefficient matrix exists.\")\n",
    "    X = linalg.solve(A, B)\n",
    "    for i in var:\n",
    "        print(\"{0} = {1}\".format(i, X[var[i], 0]))"
   ]
  },
  {
   "cell_type": "markdown",
   "metadata": {},
   "source": [
    "# Cramer's rule"
   ]
  },
  {
   "cell_type": "markdown",
   "metadata": {},
   "source": [
    "Solving equation systems using Cramer's rule. Hence, consider the following in the context of simultaneous equations."
   ]
  },
  {
   "cell_type": "code",
   "execution_count": 26,
   "metadata": {},
   "outputs": [],
   "source": [
    "import numpy as np\n",
    "import copy as cp\n",
    "def cramersRule(A, B):\n",
    "# A is the matrix of coefficients.\n",
    "# B is the column matrix of constant sums.\n",
    "    X = []\n",
    "    solutions = [] # Intended list of solutions.\n",
    "    nVars = len(A[0]) # Length of a row => Number of variables.\n",
    "    for i in range(0, nVars + 1):\n",
    "        X.append(cp.deepcopy(A))\n",
    "        X[i][:, i] = B\n",
    "        solutions.append(np.linalg.det(X[i])/np.linalg.det(A))\n",
    "    return solutions"
   ]
  },
  {
   "cell_type": "markdown",
   "metadata": {},
   "source": [
    "## Example"
   ]
  },
  {
   "cell_type": "markdown",
   "metadata": {},
   "source": [
    "$4x+y=6200$"
   ]
  },
  {
   "cell_type": "markdown",
   "metadata": {},
   "source": [
    "$3x+3y=5600$"
   ]
  },
  {
   "cell_type": "code",
   "execution_count": 30,
   "metadata": {},
   "outputs": [
    {
     "data": {
      "text/plain": [
       "[1444.4444444444437, 422.22222222222246]"
      ]
     },
     "execution_count": 30,
     "metadata": {},
     "output_type": "execute_result"
    }
   ],
   "source": [
    "A = np.matrix([[4, 1], [3, 3]]) # Matrix of coefficients.\n",
    "B = np.matrix([[6200], [5600]]) # Matrix of constant sums.\n",
    "cramersRule(A, B)"
   ]
  }
 ],
 "metadata": {
  "kernelspec": {
   "display_name": "Python 3",
   "language": "python",
   "name": "python3"
  },
  "language_info": {
   "codemirror_mode": {
    "name": "ipython",
    "version": 3
   },
   "file_extension": ".py",
   "mimetype": "text/x-python",
   "name": "python",
   "nbconvert_exporter": "python",
   "pygments_lexer": "ipython3",
   "version": "3.8.5"
  }
 },
 "nbformat": 4,
 "nbformat_minor": 4
}
