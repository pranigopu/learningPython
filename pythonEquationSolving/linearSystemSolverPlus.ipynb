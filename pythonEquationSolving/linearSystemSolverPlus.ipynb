{
 "cells": [
  {
   "cell_type": "code",
   "execution_count": 2,
   "metadata": {},
   "outputs": [],
   "source": [
    "# Imports for all the below operations...\n",
    "from numpy import matrix, zeros, linalg"
   ]
  },
  {
   "cell_type": "markdown",
   "metadata": {},
   "source": [
    "# "
   ]
  },
  {
   "cell_type": "code",
   "execution_count": 4,
   "metadata": {},
   "outputs": [],
   "source": [
    "# EQUATION SYSTEM SOLVER FUNCTIONS...\n",
    "\n",
    "# Reads the equation strings and converts them into lists of various values...\n",
    "def getLists(equationList):\n",
    "    var, coef, const, varCount, eqCount = {}, [], [], 0, 0\n",
    "    for e in equationList:\n",
    "        e, i, varsFound, sign = e + \"\\\\\", 0, [], 1\n",
    "        # If coefficient of a variable is to the right of \"=\", we will take it to the LHS, reversing its sign.\n",
    "        # If constant term is to the left of \"=\", we will take it to the RHS, reversing its sign.\n",
    "        \n",
    "        # Going through the equation...\n",
    "        while e[i] != \"\\\\\":\n",
    "            coefValue = \"\"\n",
    "            while e[i].isspace(): i = i + 1 # To traverse possible spaces before '-'.\n",
    "            if e[i] == \"-\": coefValue, i = coefValue + \"-\", i + 1 # Negative sign detection.\n",
    "            while e[i].isspace(): i = i + 1 # To traverse possible spaces after '-'.\n",
    "            \n",
    "            # Number encountered...\n",
    "            if e[i].isnumeric():\n",
    "                coefValue, i = coefValue + e[i], i + 1\n",
    "                while e[i].isnumeric() and e[i] != \"\\\\\":\n",
    "                    coefValue, i = coefValue + e[i], i + 1\n",
    "            \n",
    "            # Alphabet encountered (potential variable)...\n",
    "            if e[i].isalpha():\n",
    "                varName, i = e[i], i + 1\n",
    "                while e[i].isalnum() and e[i] != \"\\\\\":\n",
    "                    varName, i = varName + e[i], i + 1\n",
    "                # If variable already encountered in equation...\n",
    "                if varName in varsFound:\n",
    "                    coef[var[varName]][-1] = coef[var[varName]][-1] + float(coefValue) * sign\n",
    "                # If variable is newly encountered in the equation...\n",
    "                else:\n",
    "                    varsFound.append(varName)\n",
    "                    # If the variable is newly encountered in the system...\n",
    "                    if(varName not in var):\n",
    "                        var[varName], varCount = varCount, varCount + 1\n",
    "                        coef.append([])\n",
    "                    # If no numerical coefficient specified...\n",
    "                    if coefValue == \"\" or coefValue == \"-\": coefValue = coefValue + \"1\"\n",
    "                    # Making sure zero constants are put where required...\n",
    "                    l = len(coef[var[varName]])\n",
    "                    while l < eqCount:\n",
    "                        coef[var[varName]].append(0)\n",
    "                        l = l + 1\n",
    "                    coef[var[varName]].append(float(coefValue) * sign)\n",
    "            \n",
    "            # If a constant is identified...\n",
    "            elif coefValue != \"\":\n",
    "                # If a constant already exists in the equation...\n",
    "                if \"c\" in varsFound:\n",
    "                    const[-1] = const[-1] + float(coefValue) * -sign\n",
    "                # If a constant hasn't been encountered before...\n",
    "                else:\n",
    "                    varsFound.append(\"c\")\n",
    "                    const.append(float(coefValue) * -sign)\n",
    "            \n",
    "            # If equal-to sign encountered, invert the sign variable...\n",
    "            else:\n",
    "                if e[i] == \"=\": sign = -1\n",
    "                i = i + 1\n",
    "        eqCount = eqCount + 1\n",
    "        \n",
    "        # Making sure zero constant sums are put where required...\n",
    "        if len(const) < eqCount: const.append(0)\n",
    "    return (coef, const, var)\n",
    "\n",
    "# Uses the lists of values from \"getLists\" and creates the necessary matrices...\n",
    "def getMatrices(equationList):\n",
    "    (coef, const, var) = getLists(equationList)\n",
    "    nVar, nEq = len(coef), len(const)\n",
    "    A = zeros((nEq, nVar))\n",
    "    B = zeros((nEq, 1))\n",
    "    for i in range(0, nEq):\n",
    "        for j in range(0, nVar):\n",
    "            try: A[i][j] = coef[j][i]\n",
    "            except: A[i][j] = 0\n",
    "    for i in range(0, nEq):\n",
    "        B[i][0] = const[i]\n",
    "    return (A, B, var)\n",
    "\n",
    "# Uses the matrices from \"getMatrices\" and finds the solutions if they exists...\n",
    "def solveSystem(equationList):\n",
    "    (A, B, var) = getMatrices(equationList)\n",
    "    A = matrix(A)\n",
    "    B = matrix(B)\n",
    "    print(\"Coefficient matrix:\")\n",
    "    print(A)\n",
    "    print(\"Constant sum matrix:\")\n",
    "    print(B)\n",
    "    try: linalg.inv(A)\n",
    "    except:\n",
    "        print(\"Inverse of coefficient matrix does not exist.\")\n",
    "        print(\"No solutions.\")\n",
    "    else:\n",
    "        print(\"Inverse of coefficient matrix exists.\")\n",
    "        X = linalg.solve(A, B)\n",
    "        for i in var:\n",
    "            print(\"{0} = {1}\".format(i, X[var[i], 0]))"
   ]
  },
  {
   "cell_type": "code",
   "execution_count": 6,
   "metadata": {},
   "outputs": [
    {
     "name": "stdout",
     "output_type": "stream",
     "text": [
      "EQUATION SYSTEM SOLVER\n",
      "Enter equations (enter 'stop' to stop input)...\n",
      ">> 2x+3y-2z=3\n",
      ">> 1-3z=y\n",
      ">> x-y=z\n",
      ">> stop\n",
      "Coefficient matrix:\n",
      "[[ 2.  3. -2.]\n",
      " [ 0. -1. -3.]\n",
      " [ 1. -1. -1.]]\n",
      "Constant sum matrix:\n",
      "[[ 3.]\n",
      " [-1.]\n",
      " [ 0.]]\n",
      "Inverse of coefficient matrix exists.\n",
      "x = 0.7333333333333334\n",
      "y = 0.6\n",
      "z = 0.13333333333333333\n"
     ]
    }
   ],
   "source": [
    "print(\"EQUATION SYSTEM SOLVER\")\n",
    "eq = []\n",
    "print(\"Enter equations (enter 'stop' to stop input)...\")\n",
    "while True:\n",
    "    inp = input(\">> \")\n",
    "    if inp != \"stop\":\n",
    "        eq.append(inp)\n",
    "    else: break\n",
    "solveSystem(eq)"
   ]
  },
  {
   "cell_type": "markdown",
   "metadata": {},
   "source": [
    "# "
   ]
  },
  {
   "cell_type": "code",
   "execution_count": 8,
   "metadata": {},
   "outputs": [
    {
     "name": "stdout",
     "output_type": "stream",
     "text": [
      "Question 2a\n",
      "------------\n",
      "Coefficient matrix:\n",
      "[[ 1.  2. -1.]\n",
      " [ 2.  1.  4.]\n",
      " [ 3.  3.  4.]]\n",
      "Constant sum matrix:\n",
      "[[-1.]\n",
      " [ 2.]\n",
      " [ 1.]]\n",
      "Inverse of coefficient matrix exists.\n",
      "x1 = 1.6666666666666679\n",
      "x2 = -1.3333333333333341\n",
      "x3 = -3.7007434154171906e-16\n",
      "========================\n",
      "Question 2b\n",
      "------------\n",
      "Coefficient matrix:\n",
      "[[  8.   5.  -9.]\n",
      " [  3.   0.   2.]\n",
      " [-11.   4.   3.]]\n",
      "Constant sum matrix:\n",
      "[[0.]\n",
      " [9.]\n",
      " [0.]]\n",
      "Inverse of coefficient matrix exists.\n",
      "x = 1.4036697247706422\n",
      "y = 2.064220183486239\n",
      "z = 2.3944954128440368\n"
     ]
    }
   ],
   "source": [
    "print(\"Question 2a\")\n",
    "print(\"------------\")\n",
    "eqs = [ \"x1 + 2x2 + x3 - 2x3 = -1\",\n",
    "        \"2x1 + x2 + 4x3 = 2\",\n",
    "        \"3x1 + 3x2 + 4x3 = 1\"]\n",
    "solveSystem(eqs)\n",
    "print(\"========================\")\n",
    "print(\"Question 2b\")\n",
    "print(\"------------\")\n",
    "eqs = [ \"8x + 5y = 9z\",\n",
    "        \"3x + 2z = 9\",\n",
    "        \"4y + 3z = 11x\"]\n",
    "solveSystem(eqs)"
   ]
  },
  {
   "cell_type": "markdown",
   "metadata": {},
   "source": [
    "# "
   ]
  },
  {
   "cell_type": "code",
   "execution_count": 9,
   "metadata": {},
   "outputs": [
    {
     "name": "stdout",
     "output_type": "stream",
     "text": [
      "Coefficient matrix:\n",
      "[[20. 10.]\n",
      " [17. 22.]]\n",
      "Constant sum matrix:\n",
      "[[350.]\n",
      " [500.]]\n",
      "Inverse of coefficient matrix exists.\n",
      "x = 10.0\n",
      "y = 15.0\n"
     ]
    }
   ],
   "source": [
    "# Let x and y be the price of mangoes and oranges respectively.\n",
    "day1 = \"20x + 10y = 350\"\n",
    "day2 = \"17x + 22y = 500\"\n",
    "solveSystem([day1, day2])"
   ]
  },
  {
   "cell_type": "markdown",
   "metadata": {},
   "source": [
    "Hence, price of 1 mango is 10 and price of 1 orange is 15."
   ]
  },
  {
   "cell_type": "markdown",
   "metadata": {},
   "source": [
    "# "
   ]
  },
  {
   "cell_type": "markdown",
   "metadata": {},
   "source": [
    "We say that a square matrix is invertible if and only if the determinant is not equal to zero."
   ]
  },
  {
   "cell_type": "code",
   "execution_count": 6,
   "metadata": {},
   "outputs": [],
   "source": [
    "# Support functions...\n",
    "def inputPositiveInteger(prompt):\n",
    "    while True:\n",
    "        try:\n",
    "            i = input(prompt)\n",
    "            if i == \"x\": return 0\n",
    "            i = int(i)\n",
    "            if i <= 0: i = 1/0\n",
    "            return i\n",
    "        except:\n",
    "            print(\"Invalid integer, please re-enter.\")\n",
    "def floatInput(prompt):\n",
    "    while True:\n",
    "        try:\n",
    "            i = float(input(prompt))\n",
    "            return i\n",
    "        except:\n",
    "            print(\"Invalid number, please re-enter.\")\n",
    "def matrixInput(nRow, nCol):\n",
    "    print(\"\\nEnter row by row, each element in the row separated by comma...\")\n",
    "    A, i = zeros((nRow, nCol)), 0\n",
    "    while i < nRow:\n",
    "        row = input(\"R{0}: \".format(i + 1)).split(\",\")\n",
    "        if \"x\" in row: break # To stop inputting anymore\n",
    "        if len(row) != nCol:\n",
    "            print(\"ERROR: You must only enter\", nCol, \"per row\")\n",
    "            continue\n",
    "        for j in range(0, nCol):\n",
    "            try:\n",
    "                A[i][j] = float(row[j])\n",
    "            except:\n",
    "                print(\"ERROR: Non-numeric inputs.\")\n",
    "                j = -1\n",
    "                break\n",
    "        if j != -1: i = i + 1\n",
    "    return A"
   ]
  },
  {
   "cell_type": "code",
   "execution_count": 7,
   "metadata": {},
   "outputs": [
    {
     "name": "stdout",
     "output_type": "stream",
     "text": [
      "No. of rows? 2\n",
      "No. of columns? 3\n",
      "\n",
      "Enter row by row, each element in the row separated by comma...\n",
      "R1: 2,3,4\n",
      "R2: 2,7,3\n",
      "Your matrix:\n",
      "[[2. 3. 4.]\n",
      " [2. 7. 3.]]\n",
      "This matrix is not invertible.\n"
     ]
    }
   ],
   "source": [
    "nRow = inputPositiveInteger(\"No. of rows? \")\n",
    "nCol = inputPositiveInteger(\"No. of columns? \")\n",
    "M = matrix(matrixInput(nRow, nCol))\n",
    "print(\"Your matrix:\")\n",
    "print(M)\n",
    "if(nRow != nCol) or linalg.det(M) == 0:\n",
    "    print(\"This matrix is not invertible.\")\n",
    "else:\n",
    "    print(\"This matrix is invertible.\")"
   ]
  },
  {
   "cell_type": "markdown",
   "metadata": {},
   "source": [
    "# "
   ]
  },
  {
   "cell_type": "markdown",
   "metadata": {},
   "source": [
    "Different ways to solve a system of equations..."
   ]
  },
  {
   "cell_type": "code",
   "execution_count": 9,
   "metadata": {},
   "outputs": [],
   "source": [
    "eq = [\"3x + 6y - 4z = -3\",\n",
    "      \"5 - 5z + y = x\",\n",
    "      \"7x + 9y - 16z = 0\"]\n",
    "(A, B, var) = getMatrices(eq)\n",
    "A = matrix(A)\n",
    "B = matrix(B)"
   ]
  },
  {
   "cell_type": "code",
   "execution_count": 10,
   "metadata": {},
   "outputs": [
    {
     "name": "stdout",
     "output_type": "stream",
     "text": [
      "\n",
      "Method 1 solutions:\n",
      "x = 2.4967741935483874\n",
      "y = -1.6322580645161289\n",
      "z = 0.17419354838709689\n",
      "\n",
      "Method 2 solutions:\n",
      "x = 2.496774193548387\n",
      "y = -1.6322580645161289\n",
      "z = 0.17419354838709686\n",
      "\n",
      "Method 2 solutions:\n",
      "x = 2.4967741935483874\n",
      "y = -1.6322580645161289\n",
      "z = 0.17419354838709689\n"
     ]
    }
   ],
   "source": [
    "# Method 1\n",
    "print(\"\\nMethod 1 solutions:\")\n",
    "X = linalg.inv(A)*B\n",
    "for i in var:\n",
    "    print(\"{0} = {1}\".format(i, X[var[i], 0]))\n",
    "# Method 2\n",
    "print(\"\\nMethod 2 solutions:\")\n",
    "X = linalg.solve(A, B)\n",
    "for i in var:\n",
    "    print(\"{0} = {1}\".format(i, X[var[i], 0]))\n",
    "# Method 2\n",
    "print(\"\\nMethod 2 solutions:\")\n",
    "X = A**(-1)*B\n",
    "for i in var:\n",
    "    print(\"{0} = {1}\".format(i, X[var[i], 0]))"
   ]
  }
 ],
 "metadata": {
  "kernelspec": {
   "display_name": "Python 3",
   "language": "python",
   "name": "python3"
  },
  "language_info": {
   "codemirror_mode": {
    "name": "ipython",
    "version": 3
   },
   "file_extension": ".py",
   "mimetype": "text/x-python",
   "name": "python",
   "nbconvert_exporter": "python",
   "pygments_lexer": "ipython3",
   "version": "3.8.5"
  }
 },
 "nbformat": 4,
 "nbformat_minor": 4
}
