{
 "cells": [
  {
   "cell_type": "markdown",
   "metadata": {},
   "source": [
    "The management at a certain factory has found that a worker can produce at most 30 units in a day. The learning curve for the number of units N produced per day after a new employee has worked t days is N = 30(1 − e^(kt)). After 20 days on the job, a particular worker produces 19 units.\n",
    "<br>\n",
    "(a) Find the learning curve for this worker.<br>\n",
    "(b) How many days should pass before this worker is producing 25 units per day?<br>"
   ]
  },
  {
   "cell_type": "code",
   "execution_count": 92,
   "metadata": {},
   "outputs": [],
   "source": [
    "from sympy import *\n",
    "import numpy as np\n",
    "import matplotlib.pyplot as plt"
   ]
  },
  {
   "cell_type": "code",
   "execution_count": 83,
   "metadata": {},
   "outputs": [
    {
     "data": {
      "text/latex": [
       "$\\displaystyle N{\\left(t \\right)} = 30 - 30 \\cdot 2.71828182845905^{k t}$"
      ],
      "text/plain": [
       "Eq(N(t), 30 - 30*2.71828182845905**(k*t))"
      ]
     },
     "execution_count": 83,
     "metadata": {},
     "output_type": "execute_result"
    }
   ],
   "source": [
    "k = Symbol('k')\n",
    "t = Symbol('t')\n",
    "N = Function('N')(t)\n",
    "equation1_1 = Eq(N, 30*(1 - np.e**(k*t)))\n",
    "equation1_1"
   ]
  },
  {
   "cell_type": "code",
   "execution_count": 84,
   "metadata": {},
   "outputs": [
    {
     "data": {
      "text/latex": [
       "$\\displaystyle 19 = 30 - 30 \\cdot 2.71828182845905^{k}$"
      ],
      "text/plain": [
       "Eq(19, 30 - 30*2.71828182845905**k)"
      ]
     },
     "execution_count": 84,
     "metadata": {},
     "output_type": "execute_result"
    }
   ],
   "source": [
    "equation1_2 = equation1_1.subs({t : 1, N : 19})\n",
    "# I should put t as 20\n",
    "# However, the solve function was unable to solve the equation for k with t = 20\n",
    "# I assume the exponent was too large for it\n",
    "# With t = 1, k will be the only exponent\n",
    "# k will hence be easier to get\n",
    "# Of course, this value of k is in fact t*k = 20*k in this case\n",
    "# Hence, the get the actual value of k, we divide the obtained k by 20\n",
    "equation1_2"
   ]
  },
  {
   "cell_type": "code",
   "execution_count": 89,
   "metadata": {},
   "outputs": [
    {
     "data": {
      "text/plain": [
       "[-1.00330210886378]"
      ]
     },
     "execution_count": 89,
     "metadata": {},
     "output_type": "execute_result"
    }
   ],
   "source": [
    "solve(equation1_2, k)"
   ]
  },
  {
   "cell_type": "code",
   "execution_count": 91,
   "metadata": {},
   "outputs": [
    {
     "data": {
      "text/latex": [
       "$\\displaystyle N{\\left(t \\right)} = 30 - 30 \\cdot 2.71828182845905^{- 0.050165105443189 t}$"
      ],
      "text/plain": [
       "Eq(N(t), 30 - 30*2.71828182845905**(-0.050165105443189*t))"
      ]
     },
     "execution_count": 91,
     "metadata": {},
     "output_type": "execute_result"
    }
   ],
   "source": [
    "equation1_3 = equation1_1.subs({k : -1.00330210886378 / 20})\n",
    "equation1_3"
   ]
  },
  {
   "cell_type": "code",
   "execution_count": 100,
   "metadata": {},
   "outputs": [
    {
     "data": {
      "image/png": "[encoded data removed]",
      "text/plain": [
       "<Figure size 432x288 with 1 Axes>"
      ]
     },
     "metadata": {
      "needs_background": "light"
     },
     "output_type": "display_data"
    }
   ],
   "source": [
    "t_plottable = np.linspace(0, 75, 200)\n",
    "N_plottable = 30 - 30 * 2.71828182845905**(-0.050165105443189*t_plottable)\n",
    "plt.plot(t_plottable, N_plottable)\n",
    "plt.xlabel(\"t\")\n",
    "plt.ylabel(\"N\")\n",
    "plt.title(\"Learning curve\", size = 20)\n",
    "None"
   ]
  }
 ],
 "metadata": {
  "kernelspec": {
   "display_name": "Python 3",
   "language": "python",
   "name": "python3"
  },
  "language_info": {
   "codemirror_mode": {
    "name": "ipython",
    "version": 3
   },
   "file_extension": ".py",
   "mimetype": "text/x-python",
   "name": "python",
   "nbconvert_exporter": "python",
   "pygments_lexer": "ipython3",
   "version": "3.8.5"
  }
 },
 "nbformat": 4,
 "nbformat_minor": 4
}
