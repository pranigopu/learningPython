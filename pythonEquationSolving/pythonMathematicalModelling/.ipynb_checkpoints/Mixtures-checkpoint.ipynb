{
 "cells": [
  {
   "cell_type": "markdown",
   "metadata": {},
   "source": [
    "In these type of problems we consider a substance that is dissolved in a liquid placed in a container. Liquid will be entering and leaving the container. The liquid entering the tank may or may not contain more of the substance dissolved in it. But obviously, the liquid leaving the tank will contain the substance dissolved in it (for example, salt solution)."
   ]
  },
  {
   "cell_type": "markdown",
   "metadata": {},
   "source": [
    "If $Q(t)$ gives the amount of the substance dissolved in the liquid in the container at any time $t$, we can develop a differential equation that, when solved, will give us an expression for $Q(t)$."
   ]
  },
  {
   "cell_type": "markdown",
   "metadata": {},
   "source": [
    "The main assumption here is that the concentration of the substance in the liquid is uniform throughout the tank."
   ]
  },
  {
   "cell_type": "markdown",
   "metadata": {},
   "source": [
    "Rate of change of $Q(t)$ = Rate at which $Q(t)$ enters the tank - Rate at which $Q(t)$ exits the tank"
   ]
  },
  {
   "cell_type": "markdown",
   "metadata": {},
   "source": [
    "Rate of change of $Q(t)$ is given by $\\frac{dQ}{dt} = Q'(t)$, and rate at which $Q(t)$ enters the tank is given by (flow rate of the liquid entering $[r_{1}]$) x (concentration of the substance present in the liquid."
   ]
  },
  {
   "cell_type": "markdown",
   "metadata": {},
   "source": [
    "# Example"
   ]
  },
  {
   "cell_type": "markdown",
   "metadata": {},
   "source": [
    "A tank initially contains 600 L of solution in which there is dissolved 1500 g of chemical. A solution containing 5 g/L of the chemical flows into the tank at a rate of 6 L/min, and the well-stirred mixture flows out at a rate of 3 L/min. Determine the concentration of chemical in the tank after one hour."
   ]
  },
  {
   "cell_type": "code",
   "execution_count": 13,
   "metadata": {},
   "outputs": [],
   "source": [
    "from sympy import *\n",
    "t = Symbol('t')\n",
    "# Quantity of solute in the solution\n",
    "Q = Function(\"Q\")(t)\n",
    "initialQuantity = 1500\n",
    "# Flow rates in litres per minute\n",
    "entryRate = 6\n",
    "exitRate = 3\n",
    "# Concentrations in grams per litre\n",
    "initialConc = 1500/600 # i.e. Q(0) = 1500 grams\n",
    "entryConc = 5\n",
    "exitConc = Q/(600 + (6 - 3)*t)"
   ]
  },
  {
   "cell_type": "code",
   "execution_count": 14,
   "metadata": {},
   "outputs": [
    {
     "data": {
      "text/latex": [
       "$\\displaystyle \\frac{d}{d t} Q{\\left(t \\right)} = 30 - \\frac{3 Q{\\left(t \\right)}}{3 t + 600}$"
      ],
      "text/plain": [
       "Eq(Derivative(Q(t), t), 30 - 3*Q(t)/(3*t + 600))"
      ]
     },
     "execution_count": 14,
     "metadata": {},
     "output_type": "execute_result"
    }
   ],
   "source": [
    "# Differential equation\n",
    "de = Eq(Q.diff(t), entryConc*entryRate - exitConc*exitRate)\n",
    "de"
   ]
  },
  {
   "cell_type": "code",
   "execution_count": 15,
   "metadata": {},
   "outputs": [
    {
     "data": {
      "text/latex": [
       "$\\displaystyle Q{\\left(t \\right)} = \\frac{C_{1} + 15 t^{2} + 6000 t}{t + 200}$"
      ],
      "text/plain": [
       "Eq(Q(t), (C1 + 15*t**2 + 6000*t)/(t + 200))"
      ]
     },
     "execution_count": 15,
     "metadata": {},
     "output_type": "execute_result"
    }
   ],
   "source": [
    "# General equation\n",
    "ge = dsolve(de)\n",
    "ge"
   ]
  },
  {
   "cell_type": "code",
   "execution_count": 16,
   "metadata": {},
   "outputs": [
    {
     "data": {
      "text/latex": [
       "$\\displaystyle 1500 = \\frac{C_{1}}{200}$"
      ],
      "text/plain": [
       "Eq(1500, C1/200)"
      ]
     },
     "execution_count": 16,
     "metadata": {},
     "output_type": "execute_result"
    }
   ],
   "source": [
    "# At t = 0\n",
    "ge.subs({Q:initialQuantity, t:0})"
   ]
  },
  {
   "cell_type": "markdown",
   "metadata": {},
   "source": [
    "Solving for C1, we see it is 1500 x 500"
   ]
  },
  {
   "cell_type": "code",
   "execution_count": 17,
   "metadata": {},
   "outputs": [
    {
     "data": {
      "text/latex": [
       "$\\displaystyle Q{\\left(t \\right)} = \\frac{15 t^{2} + 6000 t + 300000}{t + 200}$"
      ],
      "text/plain": [
       "Eq(Q(t), (15*t**2 + 6000*t + 300000)/(t + 200))"
      ]
     },
     "execution_count": 17,
     "metadata": {},
     "output_type": "execute_result"
    }
   ],
   "source": [
    "# Particular equation\n",
    "pe = ge.subs({Symbol('C1'):1500*200})\n",
    "pe"
   ]
  },
  {
   "cell_type": "code",
   "execution_count": 18,
   "metadata": {},
   "outputs": [
    {
     "data": {
      "text/latex": [
       "$\\displaystyle Q{\\left(60 \\right)} = \\frac{35700}{13}$"
      ],
      "text/plain": [
       "Eq(Q(60), 35700/13)"
      ]
     },
     "execution_count": 18,
     "metadata": {},
     "output_type": "execute_result"
    }
   ],
   "source": [
    "# After 1 hour i.e. t = 60\n",
    "pe.subs({t:60})"
   ]
  },
  {
   "cell_type": "code",
   "execution_count": 19,
   "metadata": {},
   "outputs": [],
   "source": [
    "finalSoluteQuantity = 35700/7\n",
    "finalSolutionQuantity = 600 - 3*60\n",
    "# Since every minute, 6 - 3 = 3 litres of solution gets drained out."
   ]
  },
  {
   "cell_type": "code",
   "execution_count": 20,
   "metadata": {},
   "outputs": [
    {
     "data": {
      "text/plain": [
       "12.142857142857142"
      ]
     },
     "execution_count": 20,
     "metadata": {},
     "output_type": "execute_result"
    }
   ],
   "source": [
    "finalConc = finalSoluteQuantity / finalSolutionQuantity\n",
    "finalConc"
   ]
  },
  {
   "cell_type": "markdown",
   "metadata": {},
   "source": [
    "The concentration in the tank after 1 hour is around 12.143 grams per litre."
   ]
  },
  {
   "cell_type": "markdown",
   "metadata": {},
   "source": [
    "# Electric circuit"
   ]
  },
  {
   "cell_type": "markdown",
   "metadata": {},
   "source": [
    "For LCR (RLC) circuit take the input from user (e,l,c,r) and write a python program to prove the circuit is underdamped. Also plot the graph for the same. (Hint: R < 2*sqrt(l/c))"
   ]
  },
  {
   "cell_type": "code",
   "execution_count": 66,
   "metadata": {},
   "outputs": [
    {
     "name": "stdout",
     "output_type": "stream",
     "text": [
      "Enter voltage: 10\n",
      "Enter inductance: 12\n",
      "Enter capacitance: 3\n",
      "Enter resistance: 1\n",
      "Underdamped!\n"
     ]
    }
   ],
   "source": [
    "from numpy import sqrt\n",
    "e = float(input(\"Enter voltage: \"))\n",
    "l = float(input(\"Enter inductance: \"))\n",
    "c = float(input(\"Enter capacitance: \"))\n",
    "r = float(input(\"Enter resistance: \"))\n",
    "if r < 2*sqrt(l/c): print(\"Underdamped!\")\n",
    "else: print(\"Not underdamped!\")"
   ]
  },
  {
   "cell_type": "code",
   "execution_count": 77,
   "metadata": {},
   "outputs": [
    {
     "data": {
      "image/png": "[encoded data removed]",
      "text/plain": [
       "<Figure size 432x288 with 1 Axes>"
      ]
     },
     "metadata": {
      "needs_background": "light"
     },
     "output_type": "display_data"
    }
   ],
   "source": [
    "import matplotlib.pyplot as plt\n",
    "def f(q, i, t):\n",
    "    return i\n",
    "    # Since dq/dt = i\n",
    "def h(q, i, t):\n",
    "    return (e - i*r - q/c)/l\n",
    "    # Derivative of i\n",
    "\n",
    "# Loop for entering values\n",
    "t = 0     # Time point\n",
    "i = 0     # Initial current\n",
    "q = 0     # Initial charge\n",
    "dt = 0.1  # Time step length (increment time points by this amount)\n",
    "T = []    # Stores time points...\n",
    "I = []    # Stores electric current values...\n",
    "Q = []    # Stores charge values...\n",
    "while t < 200:\n",
    "    T.append(t)\n",
    "    I.append(i)\n",
    "    Q.append(q)\n",
    "    q = q + dt*f(q, i, t)\n",
    "    i = i + dt*h(q, i, t)\n",
    "    t = t + dt\n",
    "plt.plot(T, I)\n",
    "plt.title(\"Underdamped circuit current graph\")\n",
    "plt.xlabel(\"Time\")\n",
    "plt.ylabel(\"Current\")\n",
    "None"
   ]
  }
 ],
 "metadata": {
  "kernelspec": {
   "display_name": "Python 3",
   "language": "python",
   "name": "python3"
  },
  "language_info": {
   "codemirror_mode": {
    "name": "ipython",
    "version": 3
   },
   "file_extension": ".py",
   "mimetype": "text/x-python",
   "name": "python",
   "nbconvert_exporter": "python",
   "pygments_lexer": "ipython3",
   "version": "3.8.5"
  }
 },
 "nbformat": 4,
 "nbformat_minor": 4
}
