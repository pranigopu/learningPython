{
 "cells": [
  {
   "cell_type": "markdown",
   "metadata": {},
   "source": [
    "An SIR model is an epidemiological model that computes the theoretical number of people infected with a contagious illness in a closed population over time.<br><br>\n",
    "The name of this class of models derives from the fact that they involve coupled equations relating the number of<br>\n",
    "1. Susceptible people S(t)<br>\n",
    "2. Infected people I(t)<br>\n",
    "3. Recovered or removed people R(t)<br>"
   ]
  },
  {
   "cell_type": "code",
   "execution_count": null,
   "metadata": {},
   "outputs": [],
   "source": []
  }
 ],
 "metadata": {
  "kernelspec": {
   "display_name": "Python 3",
   "language": "python",
   "name": "python3"
  },
  "language_info": {
   "codemirror_mode": {
    "name": "ipython",
    "version": 3
   },
   "file_extension": ".py",
   "mimetype": "text/x-python",
   "name": "python",
   "nbconvert_exporter": "python",
   "pygments_lexer": "ipython3",
   "version": "3.8.5"
  }
 },
 "nbformat": 4,
 "nbformat_minor": 4
}
