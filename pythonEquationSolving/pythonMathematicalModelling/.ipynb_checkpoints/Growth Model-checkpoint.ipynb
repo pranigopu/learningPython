{
 "cells": [
  {
   "cell_type": "markdown",
   "metadata": {},
   "source": [
    "# "
   ]
  },
  {
   "cell_type": "markdown",
   "metadata": {},
   "source": [
    "Dr. Rao is studying an endangered wolf whose population is declining by 15% every year. If there are currently 5,100 wolves, how many will remain in 6 years?"
   ]
  },
  {
   "cell_type": "markdown",
   "metadata": {},
   "source": [
    "The function describing the number of wolves after n years can be given by\n",
    "<br>\n",
    "5100 * (85 / 100)^n\n",
    "<br>\n",
    "= 5100 * (17 / 20)^n"
   ]
  },
  {
   "cell_type": "code",
   "execution_count": 1,
   "metadata": {},
   "outputs": [],
   "source": [
    "from sympy import Symbol, Function, Eq, solve\n",
    "import matplotlib.pyplot as plt"
   ]
  },
  {
   "cell_type": "code",
   "execution_count": 2,
   "metadata": {},
   "outputs": [
    {
     "data": {
      "text/latex": [
       "$\\displaystyle w{\\left(n \\right)} = 5100 \\cdot 0.85^{n}$"
      ],
      "text/plain": [
       "Eq(w(n), 5100*0.85**n)"
      ]
     },
     "execution_count": 2,
     "metadata": {},
     "output_type": "execute_result"
    }
   ],
   "source": [
    "n = Symbol('n') # Number of years since the current time\n",
    "w = Function('w')(n) # Number of wolves after n years\n",
    "eq = Eq(w, 5100 * (17 / 20)**n) # Equation for number of wolves after n years\n",
    "eq"
   ]
  },
  {
   "cell_type": "code",
   "execution_count": 3,
   "metadata": {},
   "outputs": [
    {
     "data": {
      "text/latex": [
       "$\\displaystyle w{\\left(6 \\right)} = 1923.4625296875$"
      ],
      "text/plain": [
       "Eq(w(6), 1923.4625296875)"
      ]
     },
     "execution_count": 3,
     "metadata": {},
     "output_type": "execute_result"
    }
   ],
   "source": [
    "eq.subs({n : 6}) # Getting the number of wolves that will be left after 6 years"
   ]
  },
  {
   "cell_type": "markdown",
   "metadata": {},
   "source": [
    "After 6 years, we can estimate there to be around 1923 wolves, given the current rate of decline. Note that we don't use the exponential decay model here, because that model is used when the rate of change declines as the target variable's value declines. In this casem it would be used if the wolf population's decline would slow down in proportion to the decrease in its population."
   ]
  },
  {
   "cell_type": "markdown",
   "metadata": {},
   "source": [
    "# "
   ]
  },
  {
   "cell_type": "markdown",
   "metadata": {},
   "source": [
    "In medieval times there were 10,000 people living in a city that was struck by a plague so that people began to die at an exponential rate daily. After 6 days, there were only 8,500 people living. How many were living after three weeks?"
   ]
  },
  {
   "cell_type": "markdown",
   "metadata": {},
   "source": [
    "## Explanation"
   ]
  },
  {
   "cell_type": "markdown",
   "metadata": {},
   "source": [
    "I first thought that people dying at an exponential rate meant that poeple died in an exponentially increasing rate, meaning that the rate of decline in population rose with time. Hence, to model the number of the dead, we could use exponential growth model.\n",
    "<br><br>\n",
    "However, the question may mean that the people died at an exponentially decreasing rate, which is what would happen in the case of population decline, since fewer the people, the less the chances of any one person contracting the disease from other people, and hence, the smaller the number of fatalities.\n",
    "<br><br>\n",
    "I will work with both interpretations, first with people dying at an exponentially increasing rate, then people dying at an exponentially decreasing rate.\n",
    "<br><br>"
   ]
  },
  {
   "cell_type": "markdown",
   "metadata": {},
   "source": [
    "## Growth model on the number of dead people"
   ]
  },
  {
   "cell_type": "markdown",
   "metadata": {},
   "source": [
    "The exponential growth model (to model the number of total dead people) is given by\n",
    "<br>\n",
    "$\\frac{d m(t)}{dt} = k m(t)$\n",
    "<br>\n",
    "where m(t) is the number of dead people after t days, and k is a constant that determines the rate at which the rate of change increases."
   ]
  },
  {
   "cell_type": "code",
   "execution_count": 17,
   "metadata": {},
   "outputs": [],
   "source": [
    "from sympy import Symbol, Function, Eq, solve, dsolve, diff\n",
    "import matplotlib.pyplot as plt\n",
    "import numpy as np"
   ]
  },
  {
   "cell_type": "code",
   "execution_count": 77,
   "metadata": {},
   "outputs": [
    {
     "data": {
      "text/latex": [
       "$\\displaystyle \\frac{d}{d t} m{\\left(t \\right)} = k m{\\left(t \\right)}$"
      ],
      "text/plain": [
       "Eq(Derivative(m(t), t), k*m(t))"
      ]
     },
     "execution_count": 77,
     "metadata": {},
     "output_type": "execute_result"
    }
   ],
   "source": [
    "t = Symbol('t') # Number of days since the plague first hit\n",
    "m = Function('m')(t) # Number of dead people after t days\n",
    "k = Symbol('k') # Proportional constant\n",
    "C1 = Symbol('C1') # Potential integration constant\n",
    "de = Eq(m.diff(t), k * m) # The differential equation mentioned above\n",
    "de"
   ]
  },
  {
   "cell_type": "code",
   "execution_count": 39,
   "metadata": {},
   "outputs": [
    {
     "data": {
      "text/latex": [
       "$\\displaystyle m{\\left(t \\right)} = C_{1} e^{k t}$"
      ],
      "text/plain": [
       "Eq(m(t), C1*exp(k*t))"
      ]
     },
     "execution_count": 39,
     "metadata": {},
     "output_type": "execute_result"
    }
   ],
   "source": [
    "ge = dsolve(de) # General equation derived from the above differential equation\n",
    "ge"
   ]
  },
  {
   "cell_type": "markdown",
   "metadata": {},
   "source": [
    "The first day i.e. t = 0 is the day when the first person dies. Hence,\n",
    "<br>\n",
    "m(0) = 1\n",
    "<br>\n",
    "Given this, we substitute these values in the general equation and solve for C1. We can see that\n",
    "<br>\n",
    "C1 = 1\n",
    "<br>\n",
    "but for the sake of establishing a generalised process, we shall solve it regardless."
   ]
  },
  {
   "cell_type": "code",
   "execution_count": 40,
   "metadata": {},
   "outputs": [
    {
     "data": {
      "text/plain": [
       "[1]"
      ]
     },
     "execution_count": 40,
     "metadata": {},
     "output_type": "execute_result"
    }
   ],
   "source": [
    "solve(ge.subs({m : 1, t : 0}))"
   ]
  },
  {
   "cell_type": "code",
   "execution_count": 41,
   "metadata": {},
   "outputs": [
    {
     "data": {
      "text/latex": [
       "$\\displaystyle m{\\left(t \\right)} = e^{k t}$"
      ],
      "text/plain": [
       "Eq(m(t), exp(k*t))"
      ]
     },
     "execution_count": 41,
     "metadata": {},
     "output_type": "execute_result"
    }
   ],
   "source": [
    "pe = ge.subs({C1 : 1})\n",
    "pe"
   ]
  },
  {
   "cell_type": "markdown",
   "metadata": {},
   "source": [
    "To find k, we substitute\n",
    "<br>\n",
    "t = 6 and m = 10000 - 8500\n",
    "<br>\n",
    "since in the data we have that after 6 days since the first death, there are 8500 people left, meaning\n",
    "<br>\n",
    "10000 - 8500\n",
    "<br>\n",
    "people have died since. For this substitution, we solve for k."
   ]
  },
  {
   "cell_type": "code",
   "execution_count": 42,
   "metadata": {},
   "outputs": [
    {
     "data": {
      "text/plain": [
       "[log(2**(1/3)*3**(1/6)*sqrt(5)) - 2*I*pi/3,\n",
       " log(2**(1/3)*3**(1/6)*sqrt(5)) - I*pi/3,\n",
       " log(2**(1/3)*3**(1/6)*sqrt(5)) + I*pi/3,\n",
       " log(2**(1/3)*3**(1/6)*sqrt(5)) + 2*I*pi/3,\n",
       " log(2**(1/3)*3**(1/6)*sqrt(5)) + I*pi,\n",
       " log(2**(1/3)*3**(1/6)*sqrt(5))]"
      ]
     },
     "execution_count": 42,
     "metadata": {},
     "output_type": "execute_result"
    }
   ],
   "source": [
    "solve(pe.subs({m : 10000 - 8500, t : 6}), k)"
   ]
  },
  {
   "cell_type": "markdown",
   "metadata": {},
   "source": [
    "We chose the only real valued solution here, since complex solutions are not applicable in concrete populations."
   ]
  },
  {
   "cell_type": "code",
   "execution_count": 45,
   "metadata": {},
   "outputs": [
    {
     "data": {
      "text/latex": [
       "$\\displaystyle m{\\left(t \\right)} = e^{1.21887006451505 t}$"
      ],
      "text/plain": [
       "Eq(m(t), exp(1.21887006451505*t))"
      ]
     },
     "execution_count": 45,
     "metadata": {},
     "output_type": "execute_result"
    }
   ],
   "source": [
    "kvalue = np.log(2**(1/3) * 3**(1/6) * np.sqrt(5))\n",
    "pe = pe.subs({k : kvalue})\n",
    "pe"
   ]
  },
  {
   "cell_type": "markdown",
   "metadata": {},
   "source": [
    "Three weeks amounts to 7 * 3 = 21 days. Applying this to our newly found equation, we get the following..."
   ]
  },
  {
   "cell_type": "code",
   "execution_count": 46,
   "metadata": {},
   "outputs": [
    {
     "data": {
      "text/latex": [
       "$\\displaystyle m{\\left(21 \\right)} = 130713187934.501$"
      ],
      "text/plain": [
       "Eq(m(21), 130713187934.501)"
      ]
     },
     "execution_count": 46,
     "metadata": {},
     "output_type": "execute_result"
    }
   ],
   "source": [
    "pe.subs({t : 21})"
   ]
  },
  {
   "cell_type": "markdown",
   "metadata": {},
   "source": [
    "This would mean that there is no one left by the end of three weeks."
   ]
  },
  {
   "cell_type": "markdown",
   "metadata": {},
   "source": [
    "## Decay model for number of living people"
   ]
  },
  {
   "cell_type": "markdown",
   "metadata": {},
   "source": [
    "Now, working with the second interpretation, that the population is decreasing in an exponentially decreasing rate.\n",
    "<br><br>\n",
    "Here, the population of living people is decreasing, so that will be the target variable. The exponential decay model (to model the number of total living people left) is given by\n",
    "<br>\n",
    "$\\frac{d a(t)}{dt} = -k a(t)$\n",
    "<br>\n",
    "where a(t) is the number of alive people after t days, and -k is a constant that determines the rate at which the rate of change decreases."
   ]
  },
  {
   "cell_type": "code",
   "execution_count": 68,
   "metadata": {},
   "outputs": [
    {
     "data": {
      "text/latex": [
       "$\\displaystyle \\frac{d}{d t} a{\\left(t \\right)} = - k a{\\left(t \\right)}$"
      ],
      "text/plain": [
       "Eq(Derivative(a(t), t), -k*a(t))"
      ]
     },
     "execution_count": 68,
     "metadata": {},
     "output_type": "execute_result"
    }
   ],
   "source": [
    "a = Function('a')(t) # Number of dead people after t days\n",
    "de = Eq(a.diff(t), -k * a) # The differential equation mentioned above\n",
    "de"
   ]
  },
  {
   "cell_type": "code",
   "execution_count": 69,
   "metadata": {},
   "outputs": [
    {
     "data": {
      "text/latex": [
       "$\\displaystyle a{\\left(t \\right)} = C_{1} e^{- k t}$"
      ],
      "text/plain": [
       "Eq(a(t), C1*exp(-k*t))"
      ]
     },
     "execution_count": 69,
     "metadata": {},
     "output_type": "execute_result"
    }
   ],
   "source": [
    "ge = dsolve(de) # General equation derived from the above differential equation\n",
    "ge"
   ]
  },
  {
   "cell_type": "markdown",
   "metadata": {},
   "source": [
    "The first day i.e. t = 0 is the day when the the population is intact. Hence,\n",
    "<br>\n",
    "m(0) = 10000\n",
    "<br>\n",
    "Given this, we substitute these values in the general equation and solve for C1. We can see that\n",
    "<br>\n",
    "C1 = 10000\n",
    "<br>\n",
    "but for the sake of establishing a generalised process, we shall solve it regardless."
   ]
  },
  {
   "cell_type": "code",
   "execution_count": 72,
   "metadata": {},
   "outputs": [
    {
     "data": {
      "text/plain": [
       "[10000]"
      ]
     },
     "execution_count": 72,
     "metadata": {},
     "output_type": "execute_result"
    }
   ],
   "source": [
    "solve(ge.subs({a : 10000, t : 0}), C1)"
   ]
  },
  {
   "cell_type": "code",
   "execution_count": 73,
   "metadata": {},
   "outputs": [
    {
     "data": {
      "text/latex": [
       "$\\displaystyle a{\\left(t \\right)} = 10000 e^{- k t}$"
      ],
      "text/plain": [
       "Eq(a(t), 10000*exp(-k*t))"
      ]
     },
     "execution_count": 73,
     "metadata": {},
     "output_type": "execute_result"
    }
   ],
   "source": [
    "pe = ge.subs({C1 : 10000})\n",
    "pe"
   ]
  },
  {
   "cell_type": "markdown",
   "metadata": {},
   "source": [
    "To find k, we substitute\n",
    "<br>\n",
    "t = 6 and m = 8500\n",
    "<br>\n",
    "since in the data we have that after 6 days since the first death, there are 8500 people left. For this substitution, we solve for k."
   ]
  },
  {
   "cell_type": "code",
   "execution_count": 75,
   "metadata": {},
   "outputs": [
    {
     "data": {
      "text/plain": [
       "[log(17**(5/6)*2**(1/3)*5**(1/6)/17) - 2*I*pi/3,\n",
       " log(17**(5/6)*2**(1/3)*5**(1/6)/17) - I*pi/3,\n",
       " log(17**(5/6)*2**(1/3)*5**(1/6)/17) + I*pi/3,\n",
       " log(17**(5/6)*2**(1/3)*5**(1/6)/17) + 2*I*pi/3,\n",
       " log(17**(5/6)*2**(1/3)*5**(1/6)/17) + I*pi,\n",
       " log(17**(5/6)*2**(1/3)*5**(1/6)/17)]"
      ]
     },
     "execution_count": 75,
     "metadata": {},
     "output_type": "execute_result"
    }
   ],
   "source": [
    "solve(pe.subs({a : 8500, t : 6}), k)"
   ]
  },
  {
   "cell_type": "markdown",
   "metadata": {},
   "source": [
    "We chose the only real valued solution here, since complex solutions are not applicable in concrete populations."
   ]
  },
  {
   "cell_type": "code",
   "execution_count": 65,
   "metadata": {},
   "outputs": [
    {
     "data": {
      "text/latex": [
       "$\\displaystyle a{\\left(t \\right)} = 10000 e^{- 0.0270864882496291 t}$"
      ],
      "text/plain": [
       "Eq(a(t), 10000*exp(-0.0270864882496291*t))"
      ]
     },
     "execution_count": 65,
     "metadata": {},
     "output_type": "execute_result"
    }
   ],
   "source": [
    "kvalue = np.log(17**(5/6) * 2**(1/3) * 5**(1/6)/17)\n",
    "pe = pe.subs({k : kvalue})\n",
    "pe"
   ]
  },
  {
   "cell_type": "markdown",
   "metadata": {},
   "source": [
    "Three weeks amounts to 7 * 3 = 21 days. Applying this to our newly found equation, we get the following..."
   ]
  },
  {
   "cell_type": "code",
   "execution_count": 66,
   "metadata": {},
   "outputs": [
    {
     "data": {
      "text/latex": [
       "$\\displaystyle a{\\left(21 \\right)} = 5661.952739835$"
      ],
      "text/plain": [
       "Eq(a(21), 5661.952739835)"
      ]
     },
     "execution_count": 66,
     "metadata": {},
     "output_type": "execute_result"
    }
   ],
   "source": [
    "pe.subs({t : 21})"
   ]
  },
  {
   "cell_type": "markdown",
   "metadata": {},
   "source": [
    "Based on this model, after three weeks, around 5662 people are left in the city."
   ]
  },
  {
   "cell_type": "markdown",
   "metadata": {},
   "source": [
    "## Notes"
   ]
  },
  {
   "cell_type": "markdown",
   "metadata": {},
   "source": [
    "The meanings of the first day i.e. t = 0 differed based on what would allow the model to work at all. In the growth model for dead people, if we started with t = 0 meaning no death occurs, we would get C1 = 0, which will not lead to any further meaningful results. Similarly, for the decay model for living people, if we started with t = 0 meaning the first death occurs, we will not be able to solve for C1. Note that different interpretations of t = 0 does not change the predictive power of the model."
   ]
  },
  {
   "cell_type": "markdown",
   "metadata": {},
   "source": [
    "# "
   ]
  },
  {
   "cell_type": "markdown",
   "metadata": {},
   "source": [
    "A scientist started with a culture of 10 bacteria in a dish. The number of bacteria at the end of each successive minute increased exponentially so that the number at the end of one hour was 500. How many hours (to the nearest hour) from the start of the experiment passed before there were 1,000,000 bacteria?"
   ]
  },
  {
   "cell_type": "markdown",
   "metadata": {},
   "source": [
    "This is a clear case of exponential growth, which is modelled by the following equation...\n",
    "<br>\n",
    "$\\frac{d b(t)}{dt} = k b(t)$\n",
    "<br>\n",
    "where b(t) is the number of bacteria after t minutes, and k is a constant that determines the rate at which the rate of change increases."
   ]
  },
  {
   "cell_type": "code",
   "execution_count": 109,
   "metadata": {},
   "outputs": [],
   "source": [
    "from sympy import Symbol, Function, Eq, solve, dsolve, diff\n",
    "import matplotlib.pyplot as plt\n",
    "import numpy as np"
   ]
  },
  {
   "cell_type": "code",
   "execution_count": 95,
   "metadata": {},
   "outputs": [
    {
     "data": {
      "text/latex": [
       "$\\displaystyle \\frac{d}{d t} b{\\left(t \\right)} = k b{\\left(t \\right)}$"
      ],
      "text/plain": [
       "Eq(Derivative(b(t), t), k*b(t))"
      ]
     },
     "execution_count": 95,
     "metadata": {},
     "output_type": "execute_result"
    }
   ],
   "source": [
    "t = Symbol('t') # Number of minutes since the 10 bacteria were initially observed\n",
    "b = Function('b')(t) # Number of bacteria after t minutes\n",
    "k = Symbol('k') # Proportional constant\n",
    "C1 = Symbol('C1') # Potential integration constant\n",
    "de = Eq(b.diff(t), k * b) # The differential equation mentioned above\n",
    "de"
   ]
  },
  {
   "cell_type": "code",
   "execution_count": 96,
   "metadata": {},
   "outputs": [
    {
     "data": {
      "text/latex": [
       "$\\displaystyle b{\\left(t \\right)} = C_{1} e^{k t}$"
      ],
      "text/plain": [
       "Eq(b(t), C1*exp(k*t))"
      ]
     },
     "execution_count": 96,
     "metadata": {},
     "output_type": "execute_result"
    }
   ],
   "source": [
    "ge = dsolve(de) # General equation derived from the above differential equation\n",
    "ge"
   ]
  },
  {
   "cell_type": "markdown",
   "metadata": {},
   "source": [
    "The first minute i.e. t = 0 is the minute when 10 bacteria are initially observed. Hence,\n",
    "<br>\n",
    "b(0) = 10\n",
    "<br>\n",
    "Given this, we substitute these values in the general equation and solve for C1. We can see that\n",
    "<br>\n",
    "C1 = 10\n",
    "<br>\n",
    "but for the sake of establishing a generalised process, we shall solve it regardless."
   ]
  },
  {
   "cell_type": "code",
   "execution_count": 97,
   "metadata": {},
   "outputs": [
    {
     "data": {
      "text/plain": [
       "[10]"
      ]
     },
     "execution_count": 97,
     "metadata": {},
     "output_type": "execute_result"
    }
   ],
   "source": [
    "solve(ge.subs({b : 10, t : 0}))"
   ]
  },
  {
   "cell_type": "code",
   "execution_count": 102,
   "metadata": {},
   "outputs": [
    {
     "data": {
      "text/latex": [
       "$\\displaystyle b{\\left(t \\right)} = 10 e^{k t}$"
      ],
      "text/plain": [
       "Eq(b(t), 10*exp(k*t))"
      ]
     },
     "execution_count": 102,
     "metadata": {},
     "output_type": "execute_result"
    }
   ],
   "source": [
    "pe = ge.subs({C1 : 10})\n",
    "pe"
   ]
  },
  {
   "cell_type": "markdown",
   "metadata": {},
   "source": [
    "To find k, we substitute\n",
    "<br>\n",
    "t = 60 (one hour) and b = 500\n",
    "<br>\n",
    "since in the data we have that after one hour, there are 500 bacteria. For this substitution, we solve for k."
   ]
  },
  {
   "cell_type": "code",
   "execution_count": 103,
   "metadata": {},
   "outputs": [
    {
     "data": {
      "text/plain": [
       "[log(2**(1/60)*5**(1/30)) - 9*I*pi/10,\n",
       " log(2**(1/60)*5**(1/30)) - 5*I*pi/6,\n",
       " log(2**(1/60)*5**(1/30)) - 7*I*pi/10,\n",
       " log(2**(1/60)*5**(1/30)) - 2*I*pi/3,\n",
       " log(2**(1/60)*5**(1/30)) - I*pi/2,\n",
       " log(2**(1/60)*5**(1/30)) - I*pi/3,\n",
       " log(2**(1/60)*5**(1/30)) - 3*I*pi/10,\n",
       " log(2**(1/60)*5**(1/30)) - I*pi/6,\n",
       " log(2**(1/60)*5**(1/30)) - I*pi/10,\n",
       " log(2**(1/60)*5**(1/30)) + I*pi/10,\n",
       " log(2**(1/60)*5**(1/30)) + I*pi/6,\n",
       " log(2**(1/60)*5**(1/30)) + 3*I*pi/10,\n",
       " log(2**(1/60)*5**(1/30)) + I*pi/3,\n",
       " log(2**(1/60)*5**(1/30)) + I*pi/2,\n",
       " log(2**(1/60)*5**(1/30)) + 2*I*pi/3,\n",
       " log(2**(1/60)*5**(1/30)) + 7*I*pi/10,\n",
       " log(2**(1/60)*5**(1/30)) + 5*I*pi/6,\n",
       " log(2**(1/60)*5**(1/30)) + 9*I*pi/10,\n",
       " log(2**(1/60)*5**(1/30)) + I*pi,\n",
       " log(2**(1/60)*5**(1/30)),\n",
       " log(-2**(1/60)*5**(1/30)/4 + 2**(1/60)*5**(8/15)/4 - 2**(1/60)*5**(1/30)*I*sqrt(sqrt(5)/8 + 5/8)),\n",
       " log(-2**(1/60)*5**(1/30)/4 + 2**(1/60)*5**(8/15)/4 + 2**(1/60)*5**(1/30)*I*sqrt(sqrt(5)/8 + 5/8)),\n",
       " log(2**(1/60)*5**(1/30)/4 + 2**(1/60)*5**(8/15)/4 - 2**(1/60)*5**(1/30)*I*sqrt(5/8 - sqrt(5)/8)),\n",
       " log(2**(1/60)*5**(1/30)/4 + 2**(1/60)*5**(8/15)/4 + 2**(1/60)*5**(1/30)*I*sqrt(5/8 - sqrt(5)/8)),\n",
       " log(-2**(1/60)*5**(8/15)/4 - 2**(1/60)*5**(1/30)/4 - 2**(1/60)*5**(1/30)*I*sqrt(5/8 - sqrt(5)/8)),\n",
       " log(-2**(1/60)*5**(8/15)/4 - 2**(1/60)*5**(1/30)/4 + 2**(1/60)*5**(1/30)*I*sqrt(5/8 - sqrt(5)/8)),\n",
       " log(-2**(1/60)*5**(8/15)/4 + 2**(1/60)*5**(1/30)/4 - 2**(1/60)*5**(1/30)*I*sqrt(sqrt(5)/8 + 5/8)),\n",
       " log(-2**(1/60)*5**(8/15)/4 + 2**(1/60)*5**(1/30)/4 + 2**(1/60)*5**(1/30)*I*sqrt(sqrt(5)/8 + 5/8)),\n",
       " log(-2**(1/60)*5**(1/30)/8 + 2**(1/60)*5**(8/15)/8 + 2**(1/60)*sqrt(3)*5**(1/30)*sqrt(sqrt(5)/8 + 5/8)/2 - 2**(1/60)*sqrt(3)*5**(8/15)*I/8 + 2**(1/60)*sqrt(3)*5**(1/30)*I/8 + 2**(1/60)*5**(1/30)*I*sqrt(sqrt(5)/8 + 5/8)/2),\n",
       " log(-2**(1/60)*5**(1/30)/8 + 2**(1/60)*5**(8/15)/8 + 2**(1/60)*sqrt(3)*5**(1/30)*sqrt(sqrt(5)/8 + 5/8)/2 - 2**(1/60)*5**(1/30)*I*sqrt(sqrt(5)/8 + 5/8)/2 - 2**(1/60)*sqrt(3)*5**(1/30)*I/8 + 2**(1/60)*sqrt(3)*5**(8/15)*I/8),\n",
       " log(2**(1/60)*5**(1/30)/8 + 2**(1/60)*5**(8/15)/8 + 2**(1/60)*sqrt(3)*5**(1/30)*sqrt(5/8 - sqrt(5)/8)/2 - 2**(1/60)*sqrt(3)*5**(8/15)*I/8 - 2**(1/60)*sqrt(3)*5**(1/30)*I/8 + 2**(1/60)*5**(1/30)*I*sqrt(5/8 - sqrt(5)/8)/2),\n",
       " log(2**(1/60)*5**(1/30)/8 + 2**(1/60)*5**(8/15)/8 + 2**(1/60)*sqrt(3)*5**(1/30)*sqrt(5/8 - sqrt(5)/8)/2 - 2**(1/60)*5**(1/30)*I*sqrt(5/8 - sqrt(5)/8)/2 + 2**(1/60)*sqrt(3)*5**(1/30)*I/8 + 2**(1/60)*sqrt(3)*5**(8/15)*I/8),\n",
       " log(-2**(1/60)*5**(8/15)/8 - 2**(1/60)*5**(1/30)/8 + 2**(1/60)*sqrt(3)*5**(1/30)*sqrt(5/8 - sqrt(5)/8)/2 + 2**(1/60)*sqrt(3)*5**(1/30)*I/8 + 2**(1/60)*5**(1/30)*I*sqrt(5/8 - sqrt(5)/8)/2 + 2**(1/60)*sqrt(3)*5**(8/15)*I/8),\n",
       " log(-2**(1/60)*5**(8/15)/8 - 2**(1/60)*5**(1/30)/8 + 2**(1/60)*sqrt(3)*5**(1/30)*sqrt(5/8 - sqrt(5)/8)/2 - 2**(1/60)*sqrt(3)*5**(8/15)*I/8 - 2**(1/60)*5**(1/30)*I*sqrt(5/8 - sqrt(5)/8)/2 - 2**(1/60)*sqrt(3)*5**(1/30)*I/8),\n",
       " log(-2**(1/60)*5**(8/15)/8 + 2**(1/60)*5**(1/30)/8 + 2**(1/60)*sqrt(3)*5**(1/30)*sqrt(sqrt(5)/8 + 5/8)/2 - 2**(1/60)*sqrt(3)*5**(1/30)*I/8 + 2**(1/60)*5**(1/30)*I*sqrt(sqrt(5)/8 + 5/8)/2 + 2**(1/60)*sqrt(3)*5**(8/15)*I/8),\n",
       " log(-2**(1/60)*5**(8/15)/8 + 2**(1/60)*5**(1/30)/8 + 2**(1/60)*sqrt(3)*5**(1/30)*sqrt(sqrt(5)/8 + 5/8)/2 - 2**(1/60)*sqrt(3)*5**(8/15)*I/8 - 2**(1/60)*5**(1/30)*I*sqrt(sqrt(5)/8 + 5/8)/2 + 2**(1/60)*sqrt(3)*5**(1/30)*I/8),\n",
       " log(-2**(1/60)*sqrt(3)*5**(1/30)/8 + 2**(1/60)*5**(1/30)*sqrt(sqrt(5)/8 + 5/8)/2 + 2**(1/60)*sqrt(3)*5**(8/15)/8 - 2**(1/60)*5**(8/15)*I/8 + 2**(1/60)*5**(1/30)*I/8 + 2**(1/60)*sqrt(3)*5**(1/30)*I*sqrt(sqrt(5)/8 + 5/8)/2),\n",
       " log(-2**(1/60)*sqrt(3)*5**(1/30)/8 + 2**(1/60)*5**(1/30)*sqrt(sqrt(5)/8 + 5/8)/2 + 2**(1/60)*sqrt(3)*5**(8/15)/8 - 2**(1/60)*sqrt(3)*5**(1/30)*I*sqrt(sqrt(5)/8 + 5/8)/2 - 2**(1/60)*5**(1/30)*I/8 + 2**(1/60)*5**(8/15)*I/8),\n",
       " log(2**(1/60)*sqrt(3)*5**(1/30)/8 + 2**(1/60)*5**(1/30)*sqrt(5/8 - sqrt(5)/8)/2 + 2**(1/60)*sqrt(3)*5**(8/15)/8 - 2**(1/60)*5**(8/15)*I/8 - 2**(1/60)*5**(1/30)*I/8 + 2**(1/60)*sqrt(3)*5**(1/30)*I*sqrt(5/8 - sqrt(5)/8)/2),\n",
       " log(2**(1/60)*sqrt(3)*5**(1/30)/8 + 2**(1/60)*5**(1/30)*sqrt(5/8 - sqrt(5)/8)/2 + 2**(1/60)*sqrt(3)*5**(8/15)/8 - 2**(1/60)*sqrt(3)*5**(1/30)*I*sqrt(5/8 - sqrt(5)/8)/2 + 2**(1/60)*5**(1/30)*I/8 + 2**(1/60)*5**(8/15)*I/8),\n",
       " log(-2**(1/60)*sqrt(3)*5**(8/15)/8 - 2**(1/60)*sqrt(3)*5**(1/30)/8 + 2**(1/60)*5**(1/30)*sqrt(5/8 - sqrt(5)/8)/2 + 2**(1/60)*5**(1/30)*I/8 + 2**(1/60)*5**(8/15)*I/8 + 2**(1/60)*sqrt(3)*5**(1/30)*I*sqrt(5/8 - sqrt(5)/8)/2),\n",
       " log(-2**(1/60)*sqrt(3)*5**(8/15)/8 - 2**(1/60)*sqrt(3)*5**(1/30)/8 + 2**(1/60)*5**(1/30)*sqrt(5/8 - sqrt(5)/8)/2 - 2**(1/60)*sqrt(3)*5**(1/30)*I*sqrt(5/8 - sqrt(5)/8)/2 - 2**(1/60)*5**(8/15)*I/8 - 2**(1/60)*5**(1/30)*I/8),\n",
       " log(-2**(1/60)*sqrt(3)*5**(8/15)/8 + 2**(1/60)*sqrt(3)*5**(1/30)/8 + 2**(1/60)*5**(1/30)*sqrt(sqrt(5)/8 + 5/8)/2 - 2**(1/60)*5**(1/30)*I/8 + 2**(1/60)*5**(8/15)*I/8 + 2**(1/60)*sqrt(3)*5**(1/30)*I*sqrt(sqrt(5)/8 + 5/8)/2),\n",
       " log(-2**(1/60)*sqrt(3)*5**(8/15)/8 + 2**(1/60)*sqrt(3)*5**(1/30)/8 + 2**(1/60)*5**(1/30)*sqrt(sqrt(5)/8 + 5/8)/2 - 2**(1/60)*sqrt(3)*5**(1/30)*I*sqrt(sqrt(5)/8 + 5/8)/2 - 2**(1/60)*5**(8/15)*I/8 + 2**(1/60)*5**(1/30)*I/8),\n",
       " log(-2**(1/60)*sqrt(3)*5**(8/15)/8 - 2**(1/60)*5**(1/30)*sqrt(5/8 - sqrt(5)/8)/2 - 2**(1/60)*sqrt(3)*5**(1/30)/8 - 2**(1/60)*5**(8/15)*I/8 - 2**(1/60)*5**(1/30)*I/8 + 2**(1/60)*sqrt(3)*5**(1/30)*I*sqrt(5/8 - sqrt(5)/8)/2),\n",
       " log(-2**(1/60)*sqrt(3)*5**(8/15)/8 - 2**(1/60)*5**(1/30)*sqrt(5/8 - sqrt(5)/8)/2 - 2**(1/60)*sqrt(3)*5**(1/30)/8 - 2**(1/60)*sqrt(3)*5**(1/30)*I*sqrt(5/8 - sqrt(5)/8)/2 + 2**(1/60)*5**(1/30)*I/8 + 2**(1/60)*5**(8/15)*I/8),\n",
       " log(-2**(1/60)*sqrt(3)*5**(8/15)/8 - 2**(1/60)*5**(1/30)*sqrt(sqrt(5)/8 + 5/8)/2 + 2**(1/60)*sqrt(3)*5**(1/30)/8 - 2**(1/60)*5**(8/15)*I/8 + 2**(1/60)*5**(1/30)*I/8 + 2**(1/60)*sqrt(3)*5**(1/30)*I*sqrt(sqrt(5)/8 + 5/8)/2),\n",
       " log(-2**(1/60)*sqrt(3)*5**(8/15)/8 - 2**(1/60)*5**(1/30)*sqrt(sqrt(5)/8 + 5/8)/2 + 2**(1/60)*sqrt(3)*5**(1/30)/8 - 2**(1/60)*sqrt(3)*5**(1/30)*I*sqrt(sqrt(5)/8 + 5/8)/2 - 2**(1/60)*5**(1/30)*I/8 + 2**(1/60)*5**(8/15)*I/8),\n",
       " log(-2**(1/60)*5**(1/30)*sqrt(5/8 - sqrt(5)/8)/2 + 2**(1/60)*sqrt(3)*5**(1/30)/8 + 2**(1/60)*sqrt(3)*5**(8/15)/8 + 2**(1/60)*5**(1/30)*I/8 + 2**(1/60)*5**(8/15)*I/8 + 2**(1/60)*sqrt(3)*5**(1/30)*I*sqrt(5/8 - sqrt(5)/8)/2),\n",
       " log(-2**(1/60)*5**(1/30)*sqrt(5/8 - sqrt(5)/8)/2 + 2**(1/60)*sqrt(3)*5**(1/30)/8 + 2**(1/60)*sqrt(3)*5**(8/15)/8 - 2**(1/60)*sqrt(3)*5**(1/30)*I*sqrt(5/8 - sqrt(5)/8)/2 - 2**(1/60)*5**(8/15)*I/8 - 2**(1/60)*5**(1/30)*I/8),\n",
       " log(-2**(1/60)*5**(1/30)*sqrt(sqrt(5)/8 + 5/8)/2 - 2**(1/60)*sqrt(3)*5**(1/30)/8 + 2**(1/60)*sqrt(3)*5**(8/15)/8 - 2**(1/60)*5**(1/30)*I/8 + 2**(1/60)*5**(8/15)*I/8 + 2**(1/60)*sqrt(3)*5**(1/30)*I*sqrt(sqrt(5)/8 + 5/8)/2),\n",
       " log(-2**(1/60)*5**(1/30)*sqrt(sqrt(5)/8 + 5/8)/2 - 2**(1/60)*sqrt(3)*5**(1/30)/8 + 2**(1/60)*sqrt(3)*5**(8/15)/8 - 2**(1/60)*sqrt(3)*5**(1/30)*I*sqrt(sqrt(5)/8 + 5/8)/2 - 2**(1/60)*5**(8/15)*I/8 + 2**(1/60)*5**(1/30)*I/8),\n",
       " log(-2**(1/60)*sqrt(3)*5**(1/30)*sqrt(5/8 - sqrt(5)/8)/2 + 2**(1/60)*5**(1/30)/8 + 2**(1/60)*5**(8/15)/8 + 2**(1/60)*sqrt(3)*5**(1/30)*I/8 + 2**(1/60)*5**(1/30)*I*sqrt(5/8 - sqrt(5)/8)/2 + 2**(1/60)*sqrt(3)*5**(8/15)*I/8),\n",
       " log(-2**(1/60)*sqrt(3)*5**(1/30)*sqrt(5/8 - sqrt(5)/8)/2 + 2**(1/60)*5**(1/30)/8 + 2**(1/60)*5**(8/15)/8 - 2**(1/60)*sqrt(3)*5**(8/15)*I/8 - 2**(1/60)*5**(1/30)*I*sqrt(5/8 - sqrt(5)/8)/2 - 2**(1/60)*sqrt(3)*5**(1/30)*I/8),\n",
       " log(-2**(1/60)*sqrt(3)*5**(1/30)*sqrt(5/8 - sqrt(5)/8)/2 - 2**(1/60)*5**(8/15)/8 - 2**(1/60)*5**(1/30)/8 - 2**(1/60)*sqrt(3)*5**(8/15)*I/8 - 2**(1/60)*sqrt(3)*5**(1/30)*I/8 + 2**(1/60)*5**(1/30)*I*sqrt(5/8 - sqrt(5)/8)/2),\n",
       " log(-2**(1/60)*sqrt(3)*5**(1/30)*sqrt(5/8 - sqrt(5)/8)/2 - 2**(1/60)*5**(8/15)/8 - 2**(1/60)*5**(1/30)/8 - 2**(1/60)*5**(1/30)*I*sqrt(5/8 - sqrt(5)/8)/2 + 2**(1/60)*sqrt(3)*5**(1/30)*I/8 + 2**(1/60)*sqrt(3)*5**(8/15)*I/8),\n",
       " log(-2**(1/60)*sqrt(3)*5**(1/30)*sqrt(sqrt(5)/8 + 5/8)/2 - 2**(1/60)*5**(1/30)/8 + 2**(1/60)*5**(8/15)/8 - 2**(1/60)*sqrt(3)*5**(1/30)*I/8 + 2**(1/60)*5**(1/30)*I*sqrt(sqrt(5)/8 + 5/8)/2 + 2**(1/60)*sqrt(3)*5**(8/15)*I/8),\n",
       " log(-2**(1/60)*sqrt(3)*5**(1/30)*sqrt(sqrt(5)/8 + 5/8)/2 - 2**(1/60)*5**(1/30)/8 + 2**(1/60)*5**(8/15)/8 - 2**(1/60)*sqrt(3)*5**(8/15)*I/8 - 2**(1/60)*5**(1/30)*I*sqrt(sqrt(5)/8 + 5/8)/2 + 2**(1/60)*sqrt(3)*5**(1/30)*I/8),\n",
       " log(-2**(1/60)*sqrt(3)*5**(1/30)*sqrt(sqrt(5)/8 + 5/8)/2 - 2**(1/60)*5**(8/15)/8 + 2**(1/60)*5**(1/30)/8 - 2**(1/60)*sqrt(3)*5**(8/15)*I/8 + 2**(1/60)*sqrt(3)*5**(1/30)*I/8 + 2**(1/60)*5**(1/30)*I*sqrt(sqrt(5)/8 + 5/8)/2),\n",
       " log(-2**(1/60)*sqrt(3)*5**(1/30)*sqrt(sqrt(5)/8 + 5/8)/2 - 2**(1/60)*5**(8/15)/8 + 2**(1/60)*5**(1/30)/8 - 2**(1/60)*5**(1/30)*I*sqrt(sqrt(5)/8 + 5/8)/2 - 2**(1/60)*sqrt(3)*5**(1/30)*I/8 + 2**(1/60)*sqrt(3)*5**(8/15)*I/8)]"
      ]
     },
     "execution_count": 103,
     "metadata": {},
     "output_type": "execute_result"
    }
   ],
   "source": [
    "solve(pe.subs({b : 500, t : 60}), k)"
   ]
  },
  {
   "cell_type": "markdown",
   "metadata": {},
   "source": [
    "We chose the only real valued solution here, since complex solutions are not applicable in concrete populations."
   ]
  },
  {
   "cell_type": "code",
   "execution_count": 104,
   "metadata": {},
   "outputs": [
    {
     "data": {
      "text/latex": [
       "$\\displaystyle b{\\left(t \\right)} = 10 e^{k t}$"
      ],
      "text/plain": [
       "Eq(b(t), 10*exp(k*t))"
      ]
     },
     "execution_count": 104,
     "metadata": {},
     "output_type": "execute_result"
    }
   ],
   "source": [
    "kvalue = np.log(2**(1/60)*5**(1/30))\n",
    "pe_actual = pe.subs({k : kvalue})\n",
    "pe_actual"
   ]
  },
  {
   "cell_type": "markdown",
   "metadata": {},
   "source": [
    "Now, putting b as 1000000 and solving for t may not be something the computer can solve quickly. Hence, we shall solve for\n",
    "<br>\n",
    "$b(t) = 10e^x$\n",
    "<br>\n",
    "where $x = 0.0652003834238025t$\n",
    "<br>\n",
    "The simplest way to achieve this is to solve for t with k = 1. This will not be the actual t value, but rather, will be what x was supposed to be... It may be a little confusing, but it is the simplest way to get the result practically."
   ]
  },
  {
   "cell_type": "code",
   "execution_count": 107,
   "metadata": {},
   "outputs": [
    {
     "data": {
      "text/latex": [
       "$\\displaystyle b{\\left(t \\right)} = 10 e^{t}$"
      ],
      "text/plain": [
       "Eq(b(t), 10*exp(t))"
      ]
     },
     "execution_count": 107,
     "metadata": {},
     "output_type": "execute_result"
    }
   ],
   "source": [
    "kvalue = 1\n",
    "pe_modified = pe.subs({k : kvalue})\n",
    "pe_modified"
   ]
  },
  {
   "cell_type": "markdown",
   "metadata": {},
   "source": [
    "Substituting b = 1000000, we solve for t in the modified equation..."
   ]
  },
  {
   "cell_type": "code",
   "execution_count": 112,
   "metadata": {},
   "outputs": [
    {
     "data": {
      "text/plain": [
       "[log(100000)]"
      ]
     },
     "execution_count": 112,
     "metadata": {},
     "output_type": "execute_result"
    }
   ],
   "source": [
    "solve(pe_modified.subs({b : 1000000}), t)"
   ]
  },
  {
   "cell_type": "markdown",
   "metadata": {},
   "source": [
    "In this modified equation, we know that t is actually x, where $x = 0.0652003834238025t$. Hence, we have that\n",
    "<br>\n",
    "$log(1000000) = 0.0652003834238025t$\n",
    "<br>\n",
    "Hence, the actual value of t is $t = \\frac{log(1000000)}{0.0652003834238025}$"
   ]
  },
  {
   "cell_type": "code",
   "execution_count": 114,
   "metadata": {},
   "outputs": [
    {
     "data": {
      "text/plain": [
       "211.8930876244002"
      ]
     },
     "execution_count": 114,
     "metadata": {},
     "output_type": "execute_result"
    }
   ],
   "source": [
    "np.log(1000000) / 0.0652003834238025"
   ]
  },
  {
   "cell_type": "markdown",
   "metadata": {},
   "source": [
    "In hours..."
   ]
  },
  {
   "cell_type": "code",
   "execution_count": 115,
   "metadata": {},
   "outputs": [
    {
     "data": {
      "text/plain": [
       "3.53155146040667"
      ]
     },
     "execution_count": 115,
     "metadata": {},
     "output_type": "execute_result"
    }
   ],
   "source": [
    "211.8930876244002 / 60"
   ]
  },
  {
   "cell_type": "markdown",
   "metadata": {},
   "source": [
    "After around 212 minutes, or around 3.6 hours, there will be more than 500 bacteria."
   ]
  }
 ],
 "metadata": {
  "kernelspec": {
   "display_name": "Python 3",
   "language": "python",
   "name": "python3"
  },
  "language_info": {
   "codemirror_mode": {
    "name": "ipython",
    "version": 3
   },
   "file_extension": ".py",
   "mimetype": "text/x-python",
   "name": "python",
   "nbconvert_exporter": "python",
   "pygments_lexer": "ipython3",
   "version": "3.8.5"
  }
 },
 "nbformat": 4,
 "nbformat_minor": 4
}
