{
 "cells": [
  {
   "cell_type": "markdown",
   "metadata": {},
   "source": [
    "# Linear equation solving"
   ]
  },
  {
   "cell_type": "markdown",
   "metadata": {},
   "source": [
    "## Matrix method"
   ]
  },
  {
   "cell_type": "markdown",
   "metadata": {},
   "source": [
    "Consider the system of equations $a_1x - b_1y + c_1z = d_1$, $a_2x + b_2y - b_3z = d_2$ and $a_3x + b_3y + c_3z = d_3$\n",
    "<br>"
   ]
  },
  {
   "cell_type": "markdown",
   "metadata": {},
   "source": [
    "$A = $ Coefficient matrix $ = \n",
    "\\begin{pmatrix}\n",
    "a_1&b_1&c_1\\\\\n",
    "a_2&b_2&c_2\\\\\n",
    "a_3&b_3&c_3\\\\\n",
    "\\end{pmatrix}\n",
    "$\n",
    "<br>\n",
    "$B = $ Constant matrix $ = \n",
    "\\begin{pmatrix}\n",
    "d_1\\\\\n",
    "d_2\\\\\n",
    "d_3\\\\\n",
    "\\end{pmatrix}\n",
    "$\n",
    "<br>\n",
    "$X = $ Variable matrix $ = \n",
    "\\begin{pmatrix}\n",
    "x\\\\\n",
    "y\\\\\n",
    "z\\\\\n",
    "\\end{pmatrix}\n",
    "$"
   ]
  },
  {
   "cell_type": "markdown",
   "metadata": {},
   "source": [
    "We have $AX=B$, which means $X = A^1B$. Note that $X[0] = x, X[1] = y, X[2] = z$\n",
    "<br>\n",
    "Hence, we need to find the inverse of A, and perform matrix multiplication between it and B."
   ]
  },
  {
   "cell_type": "code",
   "execution_count": 77,
   "metadata": {},
   "outputs": [],
   "source": [
    "import numpy as np"
   ]
  },
  {
   "cell_type": "markdown",
   "metadata": {},
   "source": [
    "Solve the system of equations $2x - 3y + 5z = 11$, $5x + 2y - 7z = -12$ and $-4x + 3y + z = 5$"
   ]
  },
  {
   "cell_type": "code",
   "execution_count": 78,
   "metadata": {},
   "outputs": [
    {
     "name": "stdout",
     "output_type": "stream",
     "text": [
      "x = [[1.]], y = [[2.]], z = [[3.]]\n"
     ]
    }
   ],
   "source": [
    "# Defining the coefficent matrix\n",
    "A = np.matrix([[2, -3, 5], [5, 2, -7], [-4, 3, 1]])\n",
    "B = np.matrix([[11], [-12], [5]])\n",
    "# Find the inverse of A\n",
    "A_inverse = np.linalg.inv(A)\n",
    "# Applying the formula\n",
    "X = np.dot(A_inverse, B)\n",
    "print(\"x = {0}, y = {1}, z = {2}\".format(X[0][0], X[1][0], X[2][0]))"
   ]
  },
  {
   "cell_type": "markdown",
   "metadata": {},
   "source": [
    "## Direct method (using inbuilt function)"
   ]
  },
  {
   "cell_type": "code",
   "execution_count": 79,
   "metadata": {},
   "outputs": [],
   "source": [
    "import numpy as np"
   ]
  },
  {
   "cell_type": "markdown",
   "metadata": {},
   "source": [
    "Solve the system of equations $2x - 3y + 5z = 11$, $5x + 2y - 7z = -12$ and $-4x + 3y + z = 5$"
   ]
  },
  {
   "cell_type": "code",
   "execution_count": 80,
   "metadata": {},
   "outputs": [
    {
     "name": "stdout",
     "output_type": "stream",
     "text": [
      "x = [[1.]], y = [[2.]], z = [[3.]]\n"
     ]
    }
   ],
   "source": [
    "# Defining the coefficent matrix\n",
    "A = np.matrix([[2, -3, 5], [5, 2, -7], [-4, 3, 1]])\n",
    "B = np.matrix([[11], [-12], [5]])\n",
    "# Applying the function\n",
    "X = np.linalg.solve(A, B)\n",
    "print(\"x = {0}, y = {1}, z = {2}\".format(X[0][0], X[1][0], X[2][0]))"
   ]
  },
  {
   "cell_type": "markdown",
   "metadata": {},
   "source": [
    "Note that A is a 3 x 3 matrix, while B and X are 3 x 1 matrices i.e. 3 rows, 1 column"
   ]
  },
  {
   "cell_type": "markdown",
   "metadata": {},
   "source": [
    "# Quadratic equations"
   ]
  },
  {
   "cell_type": "markdown",
   "metadata": {},
   "source": [
    "Let general quadratic equation be $ax^2 + bx + c = 0$\n",
    "<br>\n",
    "Let the roots of the above equation be\n",
    "<br>\n",
    "$x_1 = \\frac{-b + \\sqrt{b^2 - 4ac}}{2a}$\n",
    "<br>\n",
    "$x_2 = \\frac{-b - \\sqrt{b^2 - 4ac}}{2a}$\n",
    "<br>\n",
    "Comparing the general equation to $2x^2 + 4x + 7 = 0$, we have\n",
    "<br>\n",
    "$a = 2, b = 4, c = 7$\n",
    "<br>\n",
    "To solve the equation, we store the values of $a, b$ and $c$\n",
    "<br>\n",
    "Then we substitute these values in the determinants, i.e. the values within the square root of $x_1$ and $x_2$, i.e.\n",
    "<br>\n",
    "$b^2 - 4ac$\n",
    "<br>\n",
    "If determinant is positive, then proceed to  find $x_1$ and $x_2$\n",
    "<br>\n",
    "If determinant is negative, then find $\\frac{-b}{2a}$ separately as r, and write the roots as complex numbers $r + di$ and $r - di$, where d is the determinant and i is $\\sqrt-1$"
   ]
  },
  {
   "cell_type": "code",
   "execution_count": 83,
   "metadata": {},
   "outputs": [],
   "source": [
    "import math\n",
    "def roots(a, b, c):\n",
    "    a = float(a)\n",
    "    b = float(b)\n",
    "    c = float(c)\n",
    "    d = float(b*b - 4*a*c)\n",
    "    if d < 0:\n",
    "        print(\"Root 1: {0} + {1}i\".format(-b/2*a, math.sqrt(-d)/2*a))\n",
    "        print(\"Root 2: {0} - {1}i\".format(-b/2*a, math.sqrt(-d)/2*a))\n",
    "    else:\n",
    "        print(\"Root 1: {0}\".format((-b + math.sqrt(d))/2*a))\n",
    "        print(\"Root 2: {0}\".format((-b - math.sqrt(d))/2*a))"
   ]
  },
  {
   "cell_type": "code",
   "execution_count": 84,
   "metadata": {},
   "outputs": [
    {
     "name": "stdout",
     "output_type": "stream",
     "text": [
      "Enter coefficient of x^2: 2\n",
      "Enter coefficient of x: 3\n",
      "Enter constant: 4\n",
      "Root 1: -3.0 + 4.795831523312719i\n",
      "Root 2: -3.0 - 4.795831523312719i\n"
     ]
    }
   ],
   "source": [
    "a = float(input(\"Enter coefficient of x^2: \"))\n",
    "b = float(input(\"Enter coefficient of x: \"))\n",
    "c = float(input(\"Enter constant: \"))\n",
    "roots(a, b, c)"
   ]
  },
  {
   "cell_type": "markdown",
   "metadata": {},
   "source": [
    "# Solving differential equations"
   ]
  },
  {
   "cell_type": "markdown",
   "metadata": {},
   "source": [
    "## $\\frac{dy}{dx} = 5$"
   ]
  },
  {
   "cell_type": "code",
   "execution_count": 85,
   "metadata": {},
   "outputs": [
    {
     "name": "stdout",
     "output_type": "stream",
     "text": [
      "The solution of the given differential equation is\n"
     ]
    },
    {
     "data": {
      "image/png": "[encoded data removed]",
      "text/latex": [
       "$\\displaystyle y{\\left(x \\right)} = C_{1} + 5 x$"
      ],
      "text/plain": [
       "y(x) = C₁ + 5⋅x"
      ]
     },
     "execution_count": 85,
     "metadata": {},
     "output_type": "execute_result"
    }
   ],
   "source": [
    "from sympy import *\n",
    "from sympy.interactive import printing\n",
    "\n",
    "# Defining the independent variable\n",
    "x = Symbol(\"x\") # declare some variables for the use of mathematical expression \n",
    "# Defining the dependent variable\n",
    "y = Function(\"y\")(x)  # declaring y as a function of x\n",
    "# Assigning differential equation\n",
    "# The differential equation format is Eq(LHS, RHS)\n",
    "A = Eq(y.diff(x), 5)\n",
    "# To solve the given ODE\n",
    "# Syntax: dsolve(equation, function)\n",
    "solution = dsolve(A, y)\n",
    "\n",
    "printing.init_printing(use_latex = True)\n",
    "print(\"The solution of the given differential equation is\")\n",
    "solution"
   ]
  },
  {
   "cell_type": "markdown",
   "metadata": {},
   "source": [
    "## Particular solution of $6y + \\frac{d^2y}{dx^2} + 5\\frac{dy}{dx} = 0$"
   ]
  },
  {
   "cell_type": "code",
   "execution_count": 86,
   "metadata": {},
   "outputs": [
    {
     "name": "stdout",
     "output_type": "stream",
     "text": [
      "C1 = [10*exp(-10)]\n"
     ]
    },
    {
     "data": {
      "image/png": "[encoded data removed]",
      "text/latex": [
       "$\\displaystyle f{\\left(x \\right)} = \\frac{10 e^{5 x}}{e^{10}}$"
      ],
      "text/plain": [
       "           -10  5⋅x\n",
       "f(x) = 10⋅ℯ   ⋅ℯ   "
      ]
     },
     "execution_count": 86,
     "metadata": {},
     "output_type": "execute_result"
    }
   ],
   "source": [
    "printing.init_printing(use_latex = True)\n",
    "x = Symbol(\"x\") \n",
    "f = Function(\"f\")(x)\n",
    "C1 = Symbol(\"C1\")\n",
    "D = Eq(f.diff(x) - 5*f, 0)\n",
    "\n",
    "general_solution = dsolve(D, f)\n",
    "\n",
    "after_substituting = general_solution.subs({x:2, f:10})\n",
    "C1_value = solve(after_substituting)\n",
    "print(\"C1 =\", C1_value)\n",
    "\n",
    "particular_solution = general_solution.subs(C1, 10*exp(-10))\n",
    "particular_solution"
   ]
  },
  {
   "cell_type": "markdown",
   "metadata": {},
   "source": [
    "## Finding the numerical solution of an ODE"
   ]
  },
  {
   "cell_type": "code",
   "execution_count": 87,
   "metadata": {},
   "outputs": [],
   "source": [
    "from numpy import*\n",
    "from matplotlib.pyplot import *\n",
    "from scipy.integrate import odeint"
   ]
  },
  {
   "cell_type": "markdown",
   "metadata": {},
   "source": [
    "### Solve $\\frac{dy}{dt} = t; y(0) = 0.5$"
   ]
  },
  {
   "cell_type": "code",
   "execution_count": 88,
   "metadata": {},
   "outputs": [
    {
     "data": {
      "image/png": "[encoded data removed]",
      "text/plain": [
       "<Figure size 432x288 with 1 Axes>"
      ]
     },
     "metadata": {
      "needs_background": "light"
     },
     "output_type": "display_data"
    }
   ],
   "source": [
    "# Function that returns dy/dt\n",
    "def dy_dt(y, t):\n",
    "    return t\n",
    "\n",
    "# The initial condition\n",
    "y0 = 0.5\n",
    "\n",
    "# Time points\n",
    "t = linspace(0, 30)\n",
    "\n",
    "# Solve ODE\n",
    "y = odeint(dy_dt, y0, t)\n",
    "\n",
    "# Plot result\n",
    "plot(t, y)\n",
    "show()"
   ]
  },
  {
   "cell_type": "markdown",
   "metadata": {},
   "source": [
    "### Solve $y' = -ky; y(0) = 5; k = \\{0.1, 0.2, 0.5\\}$"
   ]
  },
  {
   "cell_type": "markdown",
   "metadata": {},
   "source": [
    "#### METHOD 1"
   ]
  },
  {
   "cell_type": "code",
   "execution_count": 89,
   "metadata": {},
   "outputs": [
    {
     "data": {
      "image/png": "[encoded data removed]",
      "text/plain": [
       "<Figure size 432x288 with 1 Axes>"
      ]
     },
     "metadata": {
      "needs_background": "light"
     },
     "output_type": "display_data"
    }
   ],
   "source": [
    "# Function that returns dy/dt\n",
    "def dy_dx_1(y, x):\n",
    "    return  -0.1*y\n",
    "def dy_dx_2(y, x):\n",
    "    return  -0.2*y\n",
    "def dy_dx_3(y, x):\n",
    "    return  -0.5*y\n",
    "\n",
    "# The initial condition\n",
    "y0 = 5\n",
    "\n",
    "# Time points\n",
    "x = linspace(0, 30)\n",
    "\n",
    "# Solve ODE for different k values\n",
    "y1 = odeint(dy_dx_1, y0, x)\n",
    "y2 = odeint(dy_dx_2, y0, x)\n",
    "y3 = odeint(dy_dx_3, y0, x)\n",
    "\n",
    "# Plot result\n",
    "plot(x, y1, '--', color = \"green\")\n",
    "plot(x, y2, '.', color = \"red\")\n",
    "plot(x, y3, ':', color = \"blue\")\n",
    "title(\"Noice\")\n",
    "xlabel(\"x\")\n",
    "ylabel(\"y\")\n",
    "legend([\"k = 0.1\", \"k = 0.2\", \"k = 0.5\"])\n",
    "show()"
   ]
  },
  {
   "cell_type": "markdown",
   "metadata": {},
   "source": [
    "#### METHOD 2"
   ]
  },
  {
   "cell_type": "code",
   "execution_count": 90,
   "metadata": {},
   "outputs": [
    {
     "data": {
      "image/png": "[encoded data removed]",
      "text/plain": [
       "<Figure size 432x288 with 1 Axes>"
      ]
     },
     "metadata": {
      "needs_background": "light"
     },
     "output_type": "display_data"
    }
   ],
   "source": [
    "# Function that returns dy/dt\n",
    "def dy_dx_1(y, x):\n",
    "    return  -k*y\n",
    "\n",
    "# The initial condition\n",
    "y0 = 5\n",
    "\n",
    "# Time points\n",
    "x = linspace(0, 30)\n",
    "\n",
    "# Solve ODE for different k values\n",
    "k = 0.1\n",
    "y1 = odeint(dy_dx_1, y0, x)\n",
    "k = 0.2\n",
    "y2 = odeint(dy_dx_2, y0, x)\n",
    "k = 0.3\n",
    "y3 = odeint(dy_dx_3, y0, x)\n",
    "\n",
    "# Plot result\n",
    "plot(x, y1, '--', color = \"green\")\n",
    "plot(x, y2, '.', color = \"red\")\n",
    "plot(x, y3, ':', color = \"blue\")\n",
    "title(\"Noice\")\n",
    "xlabel(\"x\")\n",
    "ylabel(\"y\")\n",
    "legend([\"k = 0.1\", \"k = 0.2\", \"k = 0.5\"])\n",
    "show()"
   ]
  },
  {
   "cell_type": "markdown",
   "metadata": {},
   "source": [
    "# Growth model"
   ]
  },
  {
   "cell_type": "markdown",
   "metadata": {},
   "source": [
    "To describe systems that exhibit growth in the growth rate itself, we use the equation\n",
    "<br><br>\n",
    "$\\frac{dp}{dt} = kp(t)$\n",
    "<br><br>\n",
    "where k > 0."
   ]
  },
  {
   "cell_type": "markdown",
   "metadata": {},
   "source": [
    "## Problem"
   ]
  },
  {
   "cell_type": "markdown",
   "metadata": {},
   "source": [
    "The processing speed of computers is increasing at a rate proportional to the current processing speed of computers. If the processing speed was initially 850 Mb/s and was 4000 after two years, what will be the processing speed after five years? Plot the graph."
   ]
  },
  {
   "cell_type": "code",
   "execution_count": 91,
   "metadata": {},
   "outputs": [],
   "source": [
    "from sympy import Symbol, Function, Eq, dsolve, solve, init_printing\n",
    "import matplotlib.pyplot as plt\n",
    "import numpy as np"
   ]
  },
  {
   "cell_type": "code",
   "execution_count": 92,
   "metadata": {},
   "outputs": [],
   "source": [
    "init_printing(use_unicode = True)\n",
    "t = Symbol('t') # Time\n",
    "k = Symbol('k') # Proportional constant\n",
    "p = Function('p')(t) # Processing speed of computers after time t\n",
    "C1 = Symbol('C1') # Eventually arising integration constant"
   ]
  },
  {
   "cell_type": "code",
   "execution_count": 93,
   "metadata": {},
   "outputs": [
    {
     "data": {
      "image/png": "[encoded data removed]",
      "text/latex": [
       "$\\displaystyle \\frac{d}{d t} p{\\left(t \\right)} = k p{\\left(t \\right)}$"
      ],
      "text/plain": [
       "d                \n",
       "──(p(t)) = k⋅p(t)\n",
       "dt               "
      ]
     },
     "execution_count": 93,
     "metadata": {},
     "output_type": "execute_result"
    }
   ],
   "source": [
    "differentialEquation = Eq(p.diff(t), k * p)\n",
    "differentialEquation"
   ]
  },
  {
   "cell_type": "code",
   "execution_count": 94,
   "metadata": {},
   "outputs": [
    {
     "data": {
      "image/png": "[encoded data removed]",
      "text/latex": [
       "$\\displaystyle p{\\left(t \\right)} = C_{1} e^{k t}$"
      ],
      "text/plain": [
       "           k⋅t\n",
       "p(t) = C₁⋅ℯ   "
      ]
     },
     "execution_count": 94,
     "metadata": {},
     "output_type": "execute_result"
    }
   ],
   "source": [
    "generalEquation = dsolve(differentialEquation)\n",
    "generalEquation"
   ]
  },
  {
   "cell_type": "code",
   "execution_count": 95,
   "metadata": {},
   "outputs": [
    {
     "data": {
      "image/png": "[encoded data removed]",
      "text/latex": [
       "$\\displaystyle \\left[ 850\\right]$"
      ],
      "text/plain": [
       "[850]"
      ]
     },
     "execution_count": 95,
     "metadata": {},
     "output_type": "execute_result"
    }
   ],
   "source": [
    "initialEquation = generalEquation.subs({t : 0, p : 850})\n",
    "constantValue = solve(initialEquation, C1)\n",
    "constantValue"
   ]
  },
  {
   "cell_type": "code",
   "execution_count": 96,
   "metadata": {},
   "outputs": [
    {
     "data": {
      "image/png": "[encoded data removed]",
      "text/latex": [
       "$\\displaystyle 4000 = 850 e^{2 k}$"
      ],
      "text/plain": [
       "            2⋅k\n",
       "4000 = 850⋅ℯ   "
      ]
     },
     "execution_count": 96,
     "metadata": {},
     "output_type": "execute_result"
    }
   ],
   "source": [
    "twoYearsLaterEquation = generalEquation.subs({t : 2, p : 4000, C1 : 850})\n",
    "twoYearsLaterEquation"
   ]
  },
  {
   "cell_type": "code",
   "execution_count": 97,
   "metadata": {},
   "outputs": [
    {
     "data": {
      "image/png": "[encoded data removed]",
      "text/latex": [
       "$\\displaystyle \\left[ \\log{\\left(\\frac{4 \\sqrt{85}}{17} \\right)} + i \\pi, \\  \\log{\\left(\\frac{4 \\sqrt{85}}{17} \\right)}\\right]$"
      ],
      "text/plain": [
       "⎡   ⎛4⋅√85⎞           ⎛4⋅√85⎞⎤\n",
       "⎢log⎜─────⎟ + ⅈ⋅π, log⎜─────⎟⎥\n",
       "⎣   ⎝  17 ⎠           ⎝  17 ⎠⎦"
      ]
     },
     "execution_count": 97,
     "metadata": {},
     "output_type": "execute_result"
    }
   ],
   "source": [
    "proportionalConstant = solve(twoYearsLaterEquation, k)\n",
    "proportionalConstant"
   ]
  },
  {
   "cell_type": "code",
   "execution_count": 98,
   "metadata": {},
   "outputs": [
    {
     "data": {
      "image/png": "[encoded data removed]",
      "text/latex": [
       "$\\displaystyle p{\\left(t \\right)} = 850 e^{0.774406645308833 t}$"
      ],
      "text/plain": [
       "            0.774406645308833⋅t\n",
       "p(t) = 850⋅ℯ                   "
      ]
     },
     "execution_count": 98,
     "metadata": {},
     "output_type": "execute_result"
    }
   ],
   "source": [
    "particularSolution = generalEquation.subs({k : np.log(4 * np.sqrt(85) / 17), C1 : 850})\n",
    "particularSolution"
   ]
  },
  {
   "cell_type": "code",
   "execution_count": 99,
   "metadata": {},
   "outputs": [
    {
     "data": {
      "image/png": "[encoded data removed]",
      "text/latex": [
       "$\\displaystyle p{\\left(5 \\right)} = 40833.9685305706$"
      ],
      "text/plain": [
       "p(5) = 40833.9685305706"
      ]
     },
     "execution_count": 99,
     "metadata": {},
     "output_type": "execute_result"
    }
   ],
   "source": [
    "particularSolution.subs({t : 5})"
   ]
  },
  {
   "cell_type": "markdown",
   "metadata": {},
   "source": [
    "Hence, value after 5 years the processing speed of computers is expected to be around 40834 Mpbs."
   ]
  },
  {
   "cell_type": "code",
   "execution_count": 100,
   "metadata": {},
   "outputs": [
    {
     "data": {
      "image/png": "[encoded data removed]",
      "text/plain": [
       "<Figure size 432x288 with 1 Axes>"
      ]
     },
     "metadata": {
      "needs_background": "light"
     },
     "output_type": "display_data"
    }
   ],
   "source": [
    "t = np.linspace(0, 10, 1000)\n",
    "p = 850 * np.e**(0.774406645308833 * t)\n",
    "plt.plot(t, p)\n",
    "plt.title(\"Growth graph for computer's speed D:\")\n",
    "plt.xlabel(\"Time\")\n",
    "plt.ylabel(\"Processing speed\")\n",
    "None"
   ]
  },
  {
   "cell_type": "markdown",
   "metadata": {},
   "source": [
    "# Decay model"
   ]
  },
  {
   "cell_type": "markdown",
   "metadata": {},
   "source": [
    "To describe systems that exhibit decay in the rate of decay itself, we use the equation\n",
    "<br><br>\n",
    "$\\frac{dp}{dt} = -kp(t)$\n",
    "<br><br>\n",
    "where k > 0. This is almost the same as  growth model, except that the proportional constant is always negative. p(t) is the function of a quantity defined on time. This is th quantity that decays over time."
   ]
  },
  {
   "cell_type": "markdown",
   "metadata": {},
   "source": [
    "## Problem 1"
   ]
  },
  {
   "cell_type": "markdown",
   "metadata": {},
   "source": [
    "Price of a computer over time:\n",
    "<br>\n",
    "The value of a computer is decreasing at a rate proportional to the value of the computer at that particular time. If the computer was initially worth 850 and was priced 306 after two years, what will be the computer's cost after five years? Plot the graph."
   ]
  },
  {
   "cell_type": "code",
   "execution_count": 101,
   "metadata": {},
   "outputs": [],
   "source": [
    "from sympy import Symbol, Function, Eq, dsolve, solve, init_printing\n",
    "import matplotlib.pyplot as plt\n",
    "import numpy as np"
   ]
  },
  {
   "cell_type": "code",
   "execution_count": 102,
   "metadata": {},
   "outputs": [],
   "source": [
    "init_printing(use_unicode = True)\n",
    "t = Symbol('t') # Time\n",
    "k = Symbol('k') # Proportional constant\n",
    "p = Function('p')(t) # Monetary value of the computer after time t\n",
    "C1 = Symbol('C1') # Eventually arising integration constant"
   ]
  },
  {
   "cell_type": "code",
   "execution_count": 103,
   "metadata": {},
   "outputs": [
    {
     "data": {
      "image/png": "[encoded data removed]",
      "text/latex": [
       "$\\displaystyle \\frac{d}{d t} p{\\left(t \\right)} = - k p{\\left(t \\right)}$"
      ],
      "text/plain": [
       "d                 \n",
       "──(p(t)) = -k⋅p(t)\n",
       "dt                "
      ]
     },
     "execution_count": 103,
     "metadata": {},
     "output_type": "execute_result"
    }
   ],
   "source": [
    "differentialEquation = Eq(p.diff(t), -k * p)\n",
    "differentialEquation"
   ]
  },
  {
   "cell_type": "code",
   "execution_count": 104,
   "metadata": {},
   "outputs": [
    {
     "data": {
      "image/png": "[encoded data removed]",
      "text/latex": [
       "$\\displaystyle p{\\left(t \\right)} = C_{1} e^{- k t}$"
      ],
      "text/plain": [
       "           -k⋅t\n",
       "p(t) = C₁⋅ℯ    "
      ]
     },
     "execution_count": 104,
     "metadata": {},
     "output_type": "execute_result"
    }
   ],
   "source": [
    "generalEquation = dsolve(differentialEquation)\n",
    "generalEquation"
   ]
  },
  {
   "cell_type": "code",
   "execution_count": 105,
   "metadata": {},
   "outputs": [
    {
     "data": {
      "image/png": "[encoded data removed]",
      "text/latex": [
       "$\\displaystyle \\left[ 850\\right]$"
      ],
      "text/plain": [
       "[850]"
      ]
     },
     "execution_count": 105,
     "metadata": {},
     "output_type": "execute_result"
    }
   ],
   "source": [
    "initialEquation = generalEquation.subs({t : 0, p : 850})\n",
    "constantValue = solve(initialEquation, C1)\n",
    "constantValue"
   ]
  },
  {
   "cell_type": "code",
   "execution_count": 106,
   "metadata": {},
   "outputs": [
    {
     "data": {
      "image/png": "[encoded data removed]",
      "text/latex": [
       "$\\displaystyle 306 = 850 e^{- 2 k}$"
      ],
      "text/plain": [
       "           -2⋅k\n",
       "306 = 850⋅ℯ    "
      ]
     },
     "execution_count": 106,
     "metadata": {},
     "output_type": "execute_result"
    }
   ],
   "source": [
    "twoYearsLaterEquation = generalEquation.subs({t : 2, p : 306, C1 : 850})\n",
    "twoYearsLaterEquation"
   ]
  },
  {
   "cell_type": "code",
   "execution_count": 107,
   "metadata": {},
   "outputs": [
    {
     "data": {
      "image/png": "[encoded data removed]",
      "text/latex": [
       "$\\displaystyle \\left[ \\log{\\left(\\frac{5}{3} \\right)} + i \\pi, \\  \\log{\\left(\\frac{5}{3} \\right)}\\right]$"
      ],
      "text/plain": [
       "[log(5/3) + ⅈ⋅π, log(5/3)]"
      ]
     },
     "execution_count": 107,
     "metadata": {},
     "output_type": "execute_result"
    }
   ],
   "source": [
    "proportionalConstant = solve(twoYearsLaterEquation, k)\n",
    "proportionalConstant"
   ]
  },
  {
   "cell_type": "code",
   "execution_count": 108,
   "metadata": {},
   "outputs": [
    {
     "data": {
      "image/png": "[encoded data removed]",
      "text/latex": [
       "$\\displaystyle p{\\left(t \\right)} = 850 e^{- 0.510825623765991 t}$"
      ],
      "text/plain": [
       "            -0.510825623765991⋅t\n",
       "p(t) = 850⋅ℯ                    "
      ]
     },
     "execution_count": 108,
     "metadata": {},
     "output_type": "execute_result"
    }
   ],
   "source": [
    "particularSolution = generalEquation.subs({k : np.log(5 / 3), C1 : 850})\n",
    "particularSolution"
   ]
  },
  {
   "cell_type": "code",
   "execution_count": 109,
   "metadata": {},
   "outputs": [
    {
     "data": {
      "image/png": "[encoded data removed]",
      "text/latex": [
       "$\\displaystyle p{\\left(5 \\right)} = 66.096$"
      ],
      "text/plain": [
       "p(5) = 66.096"
      ]
     },
     "execution_count": 109,
     "metadata": {},
     "output_type": "execute_result"
    }
   ],
   "source": [
    "particularSolution.subs({t : 5})"
   ]
  },
  {
   "cell_type": "markdown",
   "metadata": {},
   "source": [
    "Hence, value after 5 years will be 66.096, given function of decay."
   ]
  },
  {
   "cell_type": "code",
   "execution_count": 110,
   "metadata": {},
   "outputs": [
    {
     "data": {
      "image/png": "[encoded data removed]",
      "text/plain": [
       "<Figure size 432x288 with 1 Axes>"
      ]
     },
     "metadata": {
      "needs_background": "light"
     },
     "output_type": "display_data"
    }
   ],
   "source": [
    "t = np.linspace(0, 10, 1000)\n",
    "p = 850 * np.e**(-0.510825623765991 * t)\n",
    "plt.plot(t, p)\n",
    "plt.title(\"Decay graph for my computer's price D:\")\n",
    "plt.xlabel(\"Time\")\n",
    "plt.ylabel(\"Price\")\n",
    "None"
   ]
  },
  {
   "cell_type": "markdown",
   "metadata": {},
   "source": [
    "## Newton's law of cooling"
   ]
  },
  {
   "cell_type": "markdown",
   "metadata": {},
   "source": [
    "Newton's law of cooling states that the rate of heat loss of a body is directly proportional to the difference in the temperature in the body and its surroundings. The equation is given by\n",
    "<br><br>\n",
    "$\\frac{dT}{dt} = -k(T - T_i)$\n",
    "<br><br>\n",
    "where $T$ is the temperature of the body, $T_i$ is the temperature of the surroundings, and t is the time that has elapsed since the start of the measurement."
   ]
  },
  {
   "cell_type": "markdown",
   "metadata": {},
   "source": [
    "## Temperature of an awfully hot coffee pot over time"
   ]
  },
  {
   "cell_type": "markdown",
   "metadata": {},
   "source": [
    "A pot of coffee was initially at 90°C. After being kept in a room of temperature 21°C, it cooled down to 80°C after five minutes. When will the pot reach a temperature of 50°C?"
   ]
  },
  {
   "cell_type": "code",
   "execution_count": 111,
   "metadata": {},
   "outputs": [],
   "source": [
    "from sympy import Symbol, Function, Eq, dsolve, solve, init_printing\n",
    "import matplotlib.pyplot as plt\n",
    "import numpy as np"
   ]
  },
  {
   "cell_type": "code",
   "execution_count": 112,
   "metadata": {},
   "outputs": [],
   "source": [
    "init_printing(use_unicode = True)\n",
    "t = Symbol('t') # Time\n",
    "k = Symbol('k') # Proportional constant\n",
    "T = Function('T')(t) # Pot's temperature after time t\n",
    "Ti = 21 # Initial temperature\n",
    "C1 = Symbol('C1') # Eventually arising integration constant"
   ]
  },
  {
   "cell_type": "code",
   "execution_count": 113,
   "metadata": {},
   "outputs": [
    {
     "data": {
      "image/png": "[encoded data removed]",
      "text/latex": [
       "$\\displaystyle \\frac{d}{d t} T{\\left(t \\right)} = - k \\left(T{\\left(t \\right)} - 21\\right)$"
      ],
      "text/plain": [
       "d                        \n",
       "──(T(t)) = -k⋅(T(t) - 21)\n",
       "dt                       "
      ]
     },
     "execution_count": 113,
     "metadata": {},
     "output_type": "execute_result"
    }
   ],
   "source": [
    "differentialEquation = Eq(T.diff(t), -k * (T - Ti))\n",
    "differentialEquation"
   ]
  },
  {
   "cell_type": "code",
   "execution_count": 114,
   "metadata": {},
   "outputs": [
    {
     "data": {
      "image/png": "[encoded data removed]",
      "text/latex": [
       "$\\displaystyle T{\\left(t \\right)} = C_{1} e^{- k t} + 21$"
      ],
      "text/plain": [
       "           -k⋅t     \n",
       "T(t) = C₁⋅ℯ     + 21"
      ]
     },
     "execution_count": 114,
     "metadata": {},
     "output_type": "execute_result"
    }
   ],
   "source": [
    "generalEquation = dsolve(differentialEquation)\n",
    "generalEquation"
   ]
  },
  {
   "cell_type": "code",
   "execution_count": 115,
   "metadata": {},
   "outputs": [
    {
     "data": {
      "image/png": "[encoded data removed]",
      "text/latex": [
       "$\\displaystyle \\left[ 69\\right]$"
      ],
      "text/plain": [
       "[69]"
      ]
     },
     "execution_count": 115,
     "metadata": {},
     "output_type": "execute_result"
    }
   ],
   "source": [
    "initialEquation = generalEquation.subs({t : 0, T : 90})\n",
    "constantValue = solve(initialEquation, C1)\n",
    "constantValue"
   ]
  },
  {
   "cell_type": "code",
   "execution_count": 116,
   "metadata": {},
   "outputs": [
    {
     "data": {
      "image/png": "[encoded data removed]",
      "text/latex": [
       "$\\displaystyle 80 = 21 + 69 e^{- 5 k}$"
      ],
      "text/plain": [
       "              -5⋅k\n",
       "80 = 21 + 69⋅ℯ    "
      ]
     },
     "execution_count": 116,
     "metadata": {},
     "output_type": "execute_result"
    }
   ],
   "source": [
    "fiveMinutesLaterEquation = generalEquation.subs({t : 5, T : 80, C1 : 69})\n",
    "fiveMinutesLaterEquation"
   ]
  },
  {
   "cell_type": "code",
   "execution_count": 117,
   "metadata": {},
   "outputs": [
    {
     "data": {
      "image/png": "[encoded data removed]",
      "text/latex": [
       "$\\displaystyle \\left[ \\log{\\left(\\frac{59^{\\frac{4}{5}} \\sqrt[5]{69}}{59} \\right)} - \\frac{4 i \\pi}{5}, \\  \\log{\\left(\\frac{59^{\\frac{4}{5}} \\sqrt[5]{69}}{59} \\right)} - \\frac{2 i \\pi}{5}, \\  \\log{\\left(\\frac{59^{\\frac{4}{5}} \\sqrt[5]{69}}{59} \\right)} + \\frac{2 i \\pi}{5}, \\  \\log{\\left(\\frac{59^{\\frac{4}{5}} \\sqrt[5]{69}}{59} \\right)} + \\frac{4 i \\pi}{5}, \\  \\log{\\left(\\frac{59^{\\frac{4}{5}} \\sqrt[5]{69}}{59} \\right)}\\right]$"
      ],
      "text/plain": [
       "⎡   ⎛  4/5 5 ____⎞             ⎛  4/5 5 ____⎞             ⎛  4/5 5 ____⎞      \n",
       "⎢   ⎜59   ⋅╲╱ 69 ⎟   4⋅ⅈ⋅π     ⎜59   ⋅╲╱ 69 ⎟   2⋅ⅈ⋅π     ⎜59   ⋅╲╱ 69 ⎟   2⋅ⅈ\n",
       "⎢log⎜────────────⎟ - ─────, log⎜────────────⎟ - ─────, log⎜────────────⎟ + ───\n",
       "⎣   ⎝     59     ⎠     5       ⎝     59     ⎠     5       ⎝     59     ⎠     5\n",
       "\n",
       "       ⎛  4/5 5 ____⎞             ⎛  4/5 5 ____⎞⎤\n",
       "⋅π     ⎜59   ⋅╲╱ 69 ⎟   4⋅ⅈ⋅π     ⎜59   ⋅╲╱ 69 ⎟⎥\n",
       "──, log⎜────────────⎟ + ─────, log⎜────────────⎟⎥\n",
       "       ⎝     59     ⎠     5       ⎝     59     ⎠⎦"
      ]
     },
     "execution_count": 117,
     "metadata": {},
     "output_type": "execute_result"
    }
   ],
   "source": [
    "proportionalConstant = solve(fiveMinutesLaterEquation, k)\n",
    "proportionalConstant"
   ]
  },
  {
   "cell_type": "code",
   "execution_count": 118,
   "metadata": {},
   "outputs": [
    {
     "data": {
      "image/png": "[encoded data removed]",
      "text/latex": [
       "$\\displaystyle T{\\left(t \\right)} = 21 + 69 e^{- 0.0313138121383082 t}$"
      ],
      "text/plain": [
       "                -0.0313138121383082⋅t\n",
       "T(t) = 21 + 69⋅ℯ                     "
      ]
     },
     "execution_count": 118,
     "metadata": {},
     "output_type": "execute_result"
    }
   ],
   "source": [
    "particularSolution = generalEquation.subs({k : np.log(59**(4/5) * (69)**(1/5) / 59), C1 : 69})\n",
    "particularSolution"
   ]
  },
  {
   "cell_type": "code",
   "execution_count": 119,
   "metadata": {},
   "outputs": [
    {
     "data": {
      "image/png": "[encoded data removed]",
      "text/latex": [
       "$\\displaystyle 50 = 21 + 69 e^{- 0.0313138121383082 t}$"
      ],
      "text/plain": [
       "              -0.0313138121383082⋅t\n",
       "50 = 21 + 69⋅ℯ                     "
      ]
     },
     "execution_count": 119,
     "metadata": {},
     "output_type": "execute_result"
    }
   ],
   "source": [
    "finalEquation = particularSolution.subs({T : 50}) \n",
    "finalEquation"
   ]
  },
  {
   "cell_type": "code",
   "execution_count": 120,
   "metadata": {},
   "outputs": [
    {
     "data": {
      "image/png": "[encoded data removed]",
      "text/latex": [
       "$\\displaystyle \\left[ -0.866810674610784\\right]$"
      ],
      "text/plain": [
       "[-0.866810674610784]"
      ]
     },
     "execution_count": 120,
     "metadata": {},
     "output_type": "execute_result"
    }
   ],
   "source": [
    "x = Symbol(\"x\")\n",
    "# Let x = −0.0313138121383082 * t\n",
    "proxyEquation = Eq(50, 21 + 69 * np.e**x)\n",
    "solve(proxyEquation, x)"
   ]
  },
  {
   "cell_type": "code",
   "execution_count": 121,
   "metadata": {},
   "outputs": [
    {
     "data": {
      "image/png": "[encoded data removed]",
      "text/latex": [
       "$\\displaystyle 27.681416455531412$"
      ],
      "text/plain": [
       "27.681416455531412"
      ]
     },
     "execution_count": 121,
     "metadata": {},
     "output_type": "execute_result"
    }
   ],
   "source": [
    "# Hence, x = −0.0313138121383082 * t = −0.866810674610784\n",
    "# Hence, t = −0.866810674610784 / −0.0313138121383082\n",
    "-0.866810674610784 / -0.0313138121383082"
   ]
  },
  {
   "cell_type": "markdown",
   "metadata": {},
   "source": [
    "Hence, the pot will reach 50°C after around 27.68 minutes.\n",
    "<br>\n",
    "(The proxy equation is used because the computer was taking too long to solve the original equation for t, due to the constant coefficient)"
   ]
  },
  {
   "cell_type": "code",
   "execution_count": 122,
   "metadata": {},
   "outputs": [
    {
     "data": {
      "image/png": "[encoded data removed]",
      "text/plain": [
       "<Figure size 432x288 with 1 Axes>"
      ]
     },
     "metadata": {
      "needs_background": "light"
     },
     "output_type": "display_data"
    }
   ],
   "source": [
    "t = np.linspace(0, 10, 1000)\n",
    "T = 21 +  69 * np.e**(-0.0313138121383082 * t)\n",
    "plt.plot(t, T)\n",
    "plt.title(\"Awfully hot coffee pot\")\n",
    "plt.xlabel(\"Time\")\n",
    "plt.ylabel(\"Temperature\")\n",
    "None"
   ]
  },
  {
   "cell_type": "markdown",
   "metadata": {},
   "source": [
    "# Logistical model"
   ]
  },
  {
   "cell_type": "markdown",
   "metadata": {},
   "source": [
    "$\\frac{dP}{dt} = kP\\frac{N - P}{N}$\n",
    "<br><br>\n",
    "N is carrying capacity<br>\n",
    "P is population size<br>\n",
    "k is per capita growth<br><br>\n",
    "Hence, N - P is the number of indivuals that can still be added<br>\n",
    "$\\frac{N - P}{N}$ is the fraction of unused capacity<br>\n",
    "Growth rate declines with reducing capacity"
   ]
  },
  {
   "cell_type": "code",
   "execution_count": 123,
   "metadata": {},
   "outputs": [],
   "source": [
    "from scipy.integrate import odeint\n",
    "import matplotlib.pyplot as plt\n",
    "import numpy as np"
   ]
  },
  {
   "cell_type": "markdown",
   "metadata": {},
   "source": [
    "## Problem 1"
   ]
  },
  {
   "cell_type": "markdown",
   "metadata": {},
   "source": [
    "Researcher stock a tank with 18 yeast units and estimate the carrying capacity to be 700 yeast units. The number of yeast increased by 0.773 times during the first year. Assuming that the yeast population growth satisfies the logistic equation, find population after t years."
   ]
  },
  {
   "cell_type": "code",
   "execution_count": 124,
   "metadata": {},
   "outputs": [
    {
     "data": {
      "image/png": "[encoded data removed]",
      "text/plain": [
       "<Figure size 432x288 with 1 Axes>"
      ]
     },
     "metadata": {
      "needs_background": "light"
     },
     "output_type": "display_data"
    }
   ],
   "source": [
    "def h(P, t):\n",
    "    eq = k * P * (1 - P/10000) # equation for logistic model where we take N = 700 \n",
    "    return eq\n",
    "k = 0.773 # per capita growth rate\n",
    "P0 = 18 # population at time t = 0  (the initial condition)\n",
    "t = np.linspace(0, 20, 20) # time points\n",
    "growth = odeint(h, P0, t) # odeint(DE, Intial Condition, time points)\n",
    "plt.plot(t, growth, marker=\"o\")\n",
    "\n",
    "None"
   ]
  },
  {
   "cell_type": "markdown",
   "metadata": {},
   "source": [
    "## Problem 2"
   ]
  },
  {
   "cell_type": "markdown",
   "metadata": {},
   "source": [
    "Biologists stock 50 bacterias and estimate the carrying capacity to be 1000. Assuming that the growth of bacteria satisfies the logistic equation, find population after t years. For the following growth rates:\n",
    "<br>\n",
    "a) 0.39\n",
    "<br>\n",
    "b) 0.535\n",
    "<br>\n",
    "c) 0.409\n",
    "<br>\n",
    "d) 0.93"
   ]
  },
  {
   "cell_type": "code",
   "execution_count": 125,
   "metadata": {},
   "outputs": [
    {
     "data": {
      "image/png": "[encoded data removed]",
      "text/plain": [
       "<Figure size 432x288 with 1 Axes>"
      ]
     },
     "metadata": {
      "needs_background": "light"
     },
     "output_type": "display_data"
    }
   ],
   "source": [
    "def h(P, t):\n",
    "    eq = k * P * (1 - P/1000) # equation for logistic model where we take N = 700 \n",
    "    return eq\n",
    "\n",
    "k1 = 0.39\n",
    "k2 = 0.535\n",
    "k3 = 0.409\n",
    "k4 = 0.93\n",
    "\n",
    "P0 = 18 # population at time t = 0\n",
    "t = np.linspace(0, 20, 20) # time points\n",
    "\n",
    "k = k1\n",
    "growth1 = odeint(h, P0, t)\n",
    "\n",
    "k = k2\n",
    "growth2 = odeint(h, P0, t)\n",
    "\n",
    "k = k3\n",
    "growth3 = odeint(h, P0, t)\n",
    "\n",
    "plt.plot(t, growth1, color = \"red\")\n",
    "plt.plot(t, growth2, color = \"green\")\n",
    "plt.plot(t, growth3, color = \"blue\")\n",
    "plt.legend([\"k1\", \"k2\", \"k3\"])\n",
    "\n",
    "None"
   ]
  },
  {
   "cell_type": "markdown",
   "metadata": {},
   "source": [
    "# SIR model"
   ]
  },
  {
   "cell_type": "markdown",
   "metadata": {},
   "source": [
    "An SIR model is an epidemiological model that computes the theoretical number of people infected with a contagious illness in a closed population over time.<br><br>\n",
    "The name of this class of models derives from the fact that they involve coupled equations relating the number of<br>\n",
    "1. Susceptible people S(t)<br>\n",
    "2. Infected people I(t)<br>\n",
    "3. Recovered or removed people R(t)<br>"
   ]
  }
 ],
 "metadata": {
  "kernelspec": {
   "display_name": "Python 3",
   "language": "python",
   "name": "python3"
  },
  "language_info": {
   "codemirror_mode": {
    "name": "ipython",
    "version": 3
   },
   "file_extension": ".py",
   "mimetype": "text/x-python",
   "name": "python",
   "nbconvert_exporter": "python",
   "pygments_lexer": "ipython3",
   "version": "3.8.5"
  }
 },
 "nbformat": 4,
 "nbformat_minor": 4
}
