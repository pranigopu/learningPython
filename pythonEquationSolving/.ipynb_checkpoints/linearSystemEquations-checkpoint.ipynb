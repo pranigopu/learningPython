{
 "cells": [
  {
   "cell_type": "markdown",
   "metadata": {},
   "source": [
    "# System of linear equations"
   ]
  },
  {
   "cell_type": "markdown",
   "metadata": {},
   "source": [
    "## Matrix method"
   ]
  },
  {
   "cell_type": "markdown",
   "metadata": {},
   "source": [
    "Consider the system of equations $a_1x - b_1y + c_1z = d_1$, $a_2x + b_2y - b_3z = d_2$ and $a_3x + b_3y + c_3z = d_3$\n",
    "<br>"
   ]
  },
  {
   "cell_type": "markdown",
   "metadata": {},
   "source": [
    "$A = $ Coefficient matrix $ = \n",
    "\\begin{pmatrix}\n",
    "a_1&b_1&c_1\\\\\n",
    "a_2&b_2&c_2\\\\\n",
    "a_3&b_3&c_3\\\\\n",
    "\\end{pmatrix}\n",
    "$\n",
    "<br>\n",
    "$B = $ Constant matrix $ = \n",
    "\\begin{pmatrix}\n",
    "d_1\\\\\n",
    "d_2\\\\\n",
    "d_3\\\\\n",
    "\\end{pmatrix}\n",
    "$\n",
    "<br>\n",
    "$X = $ Variable matrix $ = \n",
    "\\begin{pmatrix}\n",
    "x\\\\\n",
    "y\\\\\n",
    "z\\\\\n",
    "\\end{pmatrix}\n",
    "$"
   ]
  },
  {
   "cell_type": "markdown",
   "metadata": {},
   "source": [
    "We have $AX=B$, which means $X = A^1B$. Note that $X[0] = x, X[1] = y, X[2] = z$\n",
    "<br>\n",
    "Hence, we need to find the inverse of A, and perform matrix multiplication between it and B."
   ]
  },
  {
   "cell_type": "code",
   "execution_count": 1,
   "metadata": {},
   "outputs": [],
   "source": [
    "import numpy as np"
   ]
  },
  {
   "cell_type": "markdown",
   "metadata": {},
   "source": [
    "Solve the system of equations $2x - 3y + 5z = 11$, $5x + 2y - 7z = -12$ and $-4x + 3y + z = 5$"
   ]
  },
  {
   "cell_type": "code",
   "execution_count": 20,
   "metadata": {},
   "outputs": [
    {
     "name": "stdout",
     "output_type": "stream",
     "text": [
      "x = [[1.]], y = [[2.]], z = [[3.]]\n"
     ]
    }
   ],
   "source": [
    "# Defining the coefficent matrix\n",
    "A = np.matrix([[2, -3, 5], [5, 2, -7], [-4, 3, 1]])\n",
    "B = np.matrix([[11], [-12], [5]])\n",
    "# Find the inverse of A\n",
    "A_inverse = np.linalg.inv(A)\n",
    "# Applying the formula\n",
    "X = np.dot(A_inverse, B)\n",
    "print(\"x = {0}, y = {1}, z = {2}\".format(X[0][0], X[1][0], X[2][0]))"
   ]
  },
  {
   "cell_type": "markdown",
   "metadata": {},
   "source": [
    "## Direct method (using inbuilt function)"
   ]
  },
  {
   "cell_type": "code",
   "execution_count": 2,
   "metadata": {},
   "outputs": [],
   "source": [
    "import numpy as np"
   ]
  },
  {
   "cell_type": "markdown",
   "metadata": {},
   "source": [
    "Solve the system of equations $2x - 3y + 5z = 11$, $5x + 2y - 7z = -12$ and $-4x + 3y + z = 5$"
   ]
  },
  {
   "cell_type": "code",
   "execution_count": 3,
   "metadata": {},
   "outputs": [
    {
     "name": "stdout",
     "output_type": "stream",
     "text": [
      "x = [[1.]], y = [[2.]], z = [[3.]]\n"
     ]
    }
   ],
   "source": [
    "# Defining the coefficent matrix\n",
    "A = np.matrix([[2, -3, 5], [5, 2, -7], [-4, 3, 1]])\n",
    "B = np.matrix([[11], [-12], [5]])\n",
    "# Applying the function\n",
    "X = np.linalg.solve(A, B)\n",
    "print(\"x = {0}, y = {1}, z = {2}\".format(X[0][0], X[1][0], X[2][0]))"
   ]
  },
  {
   "cell_type": "markdown",
   "metadata": {},
   "source": [
    "## NOTES"
   ]
  },
  {
   "cell_type": "markdown",
   "metadata": {},
   "source": [
    "Note that A is a 3 x 3 matrix, while B and X are 3 x 1 matrices i.e. 3 rows, 1 column"
   ]
  }
 ],
 "metadata": {
  "kernelspec": {
   "display_name": "Python 3",
   "language": "python",
   "name": "python3"
  },
  "language_info": {
   "codemirror_mode": {
    "name": "ipython",
    "version": 3
   },
   "file_extension": ".py",
   "mimetype": "text/x-python",
   "name": "python",
   "nbconvert_exporter": "python",
   "pygments_lexer": "ipython3",
   "version": "3.8.5"
  }
 },
 "nbformat": 4,
 "nbformat_minor": 4
}
