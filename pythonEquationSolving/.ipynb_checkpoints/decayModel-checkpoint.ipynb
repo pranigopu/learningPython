{
 "cells": [
  {
   "cell_type": "markdown",
   "metadata": {},
   "source": [
    "To describe systems that exhibit decay, we use the equation\n",
    "<br><br>\n",
    "$\\frac{dp}{dt} = -kp(t)$\n",
    "<br><br>\n",
    "where k > 0. This is almost the same as  growth model, except that the proportional constant is always negative. p(t) is the function of a quantity defined on time. This is th quantity that decays over time."
   ]
  },
  {
   "cell_type": "markdown",
   "metadata": {},
   "source": [
    "# Price of a computer over time"
   ]
  },
  {
   "cell_type": "markdown",
   "metadata": {},
   "source": [
    "The value of a computer is decreasing at a rate proportional to the value of the computer at that particular time. If the computer was initially worth 850 and was priced 306 after two years, what will be the computer's cost after five years? Plot the graph."
   ]
  },
  {
   "cell_type": "code",
   "execution_count": 1,
   "metadata": {},
   "outputs": [],
   "source": [
    "from sympy import Symbol, Function, Eq, dsolve, solve, init_printing\n",
    "import matplotlib.pyplot as plt\n",
    "import numpy as np"
   ]
  },
  {
   "cell_type": "code",
   "execution_count": 2,
   "metadata": {},
   "outputs": [],
   "source": [
    "init_printing(use_unicode = True)\n",
    "t = Symbol('t') # Time\n",
    "k = Symbol('k') # Proportional constant\n",
    "p = Function('p')(t) # Monetary value of the computer after time t\n",
    "C1 = Symbol('C1') # Eventually arising integration constant"
   ]
  },
  {
   "cell_type": "code",
   "execution_count": 3,
   "metadata": {},
   "outputs": [
    {
     "data": {
      "image/png": "[encoded data removed]",
      "text/latex": [
       "$\\displaystyle \\frac{d}{d t} p{\\left(t \\right)} = - k p{\\left(t \\right)}$"
      ],
      "text/plain": [
       "d                 \n",
       "──(p(t)) = -k⋅p(t)\n",
       "dt                "
      ]
     },
     "execution_count": 3,
     "metadata": {},
     "output_type": "execute_result"
    }
   ],
   "source": [
    "differentialEquation = Eq(p.diff(t), -k * p)\n",
    "differentialEquation"
   ]
  },
  {
   "cell_type": "code",
   "execution_count": 4,
   "metadata": {},
   "outputs": [
    {
     "data": {
      "image/png": "[encoded data removed]",
      "text/latex": [
       "$\\displaystyle p{\\left(t \\right)} = C_{1} e^{- k t}$"
      ],
      "text/plain": [
       "           -k⋅t\n",
       "p(t) = C₁⋅ℯ    "
      ]
     },
     "execution_count": 4,
     "metadata": {},
     "output_type": "execute_result"
    }
   ],
   "source": [
    "generalEquation = dsolve(differentialEquation)\n",
    "generalEquation"
   ]
  },
  {
   "cell_type": "code",
   "execution_count": 5,
   "metadata": {},
   "outputs": [
    {
     "data": {
      "image/png": "[encoded data removed]",
      "text/latex": [
       "$\\displaystyle \\left[ 850\\right]$"
      ],
      "text/plain": [
       "[850]"
      ]
     },
     "execution_count": 5,
     "metadata": {},
     "output_type": "execute_result"
    }
   ],
   "source": [
    "initialEquation = generalEquation.subs({t : 0, p : 850})\n",
    "constantValue = solve(initialEquation, C1)\n",
    "constantValue"
   ]
  },
  {
   "cell_type": "code",
   "execution_count": 6,
   "metadata": {},
   "outputs": [
    {
     "data": {
      "image/png": "[encoded data removed]",
      "text/latex": [
       "$\\displaystyle 306 = 850 e^{- 2 k}$"
      ],
      "text/plain": [
       "           -2⋅k\n",
       "306 = 850⋅ℯ    "
      ]
     },
     "execution_count": 6,
     "metadata": {},
     "output_type": "execute_result"
    }
   ],
   "source": [
    "twoYearsLaterEquation = generalEquation.subs({t : 2, p : 306, C1 : 850})\n",
    "twoYearsLaterEquation"
   ]
  },
  {
   "cell_type": "code",
   "execution_count": 7,
   "metadata": {},
   "outputs": [
    {
     "data": {
      "image/png": "[encoded data removed]",
      "text/latex": [
       "$\\displaystyle \\left[ \\log{\\left(\\frac{5}{3} \\right)} + i \\pi, \\  \\log{\\left(\\frac{5}{3} \\right)}\\right]$"
      ],
      "text/plain": [
       "[log(5/3) + ⅈ⋅π, log(5/3)]"
      ]
     },
     "execution_count": 7,
     "metadata": {},
     "output_type": "execute_result"
    }
   ],
   "source": [
    "proportionalConstant = solve(twoYearsLaterEquation, k)\n",
    "proportionalConstant"
   ]
  },
  {
   "cell_type": "code",
   "execution_count": 8,
   "metadata": {},
   "outputs": [
    {
     "data": {
      "image/png": "[encoded data removed]",
      "text/latex": [
       "$\\displaystyle p{\\left(t \\right)} = 850 e^{- 0.510825623765991 t}$"
      ],
      "text/plain": [
       "            -0.510825623765991⋅t\n",
       "p(t) = 850⋅ℯ                    "
      ]
     },
     "execution_count": 8,
     "metadata": {},
     "output_type": "execute_result"
    }
   ],
   "source": [
    "particularSolution = generalEquation.subs({k : np.log(5 / 3), C1 : 850})\n",
    "particularSolution"
   ]
  },
  {
   "cell_type": "code",
   "execution_count": 9,
   "metadata": {},
   "outputs": [
    {
     "data": {
      "image/png": "[encoded data removed]",
      "text/latex": [
       "$\\displaystyle p{\\left(5 \\right)} = 66.096$"
      ],
      "text/plain": [
       "p(5) = 66.096"
      ]
     },
     "execution_count": 9,
     "metadata": {},
     "output_type": "execute_result"
    }
   ],
   "source": [
    "particularSolution.subs({t : 5})"
   ]
  },
  {
   "cell_type": "markdown",
   "metadata": {},
   "source": [
    "Hence, value after 5 years will be 66.096, given function of decay."
   ]
  },
  {
   "cell_type": "code",
   "execution_count": 10,
   "metadata": {},
   "outputs": [
    {
     "data": {
      "image/png": "[encoded data removed]",
      "text/plain": [
       "<Figure size 432x288 with 1 Axes>"
      ]
     },
     "metadata": {
      "needs_background": "light"
     },
     "output_type": "display_data"
    }
   ],
   "source": [
    "t = np.linspace(0, 10, 1000)\n",
    "p = 850 * np.e**(-0.510825623765991 * t)\n",
    "plt.plot(t, p)\n",
    "plt.title(\"Decay graph for my computer's price D:\")\n",
    "plt.xlabel(\"Time\")\n",
    "plt.ylabel(\"Price\")\n",
    "None"
   ]
  },
  {
   "cell_type": "markdown",
   "metadata": {},
   "source": [
    "# Newton's law of cooling"
   ]
  },
  {
   "cell_type": "markdown",
   "metadata": {},
   "source": [
    "Newton's law of cooling states that the rate of heat loss of a body is directly proportional to the difference in the temperature in the body and its surroundings. The equation is given by\n",
    "<br><br>\n",
    "$\\frac{dT}{dt} = -k(T - T_i)$\n",
    "<br><br>\n",
    "where $T$ is the temperature of the body, $T_i$ is the temperature of the surroundings, and t is the time that has elapsed since the start of the measurement."
   ]
  },
  {
   "cell_type": "markdown",
   "metadata": {},
   "source": [
    "## Temperature of an awfully hot coffee pot over time"
   ]
  },
  {
   "cell_type": "markdown",
   "metadata": {},
   "source": [
    "A pot of coffee was initially at 90°C. After being kept in a room of temperature 21°C, it cooled down to 80°C after five minutes. When will the pot reach a temperature of 50°C?"
   ]
  },
  {
   "cell_type": "code",
   "execution_count": 11,
   "metadata": {},
   "outputs": [],
   "source": [
    "from sympy import Symbol, Function, Eq, dsolve, solve, init_printing\n",
    "import matplotlib.pyplot as plt\n",
    "import numpy as np"
   ]
  },
  {
   "cell_type": "code",
   "execution_count": 12,
   "metadata": {},
   "outputs": [],
   "source": [
    "init_printing(use_unicode = True)\n",
    "t = Symbol('t') # Time\n",
    "k = Symbol('k') # Proportional constant\n",
    "T = Function('T')(t) # Pot's temperature after time t\n",
    "Ti = 21 # Initial temperature\n",
    "C1 = Symbol('C1') # Eventually arising integration constant"
   ]
  },
  {
   "cell_type": "code",
   "execution_count": 13,
   "metadata": {},
   "outputs": [
    {
     "data": {
      "image/png": "[encoded data removed]",
      "text/latex": [
       "$\\displaystyle \\frac{d}{d t} T{\\left(t \\right)} = - k \\left(T{\\left(t \\right)} - 21\\right)$"
      ],
      "text/plain": [
       "d                        \n",
       "──(T(t)) = -k⋅(T(t) - 21)\n",
       "dt                       "
      ]
     },
     "execution_count": 13,
     "metadata": {},
     "output_type": "execute_result"
    }
   ],
   "source": [
    "differentialEquation = Eq(T.diff(t), -k * (T - Ti))\n",
    "differentialEquation"
   ]
  },
  {
   "cell_type": "code",
   "execution_count": 14,
   "metadata": {},
   "outputs": [
    {
     "data": {
      "image/png": "[encoded data removed]",
      "text/latex": [
       "$\\displaystyle T{\\left(t \\right)} = C_{1} e^{- k t} + 21$"
      ],
      "text/plain": [
       "           -k⋅t     \n",
       "T(t) = C₁⋅ℯ     + 21"
      ]
     },
     "execution_count": 14,
     "metadata": {},
     "output_type": "execute_result"
    }
   ],
   "source": [
    "generalEquation = dsolve(differentialEquation)\n",
    "generalEquation"
   ]
  },
  {
   "cell_type": "code",
   "execution_count": 15,
   "metadata": {},
   "outputs": [
    {
     "data": {
      "image/png": "[encoded data removed]",
      "text/latex": [
       "$\\displaystyle \\left[ 69\\right]$"
      ],
      "text/plain": [
       "[69]"
      ]
     },
     "execution_count": 15,
     "metadata": {},
     "output_type": "execute_result"
    }
   ],
   "source": [
    "initialEquation = generalEquation.subs({t : 0, T : 90})\n",
    "constantValue = solve(initialEquation, C1)\n",
    "constantValue"
   ]
  },
  {
   "cell_type": "code",
   "execution_count": 16,
   "metadata": {},
   "outputs": [
    {
     "data": {
      "image/png": "[encoded data removed]",
      "text/latex": [
       "$\\displaystyle 80 = 21 + 69 e^{- 5 k}$"
      ],
      "text/plain": [
       "              -5⋅k\n",
       "80 = 21 + 69⋅ℯ    "
      ]
     },
     "execution_count": 16,
     "metadata": {},
     "output_type": "execute_result"
    }
   ],
   "source": [
    "fiveMinutesLaterEquation = generalEquation.subs({t : 5, T : 80, C1 : 69})\n",
    "fiveMinutesLaterEquation"
   ]
  },
  {
   "cell_type": "code",
   "execution_count": 17,
   "metadata": {},
   "outputs": [
    {
     "data": {
      "image/png": "[encoded data removed]",
      "text/latex": [
       "$\\displaystyle \\left[ \\log{\\left(\\frac{59^{\\frac{4}{5}} \\sqrt[5]{69}}{59} \\right)} - \\frac{4 i \\pi}{5}, \\  \\log{\\left(\\frac{59^{\\frac{4}{5}} \\sqrt[5]{69}}{59} \\right)} - \\frac{2 i \\pi}{5}, \\  \\log{\\left(\\frac{59^{\\frac{4}{5}} \\sqrt[5]{69}}{59} \\right)} + \\frac{2 i \\pi}{5}, \\  \\log{\\left(\\frac{59^{\\frac{4}{5}} \\sqrt[5]{69}}{59} \\right)} + \\frac{4 i \\pi}{5}, \\  \\log{\\left(\\frac{59^{\\frac{4}{5}} \\sqrt[5]{69}}{59} \\right)}\\right]$"
      ],
      "text/plain": [
       "⎡   ⎛  4/5 5 ____⎞             ⎛  4/5 5 ____⎞             ⎛  4/5 5 ____⎞      \n",
       "⎢   ⎜59   ⋅╲╱ 69 ⎟   4⋅ⅈ⋅π     ⎜59   ⋅╲╱ 69 ⎟   2⋅ⅈ⋅π     ⎜59   ⋅╲╱ 69 ⎟   2⋅ⅈ\n",
       "⎢log⎜────────────⎟ - ─────, log⎜────────────⎟ - ─────, log⎜────────────⎟ + ───\n",
       "⎣   ⎝     59     ⎠     5       ⎝     59     ⎠     5       ⎝     59     ⎠     5\n",
       "\n",
       "       ⎛  4/5 5 ____⎞             ⎛  4/5 5 ____⎞⎤\n",
       "⋅π     ⎜59   ⋅╲╱ 69 ⎟   4⋅ⅈ⋅π     ⎜59   ⋅╲╱ 69 ⎟⎥\n",
       "──, log⎜────────────⎟ + ─────, log⎜────────────⎟⎥\n",
       "       ⎝     59     ⎠     5       ⎝     59     ⎠⎦"
      ]
     },
     "execution_count": 17,
     "metadata": {},
     "output_type": "execute_result"
    }
   ],
   "source": [
    "proportionalConstant = solve(fiveMinutesLaterEquation, k)\n",
    "proportionalConstant"
   ]
  },
  {
   "cell_type": "code",
   "execution_count": 18,
   "metadata": {},
   "outputs": [
    {
     "data": {
      "image/png": "[encoded data removed]",
      "text/latex": [
       "$\\displaystyle T{\\left(t \\right)} = 21 + 69 e^{- 0.0313138121383082 t}$"
      ],
      "text/plain": [
       "                -0.0313138121383082⋅t\n",
       "T(t) = 21 + 69⋅ℯ                     "
      ]
     },
     "execution_count": 18,
     "metadata": {},
     "output_type": "execute_result"
    }
   ],
   "source": [
    "particularSolution = generalEquation.subs({k : np.log(59**(4/5) * (69)**(1/5) / 59), C1 : 69})\n",
    "particularSolution"
   ]
  },
  {
   "cell_type": "code",
   "execution_count": 19,
   "metadata": {},
   "outputs": [
    {
     "data": {
      "image/png": "[encoded data removed]",
      "text/latex": [
       "$\\displaystyle 50 = 21 + 69 e^{- 0.0313138121383082 t}$"
      ],
      "text/plain": [
       "              -0.0313138121383082⋅t\n",
       "50 = 21 + 69⋅ℯ                     "
      ]
     },
     "execution_count": 19,
     "metadata": {},
     "output_type": "execute_result"
    }
   ],
   "source": [
    "finalEquation = particularSolution.subs({T : 50}) \n",
    "finalEquation"
   ]
  },
  {
   "cell_type": "code",
   "execution_count": 20,
   "metadata": {},
   "outputs": [],
   "source": [
    "# timeRequired = solve(finalEquation, t)\n",
    "# The kernel is taking too long to solve this. It's a tough one for it. Leave it alone."
   ]
  },
  {
   "cell_type": "code",
   "execution_count": 21,
   "metadata": {},
   "outputs": [
    {
     "data": {
      "image/png": "[encoded data removed]",
      "text/plain": [
       "<Figure size 432x288 with 1 Axes>"
      ]
     },
     "metadata": {
      "needs_background": "light"
     },
     "output_type": "display_data"
    }
   ],
   "source": [
    "t = np.linspace(0, 10, 1000)\n",
    "T = 21 +  69 * np.e**(-1.30154576351749 * t)\n",
    "plt.plot(t, T)\n",
    "plt.title(\"Awfully hot coffee pot\")\n",
    "plt.xlabel(\"Time\")\n",
    "plt.ylabel(\"Temperature\")\n",
    "None"
   ]
  }
 ],
 "metadata": {
  "kernelspec": {
   "display_name": "Python 3",
   "language": "python",
   "name": "python3"
  },
  "language_info": {
   "codemirror_mode": {
    "name": "ipython",
    "version": 3
   },
   "file_extension": ".py",
   "mimetype": "text/x-python",
   "name": "python",
   "nbconvert_exporter": "python",
   "pygments_lexer": "ipython3",
   "version": "3.8.5"
  }
 },
 "nbformat": 4,
 "nbformat_minor": 4
}
