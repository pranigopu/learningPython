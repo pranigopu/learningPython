{
 "cells": [
  {
   "cell_type": "markdown",
   "metadata": {},
   "source": [
    "# Infix to postfix conversion"
   ]
  },
  {
   "cell_type": "markdown",
   "metadata": {},
   "source": [
    "Postfix expressions are vastly more easy for a computer to evaluate, compared to infix expressions, especially when considering the precedence of operations or brackets. This is because in postfix, a binary operator comes after its two operands, which makes identifying the operands for an operator much easier.\n",
    "<br><br>\n",
    "For example, consider the infix expression $1+2 \\times 3$. Using our knowledge of the precedence of operators, we know that $2$ and $3$ are the operands of $\\times$, but reading the expression left to right, we would have evaluated $1+2$ first, changing the operands of $\\times$ to $3$ and $3$. Consider the postfix expression of the same computation $(1,2,3,\\times,+)$. Here, since we know a binary operator comes after its two operands, we know $1$ is not an operand of $\\times$, but $2$ and $3$ are, while the operands of $+$ are in fact $1$ and the result of $(2,3,\\times)$.\n",
    "<br><br>\n",
    "Hence, to make an expression handler (for infix expressions, since infix is the main method of writing expressions for most humans), we will first make an infix to postfix expression converter..."
   ]
  },
  {
   "cell_type": "code",
   "execution_count": 1,
   "metadata": {},
   "outputs": [],
   "source": [
    "# Returns the precedence of an operator\n",
    "# The higher the precedence, the greater the value\n",
    "# If not an operator, returns 0\n",
    "def precedence(c):\n",
    "    try: return {'^':7, '/':5, '*':3, '+':2, '-':2, ')': 1, '(':0}[c]\n",
    "    except: return -1\n",
    "    \"\"\"\n",
    "    NOTE:\n",
    "    For future purposes, I have chosen to precedence\n",
    "    values such that additive functions have even\n",
    "    precedence, and multiplicative functions have\n",
    "    odd precedence. The parantheses are included simply\n",
    "    to make handling them easier.\n",
    "    \"\"\"\n",
    "#====================================\n",
    "def infixStringToInfixList(e): # e => infix expression string\n",
    "    tmp = ''\n",
    "    pfe = [] # pfe => postfix expression\n",
    "    e = e + '$'\n",
    "    # NOTE: '$' at the end of the expression helps identify end of expression easily.\n",
    "    i = 0\n",
    "    while e[i] != '$':\n",
    "        if e[i].isnumeric():\n",
    "            while e[i].isnumeric():\n",
    "                tmp += e[i]\n",
    "                i += 1\n",
    "            pfe.append(tmp)\n",
    "            tmp = ''\n",
    "            continue\n",
    "        else:\n",
    "            pfe.append(e[i])\n",
    "        i += 1\n",
    "    return pfe\n",
    "#====================================\n",
    "def infixToPostfix(e): # e => infix expression string\n",
    "    pfe = [] # pfe => postfix expression\n",
    "    buffer = ['$']\n",
    "    \"\"\"\n",
    "    NOTE:\n",
    "    '$' at the start of buffer helps safeguard the\n",
    "    buffer from excessive element removal through\n",
    "    the .pop function.\n",
    "    \"\"\"\n",
    "    e = infixStringToInfixList(e)\n",
    "    e.append(')')\n",
    "    \"\"\"\n",
    "    NOTE:\n",
    "    ')' at the end of the expression prompts the code to\n",
    "    append all the trailing operators i.e. the remaining\n",
    "    operators in the buffer to the postfix expression.\n",
    "    \"\"\"\n",
    "    for c in e:\n",
    "        if precedence(c) == -1:\n",
    "            pfe.append(c)\n",
    "        elif c == '(':\n",
    "            buffer.append(c)\n",
    "        else:\n",
    "            j = len(buffer) - 1\n",
    "            while precedence(buffer[j]) >= precedence(c):\n",
    "                pfe.append(buffer.pop())\n",
    "                j -= 1\n",
    "            # Pop from buffer only if buffer is not singleton...\n",
    "            if j > 0 and c == ')': buffer.pop()\n",
    "            else: buffer.append(c)\n",
    "    return pfe"
   ]
  },
  {
   "cell_type": "markdown",
   "metadata": {},
   "source": [
    "Testing the above functions..."
   ]
  },
  {
   "cell_type": "code",
   "execution_count": 2,
   "metadata": {},
   "outputs": [
    {
     "name": "stdout",
     "output_type": "stream",
     "text": [
      "['2', '3', '-', '3', '2', '7', '/', '*', '+']\n",
      "['231', 'a', '4', '+', '/', 'x', 'b', '-', '*', 'y', '*']\n",
      "['23', '3', '^', '4', 'y', '29', 'r', '-', '/', '*', '-']\n"
     ]
    }
   ],
   "source": [
    "print(infixToPostfix(\"2-3+3*2/7\"))\n",
    "print(infixToPostfix(\"231/(a+4)*(x-b)*y\"))\n",
    "print(infixToPostfix(\"23^3-4*y/(29-r)\"))"
   ]
  },
  {
   "cell_type": "markdown",
   "metadata": {},
   "source": [
    "# Postfix numeric expression evaluation"
   ]
  },
  {
   "cell_type": "markdown",
   "metadata": {},
   "source": [
    "Calculator for expressions without variables..."
   ]
  },
  {
   "cell_type": "code",
   "execution_count": 35,
   "metadata": {},
   "outputs": [],
   "source": [
    "def calculate(p, q, operator):\n",
    "    try:\n",
    "        # Operations that work for any numeric inputs\n",
    "        return {'+': p+q,\n",
    "                '-': p-q,\n",
    "                '*': p*q}[operator]\n",
    "    except:\n",
    "        try:\n",
    "            # Operations that may fail for certain numeric inputs\n",
    "            # (Division fails for q = 0)\n",
    "            # (Power fails for p = 0, q = 0)\n",
    "            return {'/': p/q,\n",
    "                    '^': p**q}[operator]\n",
    "        except: return \"NaN\"\n",
    "    \"\"\"\n",
    "    NOTE ON THE ABOVE SEPARATION OF OPERATORS\n",
    "    To create a dictionary relating operators to\n",
    "    the operations, each operation is actually performed.\n",
    "    Hence, suppose you give p = 1, q = 0, and operator as '+',\n",
    "    although addition is not an issue, p/q is also calculated,\n",
    "    which throws an exception due to zero division.\n",
    "    \n",
    "    Alternatively, we could use if-else statements instead.\n",
    "    That way, only the given operator's operation will be\n",
    "    carried out for the given inputs.\n",
    "    \"\"\"\n",
    "def evaluate(e): # e => infix expression string\n",
    "    e = infixToPostfix(e)\n",
    "    buffer = []\n",
    "    for c in e:\n",
    "        if precedence(c) == -1:\n",
    "            buffer.append(c)\n",
    "        else:\n",
    "            # Buffer prematurely empty => means expression was incorrect\n",
    "            if len(buffer) > 1:\n",
    "                q = buffer.pop()\n",
    "                p = buffer.pop()\n",
    "            # If expression was invalid...\n",
    "            else: return \"Invalid expression!\"\n",
    "\n",
    "            # Trying to convert to float\n",
    "            try:\n",
    "                p = float(p)\n",
    "                q = float(q)\n",
    "            # If non-numeric operands found...\n",
    "            except: return \"Non-numeric operands!\"\n",
    "            \n",
    "            # Trying to calculate\n",
    "            x = calculate(p, q, c)\n",
    "            if x != '\"NaN\"': buffer.append(x)\n",
    "            # If operator was invalid...\n",
    "            else: return \"Invalid operator!\"\n",
    "    return buffer[0]"
   ]
  },
  {
   "cell_type": "markdown",
   "metadata": {},
   "source": [
    "Testing the above functions..."
   ]
  },
  {
   "cell_type": "code",
   "execution_count": 36,
   "metadata": {},
   "outputs": [
    {
     "name": "stdout",
     "output_type": "stream",
     "text": [
      "-5.0\n",
      "-3.2\n",
      "3.25\n",
      "Invalid expression!\n",
      "Non-numeric operands!\n"
     ]
    }
   ],
   "source": [
    "print(evaluate('1-2*3'))\n",
    "print(evaluate('(1-2)*3-1/(2+3)'))\n",
    "print(evaluate('2^2-3/4'))\n",
    "print(evaluate('1-2*-3'))\n",
    "print(evaluate('a-2*3'))"
   ]
  },
  {
   "cell_type": "code",
   "execution_count": 38,
   "metadata": {},
   "outputs": [
    {
     "name": "stdout",
     "output_type": "stream",
     "text": [
      "Enter expression: 1-1\n"
     ]
    },
    {
     "data": {
      "text/plain": [
       "0.0"
      ]
     },
     "execution_count": 38,
     "metadata": {},
     "output_type": "execute_result"
    }
   ],
   "source": [
    "expr = input(\"Enter expression: \")\n",
    "evaluate(expr)"
   ]
  },
  {
   "cell_type": "markdown",
   "metadata": {},
   "source": [
    "# Postfix expression evaluation with variables"
   ]
  },
  {
   "cell_type": "markdown",
   "metadata": {},
   "source": [
    "## Additive expansion"
   ]
  },
  {
   "cell_type": "markdown",
   "metadata": {},
   "source": [
    "### Separation & addition of expression lists"
   ]
  },
  {
   "cell_type": "code",
   "execution_count": 12,
   "metadata": {},
   "outputs": [],
   "source": [
    "def separateTerms(e): # e is a list of terms and operators in infix form\n",
    "    separated = []\n",
    "    sign = ''\n",
    "    i = 0\n",
    "    while i < len(e):\n",
    "        # Adding a sign to the current term\n",
    "        e[i] = sign + str(e[i])\n",
    "        tmp = sign = ''\n",
    "        while i < len(e) and e[i] != '+' and e[i] != '-':\n",
    "            tmp += e[i]\n",
    "            i += 1\n",
    "        if len(tmp) > 0: separated.append(tmp)\n",
    "        if i < len(e) and e[i] == '-': sign = '-'\n",
    "        \"\"\"\n",
    "        NOTE:\n",
    "        Even though float(\"+3\") will produce 3.0,\n",
    "        and adding a positive sign to a literal wouldn't\n",
    "        change its meaning, it is better not to\n",
    "        start a term with '+', since it could lead to\n",
    "        messy terms in the following functions, such as '-+a'.\n",
    "        \"\"\"\n",
    "        i += 1\n",
    "    return separated\n",
    "#====================================\n",
    "def addExpressions(u, v): # Both expressions are lists of additive terms\n",
    "    while len(u) > 0:\n",
    "        done = False\n",
    "        for i in range(0, len(v)):\n",
    "            try:\n",
    "                v[i] = str(float(u[0]) + float(v[i]))\n",
    "                done = True\n",
    "                break\n",
    "            except: pass\n",
    "        if not done:\n",
    "            v.append('+')\n",
    "            \"\"\"\n",
    "            NOTE\n",
    "            Adding a '+' before appending the additive term\n",
    "            is important if you want to easily pass the results\n",
    "            of this function back to the 'separateTerms' function\n",
    "            (this is relevant for repeated calculations, as is\n",
    "            required in our additive expansion function).\n",
    "            \"\"\"\n",
    "            v.append(u[0])\n",
    "        del u[0]\n",
    "    return v"
   ]
  },
  {
   "cell_type": "markdown",
   "metadata": {},
   "source": [
    "Testing the above functions..."
   ]
  },
  {
   "cell_type": "code",
   "execution_count": 35,
   "metadata": {},
   "outputs": [
    {
     "name": "stdout",
     "output_type": "stream",
     "text": [
      "\n",
      "EXAMPLE 1\n",
      "u: ['42']\n",
      "v: ['34']\n",
      "Sum: ['76.0']\n",
      "\n",
      "EXAMPLE 2\n",
      "u: ['a']\n",
      "v: ['b']\n",
      "Sum: ['b', '+', 'a']\n",
      "\n",
      "EXAMPLE 3\n",
      "u: ['x', '12', '41', '-r']\n",
      "v: ['a', '-23', 'd']\n",
      "Sum: ['a', '30.0', 'd', '+', 'x', '+', '-r']\n"
     ]
    }
   ],
   "source": [
    "print(\"\\nEXAMPLE 1\")\n",
    "u = separateTerms(['42'])\n",
    "v = separateTerms(['34'])\n",
    "print(\"u:\", u)\n",
    "print(\"v:\", v)\n",
    "print(\"Sum:\", addExpressions(u, v))\n",
    "#------------------------\n",
    "print(\"\\nEXAMPLE 2\")\n",
    "u = separateTerms(['a'])\n",
    "v = separateTerms(['b'])\n",
    "print(\"u:\", u)\n",
    "print(\"v:\", v)\n",
    "print(\"Sum:\", addExpressions(u, v))\n",
    "#------------------------\n",
    "print(\"\\nEXAMPLE 3\")\n",
    "u = separateTerms(['x', '+', '12', '+', '41', '-', 'r'])\n",
    "v = separateTerms(['a', '-', '23', '+', 'd'])\n",
    "print(\"u:\", u)\n",
    "print(\"v:\", v)\n",
    "print(\"Sum:\", addExpressions(u, v))"
   ]
  },
  {
   "cell_type": "markdown",
   "metadata": {},
   "source": [
    "### Performing additive expansion"
   ]
  },
  {
   "cell_type": "code",
   "execution_count": 36,
   "metadata": {},
   "outputs": [],
   "source": [
    "def expandAdditiveExpression(e): # e => infix expression string\n",
    "    e = infixToPostfix(e)\n",
    "    buffer = []\n",
    "    \"\"\"\n",
    "    NOTE:\n",
    "    I will be appending everything to the buffer as a list\n",
    "    to avoid exceptions in code that tries to evaluate an\n",
    "    expression containing literals.\n",
    "    \"\"\"\n",
    "    for c in e:\n",
    "        if precedence(c) == -1:\n",
    "            buffer.append([c])\n",
    "        elif precedence(c) % 2 == 0:\n",
    "            # NOTE: even precedence values are given to additive operators\n",
    "            #------------------------\n",
    "            # If buffer is prematurely empty, then the expression was incorrect\n",
    "            if len(buffer) > 1:\n",
    "                q = buffer.pop()\n",
    "                p = buffer.pop()\n",
    "            # If expression was invalid...\n",
    "            else: return \"Invalid expression!\"\n",
    "            #------------------------\n",
    "            x = 0\n",
    "            # Trying to convert to float\n",
    "            if len(p) == 1:\n",
    "                try:\n",
    "                    m = float(p[0])\n",
    "                    n = float(q[0])\n",
    "                    # Trying to calculate\n",
    "                    x = calculate(m, n, c)\n",
    "\n",
    "                # If non-numeric operands found...\n",
    "                except: x = [p[0], c, q[0]]\n",
    "            else:\n",
    "                m = separateTerms(p)\n",
    "                q.insert(0, c)\n",
    "                n = separateTerms(q)\n",
    "                x = addExpressions(m, n)\n",
    "            buffer.append(x)\n",
    "        else:\n",
    "            return \"I'm too weak, don't kill me, please!\"\n",
    "    return buffer[0]"
   ]
  },
  {
   "cell_type": "code",
   "execution_count": 40,
   "metadata": {},
   "outputs": [
    {
     "name": "stdout",
     "output_type": "stream",
     "text": [
      "['-54.0', '+', 'x', '+', 'b']\n",
      "['35.0', '+', 'a', '+', 'a']\n",
      "['35.0', '+', 'a', '+', 'a']\n",
      "Invalid expression!\n",
      "I'm too weak, don't kill me, please!\n"
     ]
    }
   ],
   "source": [
    "print(expandAdditiveExpression('b-12+x-42'))\n",
    "print(expandAdditiveExpression('2+a-9+a+42'))\n",
    "print(expandAdditiveExpression('(2+a)-9+a+42'))\n",
    "print(expandAdditiveExpression('b--a+2'))\n",
    "print(expandAdditiveExpression('b*12-2'))"
   ]
  },
  {
   "cell_type": "markdown",
   "metadata": {},
   "source": [
    "As long as the infix expression is purely additive ('-' is also considered an additive operation), then the above function will work. Since inputted infix expressions are converted to postfix expressions anyway, brackets don't affect the accuracy."
   ]
  }
 ],
 "metadata": {
  "interpreter": {
   "hash": "aee8b7b246df8f9039afb4144a1f6fd8d2ca17a180786b69acc140d282b71a49"
  },
  "kernelspec": {
   "display_name": "Python 3",
   "language": "python",
   "name": "python3"
  },
  "language_info": {
   "codemirror_mode": {
    "name": "ipython",
    "version": 3
   },
   "file_extension": ".py",
   "mimetype": "text/x-python",
   "name": "python",
   "nbconvert_exporter": "python",
   "pygments_lexer": "ipython3",
   "version": "3.8.5"
  }
 },
 "nbformat": 4,
 "nbformat_minor": 2
}
