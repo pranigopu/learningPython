{
 "cells": [
  {
   "cell_type": "markdown",
   "metadata": {},
   "source": [
    "# Introductory notes"
   ]
  },
  {
   "cell_type": "markdown",
   "metadata": {},
   "source": [
    "## Information resources"
   ]
  },
  {
   "cell_type": "markdown",
   "metadata": {},
   "source": [
    "For official documentation of the IEX Cloud API: https://iexcloud.io/docs/api/. For more information or clarification, refer the following notes in the notes directory (exact file names may differ):\n",
    "1. IEX Cloud notes\n",
    "2. API notes"
   ]
  },
  {
   "cell_type": "markdown",
   "metadata": {},
   "source": [
    "## Environment used"
   ]
  },
  {
   "cell_type": "markdown",
   "metadata": {},
   "source": [
    "IEX Cloud provides all accounts a free, unlimited use sandbox for testing. Hence, we will be using the testing sandbox environment for the purpose of this demo and the project."
   ]
  },
  {
   "cell_type": "markdown",
   "metadata": {},
   "source": [
    "## Required libraries"
   ]
  },
  {
   "cell_type": "code",
   "execution_count": 1,
   "metadata": {},
   "outputs": [],
   "source": [
    "# For array computation...\n",
    "import numpy as np\n",
    "# For data processing, manipulation and analysis...\n",
    "import pandas as pd\n",
    "# For making requests to the server through the HTTP protocol...\n",
    "import requests"
   ]
  },
  {
   "cell_type": "markdown",
   "metadata": {},
   "source": [
    "# API token, API URL and endpoint URL"
   ]
  },
  {
   "cell_type": "markdown",
   "metadata": {},
   "source": [
    "## API Token"
   ]
  },
  {
   "cell_type": "markdown",
   "metadata": {},
   "source": [
    "Note that IEX Cloud provides all users with one free public token and one free secret token for each environment (production and testing sandbox). To get a token from IEX Cloud, you must register an account."
   ]
  },
  {
   "cell_type": "markdown",
   "metadata": {},
   "source": [
    "API tokens can then be accessed from the console page:\n",
    "(https://iexcloud.io/console/)."
   ]
  },
  {
   "cell_type": "markdown",
   "metadata": {},
   "source": [
    "To get to sandbox token, toggle the \"Sandbox View\" option visible in console page."
   ]
  },
  {
   "cell_type": "code",
   "execution_count": 2,
   "metadata": {},
   "outputs": [],
   "source": [
    "myApiToken = \"Tpk_75e5db7f508e48f2b7dff4f435ff8029\"\n",
    "# Public sandbox token used here."
   ]
  },
  {
   "cell_type": "markdown",
   "metadata": {},
   "source": [
    "## API URL"
   ]
  },
  {
   "cell_type": "markdown",
   "metadata": {},
   "source": [
    "The API URL consists of the base URL of the particular environment within the IEC Cloud platform, followed by the API version used. The following breakdown is only for demonstration purposes."
   ]
  },
  {
   "cell_type": "code",
   "execution_count": 3,
   "metadata": {},
   "outputs": [
    {
     "name": "stdout",
     "output_type": "stream",
     "text": [
      "Base URL: https://sandbox.iexapis.com/\n"
     ]
    }
   ],
   "source": [
    "# Base URL for every version of the API (for demonstration purposes).\n",
    "baseUrl = \"https://sandbox.iexapis.com/\"\n",
    "print(\"Base URL:\", baseUrl)"
   ]
  },
  {
   "cell_type": "code",
   "execution_count": 4,
   "metadata": {},
   "outputs": [
    {
     "name": "stdout",
     "output_type": "stream",
     "text": [
      "API URL: https://sandbox.iexapis.com/stable/\n"
     ]
    }
   ],
   "source": [
    "# URL to the specific API version we want.\n",
    "apiUrl = baseUrl + \"stable/\"\n",
    "print(\"API URL:\", apiUrl)\n",
    "# i.e. https://cloud.iexapis.com/stable\n",
    "# This separation was simply done to show the different parts of the URL."
   ]
  },
  {
   "cell_type": "markdown",
   "metadata": {},
   "source": [
    "## Endpoint request URL"
   ]
  },
  {
   "cell_type": "markdown",
   "metadata": {},
   "source": [
    "We call this \"endpoint request\" as we are requesting data from a particular endpoint. This is opposed to batch request, where you may request data from multiple endpoints."
   ]
  },
  {
   "cell_type": "markdown",
   "metadata": {},
   "source": [
    "For the project (and this demo), we need a service that can retrieve the following data:\n",
    "- Market capitalisation of each company\n",
    "- Price of each share"
   ]
  },
  {
   "cell_type": "markdown",
   "metadata": {},
   "source": [
    "In IEX Cloud, one service that provides both data is the service 'quote'. Hence, our endpoint will be a link to this service. We also need to provide our testing sandbox API token for authentication."
   ]
  },
  {
   "cell_type": "code",
   "execution_count": 13,
   "metadata": {},
   "outputs": [
    {
     "name": "stdout",
     "output_type": "stream",
     "text": [
      "URL to be used for API calls: https://sandbox.iexapis.com/stable/stock/AAPL/quote?token=Tpk_75e5db7f508e48f2b7dff4f435ff8029\n"
     ]
    }
   ],
   "source": [
    "# A symbol i.e. reference to particular entreprise's stock.\n",
    "symbol = \"AAPL\" # Refers to data on the company 'Apple'.\n",
    "# Link to data source...\n",
    "dataSourceUrl = apiUrl + \"stock/\"\n",
    "# Reference to data object and link to service...\n",
    "endpointUrl = dataSourceUrl + f\"{symbol}/quote\"\n",
    "# For authentication...\n",
    "endpointRequestUrl = endpointUrl + f\"?token={myApiToken}\"\n",
    "# The full URL to be used...\n",
    "print(\"URL to be used for API calls:\",endpointRequestUrl)"
   ]
  },
  {
   "cell_type": "markdown",
   "metadata": {},
   "source": [
    "**Function to reassign endpoint request URL**"
   ]
  },
  {
   "cell_type": "markdown",
   "metadata": {},
   "source": [
    "However, we would have to reassign the variable 'endpointRequestUrl' with a new string every time we want to change the symbol (i.e. get data for another entreprise's stock). To make this process easier, we will create the following function whose return value will contain the desired string for the given symbol..."
   ]
  },
  {
   "cell_type": "code",
   "execution_count": 14,
   "metadata": {},
   "outputs": [],
   "source": [
    "def getEndpointUrl(s):\n",
    "    return dataSourceUrl + f\"{s}/quote?token={myApiToken}\""
   ]
  },
  {
   "cell_type": "code",
   "execution_count": 15,
   "metadata": {},
   "outputs": [
    {
     "name": "stdout",
     "output_type": "stream",
     "text": [
      "URL to be used for API calls: https://sandbox.iexapis.com/stable/stock/MSFT/quote?token=Tpk_75e5db7f508e48f2b7dff4f435ff8029\n"
     ]
    }
   ],
   "source": [
    "# To test this function...\n",
    "endpointRequestUrl = getEndpointUrl(\"MSFT\")\n",
    "print(\"URL to be used for API calls:\", endpointRequestUrl)"
   ]
  },
  {
   "cell_type": "markdown",
   "metadata": {},
   "source": [
    "# Making API calls through HTTP requests"
   ]
  },
  {
   "cell_type": "markdown",
   "metadata": {},
   "source": [
    "We will be using an object of the 'Response' class from the 'models' module in the 'responses' library to store the responses of your HTTP requests. We will make HTTP requests using the methods available in the 'responses' library."
   ]
  },
  {
   "cell_type": "markdown",
   "metadata": {},
   "source": [
    "## Testing URL validity"
   ]
  },
  {
   "cell_type": "code",
   "execution_count": 118,
   "metadata": {},
   "outputs": [
    {
     "name": "stdout",
     "output_type": "stream",
     "text": [
      "URL used:\n",
      "https://sandbox.iexapis.com/stable/stock/MSFT/quote?token=Tpk_75e5db7f508e48f2b7dff4f435ff8029\n",
      "HTTP response status code: 200\n"
     ]
    }
   ],
   "source": [
    "# Viewing the URL we are using...\n",
    "print(\"URL used:\\n\" + endpointRequestUrl)\n",
    "# Sending API call 'get' as an HTTP request, and storing the response...\n",
    "res = requests.get(endpointRequestUrl)\n",
    "# Checking if the request was valid...\n",
    "print(\"HTTP response status code:\", res.status_code)"
   ]
  },
  {
   "cell_type": "markdown",
   "metadata": {},
   "source": [
    "Hence, our URL is valid. If error persists after corrections, try restarting the kernel and re-executing the codes."
   ]
  },
  {
   "cell_type": "markdown",
   "metadata": {},
   "source": [
    "## Inspecting the response object"
   ]
  },
  {
   "cell_type": "code",
   "execution_count": 100,
   "metadata": {},
   "outputs": [
    {
     "name": "stdout",
     "output_type": "stream",
     "text": [
      "HTTP request object:\n",
      "https://sandbox.iexapis.com/stable/stock/MSFT/quote?token=Tpk_75e5db7f508e48f2b7dff4f435ff8029\n"
     ]
    }
   ],
   "source": [
    "# Essentially the URL, which refers to a certain object.\n",
    "# This is the object for which you want to get a response.\n",
    "print(\"HTTP request object:\\n\" + res.url)"
   ]
  },
  {
   "cell_type": "code",
   "execution_count": 101,
   "metadata": {},
   "outputs": [
    {
     "name": "stdout",
     "output_type": "stream",
     "text": [
      "HTTP response status code: 200\n"
     ]
    }
   ],
   "source": [
    "# Status code (can give information about errors, if any).\n",
    "print(\"HTTP response status code:\", res.status_code)"
   ]
  },
  {
   "cell_type": "code",
   "execution_count": 102,
   "metadata": {},
   "outputs": [
    {
     "name": "stdout",
     "output_type": "stream",
     "text": [
      "Header of the response\n",
      "------------\n",
      "('Server', 'nginx')\n",
      "('Date', 'Sun, 24 Oct 2021 12:07:50 GMT')\n",
      "('Content-Type', 'application/json; charset=utf-8')\n",
      "('Transfer-Encoding', 'chunked')\n",
      "('Connection', 'keep-alive')\n",
      "('Set-Cookie', 'ctoken=3e97785746394115b69c8149caf0d82f; Max-Age=43200; Path=/; Expires=Mon, 25 Oct 2021 00:07:50 GMT')\n",
      "('iexcloud-messages-used', '2')\n",
      "('iexcloud-credits-used', '2')\n",
      "('iexcloud-premium-messages-used', '0')\n",
      "('iexcloud-premium-credits-used', '0')\n",
      "('X-Content-Type-Options', 'nosniff')\n",
      "('Content-Encoding', 'gzip')\n",
      "('Strict-Transport-Security', 'max-age=15768000')\n",
      "('Access-Control-Allow-Origin', '*')\n",
      "('Access-Control-Allow-Credentials', 'true')\n",
      "('Access-Control-Allow-Methods', 'GET, OPTIONS')\n",
      "('Access-Control-Allow-Headers', 'Origin, X-Requested-With, Content-Type, Accept, Request-Source')\n"
     ]
    }
   ],
   "source": [
    "# res.headers is a dictionary of the header information of the response.\n",
    "# The header information is attached in the response before the data.\n",
    "print(\"Header of the response\\n------------\")\n",
    "for x in res.headers.items(): print(x)"
   ]
  },
  {
   "cell_type": "code",
   "execution_count": 92,
   "metadata": {},
   "outputs": [
    {
     "name": "stdout",
     "output_type": "stream",
     "text": [
      "Content of the response\n",
      "------------\n"
     ]
    },
    {
     "data": {
      "text/plain": [
       "b'{\"avgTotalVolume\":25044920,\"calculationPrice\":\"close\",\"change\":-1.7,\"changePercent\":-0.00538,\"close\":317.61,\"closeSource\":\"ciaiflof\",\"closeTime\":1663028852297,\"companyName\":\"Microsoft Corporation\",\"currency\":\"USD\",\"delayedPrice\":310.01,\"delayedPriceTime\":1645076240136,\"extendedChange\":-0.16,\"extendedChangePercent\":-0.00052,\"extendedPrice\":321,\"extendedPriceTime\":1683428465504,\"high\":321.1,\"highSource\":\"i u 5anc1r pdyliedeeetm\",\"highTime\":1693063613937,\"iexAskPrice\":null,\"iexAskSize\":null,\"iexBidPrice\":null,\"iexBidSize\":null,\"iexClose\":311.49,\"iexCloseTime\":1702370880278,\"iexLastUpdated\":null,\"iexMarketPercent\":null,\"iexOpen\":312.01,\"iexOpenTime\":1639961211854,\"iexRealtimePrice\":null,\"iexRealtimeSize\":null,\"iexVolume\":null,\"lastTradeTime\":1700420793655,\"latestPrice\":313.94,\"latestSource\":\"Close\",\"latestTime\":\"October 22, 2021\",\"latestUpdate\":1683511129544,\"latestVolume\":17478210,\"low\":317.61,\"lowSource\":\"1cmee5tln ied ipy urdae\",\"lowTime\":1710755168123,\"marketCap\":2369782232330,\"oddLotDelayedPrice\":324.47,\"oddLotDelayedPriceTime\":1706839159630,\"open\":318.8,\"openTime\":1703533030132,\"openSource\":\"liaifofc\",\"peRatio\":39.7,\"previousClose\":321.54,\"previousVolume\":17072733,\"primaryExchange\":\"SNADQA\",\"symbol\":\"MSFT\",\"volume\":18154665,\"week52High\":315.69,\"week52Low\":203.6,\"ytdChange\":0.3989821422007656,\"isUSMarketOpen\":false}'"
      ]
     },
     "execution_count": 92,
     "metadata": {},
     "output_type": "execute_result"
    }
   ],
   "source": [
    "# The actual data that you requested for.\n",
    "print(\"Content of the response\\n------------\")\n",
    "data.content"
   ]
  },
  {
   "cell_type": "markdown",
   "metadata": {},
   "source": [
    "There are many more attributes of a 'Response' object, including history, cookies and text (i.e. content in unicode format). But here, we will not be looking into them."
   ]
  },
  {
   "cell_type": "markdown",
   "metadata": {},
   "source": [
    "# Converting response content to JSON format"
   ]
  },
  {
   "cell_type": "markdown",
   "metadata": {},
   "source": [
    "To work with the data, we need to convert it to more manageable formats. JSON is a useful format, since it is a format that uses human-readable text to store and transmit data objects consisting of attribute–value pairs and arrays (as in a dictionary in Python). Hence, we first convert the content of the 'Response' object using the .json( ) method available for 'Response' objects (if the response was already in JSON format, no error is raised)."
   ]
  },
  {
   "cell_type": "code",
   "execution_count": 113,
   "metadata": {},
   "outputs": [
    {
     "name": "stdout",
     "output_type": "stream",
     "text": [
      "Data in JSON format\n",
      "------------\n"
     ]
    },
    {
     "data": {
      "text/plain": [
       "{'avgTotalVolume': 24755484,\n",
       " 'calculationPrice': 'close',\n",
       " 'change': -1.6,\n",
       " 'changePercent': -0.0054,\n",
       " 'close': 314.9,\n",
       " 'closeSource': 'faolifci',\n",
       " 'closeTime': 1645402386818,\n",
       " 'companyName': 'Microsoft Corporation',\n",
       " 'currency': 'USD',\n",
       " 'delayedPrice': 319.59,\n",
       " 'delayedPriceTime': 1635002157077,\n",
       " 'extendedChange': -0.17,\n",
       " 'extendedChangePercent': -0.00052,\n",
       " 'extendedPrice': 322,\n",
       " 'extendedPriceTime': 1676459511687,\n",
       " 'high': 326.1,\n",
       " 'highSource': '1pedaiyu  nieemec5 ltdr',\n",
       " 'highTime': 1668573870663,\n",
       " 'iexAskPrice': None,\n",
       " 'iexAskSize': None,\n",
       " 'iexBidPrice': None,\n",
       " 'iexBidSize': None,\n",
       " 'iexClose': 321.64,\n",
       " 'iexCloseTime': 1679598255158,\n",
       " 'iexLastUpdated': None,\n",
       " 'iexMarketPercent': None,\n",
       " 'iexOpen': 309.29,\n",
       " 'iexOpenTime': 1704164814628,\n",
       " 'iexRealtimePrice': None,\n",
       " 'iexRealtimeSize': None,\n",
       " 'iexVolume': None,\n",
       " 'lastTradeTime': 1713422266454,\n",
       " 'latestPrice': 320.16,\n",
       " 'latestSource': 'Close',\n",
       " 'latestTime': 'October 22, 2021',\n",
       " 'latestUpdate': 1696590571287,\n",
       " 'latestVolume': 17653709,\n",
       " 'low': 313.9,\n",
       " 'lowSource': 'telcpiyde5unri 1 eae md',\n",
       " 'lowTime': 1655722467866,\n",
       " 'marketCap': 2370308375833,\n",
       " 'oddLotDelayedPrice': 309.64,\n",
       " 'oddLotDelayedPriceTime': 1706335601255,\n",
       " 'open': 326.1,\n",
       " 'openTime': 1672047456602,\n",
       " 'openSource': 'cffailio',\n",
       " 'peRatio': 39.9,\n",
       " 'previousClose': 315.09,\n",
       " 'previousVolume': 17081382,\n",
       " 'primaryExchange': 'AASNDQ',\n",
       " 'symbol': 'MSFT',\n",
       " 'volume': 17496969,\n",
       " 'week52High': 321.22,\n",
       " 'week52Low': 207,\n",
       " 'ytdChange': 0.3987486991131767,\n",
       " 'isUSMarketOpen': False}"
      ]
     },
     "execution_count": 113,
     "metadata": {},
     "output_type": "execute_result"
    }
   ],
   "source": [
    "data = res.json()\n",
    "# We could reassign 'res', but we won't for conceptual clarity.\n",
    "print(\"Data in JSON format\\n------------\")\n",
    "data"
   ]
  },
  {
   "cell_type": "markdown",
   "metadata": {},
   "source": [
    "Note that the above object ('data') is a Python dictionary (which corresponds to the JSON format). This will be the starting point of our data handling process, which will be continued in the notebook on point and batch responses."
   ]
  }
 ],
 "metadata": {
  "kernelspec": {
   "display_name": "Python 3",
   "language": "python",
   "name": "python3"
  },
  "language_info": {
   "codemirror_mode": {
    "name": "ipython",
    "version": 3
   },
   "file_extension": ".py",
   "mimetype": "text/x-python",
   "name": "python",
   "nbconvert_exporter": "python",
   "pygments_lexer": "ipython3",
   "version": "3.8.5"
  }
 },
 "nbformat": 4,
 "nbformat_minor": 4
}
