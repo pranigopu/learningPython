{
 "cells": [
  {
   "cell_type": "markdown",
   "metadata": {},
   "source": [
    "For context and information about API calls using Python (using the IEX Cloud platform API), see the notebook on API calls."
   ]
  },
  {
   "cell_type": "markdown",
   "metadata": {},
   "source": [
    "# Recap code"
   ]
  },
  {
   "cell_type": "markdown",
   "metadata": {},
   "source": [
    "## Required libraries"
   ]
  },
  {
   "cell_type": "code",
   "execution_count": 1,
   "metadata": {},
   "outputs": [],
   "source": [
    "# For array computation...\n",
    "import numpy as np\n",
    "# For data processing, manipulation and analysis...\n",
    "import pandas as pd\n",
    "# For making requests to the server through the HTTP protocol...\n",
    "import requests"
   ]
  },
  {
   "cell_type": "markdown",
   "metadata": {},
   "source": [
    "## Endpoint request URL"
   ]
  },
  {
   "cell_type": "code",
   "execution_count": 2,
   "metadata": {},
   "outputs": [
    {
     "name": "stdout",
     "output_type": "stream",
     "text": [
      "URL to be used for API calls: https://sandbox.iexapis.com/stable/stock/MSFT/quote\n"
     ]
    }
   ],
   "source": [
    "# Public sandbox token...\n",
    "myApiToken = \"Tpk_75e5db7f508e48f2b7dff4f435ff8029\"\n",
    "#========================\n",
    "# Base URL of the IEX Cloud testing sandbox platform...\n",
    "baseUrl = \"https://sandbox.iexapis.com/\"\n",
    "# URL to the specific API version we want...\n",
    "apiUrl = baseUrl + \"stable/\"\n",
    "#------------\n",
    "# A symbol i.e. reference to particular entreprise's stock.\n",
    "symbol = \"MSFT\" # Refers to data on the company 'Microsoft'.\n",
    "# Link to data source...\n",
    "dataSourceUrl = apiUrl + \"stock/\"\n",
    "# Reference to data object and link to service...\n",
    "endpointUrl = dataSourceUrl + f\"{symbol}/quote\"\n",
    "# For authentication...\n",
    "endpointRequestUrl = endpointUrl + f\"?token={myApiToken}\"\n",
    "# Full URL to be used...\n",
    "print(\"URL to be used for API calls:\",endpointUrl)"
   ]
  },
  {
   "cell_type": "code",
   "execution_count": 4,
   "metadata": {},
   "outputs": [],
   "source": [
    "# Function to get to endpoint URL for a given symbol...\n",
    "# Will be used when looping through each symbol to make the dataframe...\n",
    "def getEndpointRequestUrl(s):\n",
    "    return dataSourceUrl + f\"{s}/quote?token={myApiToken}\""
   ]
  },
  {
   "cell_type": "markdown",
   "metadata": {},
   "source": [
    "## Testing URL validity"
   ]
  },
  {
   "cell_type": "code",
   "execution_count": 5,
   "metadata": {},
   "outputs": [
    {
     "name": "stdout",
     "output_type": "stream",
     "text": [
      "URL used:\n",
      "https://sandbox.iexapis.com/stable/stock/MSFT/quote?token=Tpk_75e5db7f508e48f2b7dff4f435ff8029\n",
      "HTTP response status code: 200\n"
     ]
    }
   ],
   "source": [
    "# Viewing the URL we are using...\n",
    "print(\"URL used:\\n\" + endpointRequestUrl)\n",
    "# Sending API call 'get' as an HTTP request, and storing the response...\n",
    "res = requests.get(endpointRequestUrl)\n",
    "# Checking if the request was valid...\n",
    "print(\"HTTP response status code:\", res.status_code)"
   ]
  },
  {
   "cell_type": "markdown",
   "metadata": {},
   "source": [
    "## Converting response content to JSON format"
   ]
  },
  {
   "cell_type": "code",
   "execution_count": 6,
   "metadata": {},
   "outputs": [
    {
     "name": "stdout",
     "output_type": "stream",
     "text": [
      "avgTotalVolume\n",
      "calculationPrice\n",
      "change\n",
      "changePercent\n",
      "close\n",
      "closeSource\n",
      "closeTime\n",
      "companyName\n",
      "currency\n",
      "delayedPrice\n",
      "delayedPriceTime\n",
      "extendedChange\n",
      "extendedChangePercent\n",
      "extendedPrice\n",
      "extendedPriceTime\n",
      "high\n",
      "highSource\n",
      "highTime\n",
      "iexAskPrice\n",
      "iexAskSize\n",
      "iexBidPrice\n",
      "iexBidSize\n",
      "iexClose\n",
      "iexCloseTime\n",
      "iexLastUpdated\n",
      "iexMarketPercent\n",
      "iexOpen\n",
      "iexOpenTime\n",
      "iexRealtimePrice\n",
      "iexRealtimeSize\n",
      "iexVolume\n",
      "lastTradeTime\n",
      "latestPrice\n",
      "latestSource\n",
      "latestTime\n",
      "latestUpdate\n",
      "latestVolume\n",
      "low\n",
      "lowSource\n",
      "lowTime\n",
      "marketCap\n",
      "oddLotDelayedPrice\n",
      "oddLotDelayedPriceTime\n",
      "open\n",
      "openTime\n",
      "openSource\n",
      "peRatio\n",
      "previousClose\n",
      "previousVolume\n",
      "primaryExchange\n",
      "symbol\n",
      "volume\n",
      "week52High\n",
      "week52Low\n",
      "ytdChange\n",
      "isUSMarketOpen\n"
     ]
    }
   ],
   "source": [
    "data = res.json()\n",
    "# Viewing data fields for reference...\n",
    "for x in data: print(x)"
   ]
  },
  {
   "cell_type": "markdown",
   "metadata": {},
   "source": [
    "# Creating dataframe for data"
   ]
  },
  {
   "cell_type": "markdown",
   "metadata": {},
   "source": [
    "## Identifying desired columns"
   ]
  },
  {
   "cell_type": "markdown",
   "metadata": {},
   "source": [
    "We will not need all the data fields, and hence we will only choose the ones we need for the dataframe. The data fields needed for our purpose are:\n",
    "- Ticker (ticket symbol i.e. unique identifier for stock)\n",
    "- Stock price\n",
    "- Market capitalisation\n",
    "- Number of shares to buy (to be determined by our algorithm)"
   ]
  },
  {
   "cell_type": "code",
   "execution_count": 7,
   "metadata": {},
   "outputs": [
    {
     "data": {
      "text/html": [
       "<div>\n",
       "<style scoped>\n",
       "    .dataframe tbody tr th:only-of-type {\n",
       "        vertical-align: middle;\n",
       "    }\n",
       "\n",
       "    .dataframe tbody tr th {\n",
       "        vertical-align: top;\n",
       "    }\n",
       "\n",
       "    .dataframe thead th {\n",
       "        text-align: right;\n",
       "    }\n",
       "</style>\n",
       "<table border=\"1\" class=\"dataframe\">\n",
       "  <thead>\n",
       "    <tr style=\"text-align: right;\">\n",
       "      <th></th>\n",
       "      <th>Ticker</th>\n",
       "      <th>Stock price</th>\n",
       "      <th>Market cap</th>\n",
       "      <th>No. of shares to buy</th>\n",
       "    </tr>\n",
       "  </thead>\n",
       "  <tbody>\n",
       "  </tbody>\n",
       "</table>\n",
       "</div>"
      ],
      "text/plain": [
       "Empty DataFrame\n",
       "Columns: [Ticker, Stock price, Market cap, No. of shares to buy]\n",
       "Index: []"
      ]
     },
     "execution_count": 7,
     "metadata": {},
     "output_type": "execute_result"
    }
   ],
   "source": [
    "# Listing the desired column names...\n",
    "# (no restrictions on how you name the columns)\n",
    "myColumns = [\n",
    "        \"Ticker\",\n",
    "        \"Stock price\",\n",
    "        \"Market cap\",\n",
    "        \"No. of shares to buy\"]\n",
    "# Creating an empty dataframe object with the desired columns...\n",
    "df = pd.DataFrame(columns = myColumns)\n",
    "# Viewing the result...\n",
    "df"
   ]
  },
  {
   "cell_type": "markdown",
   "metadata": {},
   "source": [
    "## Obtaining the list of all ticker symbols"
   ]
  },
  {
   "cell_type": "markdown",
   "metadata": {},
   "source": [
    "Ticker symbols are unique identifiers of given to each stock (entreprise's shares) in the given stock exchange. Now, we need to get response data for every symbol available in the IEX Cloud testing sandbox database 'stock'."
   ]
  },
  {
   "cell_type": "markdown",
   "metadata": {},
   "source": [
    "This platform contains (among other data) data on all the companies listed in the S&P 500 stock index. For now, we will concern ourselves with only these companies (since that is also the project's focus). Data on S&P 500 stocks is available in this project's directory, in the archive's folder, and this is the data we will use for obtaining the ticker symbols."
   ]
  },
  {
   "cell_type": "markdown",
   "metadata": {},
   "source": [
    "_(The archives directory data is from: https://www.kaggle.com/camnugent/sandp500)_"
   ]
  },
  {
   "cell_type": "code",
   "execution_count": 71,
   "metadata": {},
   "outputs": [
    {
     "name": "stdout",
     "output_type": "stream",
     "text": [
      "Viewing part of the dataframe...\n"
     ]
    },
    {
     "data": {
      "text/html": [
       "<div>\n",
       "<style scoped>\n",
       "    .dataframe tbody tr th:only-of-type {\n",
       "        vertical-align: middle;\n",
       "    }\n",
       "\n",
       "    .dataframe tbody tr th {\n",
       "        vertical-align: top;\n",
       "    }\n",
       "\n",
       "    .dataframe thead th {\n",
       "        text-align: right;\n",
       "    }\n",
       "</style>\n",
       "<table border=\"1\" class=\"dataframe\">\n",
       "  <thead>\n",
       "    <tr style=\"text-align: right;\">\n",
       "      <th></th>\n",
       "      <th>date</th>\n",
       "      <th>open</th>\n",
       "      <th>high</th>\n",
       "      <th>low</th>\n",
       "      <th>close</th>\n",
       "      <th>volume</th>\n",
       "      <th>Name</th>\n",
       "    </tr>\n",
       "  </thead>\n",
       "  <tbody>\n",
       "    <tr>\n",
       "      <th>0</th>\n",
       "      <td>2013-02-08</td>\n",
       "      <td>15.07</td>\n",
       "      <td>15.12</td>\n",
       "      <td>14.63</td>\n",
       "      <td>14.75</td>\n",
       "      <td>8407500</td>\n",
       "      <td>AAL</td>\n",
       "    </tr>\n",
       "    <tr>\n",
       "      <th>1</th>\n",
       "      <td>2013-02-11</td>\n",
       "      <td>14.89</td>\n",
       "      <td>15.01</td>\n",
       "      <td>14.26</td>\n",
       "      <td>14.46</td>\n",
       "      <td>8882000</td>\n",
       "      <td>AAL</td>\n",
       "    </tr>\n",
       "    <tr>\n",
       "      <th>2</th>\n",
       "      <td>2013-02-12</td>\n",
       "      <td>14.45</td>\n",
       "      <td>14.51</td>\n",
       "      <td>14.10</td>\n",
       "      <td>14.27</td>\n",
       "      <td>8126000</td>\n",
       "      <td>AAL</td>\n",
       "    </tr>\n",
       "    <tr>\n",
       "      <th>3</th>\n",
       "      <td>2013-02-13</td>\n",
       "      <td>14.30</td>\n",
       "      <td>14.94</td>\n",
       "      <td>14.25</td>\n",
       "      <td>14.66</td>\n",
       "      <td>10259500</td>\n",
       "      <td>AAL</td>\n",
       "    </tr>\n",
       "    <tr>\n",
       "      <th>4</th>\n",
       "      <td>2013-02-14</td>\n",
       "      <td>14.94</td>\n",
       "      <td>14.96</td>\n",
       "      <td>13.16</td>\n",
       "      <td>13.99</td>\n",
       "      <td>31879900</td>\n",
       "      <td>AAL</td>\n",
       "    </tr>\n",
       "  </tbody>\n",
       "</table>\n",
       "</div>"
      ],
      "text/plain": [
       "         date   open   high    low  close    volume Name\n",
       "0  2013-02-08  15.07  15.12  14.63  14.75   8407500  AAL\n",
       "1  2013-02-11  14.89  15.01  14.26  14.46   8882000  AAL\n",
       "2  2013-02-12  14.45  14.51  14.10  14.27   8126000  AAL\n",
       "3  2013-02-13  14.30  14.94  14.25  14.66  10259500  AAL\n",
       "4  2013-02-14  14.94  14.96  13.16  13.99  31879900  AAL"
      ]
     },
     "execution_count": 71,
     "metadata": {},
     "output_type": "execute_result"
    }
   ],
   "source": [
    "# Reading the CSV file...\n",
    "# (putting the data in a Pandas 'DataFrame' object)\n",
    "stocks = pd.read_csv(\"./archive/all_stocks_5yr.csv\")\n",
    "# Viewing the dataframe...\n",
    "print(\"Viewing part of the dataframe...\")\n",
    "stocks[0:5]"
   ]
  },
  {
   "cell_type": "markdown",
   "metadata": {},
   "source": [
    "Hence, we need to use the 'Name' column for obtaining the ticker symbols. However, since the names are duplicated, we need to obtain the unique values of the 'Name' column."
   ]
  },
  {
   "cell_type": "markdown",
   "metadata": {},
   "source": [
    "_**List of unique ticker symbols**_"
   ]
  },
  {
   "cell_type": "code",
   "execution_count": 72,
   "metadata": {},
   "outputs": [
    {
     "name": "stdout",
     "output_type": "stream",
     "text": [
      "['AAL' 'AAPL' 'AAP' 'ABBV' 'ABC']\n"
     ]
    }
   ],
   "source": [
    "# List of unique ticker symbols...\n",
    "symbols = stocks[\"Name\"].unique()\n",
    "# Confirming uniqueness...\n",
    "print(symbols[0:5])"
   ]
  },
  {
   "cell_type": "markdown",
   "metadata": {},
   "source": [
    "##  Matching response data fields to dataframe fields"
   ]
  },
  {
   "cell_type": "markdown",
   "metadata": {},
   "source": [
    "After inspecting the data fields of the response data (printed in the top section, and stored in the 'data' variable), we will choose the following fields for each field of the dataframe:\n",
    "1. **Ticker**: (we will use elements from 'symbols')\n",
    "2. **Stock price**: latestPrice\n",
    "3. **Market cap**: marketCap\n",
    "4. **No. of shares to buy**: (to be determined by the algorithm)"
   ]
  },
  {
   "cell_type": "markdown",
   "metadata": {},
   "source": [
    "The response data converted to JSON is available in a dictionary format, and we have stored this data in the variable 'data'. Hence, to obtain the value from any of the above two fields that need to be drawn from the response data, we can simply refer to them in as **data['latestPrice']** and **data['marketCap']**."
   ]
  },
  {
   "cell_type": "markdown",
   "metadata": {},
   "source": [
    "## Point requests"
   ]
  },
  {
   "cell_type": "markdown",
   "metadata": {},
   "source": [
    "Here, we request for data on one symbol per request. This is very time consuming for retrieving data on a large amount of symbols, but we will do it for demonstration purposes."
   ]
  },
  {
   "cell_type": "markdown",
   "metadata": {},
   "source": [
    "We will be appending data from one response per iteration to the dataframe, starting from an empty dataframe. We will measure the time taken for execution, and compare it with batch request."
   ]
  },
  {
   "cell_type": "markdown",
   "metadata": {},
   "source": [
    "_**Emptying our dataframe**_"
   ]
  },
  {
   "cell_type": "code",
   "execution_count": 87,
   "metadata": {},
   "outputs": [
    {
     "data": {
      "text/html": [
       "<div>\n",
       "<style scoped>\n",
       "    .dataframe tbody tr th:only-of-type {\n",
       "        vertical-align: middle;\n",
       "    }\n",
       "\n",
       "    .dataframe tbody tr th {\n",
       "        vertical-align: top;\n",
       "    }\n",
       "\n",
       "    .dataframe thead th {\n",
       "        text-align: right;\n",
       "    }\n",
       "</style>\n",
       "<table border=\"1\" class=\"dataframe\">\n",
       "  <thead>\n",
       "    <tr style=\"text-align: right;\">\n",
       "      <th></th>\n",
       "      <th>Ticker</th>\n",
       "      <th>Stock price</th>\n",
       "      <th>Market cap</th>\n",
       "      <th>No. of shares to buy</th>\n",
       "    </tr>\n",
       "  </thead>\n",
       "  <tbody>\n",
       "  </tbody>\n",
       "</table>\n",
       "</div>"
      ],
      "text/plain": [
       "Empty DataFrame\n",
       "Columns: [Ticker, Stock price, Market cap, No. of shares to buy]\n",
       "Index: []"
      ]
     },
     "execution_count": 87,
     "metadata": {},
     "output_type": "execute_result"
    }
   ],
   "source": [
    "# Ensuring empty dataframe...\n",
    "df = pd.DataFrame(columns = myColumns)\n",
    "# Viewing empty dataframe for reference...\n",
    "df"
   ]
  },
  {
   "cell_type": "markdown",
   "metadata": {},
   "source": [
    "_**Appending the desired data from the response data to the dataframe**_"
   ]
  },
  {
   "cell_type": "markdown",
   "metadata": {},
   "source": [
    "_To time the execution..._"
   ]
  },
  {
   "cell_type": "code",
   "execution_count": 89,
   "metadata": {},
   "outputs": [],
   "source": [
    "import time"
   ]
  },
  {
   "cell_type": "markdown",
   "metadata": {},
   "source": [
    "_The code..._"
   ]
  },
  {
   "cell_type": "code",
   "execution_count": 154,
   "metadata": {},
   "outputs": [
    {
     "name": "stdout",
     "output_type": "stream",
     "text": [
      "Total exectution time: 543.731085062027 seconds\n"
     ]
    }
   ],
   "source": [
    "# STARTING TIME\n",
    "startTime = time.time()\n",
    "#________________________\n",
    "# Dictionary used to add new row...\n",
    "row = {}\n",
    "# Looping through the ticker symbols...\n",
    "for s in symbols:\n",
    "    #========================\n",
    "    # Retrieving endpoint request URL for current symbol...\n",
    "    # (Using a user-defined function given above)\n",
    "    endpointRequestUrl = getEndpointRequestUrl(s)\n",
    "    #========================\n",
    "    # Making a request for data to get response data...\n",
    "    # (And converting the response's content to JSON format)\n",
    "    try: data = requests.get(endpointRequestUrl).json()\n",
    "    except: continue # In case the symbol is not available.\n",
    "    # (To view the data fields, see the first section)\n",
    "    #========================\n",
    "    # Appending data from the desired fields to the dataframe...\n",
    "    # (Make sure to give them in the order of the dataframe's columns)\n",
    "    #------------\n",
    "    # Creating a new row as a dictionary...\n",
    "    # The corresponding fields have been picked from\n",
    "    # - The response data\n",
    "    # - The dataframe that must be filled\n",
    "    row = {\n",
    "        \"Ticker\": s,\n",
    "        \"Stock price\": data[\"latestPrice\"],\n",
    "        \"Market cap\": data[\"marketCap\"]}\n",
    "    # (Giving no value for 'No. of shares to buy' will leave it as NaN)\n",
    "    df = df.append(row, ignore_index = True)\n",
    "    # (Can only append dictionary by putting ignore_index = True)\n",
    "#________________________\n",
    "# ENDING TIME\n",
    "endTime = time.time()\n",
    "print(\"Total exectution time: {0} seconds\".format(endTime - startTime))"
   ]
  },
  {
   "cell_type": "code",
   "execution_count": 86,
   "metadata": {},
   "outputs": [
    {
     "data": {
      "text/html": [
       "<div>\n",
       "<style scoped>\n",
       "    .dataframe tbody tr th:only-of-type {\n",
       "        vertical-align: middle;\n",
       "    }\n",
       "\n",
       "    .dataframe tbody tr th {\n",
       "        vertical-align: top;\n",
       "    }\n",
       "\n",
       "    .dataframe thead th {\n",
       "        text-align: right;\n",
       "    }\n",
       "</style>\n",
       "<table border=\"1\" class=\"dataframe\">\n",
       "  <thead>\n",
       "    <tr style=\"text-align: right;\">\n",
       "      <th></th>\n",
       "      <th>Ticker</th>\n",
       "      <th>Stock price</th>\n",
       "      <th>Market cap</th>\n",
       "      <th>No. of shares to buy</th>\n",
       "    </tr>\n",
       "  </thead>\n",
       "  <tbody>\n",
       "    <tr>\n",
       "      <th>0</th>\n",
       "      <td>AAL</td>\n",
       "      <td>19.80</td>\n",
       "      <td>12594344396</td>\n",
       "      <td>NaN</td>\n",
       "    </tr>\n",
       "    <tr>\n",
       "      <th>1</th>\n",
       "      <td>AAPL</td>\n",
       "      <td>153.47</td>\n",
       "      <td>2579319468263</td>\n",
       "      <td>NaN</td>\n",
       "    </tr>\n",
       "    <tr>\n",
       "      <th>2</th>\n",
       "      <td>AAP</td>\n",
       "      <td>241.48</td>\n",
       "      <td>15022270048</td>\n",
       "      <td>NaN</td>\n",
       "    </tr>\n",
       "    <tr>\n",
       "      <th>3</th>\n",
       "      <td>ABBV</td>\n",
       "      <td>113.32</td>\n",
       "      <td>195059046325</td>\n",
       "      <td>NaN</td>\n",
       "    </tr>\n",
       "    <tr>\n",
       "      <th>4</th>\n",
       "      <td>ABC</td>\n",
       "      <td>126.13</td>\n",
       "      <td>26456620228</td>\n",
       "      <td>NaN</td>\n",
       "    </tr>\n",
       "  </tbody>\n",
       "</table>\n",
       "</div>"
      ],
      "text/plain": [
       "  Ticker  Stock price     Market cap  No. of shares to buy\n",
       "0    AAL        19.80    12594344396                   NaN\n",
       "1   AAPL       153.47  2579319468263                   NaN\n",
       "2    AAP       241.48    15022270048                   NaN\n",
       "3   ABBV       113.32   195059046325                   NaN\n",
       "4    ABC       126.13    26456620228                   NaN"
      ]
     },
     "execution_count": 86,
     "metadata": {},
     "output_type": "execute_result"
    }
   ],
   "source": [
    "# Viewing the resulting dataframe\n",
    "df"
   ]
  },
  {
   "cell_type": "markdown",
   "metadata": {},
   "source": [
    "## Batch requests"
   ]
  },
  {
   "cell_type": "markdown",
   "metadata": {},
   "source": [
    "Here, we request more data on multiple symbols at in a single request. This is the easiest way to improve the performance of code involving a large number API calls, since HTTP requests are usually the slowest aspects of the code."
   ]
  },
  {
   "cell_type": "markdown",
   "metadata": {},
   "source": [
    "Furthermore, API providers (such as IEX Cloud) will often provide discounts for batch API calls, since they are easier for the API provider to respond to."
   ]
  },
  {
   "cell_type": "markdown",
   "metadata": {},
   "source": [
    "IEX Cloud limits batch API calls to 100 symbols (i.e. tickers) per request. This greatly reduces the number of HTTP requests that need to be made to retrieve the data, hence increasing the speed of the code's execution."
   ]
  },
  {
   "cell_type": "markdown",
   "metadata": {},
   "source": [
    "### Splitting the list of symbols into chunks"
   ]
  },
  {
   "cell_type": "markdown",
   "metadata": {},
   "source": [
    "We need to process the symbols one chunk at a time. Hence, we must divide the array of symbols stored in the variable 'symbols' into as few chunks as possible. Since 100 is the maximum number of symbols per request, we will make chunks of 100 (or less, if fewer symbols are left over)."
   ]
  },
  {
   "cell_type": "markdown",
   "metadata": {},
   "source": [
    "_**Function for returning a list of chunks (100 elements or less per chunk).**_"
   ]
  },
  {
   "cell_type": "code",
   "execution_count": 109,
   "metadata": {},
   "outputs": [],
   "source": [
    "# IMPLEMENTATION 1\n",
    "def chunks(myList, chunkSize):\n",
    "# myList can be any mutable and iterable collection ex. array.\n",
    "    resultantList = []\n",
    "    for i in range(0, len(myList), chunkSize):\n",
    "    # chunkSize serves as the step value for this loop.\n",
    "        resultantList.append(myList[i: i + chunkSize])\n",
    "    return resultantList\n",
    "# NOTES\n",
    "# myList[i: i + chunkSize] slices from a range of indices.\n",
    "# i is the lower bound and is included.\n",
    "# i + chunkSize is the upper bound and is excluded.\n",
    "# If the upper bound exceeds list size, no error will be thrown.\n",
    "# Instead, the upper bound will simply default to the list size."
   ]
  },
  {
   "cell_type": "code",
   "execution_count": 105,
   "metadata": {},
   "outputs": [],
   "source": [
    "# IMPLEMENTATION 2\n",
    "def chunks(myList, chunkSize):\n",
    "    for i in range(0, len(myList), chunkSize):\n",
    "        yield myList[i: i + chunkSize]"
   ]
  },
  {
   "cell_type": "markdown",
   "metadata": {},
   "source": [
    "Note that making this function is not necessary. These implementations are simply given to highlight the different approaches, and allow for easy reusability if needed. Note that both of the above implementations produce the a similar end result. The difference is in their return values types:\n",
    "- Implementation 1 returns a list of slices of the argument 'myList'\n",
    "- Implementation 2 returns a generator object (convertible to a collection data type)"
   ]
  },
  {
   "cell_type": "code",
   "execution_count": 117,
   "metadata": {},
   "outputs": [
    {
     "name": "stdout",
     "output_type": "stream",
     "text": [
      "------------\n",
      "AAL\n",
      "AAPL\n",
      "AAP\n",
      "ABBV\n",
      "ABC\n",
      "(95 more...)\n",
      "------------\n",
      "CL\n",
      "CMA\n",
      "CMCSA\n",
      "CME\n",
      "CMG\n",
      "(95 more...)\n",
      "------------\n",
      "GE\n",
      "GGP\n",
      "GILD\n",
      "GIS\n",
      "GLW\n",
      "(95 more...)\n",
      "------------\n",
      "MCD\n",
      "MCHP\n",
      "MCK\n",
      "MCO\n",
      "MDLZ\n",
      "(95 more...)\n",
      "------------\n",
      "ROK\n",
      "ROP\n",
      "ROST\n",
      "RRC\n",
      "RSG\n",
      "(95 more...)\n",
      "------------\n",
      "XYL\n",
      "YUM\n",
      "ZBH\n",
      "ZION\n",
      "ZTS\n",
      "(0 more...)\n"
     ]
    }
   ],
   "source": [
    "symbolGroups = list(chunks(symbols, 100))\n",
    "# List constructor => same end result for all implementations.\n",
    "#------------\n",
    "# Printing the result in a neat manner for demonstration...\n",
    "for x in symbolGroups: # Each sublist.\n",
    "    print(\"------------\")\n",
    "    for y in x[0:5]: # Few elements from each sublist.\n",
    "        print(y)\n",
    "    print(\"({0} more...)\".format(len(x) - 5))"
   ]
  },
  {
   "cell_type": "markdown",
   "metadata": {},
   "source": [
    "Hence, we have 5 sublists of 100 elements, and 1 sublist of 5."
   ]
  },
  {
   "cell_type": "markdown",
   "metadata": {},
   "source": [
    "### Sending batch requests"
   ]
  },
  {
   "cell_type": "markdown",
   "metadata": {},
   "source": [
    "For official IEX Cloud information: https://iexcloud.io/docs/api/#batch-requests. For specific notes, check the notes on IEX Cloud API batch calls, present in the directory of IEX Cloud notes in the notes directory."
   ]
  },
  {
   "cell_type": "markdown",
   "metadata": {},
   "source": [
    "#### Creating a query string"
   ]
  },
  {
   "cell_type": "markdown",
   "metadata": {},
   "source": [
    "To convert each sublist into a comma delimited string..."
   ]
  },
  {
   "cell_type": "code",
   "execution_count": 133,
   "metadata": {},
   "outputs": [
    {
     "name": "stdout",
     "output_type": "stream",
     "text": [
      "A part of one comma delimited query string...\n",
      "AAL,AAPL,AAP,ABBV,ABC,ABT,ACN,ADBE,ADI,ADM,ADP,ADS...\n"
     ]
    }
   ],
   "source": [
    "symbolGroupStrings = [] # Intended list of comma delimited strings.\n",
    "for x in symbolGroups: # Going through each sublist.\n",
    "    symbolGroupStrings.append(\",\".join(x))\n",
    "    # \",\".join(x) joins each element of x using ',' as separator.\n",
    "#------------\n",
    "# Printing part of one element for demonstration...\n",
    "print(\"A part of one comma delimited query string...\")\n",
    "print(symbolGroupStrings[0][0:50] + \"...\")"
   ]
  },
  {
   "cell_type": "markdown",
   "metadata": {},
   "source": [
    "**Creating batch request URL's**"
   ]
  },
  {
   "cell_type": "code",
   "execution_count": 162,
   "metadata": {},
   "outputs": [
    {
     "name": "stdout",
     "output_type": "stream",
     "text": [
      "Example of batch URL: https://sandbox.iexapis.com/stable/stock/market/batch?types=quote&symbols=AAL,AAPL,AAP,ABBV,ABC,ABT,ACN,ADBE,ADI,ADM,ADP,ADSK,ADS,AEE,AEP,AES,AET,AFL,AGN,AIG,AIV,AIZ,AJG,AKAM,ALB,ALGN,ALK,ALLE,ALL,ALXN,AMAT,AMD,AME,AMGN,AMG,AMP,AMT,AMZN,ANDV,ANSS,ANTM,AON,AOS,APA,APC,APD,APH,APTV,ARE,ARNC,ATVI,AVB,AVGO,AVY,AWK,AXP,AYI,AZO,A,BAC,BAX,BA,BBT,BBY,BDX,BEN,BF.B,BHF,BHGE,BIIB,BK,BLK,BLL,BMY,BRK.B,BSX,BWA,BXP,CAG,CAH,CAT,CA,CBG,CBOE,CBS,CB,CCI,CCL,CDNS,CELG,CERN,CFG,CF,CHD,CHK,CHRW,CHTR,CINF,CI,CLX&token=Tpk_75e5db7f508e48f2b7dff4f435ff8029\n"
     ]
    }
   ],
   "source": [
    "def getBatchRequestUrl(scds):\n",
    "    br = dataSourceUrl + \"market/batch?\"\n",
    "    # Note that database URL contains API URL as well.\n",
    "    qs = \"types=quote&symbols=\"\n",
    "    # The query string is incomplete to allow for different strings.\n",
    "    auths = f\"&token={myApiToken}\"\n",
    "    return br + qs + scds + auths\n",
    "# scds => symbols comma delimited string\n",
    "# br => batch request URL\n",
    "# qs => query string\n",
    "# auths => authorisation string\n",
    "#------------------------\n",
    "# Testing the function\n",
    "batchRequestUrl = getBatchRequestUrl(symbolGroupStrings[0])\n",
    "print(\"Example of batch URL: \" + batchRequestUrl)"
   ]
  },
  {
   "cell_type": "markdown",
   "metadata": {},
   "source": [
    "#### Testing the batch requests"
   ]
  },
  {
   "cell_type": "code",
   "execution_count": 196,
   "metadata": {},
   "outputs": [
    {
     "name": "stdout",
     "output_type": "stream",
     "text": [
      "------------\n",
      "Bath request: 1\n",
      "URL used:\n",
      "https://sandbox.iexapis.com/stable/stock/market/batch?types=quote&symbols=AAL,AAPL,AAP,ABBV,ABC,ABT,ACN,ADBE,ADI,ADM,ADP,ADSK,ADS,AEE,AEP,AES,AET,AFL,AGN,AIG,AIV,AIZ,AJG,AKAM,ALB,ALGN,ALK,ALLE,ALL,ALXN,AMAT,AMD,AME,AMGN,AMG,AMP,AMT,AMZN,ANDV,ANSS,ANTM,AON,AOS,APA,APC,APD,APH,APTV,ARE,ARNC,ATVI,AVB,AVGO,AVY,AWK,AXP,AYI,AZO,A,BAC,BAX,BA,BBT,BBY,BDX,BEN,BF.B,BHF,BHGE,BIIB,BK,BLK,BLL,BMY,BRK.B,BSX,BWA,BXP,CAG,CAH,CAT,CA,CBG,CBOE,CBS,CB,CCI,CCL,CDNS,CELG,CERN,CFG,CF,CHD,CHK,CHRW,CHTR,CINF,CI,CLX&token=Tpk_75e5db7f508e48f2b7dff4f435ff8029\n",
      "HTTP response status code: 200\n",
      "------------\n",
      "Bath request: 2\n",
      "URL used:\n",
      "https://sandbox.iexapis.com/stable/stock/market/batch?types=quote&symbols=CL,CMA,CMCSA,CME,CMG,CMI,CMS,CNC,CNP,COF,COG,COL,COO,COP,COST,COTY,CPB,CRM,CSCO,CSRA,CSX,CTAS,CTL,CTSH,CTXS,CVS,CVX,CXO,C,DAL,DE,DFS,DGX,DG,DHI,DHR,DISCA,DISCK,DISH,DIS,DLR,DLTR,DOV,DPS,DRE,DRI,DTE,DUK,DVA,DVN,DWDP,DXC,D,EA,EBAY,ECL,ED,EFX,EIX,EL,EMN,EMR,EOG,EQIX,EQR,EQT,ESRX,ESS,ES,ETFC,ETN,ETR,EVHC,EW,EXC,EXPD,EXPE,EXR,FAST,FBHS,FB,FCX,FDX,FE,FFIV,FISV,FIS,FITB,FLIR,FLR,FLS,FL,FMC,FOXA,FOX,FRT,FTI,FTV,F,GD&token=Tpk_75e5db7f508e48f2b7dff4f435ff8029\n",
      "HTTP response status code: 200\n",
      "------------\n",
      "Bath request: 3\n",
      "URL used:\n",
      "https://sandbox.iexapis.com/stable/stock/market/batch?types=quote&symbols=GE,GGP,GILD,GIS,GLW,GM,GOOGL,GOOG,GPC,GPN,GPS,GRMN,GS,GT,GWW,HAL,HAS,HBAN,HBI,HCA,HCN,HCP,HD,HES,HIG,HII,HLT,HOG,HOLX,HON,HPE,HPQ,HP,HRB,HRL,HRS,HSIC,HST,HSY,HUM,IBM,ICE,IDXX,IFF,ILMN,INCY,INFO,INTC,INTU,IPG,IP,IQV,IRM,IR,ISRG,ITW,IT,IVZ,JBHT,JCI,JEC,JNJ,JNPR,JPM,JWN,KEY,KHC,KIM,KLAC,KMB,KMI,KMX,KORS,KO,KR,KSS,KSU,K,LB,LEG,LEN,LH,LKQ,LLL,LLY,LMT,LNC,LNT,LOW,LRCX,LUK,LUV,LYB,L,MAA,MAC,MAR,MAS,MAT,MA&token=Tpk_75e5db7f508e48f2b7dff4f435ff8029\n",
      "HTTP response status code: 200\n",
      "------------\n",
      "Bath request: 4\n",
      "URL used:\n",
      "https://sandbox.iexapis.com/stable/stock/market/batch?types=quote&symbols=MCD,MCHP,MCK,MCO,MDLZ,MDT,MET,MGM,MHK,MKC,MLM,MMC,MMM,MNST,MON,MOS,MO,MPC,MRK,MRO,MSFT,MSI,MS,MTB,MTD,MU,MYL,M,NAVI,NBL,NCLH,NDAQ,NEE,NEM,NFLX,NFX,NI,NKE,NLSN,NOC,NOV,NRG,NSC,NTAP,NTRS,NUE,NVDA,NWL,NWSA,NWS,OKE,OMC,ORCL,ORLY,OXY,O,PAYX,PBCT,PCAR,PCG,PCLN,PDCO,PEG,PEP,PFE,PFG,PGR,PG,PHM,PH,PKG,PKI,PLD,PM,PNC,PNR,PNW,PPG,PPL,PRGO,PRU,PSA,PSX,PVH,PWR,PXD,PX,PYPL,QCOM,QRVO,RCL,REGN,REG,RE,RF,RHI,RHT,RJF,RL,RMD&token=Tpk_75e5db7f508e48f2b7dff4f435ff8029\n",
      "HTTP response status code: 200\n",
      "------------\n",
      "Bath request: 5\n",
      "URL used:\n",
      "https://sandbox.iexapis.com/stable/stock/market/batch?types=quote&symbols=ROK,ROP,ROST,RRC,RSG,RTN,SBAC,SBUX,SCG,SCHW,SEE,SHW,SIG,SJM,SLB,SLG,SNA,SNI,SNPS,SO,SPGI,SPG,SRCL,SRE,STI,STT,STX,STZ,SWKS,SWK,SYF,SYK,SYMC,SYY,TAP,TDG,TEL,TGT,TIF,TJX,TMK,TMO,TPR,TRIP,TROW,TRV,TSCO,TSN,TSS,TWX,TXN,TXT,T,UAA,UAL,UA,UDR,UHS,ULTA,UNH,UNM,UNP,UPS,URI,USB,UTX,VAR,VFC,VIAB,VLO,VMC,VNO,VRSK,VRSN,VRTX,VTR,VZ,V,WAT,WBA,WDC,WEC,WFC,WHR,WLTW,WMB,WMT,WM,WRK,WU,WYNN,WYN,WY,XEC,XEL,XLNX,XL,XOM,XRAY,XRX&token=Tpk_75e5db7f508e48f2b7dff4f435ff8029\n",
      "HTTP response status code: 200\n",
      "------------\n",
      "Bath request: 6\n",
      "URL used:\n",
      "https://sandbox.iexapis.com/stable/stock/market/batch?types=quote&symbols=XYL,YUM,ZBH,ZION,ZTS&token=Tpk_75e5db7f508e48f2b7dff4f435ff8029\n",
      "HTTP response status code: 200\n"
     ]
    }
   ],
   "source": [
    "i = 1\n",
    "data\n",
    "for scds in symbolGroupStrings:\n",
    "# scds => symbol comma delimited string (represents one batch)\n",
    "    print(\"------------\")\n",
    "    print(\"Bath request:\", i)\n",
    "    batchRequestUrl = getBatchRequestUrl(scds)\n",
    "    # Viewing the URL we are using...\n",
    "    print(\"URL used:\\n\" + batchRequestUrl)\n",
    "    # Sending API call 'get' as an HTTP request, and storing the response...\n",
    "    res = requests.get(batchRequestUrl)\n",
    "    # Checking if the request was valid...\n",
    "    print(\"HTTP response status code:\", res.status_code)\n",
    "    i = i + 1"
   ]
  },
  {
   "cell_type": "markdown",
   "metadata": {},
   "source": [
    "All batch requests are valid."
   ]
  },
  {
   "cell_type": "markdown",
   "metadata": {},
   "source": [
    "#### Applying the batch requests to retrieve the desired data"
   ]
  },
  {
   "cell_type": "markdown",
   "metadata": {},
   "source": [
    "This could have been done during testing, but I separated the processes for conceptual clarity."
   ]
  },
  {
   "cell_type": "markdown",
   "metadata": {},
   "source": [
    "_**Inspecting the type of response data we get from a batch request**_"
   ]
  },
  {
   "cell_type": "markdown",
   "metadata": {},
   "source": [
    "To know how to add the response data to our dataframe, we must know what kind of data we get, since it is likely to be different from a point request response. Given that the response data will be converted in JSON format, we know it will be in the form of a dictionary."
   ]
  },
  {
   "cell_type": "code",
   "execution_count": 192,
   "metadata": {},
   "outputs": [
    {
     "name": "stdout",
     "output_type": "stream",
     "text": [
      "AAL;AAPL;AAP;ABBV;ABC;ABT;ACN;ADBE;ADI;ADM;ADP;ADSK;ADS;AEE;AEP;AES;AET;AFL;AGN;AIG;AIV;AIZ;AJG;AKAM;ALB;ALGN;ALK;ALLE;ALL;ALXN;AMAT;AMD;AME;AMGN;AMG;AMP;AMT;AMZN;ANDV;ANSS;ANTM;AON;AOS;APA;APC;APD;APH;APTV;ARE;ARNC;ATVI;AVB;AVGO;AVY;AWK;AXP;AYI;AZO;A;BAC;BAX;BA;BBT;BBY;BDX;BEN;BF.B;BHF;BHGE;BIIB;BK;BLK;BLL;BMY;BRK.B;BSX;BWA;BXP;CAG;CAH;CAT;CA;CBOE;CBS;CB;CCI;CCL;CDNS;CELG;CERN;CFG;CF;CHD;CHK;CHRW;CHTR;CINF;CI;CLX;"
     ]
    }
   ],
   "source": [
    "batchRequestUrl = getBatchRequestUrl(symbolGroupStrings[0])\n",
    "data = requests.get(batchRequestUrl).json()\n",
    "# Checking only the keys of this data dictionary...\n",
    "# (We will use only one key to look into, to make the outputs manageable)\n",
    "for x in data.keys(): print(x, end = \";\")"
   ]
  },
  {
   "cell_type": "markdown",
   "metadata": {},
   "source": [
    "As we knew, the response data converted to JSON is in the form a a dictionary. They keys of this dictionary are the symbols i.e. tickers. Inspecting the value of one key..."
   ]
  },
  {
   "cell_type": "code",
   "execution_count": 186,
   "metadata": {},
   "outputs": [
    {
     "data": {
      "text/plain": [
       "dict"
      ]
     },
     "execution_count": 186,
     "metadata": {},
     "output_type": "execute_result"
    }
   ],
   "source": [
    "# LAYER 1 INSPECTION\n",
    "# Choosing one key and inspecting its value...\n",
    "dataValue = data['AAL']\n",
    "type(dataValue)"
   ]
  },
  {
   "cell_type": "markdown",
   "metadata": {},
   "source": [
    "The value attached to the symbol is another dictionary. Inspecting this value further..."
   ]
  },
  {
   "cell_type": "code",
   "execution_count": 193,
   "metadata": {},
   "outputs": [
    {
     "name": "stdout",
     "output_type": "stream",
     "text": [
      "quote;"
     ]
    }
   ],
   "source": [
    "# LAYER 2 INSPECTION\n",
    "for x in dataValue.keys(): print(x, end = \";\")"
   ]
  },
  {
   "cell_type": "markdown",
   "metadata": {},
   "source": [
    " The value of attached to each symbol is another dictionary, whose keys are the endpoints. Here, we have only one endpoint, hence, only one key. Inspecting the value of this particular key..."
   ]
  },
  {
   "cell_type": "code",
   "execution_count": 194,
   "metadata": {},
   "outputs": [
    {
     "data": {
      "text/plain": [
       "{'avgTotalVolume': 28429250,\n",
       " 'calculationPrice': 'close',\n",
       " 'change': -0.75,\n",
       " 'changePercent': -0.0382,\n",
       " 'close': 19.42,\n",
       " 'closeSource': 'cfailifo',\n",
       " 'closeTime': 1670234102346,\n",
       " 'companyName': 'American Airlines Group Inc',\n",
       " 'currency': 'USD',\n",
       " 'delayedPrice': 19.87,\n",
       " 'delayedPriceTime': 1657325754096,\n",
       " 'extendedChange': 0.07,\n",
       " 'extendedChangePercent': 0.00367,\n",
       " 'extendedPrice': 19.56,\n",
       " 'extendedPriceTime': 1660945348434,\n",
       " 'high': 20.66,\n",
       " 'highSource': 'pdl a5cneumi ei tre1edy',\n",
       " 'highTime': 1710025873829,\n",
       " 'iexAskPrice': None,\n",
       " 'iexAskSize': None,\n",
       " 'iexBidPrice': None,\n",
       " 'iexBidSize': None,\n",
       " 'iexClose': 19.76,\n",
       " 'iexCloseTime': 1685272777647,\n",
       " 'iexLastUpdated': None,\n",
       " 'iexMarketPercent': None,\n",
       " 'iexOpen': 19.31,\n",
       " 'iexOpenTime': 1696890655475,\n",
       " 'iexRealtimePrice': None,\n",
       " 'iexRealtimeSize': None,\n",
       " 'iexVolume': None,\n",
       " 'lastTradeTime': 1683415191041,\n",
       " 'latestPrice': 19.98,\n",
       " 'latestSource': 'Close',\n",
       " 'latestTime': 'October 22, 2021',\n",
       " 'latestUpdate': 1653663044560,\n",
       " 'latestVolume': 38131074,\n",
       " 'low': 19.05,\n",
       " 'lowSource': 'emiaed1eluc n yrp5t eid',\n",
       " 'lowTime': 1674689799878,\n",
       " 'marketCap': 12788675151,\n",
       " 'oddLotDelayedPrice': 19.66,\n",
       " 'oddLotDelayedPriceTime': 1670538286998,\n",
       " 'open': 20.66,\n",
       " 'openTime': 1659310837905,\n",
       " 'openSource': 'lifcifao',\n",
       " 'peRatio': -3.91,\n",
       " 'previousClose': 20.34,\n",
       " 'previousVolume': 29871864,\n",
       " 'primaryExchange': 'QANSDA',\n",
       " 'symbol': 'AAL',\n",
       " 'volume': 38618290,\n",
       " 'week52High': 26.87,\n",
       " 'week52Low': 11.02,\n",
       " 'ytdChange': 0.18237203130244076,\n",
       " 'isUSMarketOpen': False}"
      ]
     },
     "execution_count": 194,
     "metadata": {},
     "output_type": "execute_result"
    }
   ],
   "source": [
    "# LAYER 3 INSPECTION\n",
    "dataValue['quote']"
   ]
  },
  {
   "cell_type": "markdown",
   "metadata": {},
   "source": [
    "This is the dictionary of the data retrieved for the symbol at the endpoint. This is the dictionary we get in a point request. But since a batch request is equivalent to multiple point requests on multiple symbols AND multiple endpoints (potentially), the response data of a batch request is a dictionary of dictionaries of dictionaries."
   ]
  },
  {
   "cell_type": "markdown",
   "metadata": {},
   "source": [
    "Based on this knowledge, we must append data into our dataframe from response data accordingly. We must reference the values of both the symbol and the endpoint to get dictionary of values retrieved for that symbol from that endpoint (only one endpoint in our case). From this dictionary, we must reference the desired fields, as before."
   ]
  },
  {
   "cell_type": "markdown",
   "metadata": {},
   "source": [
    "_**Emptying the dataframe**_"
   ]
  },
  {
   "cell_type": "code",
   "execution_count": 159,
   "metadata": {},
   "outputs": [
    {
     "data": {
      "text/html": [
       "<div>\n",
       "<style scoped>\n",
       "    .dataframe tbody tr th:only-of-type {\n",
       "        vertical-align: middle;\n",
       "    }\n",
       "\n",
       "    .dataframe tbody tr th {\n",
       "        vertical-align: top;\n",
       "    }\n",
       "\n",
       "    .dataframe thead th {\n",
       "        text-align: right;\n",
       "    }\n",
       "</style>\n",
       "<table border=\"1\" class=\"dataframe\">\n",
       "  <thead>\n",
       "    <tr style=\"text-align: right;\">\n",
       "      <th></th>\n",
       "      <th>Ticker</th>\n",
       "      <th>Stock price</th>\n",
       "      <th>Market cap</th>\n",
       "      <th>No. of shares to buy</th>\n",
       "    </tr>\n",
       "  </thead>\n",
       "  <tbody>\n",
       "  </tbody>\n",
       "</table>\n",
       "</div>"
      ],
      "text/plain": [
       "Empty DataFrame\n",
       "Columns: [Ticker, Stock price, Market cap, No. of shares to buy]\n",
       "Index: []"
      ]
     },
     "execution_count": 159,
     "metadata": {},
     "output_type": "execute_result"
    }
   ],
   "source": [
    "# Ensuring empty dataframe...\n",
    "df = pd.DataFrame(columns = myColumns)\n",
    "# Viewing empty dataframe for reference...\n",
    "df"
   ]
  },
  {
   "cell_type": "markdown",
   "metadata": {},
   "source": [
    "_**Appending the desired data from the response data to the dataframe**_"
   ]
  },
  {
   "cell_type": "markdown",
   "metadata": {},
   "source": [
    "_To time the execution..._"
   ]
  },
  {
   "cell_type": "code",
   "execution_count": 160,
   "metadata": {},
   "outputs": [],
   "source": [
    "import time"
   ]
  },
  {
   "cell_type": "markdown",
   "metadata": {},
   "source": [
    "_The code..._"
   ]
  },
  {
   "cell_type": "code",
   "execution_count": 203,
   "metadata": {},
   "outputs": [
    {
     "name": "stdout",
     "output_type": "stream",
     "text": [
      "Total exectution time: 10.637717008590698 seconds\n"
     ]
    }
   ],
   "source": [
    "# STARTING TIME\n",
    "startTime = time.time()\n",
    "#________________________\n",
    "# Dictionary used to add new row...\n",
    "row = {}\n",
    "# Looping through the ticker symbols...\n",
    "for scds in symbolGroupStrings:\n",
    "# scds => symbol comma delimited string (represents one batch)\n",
    "    #========================\n",
    "    # Retrieving batch request for current symbol...\n",
    "    # (Using a user-defined function given above)\n",
    "    batchRequestUrl = getBatchRequestUrl(scds)\n",
    "    #========================\n",
    "    # Making a request for data to get response data...\n",
    "    # (And converting the response's content to JSON format)\n",
    "    data = requests.get(batchRequestUrl).json()\n",
    "    #========================\n",
    "    # Appending data from the desired fields to the dataframe...\n",
    "    # (Reference the symbol and endpoint to get the retrieved data)\n",
    "    # Iterating through every symbol in the batch...\n",
    "    for s in scds.split(\",\"):\n",
    "    # (Only one endpoint, so we need not loop for endpoints as well)\n",
    "        try:\n",
    "            row = {\n",
    "                \"Ticker\": s,\n",
    "                \"Stock price\": data[s][\"quote\"][\"latestPrice\"],\n",
    "                \"Market cap\": data[s][\"quote\"][\"marketCap\"]}\n",
    "            df = df.append(row, ignore_index = True)\n",
    "        except: continue\n",
    "\"\"\"\n",
    "NOTE ON THIS TRY-EXCEPT BLOCK\n",
    "In the batch request, it retrieves data for all available symbols.\n",
    "If symbol is not available in the database, it is absent in the response.\n",
    "Hence, we have this try-except block for cases where a symbol is absent.\n",
    "(Absent => it is not a key in the JSON dictionary)\n",
    "\"\"\"\n",
    "#________________________\n",
    "# ENDING TIME\n",
    "endTime = time.time()\n",
    "print(\"Total exectution time: {0} seconds\".format(endTime - startTime))"
   ]
  },
  {
   "cell_type": "code",
   "execution_count": 201,
   "metadata": {},
   "outputs": [
    {
     "data": {
      "text/html": [
       "<div>\n",
       "<style scoped>\n",
       "    .dataframe tbody tr th:only-of-type {\n",
       "        vertical-align: middle;\n",
       "    }\n",
       "\n",
       "    .dataframe tbody tr th {\n",
       "        vertical-align: top;\n",
       "    }\n",
       "\n",
       "    .dataframe thead th {\n",
       "        text-align: right;\n",
       "    }\n",
       "</style>\n",
       "<table border=\"1\" class=\"dataframe\">\n",
       "  <thead>\n",
       "    <tr style=\"text-align: right;\">\n",
       "      <th></th>\n",
       "      <th>Ticker</th>\n",
       "      <th>Stock price</th>\n",
       "      <th>Market cap</th>\n",
       "      <th>No. of shares to buy</th>\n",
       "    </tr>\n",
       "  </thead>\n",
       "  <tbody>\n",
       "    <tr>\n",
       "      <th>0</th>\n",
       "      <td>AAL</td>\n",
       "      <td>19.21</td>\n",
       "      <td>12563917635</td>\n",
       "      <td>NaN</td>\n",
       "    </tr>\n",
       "    <tr>\n",
       "      <th>1</th>\n",
       "      <td>AAPL</td>\n",
       "      <td>150.14</td>\n",
       "      <td>2497846221609</td>\n",
       "      <td>NaN</td>\n",
       "    </tr>\n",
       "    <tr>\n",
       "      <th>2</th>\n",
       "      <td>AAP</td>\n",
       "      <td>238.80</td>\n",
       "      <td>15113018499</td>\n",
       "      <td>NaN</td>\n",
       "    </tr>\n",
       "    <tr>\n",
       "      <th>3</th>\n",
       "      <td>ABBV</td>\n",
       "      <td>109.31</td>\n",
       "      <td>201000261624</td>\n",
       "      <td>NaN</td>\n",
       "    </tr>\n",
       "    <tr>\n",
       "      <th>4</th>\n",
       "      <td>ABC</td>\n",
       "      <td>128.71</td>\n",
       "      <td>25672782819</td>\n",
       "      <td>NaN</td>\n",
       "    </tr>\n",
       "    <tr>\n",
       "      <th>...</th>\n",
       "      <td>...</td>\n",
       "      <td>...</td>\n",
       "      <td>...</td>\n",
       "      <td>...</td>\n",
       "    </tr>\n",
       "    <tr>\n",
       "      <th>575</th>\n",
       "      <td>XYL</td>\n",
       "      <td>130.34</td>\n",
       "      <td>24200658546</td>\n",
       "      <td>NaN</td>\n",
       "    </tr>\n",
       "    <tr>\n",
       "      <th>576</th>\n",
       "      <td>YUM</td>\n",
       "      <td>130.93</td>\n",
       "      <td>38645409142</td>\n",
       "      <td>NaN</td>\n",
       "    </tr>\n",
       "    <tr>\n",
       "      <th>577</th>\n",
       "      <td>ZBH</td>\n",
       "      <td>157.83</td>\n",
       "      <td>32466095212</td>\n",
       "      <td>NaN</td>\n",
       "    </tr>\n",
       "    <tr>\n",
       "      <th>578</th>\n",
       "      <td>ZION</td>\n",
       "      <td>68.58</td>\n",
       "      <td>10812793982</td>\n",
       "      <td>NaN</td>\n",
       "    </tr>\n",
       "    <tr>\n",
       "      <th>579</th>\n",
       "      <td>ZTS</td>\n",
       "      <td>218.52</td>\n",
       "      <td>100679781339</td>\n",
       "      <td>NaN</td>\n",
       "    </tr>\n",
       "  </tbody>\n",
       "</table>\n",
       "<p>580 rows × 4 columns</p>\n",
       "</div>"
      ],
      "text/plain": [
       "    Ticker  Stock price     Market cap  No. of shares to buy\n",
       "0      AAL        19.21    12563917635                   NaN\n",
       "1     AAPL       150.14  2497846221609                   NaN\n",
       "2      AAP       238.80    15113018499                   NaN\n",
       "3     ABBV       109.31   201000261624                   NaN\n",
       "4      ABC       128.71    25672782819                   NaN\n",
       "..     ...          ...            ...                   ...\n",
       "575    XYL       130.34    24200658546                   NaN\n",
       "576    YUM       130.93    38645409142                   NaN\n",
       "577    ZBH       157.83    32466095212                   NaN\n",
       "578   ZION        68.58    10812793982                   NaN\n",
       "579    ZTS       218.52   100679781339                   NaN\n",
       "\n",
       "[580 rows x 4 columns]"
      ]
     },
     "execution_count": 201,
     "metadata": {},
     "output_type": "execute_result"
    }
   ],
   "source": [
    "df"
   ]
  },
  {
   "cell_type": "markdown",
   "metadata": {},
   "source": [
    "As can be seen, batch requests are enormously faster than point requests if we have a large amounts of symbols for whom we need data. In this execution, it finished processing requests for the same number of symbols in **10.64** seconds, while sequential point requests took **543.73** seconds to do the same job."
   ]
  }
 ],
 "metadata": {
  "kernelspec": {
   "display_name": "Python 3",
   "language": "python",
   "name": "python3"
  },
  "language_info": {
   "codemirror_mode": {
    "name": "ipython",
    "version": 3
   },
   "file_extension": ".py",
   "mimetype": "text/x-python",
   "name": "python",
   "nbconvert_exporter": "python",
   "pygments_lexer": "ipython3",
   "version": "3.8.5"
  }
 },
 "nbformat": 4,
 "nbformat_minor": 4
}
