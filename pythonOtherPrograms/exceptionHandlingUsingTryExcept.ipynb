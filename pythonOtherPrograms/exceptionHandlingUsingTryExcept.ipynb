{
 "cells": [
  {
   "cell_type": "markdown",
   "metadata": {},
   "source": [
    "# Using try-except statements for handling exceptions"
   ]
  },
  {
   "cell_type": "code",
   "execution_count": 14,
   "metadata": {},
   "outputs": [
    {
     "name": "stdout",
     "output_type": "stream",
     "text": [
      "Enter a number: 2\n",
      "2.0 is an integer.\n"
     ]
    }
   ],
   "source": [
    "try:\n",
    "    num = float(input(\"Enter a number: \"))\n",
    "    if num.is_integer():\n",
    "        print(\"{0} is an integer.\".format(num))\n",
    "    else:\n",
    "        print(\"{0} is not an integer.\".format(num))\n",
    "except:\n",
    "    print(\"Not a number!\")"
   ]
  },
  {
   "cell_type": "code",
   "execution_count": 31,
   "metadata": {},
   "outputs": [],
   "source": [
    "def multi_table(n, m):\n",
    "    try:\n",
    "        x = float(n)\n",
    "        if float(m) < 0:\n",
    "            print(\"{0} is negative!\".format(m))\n",
    "        elif not float(m).is_integer():\n",
    "            print(\"{0} is not an integer!\".format(m))\n",
    "        else:\n",
    "            y = int(m)\n",
    "            for i in range (1, y + 1):\n",
    "                print(\"{0} X {1} = {2}\".format(x, i, x*i))\n",
    "    except:\n",
    "        print(\"Invalid inputs!\")"
   ]
  },
  {
   "cell_type": "code",
   "execution_count": 32,
   "metadata": {},
   "outputs": [
    {
     "name": "stdout",
     "output_type": "stream",
     "text": [
      "Enter a number: 2\n",
      "Enter no. of multiples: e\n",
      "Invalid inputs\n"
     ]
    }
   ],
   "source": [
    "n = input(\"Enter a number: \")\n",
    "m = input(\"Enter no. of multiples: \")\n",
    "multi_table(n, m)"
   ]
  },
  {
   "cell_type": "code",
   "execution_count": null,
   "metadata": {},
   "outputs": [],
   "source": []
  }
 ],
 "metadata": {
  "kernelspec": {
   "display_name": "Python 3",
   "language": "python",
   "name": "python3"
  },
  "language_info": {
   "codemirror_mode": {
    "name": "ipython",
    "version": 3
   },
   "file_extension": ".py",
   "mimetype": "text/x-python",
   "name": "python",
   "nbconvert_exporter": "python",
   "pygments_lexer": "ipython3",
   "version": "3.6.4"
  }
 },
 "nbformat": 4,
 "nbformat_minor": 2
}
