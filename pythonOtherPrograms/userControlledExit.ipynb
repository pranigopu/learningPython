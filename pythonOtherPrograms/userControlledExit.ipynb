{
 "cells": [
  {
   "cell_type": "markdown",
   "metadata": {},
   "source": [
    "# User controlled exit"
   ]
  },
  {
   "cell_type": "markdown",
   "metadata": {},
   "source": [
    "Here, we make it possible to have multiple iterations of input and output, not just one. For this to be practical, the user must be able to choose to exit the loop of inputs and outputs."
   ]
  },
  {
   "cell_type": "code",
   "execution_count": 1,
   "metadata": {},
   "outputs": [],
   "source": [
    "def counter():\n",
    "    i = 1\n",
    "    while True:\n",
    "        ans = input(\"Next? (y/n): \")\n",
    "        if ans == \"n\":\n",
    "            print(\"Goodbye.\")\n",
    "            break\n",
    "        elif ans == \"y\":\n",
    "            print(i)\n",
    "            i = i + 1\n",
    "        else:\n",
    "            print(\"Invalid option!\")"
   ]
  },
  {
   "cell_type": "code",
   "execution_count": 2,
   "metadata": {},
   "outputs": [
    {
     "name": "stdout",
     "output_type": "stream",
     "text": [
      "Next? (y/n): \n",
      "Invalid option!\n",
      "Next? (y/n): y\n",
      "1\n",
      "Next? (y/n): y\n",
      "2\n",
      "Next? (y/n): y\n",
      "3\n",
      "Next? (y/n): \n",
      "Invalid option!\n",
      "Next? (y/n): n\n",
      "Goodbye.\n"
     ]
    }
   ],
   "source": [
    "counter()"
   ]
  },
  {
   "cell_type": "code",
   "execution_count": 3,
   "metadata": {},
   "outputs": [],
   "source": [
    "def multipleGenerator():\n",
    "    i = 1\n",
    "    try:\n",
    "        n = float(input(\"Enter a factor: \"))\n",
    "    except:\n",
    "        print(\"Not a number!\")\n",
    "        return\n",
    "    print(\"{0} X {1} = {2}\".format(n, i, n * i))\n",
    "    while True:\n",
    "        ans = input(\"Next multiple? (y/n): \")\n",
    "        if ans == \"y\":\n",
    "            i = i + 1\n",
    "            print(\"{0} X {1} = {2}\".format(n, i, n * i))\n",
    "        elif ans == \"n\":\n",
    "            print(\"Goodbye.\")\n",
    "            break\n",
    "        else:\n",
    "            print(\"Invalid option!\")"
   ]
  },
  {
   "cell_type": "code",
   "execution_count": 4,
   "metadata": {},
   "outputs": [
    {
     "name": "stdout",
     "output_type": "stream",
     "text": [
      "Enter a factor: 3\n",
      "3.0 X 1 = 3.0\n",
      "Next multiple? (y/n): y\n",
      "3.0 X 2 = 6.0\n",
      "Next multiple? (y/n): y\n",
      "3.0 X 3 = 9.0\n",
      "Next multiple? (y/n): y\n",
      "3.0 X 4 = 12.0\n",
      "Next multiple? (y/n): h\n",
      "Invalid option!\n",
      "Next multiple? (y/n): n\n",
      "Goodbye.\n"
     ]
    }
   ],
   "source": [
    "multipleGenerator()"
   ]
  }
 ],
 "metadata": {
  "kernelspec": {
   "display_name": "Python 3",
   "language": "python",
   "name": "python3"
  },
  "language_info": {
   "codemirror_mode": {
    "name": "ipython",
    "version": 3
   },
   "file_extension": ".py",
   "mimetype": "text/x-python",
   "name": "python",
   "nbconvert_exporter": "python",
   "pygments_lexer": "ipython3",
   "version": "3.6.4"
  }
 },
 "nbformat": 4,
 "nbformat_minor": 2
}
