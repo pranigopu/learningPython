{
 "cells": [
  {
   "cell_type": "markdown",
   "metadata": {},
   "source": [
    "# Even-odd vending machine"
   ]
  },
  {
   "cell_type": "markdown",
   "metadata": {},
   "source": [
    "Take an integer, print whether it is even or odd, then print the next nine even or odd numbers"
   ]
  },
  {
   "cell_type": "code",
   "execution_count": 3,
   "metadata": {},
   "outputs": [
    {
     "name": "stdout",
     "output_type": "stream",
     "text": [
      "Enter an integer: 3\n",
      "3 is odd\n",
      "The next 9 odd numbers are\n",
      "5\n",
      "7\n",
      "9\n",
      "11\n",
      "13\n",
      "15\n",
      "17\n",
      "19\n",
      "21\n"
     ]
    }
   ],
   "source": [
    "def evenOddVendingMachine(n):\n",
    "    if(n % 2 == 0):\n",
    "        s = \"even\"\n",
    "    else:\n",
    "        s = \"odd\"\n",
    "    print(\"{0} is {1}\".format(n, s))\n",
    "    print(\"The next 9 {0} numbers are\".format(s))\n",
    "    i = 1\n",
    "    while i < 10:\n",
    "        print(\"{0}\".format(n + 2*i))\n",
    "        i = i + 1\n",
    "n = int(input(\"Enter an integer: \"))\n",
    "evenOddVendingMachine(n)"
   ]
  },
  {
   "cell_type": "code",
   "execution_count": null,
   "metadata": {},
   "outputs": [],
   "source": []
  }
 ],
 "metadata": {
  "kernelspec": {
   "display_name": "Python 3",
   "language": "python",
   "name": "python3"
  },
  "language_info": {
   "codemirror_mode": {
    "name": "ipython",
    "version": 3
   },
   "file_extension": ".py",
   "mimetype": "text/x-python",
   "name": "python",
   "nbconvert_exporter": "python",
   "pygments_lexer": "ipython3",
   "version": "3.6.4"
  }
 },
 "nbformat": 4,
 "nbformat_minor": 2
}
