{
 "cells": [
  {
   "cell_type": "markdown",
   "metadata": {},
   "source": [
    "# Generating multiplication tables"
   ]
  },
  {
   "cell_type": "markdown",
   "metadata": {},
   "source": [
    "We use the method format( ) with the method print( ) to enhance the output's format "
   ]
  },
  {
   "cell_type": "code",
   "execution_count": 11,
   "metadata": {},
   "outputs": [
    {
     "name": "stdout",
     "output_type": "stream",
     "text": [
      "Enter a number to get its multiplication table: 4\n",
      "4X1=4\n",
      "4X2=8\n",
      "4X3=12\n",
      "4X4=16\n",
      "4X5=20\n",
      "4X6=24\n",
      "4X7=28\n",
      "4X8=32\n",
      "4X9=36\n",
      "4X10=40\n",
      "4X11=44\n",
      "4X12=48\n",
      "4X13=52\n",
      "4X14=56\n",
      "4X15=60\n",
      "4X16=64\n",
      "4X17=68\n",
      "4X18=72\n",
      "4X19=76\n",
      "4X20=80\n"
     ]
    }
   ],
   "source": [
    "def multiplicationTable(num):\n",
    "    for i in range(1, 21):\n",
    "        print(\"{0}X{1}={2}\".format(num, i, num * i))\n",
    "num = int(input(\"Enter a number to get its multiplication table: \"))\n",
    "multiplicationTable(num)"
   ]
  }
 ],
 "metadata": {
  "kernelspec": {
   "display_name": "Python 3",
   "language": "python",
   "name": "python3"
  },
  "language_info": {
   "codemirror_mode": {
    "name": "ipython",
    "version": 3
   },
   "file_extension": ".py",
   "mimetype": "text/x-python",
   "name": "python",
   "nbconvert_exporter": "python",
   "pygments_lexer": "ipython3",
   "version": "3.6.4"
  }
 },
 "nbformat": 4,
 "nbformat_minor": 2
}
