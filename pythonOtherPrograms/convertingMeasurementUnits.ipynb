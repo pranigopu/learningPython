{
 "cells": [
  {
   "cell_type": "markdown",
   "source": [
    "# Conversion of measurement units"
   ],
   "metadata": {}
  },
  {
   "cell_type": "markdown",
   "source": [
    "The international system of units defines 7 base quantities."
   ],
   "metadata": {}
  },
  {
   "cell_type": "markdown",
   "source": [
    "length, mass, time and temparature are 4 of the 7 based quantities, with their standard units of measurements being meters, grams, seconds and kelvin respectively."
   ],
   "metadata": {}
  },
  {
   "cell_type": "markdown",
   "source": [
    "1 inch = 2.54 centimeters"
   ],
   "metadata": {}
  },
  {
   "cell_type": "markdown",
   "source": [
    "1 mile = 1.609 km"
   ],
   "metadata": {}
  },
  {
   "cell_type": "markdown",
   "source": [
    "Celsius = (Fahrenheit - 32)*5/9"
   ],
   "metadata": {}
  },
  {
   "cell_type": "markdown",
   "source": [
    "Fahrenheit = Celsius*9/5 + 32"
   ],
   "metadata": {}
  },
  {
   "cell_type": "markdown",
   "source": [
    "## Program to convert miles to kilometers or vice versa "
   ],
   "metadata": {}
  },
  {
   "cell_type": "code",
   "execution_count": 36,
   "source": [
    "def options():\n",
    "    print(\"Enter 1 to convert kilometers to miles\")\n",
    "    print(\"Enter anything else to convert miles to kilometers\")\n",
    "    return input()"
   ],
   "outputs": [],
   "metadata": {}
  },
  {
   "cell_type": "code",
   "execution_count": 37,
   "source": [
    "def kmToMil():\n",
    "    km = float(input(\"Enter no. of kilometers: \"))\n",
    "    print(\"{0} km = {1:.3f} mil\".format(km, km * 1.609))\n",
    "def milToKm():\n",
    "    mil= float(input(\"Enter no. of miles: \"))\n",
    "    print(\"{0} mil = {1:.3f} km\".format(mil, mil / 1.609))"
   ],
   "outputs": [],
   "metadata": {}
  },
  {
   "cell_type": "code",
   "execution_count": 38,
   "source": [
    "def kmAndMilConverter():\n",
    "    option = options()\n",
    "    if option == \"1\":\n",
    "        kmToMil()\n",
    "    else:\n",
    "        milToKm()"
   ],
   "outputs": [],
   "metadata": {}
  },
  {
   "cell_type": "code",
   "execution_count": 40,
   "source": [
    "kmAndMilConverter()"
   ],
   "outputs": [
    {
     "output_type": "stream",
     "name": "stdout",
     "text": [
      "Enter 1 to convert kilometers to miles\n",
      "Enter anything else to convert miles to kilometers\n",
      "2\n",
      "Enter no. of miles: 3\n",
      "3.0 mil = 1.865 km\n"
     ]
    }
   ],
   "metadata": {}
  },
  {
   "cell_type": "markdown",
   "source": [
    "# Enhanced unit converter"
   ],
   "metadata": {}
  },
  {
   "cell_type": "code",
   "execution_count": 41,
   "source": [
    "def moreOptions():\n",
    "    print(\"Enter 1 to convert kilometers to miles\")\n",
    "    print(\"Enter 2 to convert miles to kilometers\")\n",
    "    print(\"Enter 3 to convert Celsius to Fahrenheit\")\n",
    "    print(\"Enter 4 to convert Fahrenheit to Celsius\")\n",
    "    print(\"Enter 5 to convert kilograms to pounds\")\n",
    "    print(\"Enter 6 to convert pounds to kilograms\")\n",
    "    return input()"
   ],
   "outputs": [],
   "metadata": {}
  },
  {
   "cell_type": "code",
   "execution_count": 48,
   "source": [
    "def celsiusToFahr():\n",
    "    c = float(input(\"Enter degrees Celsius: \"))\n",
    "    print(\"{0}°C = {1:.3f}°F\".format(c, c * 9 / 5 + 32))\n",
    "def fahrToCelsius():\n",
    "    f = float(input(\"Enter degrees Fahrenheit: \"))\n",
    "    print(\"{0}°C = {1:.3f}°F\".format(f, (f - 32) * 5 / 9))\n",
    "def kiloToPound():\n",
    "    k = float(input(\"Enter weight in kilograms: \"))\n",
    "    print(\"{0} kg = {1:.3f} pound\".format(k, k * 2.205))\n",
    "def poundToKilo():\n",
    "    p = float(input(\"Enter weight in pounds: \"))\n",
    "    print(\"{0} pound = {1:.3f} kg\".format(p, p / 2.205))"
   ],
   "outputs": [],
   "metadata": {}
  },
  {
   "cell_type": "code",
   "execution_count": 43,
   "source": [
    "def enhancedUnitConverter():\n",
    "    option = moreOptions()\n",
    "    if option == \"1\":\n",
    "        kmToMil()\n",
    "    elif option == \"2\":\n",
    "        milToKm()\n",
    "    elif option == \"3\":\n",
    "        celsiusToFahr()\n",
    "    elif option == \"4\":\n",
    "        fahrToCelsius()\n",
    "    elif option == \"5\":\n",
    "        kiloToPound()\n",
    "    elif option == \"6\":\n",
    "        poundToKilo()\n",
    "    else:\n",
    "        print(\"Invalid option\")"
   ],
   "outputs": [],
   "metadata": {}
  },
  {
   "cell_type": "code",
   "execution_count": 49,
   "source": [
    "enhancedUnitConverter()"
   ],
   "outputs": [
    {
     "output_type": "stream",
     "name": "stdout",
     "text": [
      "Enter 1 to convert kilometers to miles\n",
      "Enter 2 to convert miles to kilometers\n",
      "Enter 3 to convert Celsius to Fahrenheit\n",
      "Enter 4 to convert Fahrenheit to Celsius\n",
      "Enter 5 to convert kilograms to pounds\n",
      "Enter 6 to convert pounds to kilograms\n",
      "3\n",
      "Enter degrees Celsius: 35\n",
      "35.0°C = 95.000°F\n"
     ]
    }
   ],
   "metadata": {}
  }
 ],
 "metadata": {
  "kernelspec": {
   "display_name": "Python 3",
   "language": "python",
   "name": "python3"
  },
  "language_info": {
   "codemirror_mode": {
    "name": "ipython",
    "version": 3
   },
   "file_extension": ".py",
   "mimetype": "text/x-python",
   "name": "python",
   "nbconvert_exporter": "python",
   "pygments_lexer": "ipython3",
   "version": "3.6.4"
  }
 },
 "nbformat": 4,
 "nbformat_minor": 2
}