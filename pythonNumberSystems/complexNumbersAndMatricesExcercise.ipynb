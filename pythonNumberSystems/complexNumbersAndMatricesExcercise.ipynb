{
 "cells": [
  {
   "cell_type": "markdown",
   "metadata": {},
   "source": [
    "# Sem 4, Assignment 1"
   ]
  },
  {
   "cell_type": "markdown",
   "metadata": {},
   "source": [
    "## Question 1"
   ]
  },
  {
   "cell_type": "markdown",
   "metadata": {},
   "source": [
    "Verify the property $sin(ai)=isinh(a)$"
   ]
  },
  {
   "cell_type": "code",
   "execution_count": 55,
   "metadata": {},
   "outputs": [
    {
     "name": "stdout",
     "output_type": "stream",
     "text": [
      "The given formula is\n",
      "sin(ai) = isinh(a)\n",
      "Enter the value of a: 2\n",
      "The following is the answer to whether the LHS equals the RHS...\n"
     ]
    },
    {
     "data": {
      "text/plain": [
       "True"
      ]
     },
     "execution_count": 55,
     "metadata": {},
     "output_type": "execute_result"
    }
   ],
   "source": [
    "import cmath as cm\n",
    "print(\"The given formula is\\nsin(ai) = isinh(a)\")\n",
    "a = float(input(\"Enter the value of a: \"))\n",
    "print(\"The following is the answer to whether the LHS equals the RHS...\")\n",
    "cm.sin(a * complex(0, 1)) == complex(0, 1)*cm.sinh(a)"
   ]
  },
  {
   "cell_type": "markdown",
   "metadata": {},
   "source": [
    "## Question 2"
   ]
  },
  {
   "cell_type": "markdown",
   "metadata": {},
   "source": [
    "Verify the property $e^{iq} = cos(q) + isin(q)$"
   ]
  },
  {
   "cell_type": "code",
   "execution_count": 54,
   "metadata": {},
   "outputs": [
    {
     "name": "stdout",
     "output_type": "stream",
     "text": [
      "Euler's formula is\n",
      "e^(iq) = cos(q) + isin(q)\n",
      "Enter the value of q: 65\n",
      "The following is the answer to whether the LHS equals the RHS...\n"
     ]
    },
    {
     "data": {
      "text/plain": [
       "True"
      ]
     },
     "execution_count": 54,
     "metadata": {},
     "output_type": "execute_result"
    }
   ],
   "source": [
    "import cmath as cm\n",
    "print(\"Euler's formula is\\ne^(iq) = cos(q) + isin(q)\")\n",
    "q = float(input(\"Enter the value of q: \"))\n",
    "print(\"The following is the answer to whether the LHS equals the RHS...\")\n",
    "cm.exp(complex(0, 1) * q) == cm.cos(q) + complex(0, 1)*cm.sin(q)"
   ]
  },
  {
   "cell_type": "markdown",
   "metadata": {},
   "source": [
    "## Question 3"
   ]
  },
  {
   "cell_type": "markdown",
   "metadata": {},
   "source": [
    "Write a python program to define a 4x4 matrix (user defined) and compute some operations."
   ]
  },
  {
   "cell_type": "code",
   "execution_count": 39,
   "metadata": {},
   "outputs": [
    {
     "name": "stdout",
     "output_type": "stream",
     "text": [
      "Enter value at row 0 column 0: 2\n",
      "Enter value at row 0 column 1: 4\n",
      "Enter value at row 0 column 2: 1\n",
      "Enter value at row 0 column 3: 7\n",
      "Enter value at row 1 column 0: 4\n",
      "Enter value at row 1 column 1: 7\n",
      "Enter value at row 1 column 2: 9\n",
      "Enter value at row 1 column 3: 4\n",
      "Enter value at row 2 column 0: 6\n",
      "Enter value at row 2 column 1: 9\n",
      "Enter value at row 2 column 2: 4\n",
      "Enter value at row 2 column 3: 5\n",
      "Enter value at row 3 column 0: 5\n",
      "Enter value at row 3 column 1: 3\n",
      "Enter value at row 3 column 2: 0\n",
      "Enter value at row 3 column 3: -5\n",
      "Your matrix is [[ 2.  4.  1.  7.]\n",
      " [ 4.  7.  9.  4.]\n",
      " [ 6.  9.  4.  5.]\n",
      " [ 5.  3.  0. -5.]]\n",
      "\n",
      "A**2 is\n",
      "[[ 4. 16.  1. 49.]\n",
      " [16. 49. 81. 16.]\n",
      " [36. 81. 16. 25.]\n",
      " [25.  9.  0. 25.]]\n",
      "A**2 is\n",
      "[[ 14.  52.   4. 154.]\n",
      " [ 52. 154. 252.  52.]\n",
      " [114. 252.  52.  80.]\n",
      " [ 80.  30.   0.  70.]]\n",
      "A**2 is\n",
      "[[ -3.   4.   1.   7.]\n",
      " [  4.   2.   9.   4.]\n",
      " [  6.   9.  -1.   5.]\n",
      " [  5.   3.   0. -10.]]\n"
     ]
    }
   ],
   "source": [
    "import numpy as np\n",
    "A = np.zeros((4, 4))\n",
    "for i in range(0, 4):\n",
    "    for j in range(0, 4):\n",
    "        while True:\n",
    "            try:\n",
    "                x = float(input(\"Enter value at row {0} column {1}: \".format(i, j)))\n",
    "                A[i][j] = x\n",
    "                break\n",
    "            except:\n",
    "                print(\"Invalid number, please re-enter.\")\n",
    "print(\"Your matrix is {0}\\n\".format(A))\n",
    "print(\"A**2 is\\n{0}\".format(A**2))\n",
    "print(\"A**2 is\\n{0}\".format(A + 3*A**2))\n",
    "print(\"A**2 is\\n{0}\".format(A - 5*np.identity(4)))"
   ]
  },
  {
   "cell_type": "markdown",
   "metadata": {},
   "source": [
    "## Question 4"
   ]
  },
  {
   "cell_type": "markdown",
   "metadata": {},
   "source": [
    "Extract the second row and third column from the following matrix."
   ]
  },
  {
   "cell_type": "code",
   "execution_count": 21,
   "metadata": {},
   "outputs": [
    {
     "name": "stdout",
     "output_type": "stream",
     "text": [
      "The matrix is\n",
      "[[ 0  1  1  4]\n",
      " [ 3  6 -3  3]\n",
      " [-2 -3  7 10]]\n",
      "The 2nd row is\n",
      "[[ 3  6 -3  3]]\n",
      "The 3rd column is\n",
      "[[ 1]\n",
      " [-3]\n",
      " [ 7]]\n"
     ]
    }
   ],
   "source": [
    "import numpy as np\n",
    "A = np.matrix([[0, 1, 1, 4], [3, 6, -3, 3], [-2, -3, 7, 10]])\n",
    "print(\"The matrix is\\n{0}\".format(A))\n",
    "print(\"The 2nd row is\\n{0}\".format(A[1]))\n",
    "print(\"The 3rd column is\\n{0}\".format(A[:, 2]))"
   ]
  }
 ],
 "metadata": {
  "kernelspec": {
   "display_name": "Python 3",
   "language": "python",
   "name": "python3"
  },
  "language_info": {
   "codemirror_mode": {
    "name": "ipython",
    "version": 3
   },
   "file_extension": ".py",
   "mimetype": "text/x-python",
   "name": "python",
   "nbconvert_exporter": "python",
   "pygments_lexer": "ipython3",
   "version": "3.8.5"
  }
 },
 "nbformat": 4,
 "nbformat_minor": 4
}
