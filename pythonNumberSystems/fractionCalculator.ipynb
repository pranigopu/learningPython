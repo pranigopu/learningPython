{
 "cells": [
  {
   "cell_type": "markdown",
   "metadata": {},
   "source": [
    "# Fraction calculator"
   ]
  },
  {
   "cell_type": "markdown",
   "metadata": {},
   "source": [
    "A basic calculator that inputs two fractions and one operator"
   ]
  },
  {
   "cell_type": "code",
   "execution_count": 1,
   "metadata": {},
   "outputs": [],
   "source": [
    "from fractions import Fraction"
   ]
  },
  {
   "cell_type": "code",
   "execution_count": 5,
   "metadata": {},
   "outputs": [],
   "source": [
    "def calculate(n1, n2, operator):\n",
    "    if operator == \"+\":\n",
    "        ans = n1 + n2\n",
    "    elif operator == \"-\":\n",
    "        ans = n1 - n2\n",
    "    elif operator == \"*\":\n",
    "        ans = n1 * n2\n",
    "    elif operator == \"/\":\n",
    "        ans = n1 / n2\n",
    "    else:\n",
    "        print(\"Operator not found!\")\n",
    "        return\n",
    "    print(\"{0} {1} {2} = {3}\".format(n1, operator, n2, ans))"
   ]
  },
  {
   "cell_type": "code",
   "execution_count": 11,
   "metadata": {},
   "outputs": [],
   "source": [
    "def fractionCalculator():\n",
    "    try:\n",
    "        frac1 = Fraction(input(\"Enter fraction 1: \"))\n",
    "        frac2 = Fraction(input(\"Enter fraction 2: \"))\n",
    "    except:\n",
    "        print(\"Invalid fraction!\")\n",
    "        return\n",
    "    operator = input(\"Enter operator: \")\n",
    "    calculate(frac1, frac2, operator)"
   ]
  },
  {
   "cell_type": "code",
   "execution_count": 12,
   "metadata": {},
   "outputs": [
    {
     "name": "stdout",
     "output_type": "stream",
     "text": [
      "Enter fraction 1: 1/2\n",
      "Enter fraction 2: 3/2\n",
      "Enter operator: +\n",
      "1/2 + 3/2 = 2\n"
     ]
    }
   ],
   "source": [
    "fractionCalculator()"
   ]
  }
 ],
 "metadata": {
  "kernelspec": {
   "display_name": "Python 3",
   "language": "python",
   "name": "python3"
  },
  "language_info": {
   "codemirror_mode": {
    "name": "ipython",
    "version": 3
   },
   "file_extension": ".py",
   "mimetype": "text/x-python",
   "name": "python",
   "nbconvert_exporter": "python",
   "pygments_lexer": "ipython3",
   "version": "3.6.4"
  }
 },
 "nbformat": 4,
 "nbformat_minor": 2
}
