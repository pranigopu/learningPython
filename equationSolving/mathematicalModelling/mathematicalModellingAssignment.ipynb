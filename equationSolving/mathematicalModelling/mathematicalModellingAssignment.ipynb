{
 "cells": [
  {
   "cell_type": "markdown",
   "metadata": {},
   "source": [
    "# How long does it take for a given amount of money to triple at 10% per annum compounded annually"
   ]
  },
  {
   "cell_type": "code",
   "execution_count": 3,
   "metadata": {},
   "outputs": [],
   "source": [
    "from sympy import *\n",
    "from numpy import *"
   ]
  },
  {
   "cell_type": "code",
   "execution_count": 14,
   "metadata": {},
   "outputs": [
    {
     "name": "stdout",
     "output_type": "stream",
     "text": [
      "Annual compound interest amount function\n",
      "                t\n",
      "f(t) = P⋅(r + 1) \n",
      "Substituting f(t) with 2*P and r with 0.1 to get the equation to solve\n",
      "         t  \n",
      "3⋅P = 1.1 ⋅P\n",
      "The time period required is 11.5267046072476 years\n"
     ]
    }
   ],
   "source": [
    "t = Symbol('t') # Time\n",
    "f = Function('f')(t) # Total amount\n",
    "P = Symbol('P') # Principal\n",
    "r = Symbol('r') # Interest rate\n",
    "K = Eq(f, P*(1 + r)**t)\n",
    "\n",
    "print(\"Annual compound interest amount function\")\n",
    "pprint(K)\n",
    "\n",
    "L = K.subs({f : 3*P, r : 0.1})\n",
    "print(\"Substituting f(t) with 2*P and r with 0.1 to get the equation to solve\")\n",
    "pprint(L)\n",
    "\n",
    "M = solve(L, t)\n",
    "print(\"The time period required is {0} years\".format(M[0]))"
   ]
  },
  {
   "cell_type": "markdown",
   "metadata": {},
   "source": [
    "# In a bank, principle increases continuously at the rate of r% per year. Find the value of r if Rs. 100 doubles itself in 10 years."
   ]
  },
  {
   "cell_type": "code",
   "execution_count": 15,
   "metadata": {},
   "outputs": [
    {
     "name": "stdout",
     "output_type": "stream",
     "text": [
      "Annual compound interest amount function\n",
      "                       r⋅t  \n",
      "f(t) = 2.71828182845905   ⋅P\n",
      "Substituting f(t) with 2*100, P with 100 and t with 10 to get the equation to solve\n",
      "                          10⋅r\n",
      "200 = 100⋅2.71828182845905    \n",
      "The rate required is 6.93147180559944 %\n"
     ]
    }
   ],
   "source": [
    "t = Symbol('t') # Time\n",
    "f = Function('f')(t) # Total amount\n",
    "P = Symbol('P') # Principal\n",
    "r = Symbol('r') # Interest rate\n",
    "K = Eq(f, P*e**(r*t))\n",
    "# Since interest is compounded continuously, we use the above formula\n",
    "\n",
    "print(\"Annual compound interest amount function\")\n",
    "pprint(K)\n",
    "\n",
    "L = K.subs({f : 200, P : 100, t : 10})\n",
    "print(\"Substituting f(t) with 2*100, P with 100 and t with 10 to get the equation to solve\")\n",
    "pprint(L)\n",
    "\n",
    "M = solve(L, r)\n",
    "print(\"The rate required is {0} %\".format(M[0] * 100))"
   ]
  },
  {
   "cell_type": "markdown",
   "metadata": {},
   "source": [
    "# How long does it take for a given amount of money to double at 15% per annum compounded continuously."
   ]
  },
  {
   "cell_type": "code",
   "execution_count": 16,
   "metadata": {},
   "outputs": [
    {
     "name": "stdout",
     "output_type": "stream",
     "text": [
      "Annual compound interest amount function\n",
      "                       r⋅t  \n",
      "f(t) = 2.71828182845905   ⋅P\n",
      "Substituting f(t) with 2*P and r with 0.1 to get the equation to solve\n",
      "                      0.15⋅t  \n",
      "2⋅P = 2.71828182845905      ⋅P\n",
      "The time period required is 4.62098120373296 years\n"
     ]
    }
   ],
   "source": [
    "t = Symbol('t') # Time\n",
    "f = Function('f')(t) # Total amount\n",
    "P = Symbol('P') # Principal\n",
    "r = Symbol('r') # Interest rate\n",
    "K = Eq(f, P*e**(r*t))\n",
    "# Since interest is compounded continuously, we use the above formula\n",
    "\n",
    "print(\"Annual compound interest amount function\")\n",
    "pprint(K)\n",
    "\n",
    "L = K.subs({f : 2*P, r : 0.15})\n",
    "print(\"Substituting f(t) with 2*P and r with 0.1 to get the equation to solve\")\n",
    "pprint(L)\n",
    "\n",
    "M = solve(L, t)\n",
    "print(\"The time period required is {0} years\".format(M[0]))"
   ]
  },
  {
   "cell_type": "markdown",
   "metadata": {},
   "source": [
    "# Steve deposited Rs.9000 in a bank account and 10 years later he closed out the account,which is worth Rs.18000. What is the annual interest rate over the 10 years?"
   ]
  },
  {
   "cell_type": "code",
   "execution_count": 21,
   "metadata": {},
   "outputs": [
    {
     "name": "stdout",
     "output_type": "stream",
     "text": [
      "Annual compound interest amount function\n",
      "                t\n",
      "f(t) = P⋅(r + 1) \n",
      "Substituting f(t) with 2*100, P with 100 and t with 10 to get the equation to solve\n",
      "                    10\n",
      "18000 = 9000⋅(r + 1)  \n",
      "The rate required is -2.071773462536293 %\n"
     ]
    }
   ],
   "source": [
    "t = Symbol('t') # Time\n",
    "f = Function('f')(t) # Total amount\n",
    "P = Symbol('P') # Principal\n",
    "r = Symbol('r') # Interest rate\n",
    "K = Eq(f, P*(1 + r)**t)\n",
    "# Since interest is compounded continuously, we use the above formula\n",
    "\n",
    "print(\"Annual compound interest amount function\")\n",
    "pprint(K)\n",
    "\n",
    "L = K.subs({f : 18000, P : 9000, t : 10})\n",
    "print(\"Substituting f(t) with 2*100, P with 100 and t with 10 to get the equation to solve\")\n",
    "pprint(L)\n",
    "\n",
    "M = solve(L, r)\n",
    "print(\"The rate required is {0} %\".format(float(M[0])))"
   ]
  }
 ],
 "metadata": {
  "kernelspec": {
   "display_name": "Python 3",
   "language": "python",
   "name": "python3"
  },
  "language_info": {
   "codemirror_mode": {
    "name": "ipython",
    "version": 3
   },
   "file_extension": ".py",
   "mimetype": "text/x-python",
   "name": "python",
   "nbconvert_exporter": "python",
   "pygments_lexer": "ipython3",
   "version": "3.8.5"
  }
 },
 "nbformat": 4,
 "nbformat_minor": 4
}
