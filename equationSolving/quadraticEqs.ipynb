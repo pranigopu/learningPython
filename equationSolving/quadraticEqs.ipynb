{
 "cells": [
  {
   "cell_type": "markdown",
   "metadata": {},
   "source": [
    "# Quadratic equations"
   ]
  },
  {
   "cell_type": "markdown",
   "metadata": {},
   "source": [
    "Let general quadratic equation be $ax^2 + bx + c = 0$"
   ]
  },
  {
   "cell_type": "markdown",
   "metadata": {},
   "source": [
    "Let the roots of the above equation be"
   ]
  },
  {
   "cell_type": "markdown",
   "metadata": {},
   "source": [
    "$x_1 = \\frac{-b + \\sqrt{b^2 - 4ac}}{2a}$"
   ]
  },
  {
   "cell_type": "markdown",
   "metadata": {},
   "source": [
    "$x_2 = \\frac{-b - \\sqrt{b^2 - 4ac}}{2a}$"
   ]
  },
  {
   "cell_type": "markdown",
   "metadata": {},
   "source": [
    "Comparing the general equation to $2x^2 + 4x + 7 = 0$, we have"
   ]
  },
  {
   "cell_type": "markdown",
   "metadata": {},
   "source": [
    "$a = 2, b = 4, c = 7$"
   ]
  },
  {
   "cell_type": "markdown",
   "metadata": {},
   "source": [
    "To solve the equation, we store the values of $a, b$ and $c$"
   ]
  },
  {
   "cell_type": "markdown",
   "metadata": {},
   "source": [
    "Then we substitute these values in the determinants, i.e. the values within the square root of $x_1$ and $x_2$, i.e."
   ]
  },
  {
   "cell_type": "markdown",
   "metadata": {},
   "source": [
    "$b^2 - 4ac$"
   ]
  },
  {
   "cell_type": "markdown",
   "metadata": {},
   "source": [
    "If determinant is positive, then proceed to  find $x_1$ and $x_2$"
   ]
  },
  {
   "cell_type": "markdown",
   "metadata": {},
   "source": [
    "If determinant is negative, then find $\\frac{-b}{2a}$ separately as r, and write the roots as complex numbers $r + di$ and $r - di$, where d is the determinant and i is $\\sqrt-1$"
   ]
  },
  {
   "cell_type": "code",
   "execution_count": 3,
   "metadata": {},
   "outputs": [],
   "source": [
    "import math\n",
    "def roots(a, b, c):\n",
    "    a = float(a)\n",
    "    b = float(b)\n",
    "    c = float(c)\n",
    "    d = float(b*b - 4*a*c)\n",
    "    if d < 0:\n",
    "        print(\"Root 1: {0} + {1}i\".format(-b/2*a, math.sqrt(-d)/2*a))\n",
    "        print(\"Root 2: {0} - {1}i\".format(-b/2*a, math.sqrt(-d)/2*a))\n",
    "    else:\n",
    "        print(\"Root 1: {0}\".format((-b + math.sqrt(d))/2*a))\n",
    "        print(\"Root 2: {0}\".format((-b - math.sqrt(d))/2*a))"
   ]
  },
  {
   "cell_type": "code",
   "execution_count": 4,
   "metadata": {},
   "outputs": [
    {
     "name": "stdout",
     "output_type": "stream",
     "text": [
      "Enter coefficient of x^2: 2\n",
      "Enter coefficient of x: 3\n",
      "Enter constant: 4\n",
      "Root 1: -3.0 + 4.795831523312719i\n",
      "Root 2: -3.0 - 4.795831523312719i\n"
     ]
    }
   ],
   "source": [
    "a = float(input(\"Enter coefficient of x^2: \"))\n",
    "b = float(input(\"Enter coefficient of x: \"))\n",
    "c = float(input(\"Enter constant: \"))\n",
    "roots(a, b, c)"
   ]
  }
 ],
 "metadata": {
  "kernelspec": {
   "display_name": "Python 3",
   "language": "python",
   "name": "python3"
  },
  "language_info": {
   "codemirror_mode": {
    "name": "ipython",
    "version": 3
   },
   "file_extension": ".py",
   "mimetype": "text/x-python",
   "name": "python",
   "nbconvert_exporter": "python",
   "pygments_lexer": "ipython3",
   "version": "3.8.5"
  }
 },
 "nbformat": 4,
 "nbformat_minor": 2
}
