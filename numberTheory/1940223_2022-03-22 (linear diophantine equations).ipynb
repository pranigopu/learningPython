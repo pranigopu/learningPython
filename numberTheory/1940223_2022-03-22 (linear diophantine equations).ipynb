{
 "cells": [
  {
   "cell_type": "markdown",
   "metadata": {},
   "source": [
    "**AIM**: Creating a function to find the general solution of a given linear Diophantine equation."
   ]
  },
  {
   "cell_type": "markdown",
   "metadata": {},
   "source": [
    "# Computationally efficient code"
   ]
  },
  {
   "cell_type": "code",
   "execution_count": 10,
   "metadata": {},
   "outputs": [],
   "source": [
    "def gcd(s, t):\n",
    "    r = s % t\n",
    "    if r == 0: return t\n",
    "    return gcd(t, r)\n",
    "\n",
    "from sympy import Symbol\n",
    "def linDiophantine_computationallyEfficientCode(a, b, c):\n",
    "    d = gcd(a, b)\n",
    "    #====================================\n",
    "# PARTICULAR SOLUTION\n",
    "#------------\n",
    "# If d = gcd(a, b) does not divide b...\n",
    "    if  c % d != 0:\n",
    "        print(\"No integer solutions!\")\n",
    "        return\n",
    "#------------\n",
    "# If d = gcd(a, b) divides b...\n",
    "    x0 = 0\n",
    "    while True: # Solution is guaranteed\n",
    "        tmp = a*x0 - c\n",
    "        if tmp % b == 0: break\n",
    "        x0 = x0 + 1\n",
    "    \"\"\"\n",
    "    NOTE:\n",
    "    ax + by = c => ax - c = -by => b | (ax - c)\n",
    "    Hence, we iterate for x = 0, 1, 2...\n",
    "    If gcd(a, b) | c, solution is guaranteed, even positive solution.\n",
    "    \"\"\"\n",
    "    \n",
    "    y0 = -(a*x0 - c)/b\n",
    "#====================================\n",
    "# GENERAL SOLUTION\n",
    "#------------\n",
    "    t = Symbol('t')\n",
    "    x = x0 + (b/d)*t\n",
    "    y = y0 - (a/d)*t\n",
    "#====================================\n",
    "# RETURN VALUE\n",
    "#------------\n",
    "    return {'x': x, 'y': y}"
   ]
  },
  {
   "cell_type": "code",
   "execution_count": 11,
   "metadata": {},
   "outputs": [
    {
     "name": "stdout",
     "output_type": "stream",
     "text": [
      "For ax + by = c...\n",
      "a = 18\n",
      "b = 42\n",
      "c = 30\n",
      "{'x': 7.0*t + 4, 'y': -3.0*t - 1.0}\n"
     ]
    }
   ],
   "source": [
    "def inputInteger(prompt):\n",
    "    while True:\n",
    "        try: return int(input(prompt))\n",
    "        except: print(\"Please enter integer values!\")\n",
    "#====================================\n",
    "print(\"For ax + by = c...\")\n",
    "a = inputInteger(\"a = \")\n",
    "b = inputInteger(\"b = \")\n",
    "c = inputInteger(\"c = \")\n",
    "#====================================\n",
    "print(linDiophantine_computationallyEfficientCode(a, b, c))"
   ]
  },
  {
   "cell_type": "markdown",
   "metadata": {},
   "source": [
    "# Simulating handwritten method"
   ]
  },
  {
   "cell_type": "markdown",
   "metadata": {},
   "source": [
    "Computationally, the following method is far less efficient and far more complicated that the above code. However, it was an interesting challenge to simulate the method we use to solve linear Diophantine equations manually... Plus, I didn't think about the above (undisputably better) code myself, instead coming up originally with the clunky, unnecessarily complicated option :'("
   ]
  },
  {
   "cell_type": "markdown",
   "metadata": {},
   "source": [
    "## Helper functions"
   ]
  },
  {
   "cell_type": "code",
   "execution_count": 5,
   "metadata": {},
   "outputs": [],
   "source": [
    "# Finding the GCD of two numbers\n",
    "def gcd(s, t):\n",
    "    r = s % t\n",
    "    if r == 0: return t\n",
    "    return gcd(t, r)\n",
    "#====================================\n",
    "\n",
    "\"\"\"\n",
    "NOTES ON THE FOLLOWING FUNCTIONS\n",
    "------------------------\n",
    "The following functions are used to calculate the particular solution\n",
    "of the linear Diophantine equation ax + by = c. The aim of these functions is to\n",
    "obtain an expression for gcd(a, b) in terms of ak + bh. Hence, you get\n",
    "d = ak + bh; where d = gcd(a, b)\n",
    "=> d*(c/d) = c = a(k*c/d) + b(h*c/d)\n",
    "Hence, you can obtain a particular solution for x and y as\n",
    "x = k*c/d, y = h*c/d\n",
    "\n",
    "I have used s and t (instead of a and b) to visually separate\n",
    "the following functions from the context of the linear Diophantine equation form,\n",
    "since these functions can be used in a variety of contexts in different ways.\n",
    "For example, they can be used for solving the linear congruence ax ≡ b(mod n),\n",
    "where we get the linear Diophantine equation ax + ny = b.\n",
    "\"\"\"\n",
    "\n",
    "# Euclidean algorithm simulator\n",
    "def euclidalg(s, t, alias):\n",
    "# 'alias' allows for customised variable naming in the expressions\n",
    "    q, r, Q, R = 1, 1, ['', ''], [alias[0], alias[1]]\n",
    "\n",
    "    \"\"\"\n",
    "    NOTES\n",
    "    This function returns the quotients and remainders of the Euclidean algorithm process.\n",
    "    The expression making algorithm considers every dividend as a previous remainder.\n",
    "    Hence, we include s and t at the start of the remainders list to enable it.\n",
    "    We don't include the values, only the character, so we can factorize it easily.\n",
    "    \"\"\"\n",
    "\n",
    "    while r > 0:\n",
    "        q, r = s // t, s % t\n",
    "        s, t = t, r\n",
    "        Q.append(q)\n",
    "        R.append(r)\n",
    "    return (Q, R)\n",
    "\n",
    "# Finds the expression for each remainder in the Euclidean algorithm\n",
    "def euclidalgRemainderExpressions(s, t, alias):\n",
    "    (Q, R) = euclidalg(s, t, alias)\n",
    "    E = []\n",
    "    i = len(R) - 2\n",
    "    while i > 1:\n",
    "        E.insert(0, [str(R[i]), str(R[i-2])+'-'+str(Q[i])+\"*\"+str(R[i-1])])\n",
    "# Each element is a tuple containing the remainder and its expression.\n",
    "        i = i - 1\n",
    "    return E\n",
    "# Returning the remainders as well, for reference.\n",
    "# They are reversed to match the expression orders.\n",
    "\n",
    "# Obtain gcd(s, t) as sk + th\n",
    "from sympy import simplify, Symbol\n",
    "def gcdExpression(s, t, alias):\n",
    "    E = euclidalgRemainderExpressions(s, t, alias)\n",
    "    for i in range(1, len(E)): # Skipping the first element\n",
    "        E[i][1] = E[i][1][:-len(E[i-1][0])] + \"(\" + E[i-1][1] + \")\"\n",
    "\n",
    "    \"\"\"\n",
    "    NOTES\n",
    "    E[i-1][0] denotes the previous remainder.\n",
    "    The current remainder's expression contains this.\n",
    "    The code was designed so this previous remainder appears at the end.\n",
    "    The length of this remainder is given by len(E[i-1][0]).\n",
    "    To exclude this remainder, we do E[i][1][:-len(E[i-1][0])].\n",
    "    \"\"\"\n",
    "    \n",
    "# Obtaining the expression for the GCD\n",
    "    try: E[-1][1] = E[-3][1] + E[-1][1][len(E[-3][0]):]\n",
    "    except: pass\n",
    "\n",
    "    \"\"\"\n",
    "    NOTES\n",
    "    Based on the structure of Euclidean algorithm for s and t...\n",
    "    s = q_1*t + r_1\n",
    "    t = q_2*r_1 + r_2\n",
    "    r_1 = q_3*r_2 + r_3\n",
    "    ...\n",
    "    r_(n-3) = q_(n-1)*r_(n-2) + r_(n-1)\n",
    "    r_(n-2) = q_(n)*r_(n-1) + r_n\n",
    "    r_(n-1) = q_(n+1)*r_n + 0\n",
    "\n",
    "    Hence, we get the last non-zero remainder r_n (also the GCD of the s and t) as\n",
    "    r_n = r_(n-2) - q_(n+1)•r_(n-1)\n",
    "    Now, note that in our loop, we only replace the tail remainder with its expression.\n",
    "    But for the GCD's expression, we need to replace the head remainder as well.\n",
    "    The head remainder of the GCD's expression is E[-3][1]\n",
    "    Hence, we do E[-1][1] = E[-3][1] + E[-1][1][len(E[-3][0]):].\n",
    "\n",
    "    We use a try except block because sometimes this substitution is not necessary.\n",
    "    \"\"\"\n",
    "    \n",
    "# Obtaining the expression for gcd(s, t) in the form sk + th\n",
    "    expression = E[-1][1]\n",
    "    return simplify(expression)\n",
    "# Last expression equals gcd(s, t)"
   ]
  },
  {
   "cell_type": "markdown",
   "metadata": {},
   "source": [
    "**Demonstrations of the above functions...**"
   ]
  },
  {
   "cell_type": "code",
   "execution_count": 6,
   "metadata": {},
   "outputs": [
    {
     "name": "stdout",
     "output_type": "stream",
     "text": [
      "\n",
      "gcd(s, t):\n",
      "1\n",
      "\n",
      "euclidalg(s, t):\n",
      "(['', '', 1, 1, 2, 2], ['s', 't', 5, 2, 1, 0])\n",
      "\n",
      "euclidalgRemainderExpressions(s, t):\n",
      "[['5', 's-1*t'], ['2', 't-1*5'], ['1', '5-2*2']]\n",
      "\n",
      "gcdExpression(s, t)\n",
      "3*s - 5*t\n"
     ]
    }
   ],
   "source": [
    "s, t = 12, 7\n",
    "\n",
    "print(\"\\ngcd(s, t):\")\n",
    "print(gcd(s, t))\n",
    "\n",
    "print(\"\\neuclidalg(s, t):\")\n",
    "print(euclidalg(s, t, ['s', 't']))\n",
    "\n",
    "print(\"\\neuclidalgRemainderExpressions(s, t):\")\n",
    "print(euclidalgRemainderExpressions(s, t, ['s', 't']))\n",
    "\n",
    "print(\"\\ngcdExpression(s, t)\")\n",
    "print(gcdExpression(s, t, ['s', 't']))"
   ]
  },
  {
   "cell_type": "markdown",
   "metadata": {},
   "source": [
    "## Main function"
   ]
  },
  {
   "cell_type": "code",
   "execution_count": 1,
   "metadata": {},
   "outputs": [],
   "source": [
    "# Particular and general solution of a linear Diophantine equation ax + by = c\n",
    "def linDiophantine_handWrittenMethodSimulation(a, b, c):\n",
    "    d = gcd(a, b)\n",
    "#====================================\n",
    "# PARTICULAR SOLUTION\n",
    "#------------\n",
    "# If d = gcd(a, b) does not divide b...\n",
    "    if  c % d != 0:\n",
    "        print(\"No integer solutions!\")\n",
    "        return\n",
    "#------------\n",
    "# If d = gcd(a, b) divides b...\n",
    "    expression = gcdExpression(a, b, ['a', 'b'])\n",
    "    \"\"\"\n",
    "    NOTES\n",
    "    The above expression is gcd(a, b) = ak + bh = c.\n",
    "    Hence, to obtain the solution for ax + by = c, we do\n",
    "    a(k*c/d) + b(h*c/d) = d * (c/d)\n",
    "    \"\"\"\n",
    "    expression = expression*c/d\n",
    "#------------\n",
    "# Isolating the coefficient\n",
    "    _a, _b = Symbol('a'), Symbol('b')\n",
    "    x0 = int(expression.subs({_a:1, _b:0}))\n",
    "    y0 = int(expression.subs({_a:0, _b:1}))\n",
    "#====================================\n",
    "# GENERAL SOLUTION\n",
    "#------------\n",
    "    t = Symbol('t')\n",
    "    x = x0 + (b/d)*t\n",
    "    y = y0 - (a/d)*t\n",
    "#====================================\n",
    "# RETURN VALUE\n",
    "#------------\n",
    "    return {'x': x, 'y': y}"
   ]
  },
  {
   "cell_type": "markdown",
   "metadata": {},
   "source": [
    "## Application"
   ]
  },
  {
   "cell_type": "code",
   "execution_count": 8,
   "metadata": {},
   "outputs": [
    {
     "name": "stdout",
     "output_type": "stream",
     "text": [
      "For ax + by = c...\n",
      "a = 18\n",
      "b = 42\n",
      "c = 30\n",
      "{'x': 7.0*t - 10, 'y': 5 - 3.0*t}\n"
     ]
    }
   ],
   "source": [
    "def inputInteger(prompt):\n",
    "    while True:\n",
    "        try: return int(input(prompt))\n",
    "        except: print(\"Please enter integer values!\")\n",
    "#====================================\n",
    "print(\"For ax + by = c...\")\n",
    "a = inputInteger(\"a = \")\n",
    "b = inputInteger(\"b = \")\n",
    "c = inputInteger(\"c = \")\n",
    "#====================================\n",
    "print(linDiophantine_handWrittenMethodSimulation(a, b, c))"
   ]
  }
 ],
 "metadata": {
  "kernelspec": {
   "display_name": "Python 3",
   "language": "python",
   "name": "python3"
  },
  "language_info": {
   "codemirror_mode": {
    "name": "ipython",
    "version": 3
   },
   "file_extension": ".py",
   "mimetype": "text/x-python",
   "name": "python",
   "nbconvert_exporter": "python",
   "pygments_lexer": "ipython3",
   "version": "3.8.5"
  }
 },
 "nbformat": 4,
 "nbformat_minor": 4
}
