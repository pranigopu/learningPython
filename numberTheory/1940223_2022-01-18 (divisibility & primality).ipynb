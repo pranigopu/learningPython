{
 "cells": [
  {
   "cell_type": "markdown",
   "metadata": {},
   "source": [
    "**AIM**: Number theory basics"
   ]
  },
  {
   "cell_type": "markdown",
   "metadata": {},
   "source": [
    "# Quotient & remainder"
   ]
  },
  {
   "cell_type": "markdown",
   "metadata": {},
   "source": [
    "## Naive approach"
   ]
  },
  {
   "cell_type": "markdown",
   "metadata": {},
   "source": [
    "For two integers a and b, to find quotient of a/b, use a//b. To find the remainder of a/b, use a%b."
   ]
  },
  {
   "cell_type": "code",
   "execution_count": 23,
   "metadata": {},
   "outputs": [
    {
     "name": "stdout",
     "output_type": "stream",
     "text": [
      "(a, b): (257, 13)\n",
      "Quotient: 19\n",
      "Remainder: 10\n"
     ]
    }
   ],
   "source": [
    "a = 257\n",
    "b = 13\n",
    "print(\"(a, b):\", (a, b))\n",
    "print(\"Quotient:\", a//b)\n",
    "print(\"Remainder:\", a%b)"
   ]
  },
  {
   "cell_type": "markdown",
   "metadata": {},
   "source": [
    "## Using divmod"
   ]
  },
  {
   "cell_type": "markdown",
   "metadata": {},
   "source": [
    "For integers a and b, divmod returns a tuple in the following format: (<Quotient of a/b>, <Remainder of a/b>)"
   ]
  },
  {
   "cell_type": "code",
   "execution_count": 24,
   "metadata": {},
   "outputs": [
    {
     "name": "stdout",
     "output_type": "stream",
     "text": [
      "a: 432\n",
      "b: 42\n",
      "(Quotient, Remainder): (10, 12)\n"
     ]
    }
   ],
   "source": [
    "a = int(input(\"a: \"))\n",
    "b = int(input(\"b: \"))\n",
    "print(\"(Quotient, Remainder):\", divmod(a, b))"
   ]
  },
  {
   "cell_type": "markdown",
   "metadata": {},
   "source": [
    "Write a program to input two integers and divides the greater magnitude number by the smaller magnitude number."
   ]
  },
  {
   "cell_type": "code",
   "execution_count": 25,
   "metadata": {},
   "outputs": [
    {
     "name": "stdout",
     "output_type": "stream",
     "text": [
      "a: 789\n",
      "b: 56\n",
      "Operation: 789 / 56\n",
      "(Quotient, Remainder): (14, 5)\n"
     ]
    }
   ],
   "source": [
    "a = int(input(\"a: \"))\n",
    "b = int(input(\"b: \"))\n",
    "if abs(a) < abs(b): a, b = b, a\n",
    "print(\"Operation: {0} / {1}\".format(a, b))\n",
    "print(\"(Quotient, Remainder):\", divmod(a, b))  "
   ]
  },
  {
   "cell_type": "markdown",
   "metadata": {},
   "source": [
    "# GCD & LCM"
   ]
  },
  {
   "cell_type": "markdown",
   "metadata": {},
   "source": [
    "Find the GCD and LCM of two given positive integers."
   ]
  },
  {
   "cell_type": "markdown",
   "metadata": {},
   "source": [
    "## Using simple loops"
   ]
  },
  {
   "cell_type": "code",
   "execution_count": 26,
   "metadata": {},
   "outputs": [],
   "source": [
    "def gcd(a, b):\n",
    "    d, i = 1, 1\n",
    "    while i <= a and i <= b:\n",
    "        if a % i == 0 and b % i == 0:\n",
    "            d = i\n",
    "        i = i + 1\n",
    "    return d\n",
    "def lcm(a, b):\n",
    "    m, i = 1, a*b\n",
    "    while i >= a and i >= b:\n",
    "        if i % a == 0 and i % b == 0:\n",
    "            m = i\n",
    "        i = i - 1\n",
    "    return m"
   ]
  },
  {
   "cell_type": "code",
   "execution_count": 27,
   "metadata": {},
   "outputs": [
    {
     "name": "stdout",
     "output_type": "stream",
     "text": [
      "a: 36\n",
      "b: 24\n",
      "(GCD, LCM):  (12, 72)\n"
     ]
    }
   ],
   "source": [
    "a = int(input(\"a: \"))\n",
    "b = int(input(\"b: \"))\n",
    "print(\"(GCD, LCM): \", (gcd(a, b), lcm(a, b)))"
   ]
  },
  {
   "cell_type": "markdown",
   "metadata": {},
   "source": [
    "## Using Euclidean algorithm"
   ]
  },
  {
   "cell_type": "markdown",
   "metadata": {},
   "source": [
    "### Using loop"
   ]
  },
  {
   "cell_type": "code",
   "execution_count": 11,
   "metadata": {},
   "outputs": [],
   "source": [
    "def gcd(a, b):\n",
    "# Using Euclidean algorithm\n",
    "    while True:\n",
    "        # Finding remainder of a / b\n",
    "        r = a % b\n",
    "        # If r == 0, return b, else perform above operation on b and r\n",
    "        if r == 0: return b\n",
    "        else: a, b = b, r\n",
    "    \"\"\"\n",
    "    ALTERNATE CODE FOR WHILE LOOP:\n",
    "    while True:\n",
    "    if b == 0: return a\n",
    "    else: a, b = b, a % b\n",
    "    \"\"\"\n",
    "def lcm(a, b):\n",
    "# Using formula lcm(a, b) = ab / gcd(a, b)\n",
    "    return int(a * b / gcd(a, b))"
   ]
  },
  {
   "cell_type": "code",
   "execution_count": 12,
   "metadata": {},
   "outputs": [
    {
     "name": "stdout",
     "output_type": "stream",
     "text": [
      "a: 24\n",
      "b: 36\n",
      "(GCD, LCM):  (12, 72)\n"
     ]
    }
   ],
   "source": [
    "a = int(input(\"a: \"))\n",
    "b = int(input(\"b: \"))\n",
    "print(\"(GCD, LCM): \", (gcd(a, b), lcm(a, b)))"
   ]
  },
  {
   "cell_type": "markdown",
   "metadata": {},
   "source": [
    "### Using recursive function"
   ]
  },
  {
   "cell_type": "code",
   "execution_count": 13,
   "metadata": {},
   "outputs": [],
   "source": [
    "def gcd(a, b):\n",
    "    if b == 0: return a\n",
    "    return gcd(b, a % b)\n",
    "def lcm(a, b):\n",
    "# Using formula lcm(a, b) = ab / gcd(a, b)\n",
    "    return int(a * b / gcd(a, b))"
   ]
  },
  {
   "cell_type": "code",
   "execution_count": 18,
   "metadata": {},
   "outputs": [
    {
     "name": "stdout",
     "output_type": "stream",
     "text": [
      "a: 36\n",
      "b: 48\n",
      "(GCD, LCM):  (12, 144)\n"
     ]
    }
   ],
   "source": [
    "a = int(input(\"a: \"))\n",
    "b = int(input(\"b: \"))\n",
    "print(\"(GCD, LCM): \", (gcd(a, b), lcm(a, b)))"
   ]
  },
  {
   "cell_type": "markdown",
   "metadata": {},
   "source": [
    "# Finding divisors of a number"
   ]
  },
  {
   "cell_type": "code",
   "execution_count": 3,
   "metadata": {},
   "outputs": [
    {
     "name": "stdout",
     "output_type": "stream",
     "text": [
      ">> 342\n"
     ]
    }
   ],
   "source": [
    "n = int(input(\">> \"))"
   ]
  },
  {
   "cell_type": "markdown",
   "metadata": {},
   "source": [
    "The following has a small degree of optimisation, regarding the step value of the iterating variable. Also, I will only find positive divisors, since negative divisors are simply the additive inverses of the positive divisors."
   ]
  },
  {
   "cell_type": "code",
   "execution_count": 25,
   "metadata": {},
   "outputs": [],
   "source": [
    "divisors = []\n",
    "# If n is odd, i skips even numbers\n",
    "# If n is even, i runs through all numbers\n",
    "n = abs(n)\n",
    "step = n % 2 + 1\n",
    "for i in range(1, int(n/2 + 1), step):\n",
    "    if n % i == 0: divisors.append(i)\n",
    "# n divides n for n ≠ 0...\n",
    "divisors.append(n)"
   ]
  },
  {
   "cell_type": "code",
   "execution_count": 15,
   "metadata": {},
   "outputs": [
    {
     "name": "stdout",
     "output_type": "stream",
     "text": [
      "[1, 2, 3, 6, 9, 18, 19, 38, 57, 114, 171, 342]\n"
     ]
    }
   ],
   "source": [
    "print(getDivisors(n))"
   ]
  },
  {
   "cell_type": "markdown",
   "metadata": {},
   "source": [
    "# Primes"
   ]
  },
  {
   "cell_type": "markdown",
   "metadata": {},
   "source": [
    "## Checking if prime"
   ]
  },
  {
   "cell_type": "code",
   "execution_count": 51,
   "metadata": {},
   "outputs": [
    {
     "name": "stdout",
     "output_type": "stream",
     "text": [
      ">> 2321\n"
     ]
    }
   ],
   "source": [
    "n = int(input(\">> \"))"
   ]
  },
  {
   "cell_type": "code",
   "execution_count": 52,
   "metadata": {},
   "outputs": [],
   "source": [
    "def isPrime(n):\n",
    "    if n == 1: return None\n",
    "    elif n == 0: return False\n",
    "    else:\n",
    "        n = abs(n)\n",
    "        i = 2\n",
    "        while i*i <= n:\n",
    "            if n % i == 0:\n",
    "                i = 0\n",
    "                break\n",
    "            i = i + 1\n",
    "        if i == 0: return False\n",
    "        else: return True"
   ]
  },
  {
   "cell_type": "code",
   "execution_count": 53,
   "metadata": {},
   "outputs": [
    {
     "data": {
      "text/plain": [
       "False"
      ]
     },
     "execution_count": 53,
     "metadata": {},
     "output_type": "execute_result"
    }
   ],
   "source": [
    "isPrime(n)"
   ]
  },
  {
   "cell_type": "markdown",
   "metadata": {},
   "source": [
    "## Finding primes less than n"
   ]
  },
  {
   "cell_type": "code",
   "execution_count": 125,
   "metadata": {},
   "outputs": [
    {
     "name": "stdout",
     "output_type": "stream",
     "text": [
      ">> 1242\n"
     ]
    }
   ],
   "source": [
    "n = abs(int(input(\">> \")))"
   ]
  },
  {
   "cell_type": "code",
   "execution_count": 126,
   "metadata": {},
   "outputs": [],
   "source": [
    "primes = []\n",
    "for i in range(2, n):\n",
    "    # Using the function 'isPrime' defined in the section 'Checking if prime'\n",
    "    if isPrime(i): primes.append(i)"
   ]
  },
  {
   "cell_type": "code",
   "execution_count": 127,
   "metadata": {},
   "outputs": [
    {
     "name": "stdout",
     "output_type": "stream",
     "text": [
      "[2, 3, 5, 7, 11, 13, 17, 19, 23, 29, 31, 37, 41, 43, 47, 53, 59, 61, 67, 71, 73, 79, 83, 89, 97, 101, 103, 107, 109, 113, 127, 131, 137, 139, 149, 151, 157, 163, 167, 173, 179, 181, 191, 193, 197, 199, 211, 223, 227, 229, 233, 239, 241, 251, 257, 263, 269, 271, 277, 281, 283, 293, 307, 311, 313, 317, 331, 337, 347, 349, 353, 359, 367, 373, 379, 383, 389, 397, 401, 409, 419, 421, 431, 433, 439, 443, 449, 457, 461, 463, 467, 479, 487, 491, 499, 503, 509, 521, 523, 541, 547, 557, 563, 569, 571, 577, 587, 593, 599, 601, 607, 613, 617, 619, 631, 641, 643, 647, 653, 659, 661, 673, 677, 683, 691, 701, 709, 719, 727, 733, 739, 743, 751, 757, 761, 769, 773, 787, 797, 809, 811, 821, 823, 827, 829, 839, 853, 857, 859, 863, 877, 881, 883, 887, 907, 911, 919, 929, 937, 941, 947, 953, 967, 971, 977, 983, 991, 997, 1009, 1013, 1019, 1021, 1031, 1033, 1039, 1049, 1051, 1061, 1063, 1069, 1087, 1091, 1093, 1097, 1103, 1109, 1117, 1123, 1129, 1151, 1153, 1163, 1171, 1181, 1187, 1193, 1201, 1213, 1217, 1223, 1229, 1231, 1237]\n"
     ]
    }
   ],
   "source": [
    "print(primes)"
   ]
  },
  {
   "cell_type": "markdown",
   "metadata": {},
   "source": [
    "## Finding all prime factors of a positive integer"
   ]
  },
  {
   "cell_type": "code",
   "execution_count": 69,
   "metadata": {},
   "outputs": [
    {
     "name": "stdout",
     "output_type": "stream",
     "text": [
      ">> 32425\n"
     ]
    }
   ],
   "source": [
    "n = abs(int(input(\">> \")))"
   ]
  },
  {
   "cell_type": "code",
   "execution_count": 70,
   "metadata": {},
   "outputs": [],
   "source": [
    "def primeFactors(n):\n",
    "    i, primeFactors = 2, []\n",
    "    if isPrime(n):\n",
    "        primeFactors.append(n)\n",
    "    elif n != 0 or n != 1:\n",
    "    # Even with only else, the program would produce the same results.\n",
    "    # However, giving this conditions saves time.\n",
    "        while i < n/2:\n",
    "            # Using the function 'isPrime' defined in the section 'Checking if prime'\n",
    "            if n % i == 0 and isPrime(i):\n",
    "                primeFactors.append(i)\n",
    "            i = i + 1\n",
    "    return primeFactors"
   ]
  },
  {
   "cell_type": "code",
   "execution_count": 71,
   "metadata": {},
   "outputs": [
    {
     "name": "stdout",
     "output_type": "stream",
     "text": [
      "[5, 1297]\n"
     ]
    }
   ],
   "source": [
    "print(primeFactors(n))"
   ]
  },
  {
   "cell_type": "markdown",
   "metadata": {},
   "source": [
    "## Finding min & max prime factors of a positive integer"
   ]
  },
  {
   "cell_type": "markdown",
   "metadata": {},
   "source": [
    "I could use the above function and find the minimum and maximum of the list of prime factors. However, this is another approach to this that is less time-consuming, since it does not look for all prime factors, only exactly two. It loops forward once from 2 to n / 2, until it finds a prime factor, then loops backwards once from n / 2 to 2 until it finds a prime factor."
   ]
  },
  {
   "cell_type": "code",
   "execution_count": 79,
   "metadata": {},
   "outputs": [
    {
     "name": "stdout",
     "output_type": "stream",
     "text": [
      ">> 342525\n"
     ]
    }
   ],
   "source": [
    "n = abs(int(input(\">> \")))"
   ]
  },
  {
   "cell_type": "code",
   "execution_count": 81,
   "metadata": {},
   "outputs": [],
   "source": [
    "minPrimeFactor, maxPrimeFactor = 0, 0\n",
    "\n",
    "if isPrime(n):\n",
    "# To save time\n",
    "    minPrimeFactor, maxPrimeFactor = n, n\n",
    "elif n != 0 or n != 1:\n",
    "# Even with only else, the program would produce the same results.\n",
    "# However, giving this conditions saves time.\n",
    "\n",
    "    # Finding minimum prime\n",
    "    i = 2\n",
    "    while i < n/2:\n",
    "        # Using the function 'isPrime' defined in the section 'Checking if prime'\n",
    "        if n % i == 0 and isPrime(i):\n",
    "            minPrimeFactor = i\n",
    "            break\n",
    "        i = i + 1\n",
    "    \n",
    "    # Finding maximum prime\n",
    "    i = int(n / 2)\n",
    "    while i > 1:\n",
    "        # Using the function 'isPrime' defined in the section 'Checking if prime'\n",
    "        if n % i == 0 and isPrime(i):\n",
    "            maxPrimeFactor = i\n",
    "            break\n",
    "        i = i - 1"
   ]
  },
  {
   "cell_type": "code",
   "execution_count": 82,
   "metadata": {},
   "outputs": [
    {
     "name": "stdout",
     "output_type": "stream",
     "text": [
      "Minimum prime factor: 3\n",
      "Maximum prime factor: 4567\n"
     ]
    }
   ],
   "source": [
    "print(\"Minimum prime factor:\", minPrimeFactor)\n",
    "print(\"Maximum prime factor:\", maxPrimeFactor)"
   ]
  },
  {
   "cell_type": "markdown",
   "metadata": {},
   "source": [
    "# Checking if a number is a multiple of another"
   ]
  },
  {
   "cell_type": "code",
   "execution_count": 141,
   "metadata": {},
   "outputs": [
    {
     "name": "stdout",
     "output_type": "stream",
     "text": [
      "Input integers separated by commas...\n",
      ">> 12,23,34,45,56,67,68,124\n"
     ]
    }
   ],
   "source": [
    "print(\"Input integers separated by commas...\")\n",
    "\n",
    "# Creating a set to avoid duplicates\n",
    "# Creating a list to allow iteration\n",
    "try: N = list(set(map(int, list(input(\">> \").split(',')))))\n",
    "except: print(\"Non-integer inputs!\")"
   ]
  },
  {
   "cell_type": "code",
   "execution_count": 142,
   "metadata": {},
   "outputs": [
    {
     "name": "stdout",
     "output_type": "stream",
     "text": [
      "68 is a multiple of 34.\n"
     ]
    }
   ],
   "source": [
    "isempty = True\n",
    "for x in range(0, len(N)):\n",
    "    for y in range(0, len(N)):\n",
    "        if N[x] != N[y]:\n",
    "            try:\n",
    "                if N[y] % N[x] == 0:\n",
    "                    print(\"{} is a multiple of {}.\".format(N[y], N[x]))\n",
    "                    isempty = False\n",
    "            except: pass\n",
    "if isempty: print(\"All given integers are coprime.\")"
   ]
  },
  {
   "cell_type": "markdown",
   "metadata": {},
   "source": [
    "# Perfect numbers"
   ]
  },
  {
   "cell_type": "markdown",
   "metadata": {},
   "source": [
    "## Check if a number is perfect"
   ]
  },
  {
   "cell_type": "code",
   "execution_count": 81,
   "metadata": {},
   "outputs": [
    {
     "name": "stdout",
     "output_type": "stream",
     "text": [
      ">> 28\n"
     ]
    }
   ],
   "source": [
    "n = abs(int(input(\">> \")))"
   ]
  },
  {
   "cell_type": "code",
   "execution_count": 94,
   "metadata": {},
   "outputs": [],
   "source": [
    "def isPerfect(n):\n",
    "    sum = 0\n",
    "    for i in range(1, n//2 + 1):\n",
    "        if n % i == 0: sum = sum + i\n",
    "    if sum == n: return True\n",
    "    else: False"
   ]
  },
  {
   "cell_type": "code",
   "execution_count": 95,
   "metadata": {},
   "outputs": [
    {
     "name": "stdout",
     "output_type": "stream",
     "text": [
      "True\n"
     ]
    }
   ],
   "source": [
    "print(isPerfect(n))"
   ]
  },
  {
   "cell_type": "markdown",
   "metadata": {},
   "source": [
    "## Find all  perfect numbers in a range"
   ]
  },
  {
   "cell_type": "code",
   "execution_count": 74,
   "metadata": {},
   "outputs": [
    {
     "name": "stdout",
     "output_type": "stream",
     "text": [
      "Range: 1, 10000\n"
     ]
    }
   ],
   "source": [
    "r = input(\"Range: \").split(',', 1)\n",
    "try: r = list(map(int, r))\n",
    "except: print(\"Invalid inputs!\")"
   ]
  },
  {
   "cell_type": "code",
   "execution_count": 75,
   "metadata": {},
   "outputs": [],
   "source": [
    "perfectNumbers = []\n",
    "for i in range(r[0], r[1] + 1):\n",
    "    if isPerfect(i): perfectNumbers.append(i)"
   ]
  },
  {
   "cell_type": "code",
   "execution_count": 76,
   "metadata": {},
   "outputs": [
    {
     "name": "stdout",
     "output_type": "stream",
     "text": [
      "[6, 28, 496, 8128]\n"
     ]
    }
   ],
   "source": [
    "print(perfectNumbers)"
   ]
  },
  {
   "cell_type": "markdown",
   "metadata": {},
   "source": [
    "# Print all coprime numbers ≤ given integer"
   ]
  },
  {
   "cell_type": "code",
   "execution_count": 2,
   "metadata": {},
   "outputs": [],
   "source": [
    "def gcd(a, b):\n",
    "    if b == 0: return a\n",
    "    return gcd(b, a % b)\n",
    "\n",
    "def coprimes(n):\n",
    "    c = []\n",
    "    for i in range(2, n):\n",
    "        if gcd(i, n) == 1: c.append(i)\n",
    "    return c"
   ]
  },
  {
   "cell_type": "code",
   "execution_count": 3,
   "metadata": {},
   "outputs": [
    {
     "data": {
      "text/plain": [
       "[3, 7, 9]"
      ]
     },
     "execution_count": 3,
     "metadata": {},
     "output_type": "execute_result"
    }
   ],
   "source": [
    "coprimes(10)"
   ]
  }
 ],
 "metadata": {
  "kernelspec": {
   "display_name": "Python 3",
   "language": "python",
   "name": "python3"
  },
  "language_info": {
   "codemirror_mode": {
    "name": "ipython",
    "version": 3
   },
   "file_extension": ".py",
   "mimetype": "text/x-python",
   "name": "python",
   "nbconvert_exporter": "python",
   "pygments_lexer": "ipython3",
   "version": "3.8.5"
  }
 },
 "nbformat": 4,
 "nbformat_minor": 4
}
