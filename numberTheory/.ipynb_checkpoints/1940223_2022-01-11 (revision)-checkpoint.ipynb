{
 "cells": [
  {
   "cell_type": "markdown",
   "metadata": {},
   "source": [
    "# Multiplication table generator"
   ]
  },
  {
   "cell_type": "code",
   "execution_count": 19,
   "metadata": {},
   "outputs": [
    {
     "name": "stdout",
     "output_type": "stream",
     "text": [
      "Input integer for multiplication table: 14\n",
      "14 * 1 = 14\n",
      "14 * 2 = 28\n",
      "14 * 3 = 42\n",
      "14 * 4 = 56\n",
      "14 * 5 = 70\n",
      "14 * 6 = 84\n",
      "14 * 7 = 98\n",
      "14 * 8 = 112\n",
      "14 * 9 = 126\n",
      "14 * 10 = 140\n"
     ]
    }
   ],
   "source": [
    "n = int(input(\"Input integer for multiplication table: \"))\n",
    "for i in range(1, 11): print(n, \"*\", i,\"=\", n*i)"
   ]
  },
  {
   "cell_type": "markdown",
   "metadata": {},
   "source": [
    "# Program to add elements to a list"
   ]
  },
  {
   "cell_type": "code",
   "execution_count": 15,
   "metadata": {},
   "outputs": [
    {
     "name": "stdout",
     "output_type": "stream",
     "text": [
      "------------\n",
      "Enter 1 to add element\n",
      "Enter 2 to view list\n",
      "Enter x to exist\n",
      ">> 1\n",
      "Add element: 3\n",
      "['3']\n",
      "------------\n",
      "Enter 1 to add element\n",
      "Enter 2 to view list\n",
      "Enter x to exist\n",
      ">> 1\n",
      "Add element: 23\n",
      "['3', '23']\n",
      "------------\n",
      "Enter 1 to add element\n",
      "Enter 2 to view list\n",
      "Enter x to exist\n",
      ">> 1\n",
      "Add element: abc\n",
      "['3', '23', 'abc']\n",
      "------------\n",
      "Enter 1 to add element\n",
      "Enter 2 to view list\n",
      "Enter x to exist\n",
      ">> x\n"
     ]
    }
   ],
   "source": [
    "def addElement(li):\n",
    "    li.append(input(\"Add element: \"))\n",
    "    print(li)\n",
    "\n",
    "li = list()\n",
    "while True:\n",
    "    print(\"------------\")\n",
    "    print(\"Enter 1 to add element\")\n",
    "    print(\"Enter 2 to view list\")\n",
    "    print(\"Enter x to exist\")\n",
    "    option = input(\">> \")\n",
    "    \n",
    "    if option == '1': addElement(li)\n",
    "    elif option == '2': print(li)\n",
    "    elif option == 'x': break"
   ]
  }
 ],
 "metadata": {
  "kernelspec": {
   "display_name": "Python 3",
   "language": "python",
   "name": "python3"
  },
  "language_info": {
   "codemirror_mode": {
    "name": "ipython",
    "version": 3
   },
   "file_extension": ".py",
   "mimetype": "text/x-python",
   "name": "python",
   "nbconvert_exporter": "python",
   "pygments_lexer": "ipython3",
   "version": "3.8.5"
  }
 },
 "nbformat": 4,
 "nbformat_minor": 4
}
