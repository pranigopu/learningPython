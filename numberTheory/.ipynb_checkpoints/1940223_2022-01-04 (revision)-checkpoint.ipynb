{
 "cells": [
  {
   "cell_type": "markdown",
   "metadata": {},
   "source": [
    "**AIM:** Revision on Python functions and programming"
   ]
  },
  {
   "cell_type": "markdown",
   "metadata": {},
   "source": [
    "# Today's date"
   ]
  },
  {
   "cell_type": "code",
   "execution_count": 7,
   "metadata": {},
   "outputs": [
    {
     "name": "stdout",
     "output_type": "stream",
     "text": [
      "2022-01-04\n"
     ]
    }
   ],
   "source": [
    "from datetime import date\n",
    "print(date.today())"
   ]
  },
  {
   "cell_type": "markdown",
   "metadata": {},
   "source": [
    "# Input first & last name, then print with space in between"
   ]
  },
  {
   "cell_type": "code",
   "execution_count": 9,
   "metadata": {},
   "outputs": [
    {
     "name": "stdout",
     "output_type": "stream",
     "text": [
      "Input first name: Ooga\n",
      "Input last name: Booga\n",
      "Ooga Booga\n"
     ]
    }
   ],
   "source": [
    "firstName = input(\"Input first name: \")\n",
    "lastName = input(\"Input last name: \")\n",
    "print(firstName, lastName)"
   ]
  },
  {
   "cell_type": "markdown",
   "metadata": {},
   "source": [
    "# Input list & allow element addition & removal"
   ]
  },
  {
   "cell_type": "code",
   "execution_count": 4,
   "metadata": {},
   "outputs": [
    {
     "name": "stdout",
     "output_type": "stream",
     "text": [
      "Add element: 12\n",
      "Continue? (y/n) y\n",
      "Add element: 43\n",
      "Continue? (y/n) y\n",
      "Add element: 43\n",
      "Continue? (y/n) y\n",
      "Add element: 74\n",
      "Continue? (y/n) n\n",
      "==================\n",
      "Add and remove loop\n",
      "------------\n",
      "Enter 1 to add\n",
      "Enter 2 to remove\n",
      "Enter 3 to view\n",
      "Enter x to exit\n",
      ">> 1\n",
      "Add element: 1000\n",
      "['12', '43', '43', '74', '1000']\n",
      "------------\n",
      "Enter 1 to add\n",
      "Enter 2 to remove\n",
      "Enter 3 to view\n",
      "Enter x to exit\n",
      ">> 2\n",
      "Remove element: 43\n",
      "['12', '43', '74', '1000']\n",
      "------------\n",
      "Enter 1 to add\n",
      "Enter 2 to remove\n",
      "Enter 3 to view\n",
      "Enter x to exit\n",
      ">> 3\n",
      "['12', '43', '74', '1000']\n",
      "------------\n",
      "Enter 1 to add\n",
      "Enter 2 to remove\n",
      "Enter 3 to view\n",
      "Enter x to exit\n",
      ">> x\n"
     ]
    }
   ],
   "source": [
    "myList = []\n",
    "# Input list...\n",
    "while True:\n",
    "    myList.append(input(\"Add element: \"))\n",
    "    if input(\"Continue? (y/n) \") == \"n\":\n",
    "        break\n",
    "\n",
    "# Loop...\n",
    "print(\"==================\")\n",
    "print(\"Add and remove loop\")\n",
    "while True:\n",
    "    print(\"------------\")\n",
    "    print(\"Enter 1 to add\")\n",
    "    print(\"Enter 2 to remove\")\n",
    "    print(\"Enter 3 to view\")\n",
    "    print(\"Enter x to exit\")\n",
    "    x = input(\">> \")\n",
    "    if x == \"1\":\n",
    "        myList.append(input(\"Add element: \"))\n",
    "        print(myList)\n",
    "    elif x == \"2\":\n",
    "        x = input(\"Remove element: \")\n",
    "        try:\n",
    "            myList.remove(x)\n",
    "            print(myList)\n",
    "        except:\n",
    "            print(x, \"does is not in the list.\")\n",
    "    elif x == \"3\":\n",
    "        print(myList)\n",
    "    elif x == \"x\":\n",
    "        break"
   ]
  },
  {
   "cell_type": "markdown",
   "metadata": {},
   "source": [
    "# Input number & check if odd or even"
   ]
  },
  {
   "cell_type": "code",
   "execution_count": 5,
   "metadata": {},
   "outputs": [
    {
     "name": "stdout",
     "output_type": "stream",
     "text": [
      "Enter number: 32\n",
      "Even\n"
     ]
    }
   ],
   "source": [
    "try:\n",
    "    if int(input(\"Enter number: \")) % 2 == 0: print(\"Even\")\n",
    "    else: print(\"Odd\")\n",
    "except:\n",
    "    print(\"Invalid integer!\")"
   ]
  },
  {
   "cell_type": "markdown",
   "metadata": {},
   "source": [
    "# Input string & check for upper & lower case"
   ]
  },
  {
   "cell_type": "code",
   "execution_count": 12,
   "metadata": {},
   "outputs": [
    {
     "name": "stdout",
     "output_type": "stream",
     "text": [
      "Input string: Debs SAHA\n",
      "Number of uppercase letters: 5\n",
      "Number of lowercase letters: 3\n"
     ]
    }
   ],
   "source": [
    "myString = input(\"Input string: \")\n",
    "upper, lower = 0, 0\n",
    "for c in myString:\n",
    "    if not c.isalpha(): continue\n",
    "    if c.isupper(): upper = upper + 1\n",
    "    else: lower = lower + 1\n",
    "\n",
    "print(\"Number of uppercase letters:\", upper)\n",
    "print(\"Number of lowercase letters:\", lower)"
   ]
  }
 ],
 "metadata": {
  "kernelspec": {
   "display_name": "Python 3",
   "language": "python",
   "name": "python3"
  },
  "language_info": {
   "codemirror_mode": {
    "name": "ipython",
    "version": 3
   },
   "file_extension": ".py",
   "mimetype": "text/x-python",
   "name": "python",
   "nbconvert_exporter": "python",
   "pygments_lexer": "ipython3",
   "version": "3.8.5"
  }
 },
 "nbformat": 4,
 "nbformat_minor": 4
}
