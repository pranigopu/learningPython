{
 "cells": [
  {
   "cell_type": "code",
   "execution_count": 114,
   "metadata": {},
   "outputs": [],
   "source": [
    "def middleSquaresDistinct(seed, upper, size):\n",
    "    R = {seed: 0}\n",
    "    size = size // 2\n",
    "    r, i = seed, 1\n",
    "    while i < upper:\n",
    "        r = str(123 + r**2)\n",
    "        mid = len(r) // 2\n",
    "        r = int(r[mid-size:mid+size+1])\n",
    "        try:\n",
    "            r = R[r]\n",
    "            return {\"distinctValues\": list(R.keys()), \"repeatStart\": r, \"period\": i - r}\n",
    "        except: R[r] = i\n",
    "        i = i + 1\n",
    "    return {\"distinctValues\": list(R.keys())}\n",
    "\n",
    "def middleSquares(seed, upper, size):\n",
    "    R = [seed]\n",
    "    size = size // 2\n",
    "    r, i = seed, 1\n",
    "    while i < upper:\n",
    "        r = str(123 + r**2)\n",
    "        mid = len(r) // 2\n",
    "        r = int(r[mid-size:mid+size+1])\n",
    "        R.append(r)\n",
    "        i = i + 1\n",
    "    return R"
   ]
  },
  {
   "cell_type": "code",
   "execution_count": 123,
   "metadata": {},
   "outputs": [
    {
     "name": "stdout",
     "output_type": "stream",
     "text": [
      "distinctValues\n",
      "[123, 525, 574, 959, 980, 52, 827, 405, 414, 151, 292, 538, 956]\n",
      "\n",
      "repeatStart\n",
      "7\n",
      "\n",
      "period\n",
      "6\n",
      "\n",
      "------------\n",
      "[123, 525, 574, 959, 980, 52, 827, 405, 414, 151, 292, 538, 956, 405, 414, 151]\n"
     ]
    }
   ],
   "source": [
    "A = middleSquaresDistinct(123, 16, 3)\n",
    "B = middleSquares(123, 16, 3)\n",
    "\n",
    "for i in A.items():\n",
    "    print(i[0])\n",
    "    print(i[1])\n",
    "    print()\n",
    "print(\"------------\")\n",
    "print(len(middleSquaresDistinct(3131, 100000, 3)[\"distinctValues\"]))print(B)"
   ]
  },
  {
   "cell_type": "code",
   "execution_count": 170,
   "metadata": {},
   "outputs": [
    {
     "name": "stdout",
     "output_type": "stream",
     "text": [
      "38\n",
      "20\n",
      "2951\n",
      "3898\n",
      "2440\n",
      "83911\n"
     ]
    }
   ],
   "source": [
    "print(len(middleSquaresDistinct(3135, 100000, 2)[\"distinctValues\"]))\n",
    "print(len(middleSquaresDistinct(31316, 100000, 3)[\"distinctValues\"]))\n",
    "print(len(middleSquaresDistinct(141241, 100000, 6)[\"distinctValues\"]))\n",
    "print(len(middleSquaresDistinct(1422445, 100000, 6)[\"distinctValues\"]))\n",
    "print(len(middleSquaresDistinct(31222342, 100000, 7)[\"distinctValues\"]))\n",
    "print(len(middleSquaresDistinct(211411201, 100000, 10)[\"distinctValues\"]))"
   ]
  }
 ],
 "metadata": {
  "kernelspec": {
   "display_name": "Python 3",
   "language": "python",
   "name": "python3"
  },
  "language_info": {
   "codemirror_mode": {
    "name": "ipython",
    "version": 3
   },
   "file_extension": ".py",
   "mimetype": "text/x-python",
   "name": "python",
   "nbconvert_exporter": "python",
   "pygments_lexer": "ipython3",
   "version": "3.8.5"
  }
 },
 "nbformat": 4,
 "nbformat_minor": 4
}
