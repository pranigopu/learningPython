{
 "cells": [
  {
   "cell_type": "markdown",
   "metadata": {},
   "source": [
    "**AIM**: Convert numbers from different number systems."
   ]
  },
  {
   "cell_type": "markdown",
   "metadata": {},
   "source": [
    "# Convert decimal to binary"
   ]
  },
  {
   "cell_type": "code",
   "execution_count": 36,
   "metadata": {},
   "outputs": [
    {
     "name": "stdout",
     "output_type": "stream",
     "text": [
      ">> 6\n"
     ]
    }
   ],
   "source": [
    "n = int(input(\">> \"))"
   ]
  },
  {
   "cell_type": "code",
   "execution_count": 37,
   "metadata": {},
   "outputs": [],
   "source": [
    "def dec_to_bin(n):\n",
    "    t, b = n, ''\n",
    "    while t != 0:\n",
    "        b = str(t % 2) + b \n",
    "        t = t // 2\n",
    "    return b"
   ]
  },
  {
   "cell_type": "code",
   "execution_count": 38,
   "metadata": {},
   "outputs": [
    {
     "data": {
      "text/plain": [
       "'110'"
      ]
     },
     "execution_count": 38,
     "metadata": {},
     "output_type": "execute_result"
    }
   ],
   "source": [
    "dec_to_bin(n)"
   ]
  },
  {
   "cell_type": "markdown",
   "metadata": {},
   "source": [
    "# Convert binary to decimal"
   ]
  },
  {
   "cell_type": "code",
   "execution_count": 1,
   "metadata": {},
   "outputs": [
    {
     "name": "stdout",
     "output_type": "stream",
     "text": [
      ">> 101101010101010110101101011110101010101\n"
     ]
    }
   ],
   "source": [
    "n = input(\">> \")"
   ]
  },
  {
   "cell_type": "code",
   "execution_count": 2,
   "metadata": {},
   "outputs": [],
   "source": [
    "def bin_to_dec(n):\n",
    "    d, multiplier = 0, 1\n",
    "    for top in range(len(n) - 1, -1, -1):\n",
    "        if n[top] not in '01': return 'Input not binary!'\n",
    "        d = d + int(n[top])*multiplier\n",
    "        multiplier = multiplier*2\n",
    "    return d"
   ]
  },
  {
   "cell_type": "code",
   "execution_count": 3,
   "metadata": {},
   "outputs": [
    {
     "data": {
      "text/plain": [
       "389413256533"
      ]
     },
     "execution_count": 3,
     "metadata": {},
     "output_type": "execute_result"
    }
   ],
   "source": [
    "bin_to_dec(n)"
   ]
  },
  {
   "cell_type": "markdown",
   "metadata": {},
   "source": [
    "# Base x to base y (both ways conversion)"
   ]
  },
  {
   "cell_type": "code",
   "execution_count": 35,
   "metadata": {},
   "outputs": [],
   "source": [
    "# The buit-in function '.isupper' is not used.\n",
    "# This is  because it also returns true for special alphabets.\n",
    "def isUpper(c):\n",
    "    if ord(c) >= ord('A') and ord(c) <= ord('Z'): return True\n",
    "    return False\n",
    "def putDigit(digit):\n",
    "    c = chr(int(digit) + 55)\n",
    "    # 10 should become 'A',whose ASCII number is 65. Hence, we add 55.\n",
    "    if isUpper(c): return c\n",
    "    # '.isupper' checks if the character is an uppercase alphabet\n",
    "    else: return \"<\" + str(digit) + \">\"\n",
    "    # For 10, returns A, for 11, returns B, etc.\n",
    "def convert(n, homeBase, targetBase):\n",
    "    n = str(n)\n",
    "    d, multiplier, top = 0, 1, len(n) - 1\n",
    "    #------------------------\n",
    "    # Converting to decimal...\n",
    "    while top > -1:\n",
    "        x = n[top]\n",
    "        \"\"\"\n",
    "        Checking for the following:\n",
    "        - Alphabets (can be digits in large number bases)\n",
    "        - Digits enclosed in <...> (can be digits in very large number bases)\n",
    "        - Simple decimal integer digits\n",
    "        \"\"\"\n",
    "        if isUpper(x): x = ord(x) - 55\n",
    "        # 'A', whose ASCII number is 65, should become 10. Hence, we subtract 55.\n",
    "        elif x.isnumeric(): x = int(x)\n",
    "        elif x == '>':\n",
    "            top = top - 1\n",
    "            while top > -1 and n[top].isnumeric():\n",
    "                x =  n[top] + x\n",
    "                top = top - 1\n",
    "            if n[top] == '<': x = int(x[:-1]) # Since last element is '>'\n",
    "            else: return 'Number contains invalid digits.'\n",
    "        else: return 'Number contains invalid digits.'\n",
    "        #------------------------\n",
    "        # Checking if the digit fits the initial number base...\n",
    "        if x >= homeBase: return \"Number does not match base.\"\n",
    "        #------------------------\n",
    "        # Adding to the decimal number being obtained...\n",
    "        d = d + x*multiplier\n",
    "        multiplier = multiplier*homeBase\n",
    "        top = top - 1\n",
    "\n",
    "    # Converting to target base...\n",
    "    t = str()\n",
    "    while d != 0:\n",
    "        digit = str(d % targetBase)\n",
    "        # If digit exceeds 10 (due to target base exceeding 10)...\n",
    "        if int(digit) >= 10: digit = putDigit(digit)\n",
    "        t = digit + t\n",
    "        d = d // targetBase\n",
    "    return t"
   ]
  },
  {
   "cell_type": "code",
   "execution_count": 38,
   "metadata": {},
   "outputs": [
    {
     "name": "stdout",
     "output_type": "stream",
     "text": [
      "1<367><361><69>\n"
     ]
    }
   ],
   "source": [
    "print(convert('69420', 69, 420))"
   ]
  }
 ],
 "metadata": {
  "kernelspec": {
   "display_name": "Python 3",
   "language": "python",
   "name": "python3"
  },
  "language_info": {
   "codemirror_mode": {
    "name": "ipython",
    "version": 3
   },
   "file_extension": ".py",
   "mimetype": "text/x-python",
   "name": "python",
   "nbconvert_exporter": "python",
   "pygments_lexer": "ipython3",
   "version": "3.8.5"
  }
 },
 "nbformat": 4,
 "nbformat_minor": 4
}
