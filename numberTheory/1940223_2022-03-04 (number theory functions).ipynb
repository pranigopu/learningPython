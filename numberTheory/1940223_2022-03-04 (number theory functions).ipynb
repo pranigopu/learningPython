{
 "cells": [
  {
   "cell_type": "markdown",
   "metadata": {},
   "source": [
    "**AIM**: Learn number theory functions"
   ]
  },
  {
   "cell_type": "markdown",
   "metadata": {},
   "source": [
    "- $\\tau(n)$ (toteint function) is the number of positive divisors of $n$\n",
    "- $\\sigma(n)$ (sigma function) is the sum of the positive divisors of $n$\n",
    "- $\\phi(n)$ (Euler function)is the number of positive integers which are relatively prime to and less than $n$"
   ]
  },
  {
   "cell_type": "markdown",
   "metadata": {},
   "source": [
    "**NOTE**: If $\\tau(n)$ is odd, we can say $n$ is a perfect square. We can show this by taking pairs of factors $d$ and $n/d$, and then showing that the middle term in the ordered sequence of factors is the square root of $n$."
   ]
  },
  {
   "cell_type": "code",
   "execution_count": 10,
   "metadata": {},
   "outputs": [],
   "source": [
    "# Tau totient function\n",
    "def tau(n):\n",
    "    count = 0\n",
    "    for i in range(1, n + 1):\n",
    "        if n % i == 0: count = count + 1\n",
    "    return count\n",
    "#========================\n",
    "# Sigma function\n",
    "def sigma(n):\n",
    "    sum = 0\n",
    "    for i in range(1, n + 1):\n",
    "        if n % i == 0: sum = sum + i\n",
    "    return sum\n",
    "#========================\n",
    "# Euler's function\n",
    "def gcd(a, b):\n",
    "    r = a % b\n",
    "    if r == 0: return b\n",
    "    else: return gcd(b, r)\n",
    "def phi(n):\n",
    "    count = 0\n",
    "    for i in range(1, n):\n",
    "    # 1 and n are never relatively prime with n\n",
    "        if gcd(i, n) == 1: count = count + 1\n",
    "    return count"
   ]
  },
  {
   "cell_type": "markdown",
   "metadata": {},
   "source": [
    "# Check if number is perfect square"
   ]
  },
  {
   "cell_type": "code",
   "execution_count": 12,
   "metadata": {},
   "outputs": [
    {
     "name": "stdout",
     "output_type": "stream",
     "text": [
      ">> 56\n"
     ]
    },
    {
     "data": {
      "text/plain": [
       "False"
      ]
     },
     "execution_count": 12,
     "metadata": {},
     "output_type": "execute_result"
    }
   ],
   "source": [
    "def isPerfectSquare(n):\n",
    "    if tau(n) % 2 == 1: return True\n",
    "    else: return False\n",
    "\n",
    "n = int(input(\">> \"))\n",
    "isPerfectSquare(n)"
   ]
  },
  {
   "cell_type": "markdown",
   "metadata": {},
   "source": [
    "# Mobius function"
   ]
  },
  {
   "cell_type": "markdown",
   "metadata": {},
   "source": [
    "The mobius function is defined as $\\mu(n)=1$, if $n=1$, $\\mu(n)=0$, if $p^2|n$ for some prime $p$, and  $\\mu(n)=(-1)^r$, if $n=p_1p_2...p_r$ for distinct primes ${p_1, p_2..., p_r}$."
   ]
  },
  {
   "cell_type": "code",
   "execution_count": 44,
   "metadata": {},
   "outputs": [],
   "source": [
    "def isPrime(n):\n",
    "    k, n = 2, abs(n)\n",
    "    if n == 1 or n == 0: return False\n",
    "    while k**2 <= n:\n",
    "        if n % k == 0: return False\n",
    "        k = k + 1\n",
    "    return True\n",
    "\n",
    "def mu(n):\n",
    "    n, k, p = abs(n), 2, 0\n",
    "    if n == 1: return 1\n",
    "    while k <= n:\n",
    "        if n % k == 0:\n",
    "            if n % k**2 == 0: return 0\n",
    "            if isPrime(k): p = p + 1\n",
    "        k = k + 1\n",
    "    return (-1)**p"
   ]
  },
  {
   "cell_type": "code",
   "execution_count": 45,
   "metadata": {},
   "outputs": [
    {
     "data": {
      "text/plain": [
       "(-1, -1, 0)"
      ]
     },
     "execution_count": 45,
     "metadata": {},
     "output_type": "execute_result"
    }
   ],
   "source": [
    "mu(30), mu(5), mu(120)"
   ]
  },
  {
   "cell_type": "markdown",
   "metadata": {},
   "source": [
    "# Check for multiplicativity"
   ]
  },
  {
   "cell_type": "markdown",
   "metadata": {},
   "source": [
    "Let $f$ be a function defined on positive integers. If $f$ is multiplicative, then $f(ab)=f(a)f(b) \\forall a,b \\in Z_+$ such that $gcd(a,b)=1$ (i.e. $a$ and $b$ are coprime)."
   ]
  },
  {
   "cell_type": "code",
   "execution_count": 34,
   "metadata": {},
   "outputs": [],
   "source": [
    "def gcd(a, b):\n",
    "    r = a % b\n",
    "    if r == 0: return b\n",
    "    else: return gcd(b, r)\n",
    "def areCoprime(values):\n",
    "    for i in range(0, len(values)):\n",
    "        for j in range(i + 1, len(values)): \n",
    "            if gcd(values[i], values[j]) != 1: return False\n",
    "    return True\n",
    "def multiplicativityDemo(f, values):\n",
    "    if not areCoprime(values):\n",
    "        print(\"Values are not coprime!\")\n",
    "        return\n",
    "    \n",
    "    # Obtaining product of values\n",
    "    a = 1\n",
    "    for v in values: a = a * v\n",
    "    # f(product of values)\n",
    "    a = f(a)\n",
    "    \n",
    "    # Peforming f on each value and obtaining product\n",
    "    # i.e. obtaining f(value 1) * f(value 1)...\n",
    "    b = 1\n",
    "    for v in values: b = b * f(v)\n",
    "    \n",
    "    # Returning whether this instance confirms multiplicativity\n",
    "    if a == b: print(\"Is multiplicative for this instance.\")\n",
    "    else: print(\"Is not multiplicative for this instance.\")"
   ]
  },
  {
   "cell_type": "code",
   "execution_count": 43,
   "metadata": {},
   "outputs": [
    {
     "name": "stdout",
     "output_type": "stream",
     "text": [
      "Values are not coprime!\n",
      "Is multiplicative for this instance.\n",
      "Is multiplicative for this instance.\n",
      "Values are not coprime!\n",
      "Values are not coprime!\n"
     ]
    }
   ],
   "source": [
    "multiplicativityDemo(tau, [2, 3, 24])\n",
    "multiplicativityDemo(tau, [2, 3, 5])\n",
    "multiplicativityDemo(sigma, [2, 13, 5])\n",
    "multiplicativityDemo(phi, [2, 3, 57])\n",
    "multiplicativityDemo(mu, [2, 3, 501])"
   ]
  }
 ],
 "metadata": {
  "kernelspec": {
   "display_name": "Python 3",
   "language": "python",
   "name": "python3"
  },
  "language_info": {
   "codemirror_mode": {
    "name": "ipython",
    "version": 3
   },
   "file_extension": ".py",
   "mimetype": "text/x-python",
   "name": "python",
   "nbconvert_exporter": "python",
   "pygments_lexer": "ipython3",
   "version": "3.8.5"
  }
 },
 "nbformat": 4,
 "nbformat_minor": 4
}
