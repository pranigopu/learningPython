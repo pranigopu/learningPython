{
 "cells": [
  {
   "cell_type": "markdown",
   "metadata": {},
   "source": [
    "# AIM"
   ]
  },
  {
   "cell_type": "markdown",
   "metadata": {},
   "source": [
    "Span of a set of vectors S is the set of all vectors that can be expressed as a linear combination of the elements of S. Our aim in this record is to use linear equation system solving methods to find out whether a vector belongs to the linear span of a set of vectors, or equivalently, if a vector can be expressed as a linear combination of a set of vectors. "
   ]
  },
  {
   "cell_type": "markdown",
   "metadata": {},
   "source": [
    "# Does a given vector belong to the span of a set of vectors?"
   ]
  },
  {
   "cell_type": "markdown",
   "metadata": {},
   "source": [
    "To see if a vector belongs in the span of a set of vectors, we must see if any linear combination of the set of vectors equals the given vector."
   ]
  },
  {
   "cell_type": "code",
   "execution_count": 25,
   "metadata": {},
   "outputs": [
    {
     "name": "stdout",
     "output_type": "stream",
     "text": [
      "\n",
      "Given vector u:\n",
      "[[4 7 1]]\n",
      "\n",
      "Matrix of vectors {v1, v2, v3} (vectors are the columns):\n",
      "[[ 5  6  4]\n",
      " [-2 -8  7]\n",
      " [ 7  3 -1]]\n",
      "\n",
      "Coefficients of v1, v2 and v3 so that their linear combination is u:\n",
      "[[ 0.35491607]\n",
      " [-0.20623501]\n",
      " [ 0.86570743]]\n"
     ]
    }
   ],
   "source": [
    "import numpy as np\n",
    "from sympy import *\n",
    "print(\"\\nGiven vector u:\")\n",
    "u = np.matrix([4, 7, 1])\n",
    "print(u)\n",
    "\n",
    "print(\"\\nMatrix of vectors {v1, v2, v3} (vectors are the columns):\")\n",
    "v1 = np.matrix([[5], [-2], [7]])\n",
    "v2 = np.matrix([[6], [-8], [3]])\n",
    "v3 = np.matrix([[4], [7], [-1]])\n",
    "V = np.hstack([v1, v2, v3])\n",
    "print(V)\n",
    "\n",
    "print(\"\\nCoefficients of v1, v2 and v3 so that their linear combination is u:\")\n",
    "print(np.linalg.solve(V, u.T))"
   ]
  },
  {
   "cell_type": "markdown",
   "metadata": {},
   "source": [
    "The presence solutions means that there is some linear combination of the set of vectors V = $\\{v_1, v_2, v_3\\}$ that results in the given vector i.e. $(4, 7, 1)$. Hence, the given vector is in the linear span of V."
   ]
  },
  {
   "cell_type": "markdown",
   "metadata": {},
   "source": [
    "# Is a given vector a linear combination of a set of vectors?"
   ]
  },
  {
   "cell_type": "code",
   "execution_count": 26,
   "metadata": {},
   "outputs": [
    {
     "name": "stdout",
     "output_type": "stream",
     "text": [
      "\n",
      "Given vector y\n",
      "[[6 4 3]]\n",
      "\n",
      "Matrix of vectors {x1, x2, x3}:\n",
      "[[1 3 3]\n",
      " [2 1 2]\n",
      " [1 2 1]]\n",
      "\n",
      "Coefficients of x1, x2 and x3 so that their linear combination is y:\n",
      "[[0.5       ]\n",
      " [0.66666667]\n",
      " [1.16666667]]\n"
     ]
    }
   ],
   "source": [
    "print(\"\\nGiven vector y\")\n",
    "y = np.matrix([6, 4, 3])\n",
    "print(y)\n",
    "\n",
    "x1 = np.matrix([[1], [2], [1]])\n",
    "x2 = np.matrix([[3], [1], [2]])\n",
    "x3 = np.matrix([[3], [2], [1]])\n",
    "\n",
    "print(\"\\nMatrix of vectors {x1, x2, x3}:\")\n",
    "X = np.hstack([x1, x2, x3])\n",
    "print(X)\n",
    "\n",
    "print(\"\\nCoefficients of x1, x2 and x3 so that their linear combination is y:\")\n",
    "print(np.linalg.solve(X, y.T))"
   ]
  },
  {
   "cell_type": "markdown",
   "metadata": {},
   "source": [
    "### Expressing the above fact"
   ]
  },
  {
   "cell_type": "markdown",
   "metadata": {},
   "source": [
    "Hence, we have that $(6,4,3)=\\frac{1}{2}(1, 2, 1)+\\frac{2}{3}(3, 1, 2)+\\frac{7}{6}(3, 2, 1)$"
   ]
  },
  {
   "cell_type": "markdown",
   "metadata": {},
   "source": [
    "(NOTE: 0.666666... = 2/3 and 1.1666666... = 7/6)"
   ]
  },
  {
   "cell_type": "markdown",
   "metadata": {},
   "source": [
    "# CONCLUSION"
   ]
  },
  {
   "cell_type": "markdown",
   "metadata": {},
   "source": [
    "A linear combination of a set of vectors can be expressed as a system of equations, where the nth equation represents the sum of the scalar multiples of the elements in the nth position in each vector. So, for a linear combination $c_1a+c_2b=c_1(a_1,a_2)+c_2(b_1,b_2)$, equation 1's left hand side would be $c_1a_1+c_2b_1$, and equation 2's left hand side would be $c_1a_2+c_2b_2$. The right hand side is the nth element of the given vector, for which you should check if it lies in the linear span or not."
   ]
  }
 ],
 "metadata": {
  "kernelspec": {
   "display_name": "Python 3",
   "language": "python",
   "name": "python3"
  },
  "language_info": {
   "codemirror_mode": {
    "name": "ipython",
    "version": 3
   },
   "file_extension": ".py",
   "mimetype": "text/x-python",
   "name": "python",
   "nbconvert_exporter": "python",
   "pygments_lexer": "ipython3",
   "version": "3.8.5"
  }
 },
 "nbformat": 4,
 "nbformat_minor": 4
}
