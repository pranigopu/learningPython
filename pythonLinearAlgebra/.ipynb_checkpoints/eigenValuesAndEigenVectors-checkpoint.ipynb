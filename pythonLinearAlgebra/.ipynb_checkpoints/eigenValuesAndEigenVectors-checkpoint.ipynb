{
 "cells": [
  {
   "cell_type": "markdown",
   "metadata": {},
   "source": [
    "Eigen vector of a matrix A is a vector represented by a matrix X such that when X is multiplied with matrix A, then the direction of the resultant matrix remains same as vector X.\n",
    "Mathematically, above statement can be represented as:"
   ]
  },
  {
   "cell_type": "markdown",
   "metadata": {},
   "source": [
    "$AX = λX$\n",
    "where A is any arbitrary matrix, λ are eigen values and X is an eigen vector corresponding to each eigen value."
   ]
  },
  {
   "cell_type": "markdown",
   "metadata": {},
   "source": [
    "(i) The eigen values and corresponding eigen vectors are given by the characteristic equation, $|A – λI| = 0$"
   ]
  },
  {
   "cell_type": "markdown",
   "metadata": {},
   "source": [
    "(ii) To find the eigen vectors, we use the equation (A – λI) X = 0 and solve it by Gaussian elimination, that is, convert the augmented matrix (A – λI) = 0 to row echelon form and solve the linear system of equations thus obtained."
   ]
  },
  {
   "cell_type": "markdown",
   "metadata": {},
   "source": [
    "SYNTAX: np.linalg.eigvals(A) (Returns eigen values)"
   ]
  },
  {
   "cell_type": "markdown",
   "metadata": {},
   "source": [
    "SYNTAX: np.linalg.eig(A) (Returns eigen vectors)"
   ]
  },
  {
   "cell_type": "code",
   "execution_count": 7,
   "metadata": {},
   "outputs": [
    {
     "name": "stdout",
     "output_type": "stream",
     "text": [
      "\n",
      "Eigenvalues...\n",
      "8.982056720677654\n",
      "2.1289177050273396\n",
      "0.8890255742950103\n",
      "\n",
      "Eigenvectors...\n",
      "[8.98205672 2.12891771 0.88902557]\n",
      "[[-0.49247712 -0.82039552 -0.42973429]\n",
      " [-0.26523242  0.14250681 -0.14817858]\n",
      " [-0.82892584  0.55375355  0.89071407]]\n"
     ]
    }
   ],
   "source": [
    "from numpy import linalg, matrix\n",
    "M = matrix([[4, 3, 2], [1, 4, 1], [3, 10, 4]])\n",
    "eigenValues = linalg.eigvals(M)\n",
    "eigenVectors = linalg.eig(M)\n",
    "print(\"\\nEigenvalues...\")\n",
    "for i in eigenValues: print(i)\n",
    "print(\"\\nEigenvectors...\")\n",
    "for i in eigenVectors: print(i)"
   ]
  }
 ],
 "metadata": {
  "kernelspec": {
   "display_name": "Python 3",
   "language": "python",
   "name": "python3"
  },
  "language_info": {
   "codemirror_mode": {
    "name": "ipython",
    "version": 3
   },
   "file_extension": ".py",
   "mimetype": "text/x-python",
   "name": "python",
   "nbconvert_exporter": "python",
   "pygments_lexer": "ipython3",
   "version": "3.8.5"
  }
 },
 "nbformat": 4,
 "nbformat_minor": 4
}
