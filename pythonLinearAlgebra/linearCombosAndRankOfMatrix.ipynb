{
 "cells": [
  {
   "cell_type": "code",
   "execution_count": 1,
   "metadata": {},
   "outputs": [],
   "source": [
    "# Support functions...\n",
    "from sympy import Matrix, zeros, pprint\n",
    "def inputPositiveInteger(prompt):\n",
    "    while True:\n",
    "        try:\n",
    "            i = input(prompt)\n",
    "            if i == \"x\": return 0\n",
    "            i = int(i)\n",
    "            if i <= 0: i = 1/0\n",
    "            return i\n",
    "        except:\n",
    "            print(\"Invalid integer, please re-enter.\")\n",
    "def floatInput(prompt):\n",
    "    while True:\n",
    "        try:\n",
    "            i = float(input(prompt))\n",
    "            return i\n",
    "        except:\n",
    "            print(\"Invalid number, please re-enter.\")\n",
    "            \n",
    "def matrixInput(nRow, nCol):\n",
    "    print(\"\\nEnter row by row, each element in the row separated by comma...\")\n",
    "    A, i = zeros(nRow, nCol), 0\n",
    "    while i < nRow:\n",
    "        row = input(\"R{0}: \".format(i + 1)).split(\",\")\n",
    "        if \"x\" in row: break # To stop inputting anymore\n",
    "        if len(row) != nCol:\n",
    "            print(\"ERROR: You must only enter\", nCol, \"per row\")\n",
    "            continue\n",
    "        for j in range(0, nCol):\n",
    "            try:\n",
    "                A[i, j] = float(row[j])\n",
    "            except:\n",
    "                print(\"ERROR: Non-numeric inputs.\")\n",
    "                j = -1\n",
    "                break\n",
    "        if j != -1: i = i + 1\n",
    "    return A"
   ]
  },
  {
   "cell_type": "code",
   "execution_count": 8,
   "metadata": {},
   "outputs": [
    {
     "name": "stdout",
     "output_type": "stream",
     "text": [
      "\n",
      "INPUT VECTORS (1 ROW, 3 COLUMNS)\n",
      "\n",
      "Enter row by row, each element in the row separated by comma...\n",
      "R1: 1,2,3\n",
      "\n",
      "Enter row by row, each element in the row separated by comma...\n",
      "R1: 2,5,3\n",
      "\n",
      "Enter row by row, each element in the row separated by comma...\n",
      "R1: 2,7,4\n",
      "\n",
      "Enter row by row, each element in the row separated by comma...\n",
      "R1: 3,8,9\n",
      "\n",
      "YOUR VECTORS\n",
      "Matrix([[1.00000000000000, 2.00000000000000, 3.00000000000000]])\n",
      "Matrix([[2.00000000000000, 5.00000000000000, 3.00000000000000]])\n",
      "Matrix([[2.00000000000000, 7.00000000000000, 4.00000000000000]])\n",
      "Matrix([[3.00000000000000, 8.00000000000000, 9.00000000000000]])\n",
      "\n",
      "MATRIX OF YOUR VECTORS\n",
      "⎡1.0  2.0  3.0⎤\n",
      "⎢             ⎥\n",
      "⎢2.0  5.0  3.0⎥\n",
      "⎢             ⎥\n",
      "⎢2.0  7.0  4.0⎥\n",
      "⎢             ⎥\n",
      "⎣3.0  8.0  9.0⎦\n",
      "Rank:  3\n",
      "At least one vector is a linear combination of the others.\n"
     ]
    }
   ],
   "source": [
    "M = []\n",
    "print(\"\\nINPUT VECTORS (1 ROW, 3 COLUMNS)\")\n",
    "for i in range(0, 4):\n",
    "    M.append(matrixInput(1, 3))\n",
    "print(\"\\nYOUR VECTORS\")\n",
    "for i in range(0, 4):\n",
    "    print(M[i])\n",
    "N = Matrix(M)\n",
    "print(\"\\nMATRIX OF YOUR VECTORS\")\n",
    "pprint(N)\n",
    "r = N.rank()\n",
    "print(\"Rank: \", r)\n",
    "if(r < 4): print(\"At least one vector is a linear combination of the others.\")\n",
    "else: print(\"None of these vectors are linear combinations each other.\")"
   ]
  },
  {
   "cell_type": "markdown",
   "metadata": {},
   "source": [
    "To get the rank of a matrix, you need to reduce to row echelon form. To reduce to row echelon form, you need to do row operations, and row operations involve linear combination of vectors. Now, if one of the rows becomes 0 in the process, that means the vector that was in that row was equal to some linear combination of the other vectors (which is why it was cancelled out). So, since there are 4 rows, if the rank is less than 4, we know that one or more rows have been cancelled out, hence at least one vector is a linear combination of the others..."
   ]
  }
 ],
 "metadata": {
  "kernelspec": {
   "display_name": "Python 3",
   "language": "python",
   "name": "python3"
  },
  "language_info": {
   "codemirror_mode": {
    "name": "ipython",
    "version": 3
   },
   "file_extension": ".py",
   "mimetype": "text/x-python",
   "name": "python",
   "nbconvert_exporter": "python",
   "pygments_lexer": "ipython3",
   "version": "3.8.5"
  }
 },
 "nbformat": 4,
 "nbformat_minor": 4
}
