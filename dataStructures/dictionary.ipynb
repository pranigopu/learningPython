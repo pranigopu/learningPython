{
 "cells": [
  {
   "cell_type": "markdown",
   "source": [
    "# Dictionary definition and properties"
   ],
   "metadata": {}
  },
  {
   "cell_type": "markdown",
   "source": [
    "A dictionary is a kind of upgraded set, wherein you can map the elements to keys that you can define yourself. Remember that in a set, you cannot index or refer to specific elements of a set. Dictionary solves that problem using keys."
   ],
   "metadata": {}
  },
  {
   "cell_type": "markdown",
   "source": [
    "An item is a combination of a value with a key. Every item in a dictionary is present as if in a set. Each item is written in the format key:value..."
   ],
   "metadata": {}
  },
  {
   "cell_type": "code",
   "execution_count": 35,
   "source": [
    "myDictionary = {1:\"Pranav\", 2:\"Arnav\", 3:\"Hrithik\"}\n",
    "print(\"The full dictionary:\", myDictionary)\n",
    "print(myDictionary.keys())\n",
    "print(myDictionary.values())\n",
    "print(myDictionary.items())"
   ],
   "outputs": [
    {
     "output_type": "stream",
     "name": "stdout",
     "text": [
      "The full dictionary: {1: 'Pranav', 2: 'Arnav', 3: 'Hrithik'}\n",
      "dict_keys([1, 2, 3])\n",
      "dict_values(['Pranav', 'Arnav', 'Hrithik'])\n",
      "dict_items([(1, 'Pranav'), (2, 'Arnav'), (3, 'Hrithik')])\n"
     ]
    }
   ],
   "metadata": {}
  },
  {
   "cell_type": "markdown",
   "source": [
    "## Referring to specific elements using keys"
   ],
   "metadata": {}
  },
  {
   "cell_type": "markdown",
   "source": [
    "Note that keys can be any data type. More will be discussed when we talk about the heterogeneity of dictionaries..."
   ],
   "metadata": {}
  },
  {
   "cell_type": "code",
   "execution_count": 46,
   "source": [
    "myDictionary = {1:\"Pranav\", 2:\"Arnav\", 3:\"Hrithik\"}\n",
    "myDictionary[3]"
   ],
   "outputs": [
    {
     "output_type": "execute_result",
     "data": {
      "text/plain": [
       "'Hrithik'"
      ]
     },
     "metadata": {},
     "execution_count": 46
    }
   ],
   "metadata": {}
  },
  {
   "cell_type": "code",
   "execution_count": 45,
   "source": [
    "# Pairing games with star ratings\n",
    "myDictionary = {\"Gladihoppers\":8, \"Minecraft\":9, \"Call of duty\":6}\n",
    "myDictionary[\"Gladihoppers\"]"
   ],
   "outputs": [
    {
     "output_type": "execute_result",
     "data": {
      "text/plain": [
       "8"
      ]
     },
     "metadata": {},
     "execution_count": 45
    }
   ],
   "metadata": {}
  },
  {
   "cell_type": "markdown",
   "source": [
    "## When iterating..."
   ],
   "metadata": {}
  },
  {
   "cell_type": "code",
   "execution_count": 36,
   "source": [
    "# Keys only\n",
    "print(\"\\nKeys only (without specifying)...\")\n",
    "for i in myDictionary:\n",
    "    print(i)\n",
    "# Keys only\n",
    "print(\"\\nKeys only (after specifying)...\")\n",
    "for i in myDictionary.keys():\n",
    "    print(i)\n",
    "# Values only\n",
    "print(\"\\nValues only...\")\n",
    "for i in myDictionary.values():\n",
    "    print(i)\n",
    "# Whole items i.e. keys and values\n",
    "print(\"\\nWhole items...\")\n",
    "for i in myDictionary.items():\n",
    "    print(i)"
   ],
   "outputs": [
    {
     "output_type": "stream",
     "name": "stdout",
     "text": [
      "\n",
      "Keys only (without specifying)...\n",
      "1\n",
      "2\n",
      "3\n",
      "\n",
      "Keys only (after specifying)...\n",
      "1\n",
      "2\n",
      "3\n",
      "\n",
      "Values only...\n",
      "Pranav\n",
      "Arnav\n",
      "Hrithik\n",
      "\n",
      "Whole items...\n",
      "(1, 'Pranav')\n",
      "(2, 'Arnav')\n",
      "(3, 'Hrithik')\n"
     ]
    }
   ],
   "metadata": {}
  },
  {
   "cell_type": "markdown",
   "source": [
    "As we can see, when we simply iterate i through 'a', i takes the values of only the keys in the dictionary. We can also specify this using a.keys() to return the set of keys for i to iterate through.\n",
    "<br><br>\n",
    "To make sure i takes the values of only values in the dictionary, we use a.values() to return the set of values for i to iterate through.\n",
    "<br><br>\n",
    "To make sure i takes the values of the whole items in the dictionary, we use a.items() to return the set of items for i to iterate through."
   ],
   "metadata": {}
  },
  {
   "cell_type": "markdown",
   "source": [
    "## Heterogenous in every way"
   ],
   "metadata": {}
  },
  {
   "cell_type": "markdown",
   "source": [
    "Both keys and values can be heterogenous, and data type combinations for each item can also be heterogenous."
   ],
   "metadata": {}
  },
  {
   "cell_type": "code",
   "execution_count": 40,
   "source": [
    "myDictionary = {\"a\":1, 2:\"b\", 4.5:3}\n",
    "print(\"The full dictionary:\", myDictionary)\n",
    "print(myDictionary.keys())\n",
    "print(myDictionary.values())\n",
    "print(myDictionary.items())"
   ],
   "outputs": [
    {
     "output_type": "stream",
     "name": "stdout",
     "text": [
      "The full dictionary: {'a': 1, 2: 'b', 4.5: 3}\n",
      "dict_keys(['a', 2, 4.5])\n",
      "dict_values([1, 'b', 3])\n",
      "dict_items([('a', 1), (2, 'b'), (4.5, 3)])\n"
     ]
    }
   ],
   "metadata": {}
  },
  {
   "cell_type": "markdown",
   "source": [
    "## No duplicate keys"
   ],
   "metadata": {}
  },
  {
   "cell_type": "markdown",
   "source": [
    "Similar to non-duplication in sets, but only applicable for keys. In the case that two keys are duplicated, only the last mention of the key in the dictionary will be counted. As with sets, it does not matter if the duplicate key values are present as different variables."
   ],
   "metadata": {}
  },
  {
   "cell_type": "code",
   "execution_count": 37,
   "source": [
    "myDictionary = {1:\"Pranav\", 2:\"Arnav\", 3:\"Hrithik\", 3:\"Gabriel\"}\n",
    "myDictionary"
   ],
   "outputs": [
    {
     "output_type": "execute_result",
     "data": {
      "text/plain": [
       "{1: 'Pranav', 2: 'Arnav', 3: 'Gabriel'}"
      ]
     },
     "metadata": {},
     "execution_count": 37
    }
   ],
   "metadata": {}
  },
  {
   "cell_type": "code",
   "execution_count": 38,
   "source": [
    "x = 3\n",
    "y = 3\n",
    "myDictionary = {1:\"Pranav\", 2:\"Arnav\", x:\"Hrithik\", y:\"Gabriel\"}\n",
    "myDictionary"
   ],
   "outputs": [
    {
     "output_type": "execute_result",
     "data": {
      "text/plain": [
       "{1: 'Pranav', 2: 'Arnav', 3: 'Gabriel'}"
      ]
     },
     "metadata": {},
     "execution_count": 38
    }
   ],
   "metadata": {}
  },
  {
   "cell_type": "markdown",
   "source": [
    "## Mutable"
   ],
   "metadata": {}
  },
  {
   "cell_type": "markdown",
   "source": [
    "### Changing values"
   ],
   "metadata": {}
  },
  {
   "cell_type": "markdown",
   "source": [
    "Like a set, a dictionary is also mutable. Unlike a set, we can access specific elements of the dictionary using the respective key. This increases our options, when we want to change, add or remove values from a dictionary."
   ],
   "metadata": {}
  },
  {
   "cell_type": "code",
   "execution_count": 1,
   "source": [
    "myDictionary = {1:\"Pranav\", 2:\"Arnav\", 3:\"Hrithik\", 4:\"Gabriel\"}\n",
    "myDictionary[2] = \"Gopinath\"\n",
    "myDictionary"
   ],
   "outputs": [
    {
     "output_type": "execute_result",
     "data": {
      "text/plain": [
       "{1: 'Pranav', 2: 'Gopinath', 3: 'Hrithik', 4: 'Gabriel'}"
      ]
     },
     "metadata": {},
     "execution_count": 1
    }
   ],
   "metadata": {}
  },
  {
   "cell_type": "markdown",
   "source": [
    "### Adding items"
   ],
   "metadata": {}
  },
  {
   "cell_type": "markdown",
   "source": [
    "#### Invalid operations"
   ],
   "metadata": {}
  },
  {
   "cell_type": "code",
   "execution_count": 9,
   "source": [
    "myDictionary = {1:\"Pranav\", 2:\"Arnav\", 3:\"Hrithik\"}\n",
    "myDictionary + {4:\"Gabriel\"}"
   ],
   "outputs": [
    {
     "output_type": "error",
     "ename": "TypeError",
     "evalue": "unsupported operand type(s) for +: 'dict' and 'dict'",
     "traceback": [
      "\u001b[0;31m---------------------------------------------------------------------------\u001b[0m",
      "\u001b[0;31mTypeError\u001b[0m                                 Traceback (most recent call last)",
      "\u001b[0;32m<ipython-input-9-30cdc21a15d0>\u001b[0m in \u001b[0;36m<module>\u001b[0;34m\u001b[0m\n\u001b[1;32m      1\u001b[0m \u001b[0mmyDictionary\u001b[0m \u001b[0;34m=\u001b[0m \u001b[0;34m{\u001b[0m\u001b[0;36m1\u001b[0m\u001b[0;34m:\u001b[0m\u001b[0;34m\"Pranav\"\u001b[0m\u001b[0;34m,\u001b[0m \u001b[0;36m2\u001b[0m\u001b[0;34m:\u001b[0m\u001b[0;34m\"Arnav\"\u001b[0m\u001b[0;34m,\u001b[0m \u001b[0;36m3\u001b[0m\u001b[0;34m:\u001b[0m\u001b[0;34m\"Hrithik\"\u001b[0m\u001b[0;34m}\u001b[0m\u001b[0;34m\u001b[0m\u001b[0;34m\u001b[0m\u001b[0m\n\u001b[0;32m----> 2\u001b[0;31m \u001b[0mmyDictionary\u001b[0m \u001b[0;34m+\u001b[0m \u001b[0;34m{\u001b[0m\u001b[0;36m4\u001b[0m\u001b[0;34m:\u001b[0m\u001b[0;34m\"Gabriel\"\u001b[0m\u001b[0;34m}\u001b[0m\u001b[0;34m\u001b[0m\u001b[0;34m\u001b[0m\u001b[0m\n\u001b[0m",
      "\u001b[0;31mTypeError\u001b[0m: unsupported operand type(s) for +: 'dict' and 'dict'"
     ]
    }
   ],
   "metadata": {}
  },
  {
   "cell_type": "markdown",
   "source": [
    "#### Adding items"
   ],
   "metadata": {}
  },
  {
   "cell_type": "markdown",
   "source": [
    "To add single or multiple values, you use the same function, update. This function adds the dictionary passed as the argument to the dictionary that is calling the function."
   ],
   "metadata": {}
  },
  {
   "cell_type": "code",
   "execution_count": 16,
   "source": [
    "# Single item\n",
    "myDictionary = {1:\"Pranav\", 2:\"Arnav\", 3:\"Hrithik\"}\n",
    "myDictionary.update({4:\"Mani\"})\n",
    "myDictionary"
   ],
   "outputs": [
    {
     "output_type": "execute_result",
     "data": {
      "text/plain": [
       "{1: 'Pranav', 2: 'Arnav', 3: 'Hrithik', 4: 'Mani'}"
      ]
     },
     "metadata": {},
     "execution_count": 16
    }
   ],
   "metadata": {}
  },
  {
   "cell_type": "code",
   "execution_count": 13,
   "source": [
    "# Multiple items\n",
    "myDictionary = {1:\"Pranav\", 2:\"Arnav\", 3:\"Hrithik\"}\n",
    "myDictionary.update({4:\"Manu\", 5:\"Yani\", 6:\"Rupa\"})\n",
    "myDictionary"
   ],
   "outputs": [
    {
     "output_type": "execute_result",
     "data": {
      "text/plain": [
       "{1: 'Pranav', 2: 'Arnav', 3: 'Hrithik', 4: 'Manu', 5: 'Yani', 6: 'Rupa'}"
      ]
     },
     "metadata": {},
     "execution_count": 13
    }
   ],
   "metadata": {}
  },
  {
   "cell_type": "markdown",
   "source": [
    "As usual, if you have duplicate key, the last item with that key alone is counted."
   ],
   "metadata": {}
  },
  {
   "cell_type": "code",
   "execution_count": 12,
   "source": [
    "# If duplicate keys are present after updation\n",
    "myDictionary = {1:\"Pranav\", 2:\"Arnav\", 3:\"Hrithik\"}\n",
    "myDictionary.update({3:\"Manu\", 4:\"Yani\", 5:\"Rupa\"})\n",
    "myDictionary"
   ],
   "outputs": [
    {
     "output_type": "execute_result",
     "data": {
      "text/plain": [
       "{1: 'Pranav', 2: 'Arnav', 3: 'Manu', 4: 'Yani', 5: 'Rupa'}"
      ]
     },
     "metadata": {},
     "execution_count": 12
    }
   ],
   "metadata": {}
  },
  {
   "cell_type": "markdown",
   "source": [
    "### Removing items"
   ],
   "metadata": {}
  },
  {
   "cell_type": "markdown",
   "source": [
    "#### Removing single items"
   ],
   "metadata": {}
  },
  {
   "cell_type": "markdown",
   "source": [
    "To remove single or multiple values, you use the same function, del. This function removes the dictionary values in the arguments, referred using their respective keys, from the identified dictionary."
   ],
   "metadata": {}
  },
  {
   "cell_type": "code",
   "execution_count": 18,
   "source": [
    "# Removing a single item\n",
    "myDictionary = {1:\"Pranav\", 2:\"Arnav\", 3:\"Hrithik\", 4:\"Gabriel\"}\n",
    "del(myDictionary[2])\n",
    "myDictionary"
   ],
   "outputs": [
    {
     "output_type": "execute_result",
     "data": {
      "text/plain": [
       "{1: 'Pranav', 3: 'Hrithik', 4: 'Gabriel'}"
      ]
     },
     "metadata": {},
     "execution_count": 18
    }
   ],
   "metadata": {}
  },
  {
   "cell_type": "code",
   "execution_count": 21,
   "source": [
    "# Removing multiple items\n",
    "myDictionary = {1:\"Pranav\", 2:\"Arnav\", 3:\"Hrithik\", 4:\"Gabriel\"}\n",
    "del(myDictionary[2], myDictionary[4])\n",
    "myDictionary"
   ],
   "outputs": [
    {
     "output_type": "execute_result",
     "data": {
      "text/plain": [
       "{1: 'Pranav', 3: 'Hrithik'}"
      ]
     },
     "metadata": {},
     "execution_count": 21
    }
   ],
   "metadata": {}
  },
  {
   "cell_type": "markdown",
   "source": [
    "#### Emptying the entire dictionary"
   ],
   "metadata": {}
  },
  {
   "cell_type": "code",
   "execution_count": 20,
   "source": [
    "myDictionary = {1:\"Pranav\", 2:\"Arnav\", 3:\"Hrithik\", 4:\"Gabriel\"}\n",
    "myDictionary.clear()\n",
    "myDictionary"
   ],
   "outputs": [
    {
     "output_type": "execute_result",
     "data": {
      "text/plain": [
       "{}"
      ]
     },
     "metadata": {},
     "execution_count": 20
    }
   ],
   "metadata": {}
  }
 ],
 "metadata": {
  "kernelspec": {
   "display_name": "Python 3",
   "language": "python",
   "name": "python3"
  },
  "language_info": {
   "codemirror_mode": {
    "name": "ipython",
    "version": 3
   },
   "file_extension": ".py",
   "mimetype": "text/x-python",
   "name": "python",
   "nbconvert_exporter": "python",
   "pygments_lexer": "ipython3",
   "version": "3.8.5"
  }
 },
 "nbformat": 4,
 "nbformat_minor": 4
}