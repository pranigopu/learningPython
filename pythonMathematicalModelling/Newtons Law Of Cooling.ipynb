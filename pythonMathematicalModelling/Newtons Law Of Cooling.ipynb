{
 "cells": [
  {
   "cell_type": "markdown",
   "metadata": {},
   "source": [
    "Newton's law of cooling states that the rate of heat loss of a body is directly proportional to the difference in the temperature in the body and its surroundings. In other words..."
   ]
  },
  {
   "cell_type": "markdown",
   "metadata": {},
   "source": [
    "$ΔT∝(T-T_i)$ i.e. $ΔT=-k(T-T_i)$ (we use -k since the change is negative)"
   ]
  },
  {
   "cell_type": "markdown",
   "metadata": {},
   "source": [
    "Hence, the equation is given by..."
   ]
  },
  {
   "cell_type": "markdown",
   "metadata": {},
   "source": [
    "$\\frac{dT}{dt} = -k(T - T_i)$"
   ]
  },
  {
   "cell_type": "markdown",
   "metadata": {},
   "source": [
    "where $T$ is the temperature of the body, $T_i$ is the temperature of the surroundings, and t is the time that has elapsed since the start of the measurement."
   ]
  },
  {
   "cell_type": "markdown",
   "metadata": {},
   "source": [
    "# Temperature of an awfully hot coffee pot over time"
   ]
  },
  {
   "cell_type": "markdown",
   "metadata": {},
   "source": [
    "A pot of coffee was initially at 90°C. After being kept in a room of temperature 21°C, it cooled down to 80°C after five minutes. When will the pot reach a temperature of 50°C?"
   ]
  },
  {
   "cell_type": "code",
   "execution_count": 2,
   "metadata": {},
   "outputs": [],
   "source": [
    "from sympy import Symbol, Function, Eq, dsolve, solve, init_printing\n",
    "import matplotlib.pyplot as plt\n",
    "import numpy as np"
   ]
  },
  {
   "cell_type": "code",
   "execution_count": 3,
   "metadata": {},
   "outputs": [],
   "source": [
    "init_printing(use_unicode = True)\n",
    "t = Symbol('t') # Time\n",
    "k = Symbol('k') # Proportional constant\n",
    "T = Function('T')(t) # Pot's temperature after time t\n",
    "Ti = 21 # Initial temperature\n",
    "C1 = Symbol('C1') # Eventually arising integration constant"
   ]
  },
  {
   "cell_type": "code",
   "execution_count": 4,
   "metadata": {},
   "outputs": [
    {
     "data": {
      "image/png": "[encoded data removed]",
      "text/latex": [
       "$\\displaystyle \\frac{d}{d t} T{\\left(t \\right)} = - k \\left(T{\\left(t \\right)} - 21\\right)$"
      ],
      "text/plain": [
       "d                        \n",
       "──(T(t)) = -k⋅(T(t) - 21)\n",
       "dt                       "
      ]
     },
     "execution_count": 4,
     "metadata": {},
     "output_type": "execute_result"
    }
   ],
   "source": [
    "differentialEquation = Eq(T.diff(t), -k * (T - Ti))\n",
    "differentialEquation"
   ]
  },
  {
   "cell_type": "code",
   "execution_count": 5,
   "metadata": {},
   "outputs": [
    {
     "data": {
      "image/png": "[encoded data removed]",
      "text/latex": [
       "$\\displaystyle T{\\left(t \\right)} = C_{1} e^{- k t} + 21$"
      ],
      "text/plain": [
       "           -k⋅t     \n",
       "T(t) = C₁⋅ℯ     + 21"
      ]
     },
     "execution_count": 5,
     "metadata": {},
     "output_type": "execute_result"
    }
   ],
   "source": [
    "generalEquation = dsolve(differentialEquation)\n",
    "generalEquation"
   ]
  },
  {
   "cell_type": "code",
   "execution_count": 6,
   "metadata": {},
   "outputs": [
    {
     "data": {
      "image/png": "[encoded data removed]",
      "text/latex": [
       "$\\displaystyle \\left[ 69\\right]$"
      ],
      "text/plain": [
       "[69]"
      ]
     },
     "execution_count": 6,
     "metadata": {},
     "output_type": "execute_result"
    }
   ],
   "source": [
    "initialEquation = generalEquation.subs({t : 0, T : 90})\n",
    "constantValue = solve(initialEquation, C1)\n",
    "constantValue"
   ]
  },
  {
   "cell_type": "code",
   "execution_count": 7,
   "metadata": {},
   "outputs": [
    {
     "data": {
      "image/png": "[encoded data removed]",
      "text/latex": [
       "$\\displaystyle 80 = 21 + 69 e^{- 5 k}$"
      ],
      "text/plain": [
       "              -5⋅k\n",
       "80 = 21 + 69⋅ℯ    "
      ]
     },
     "execution_count": 7,
     "metadata": {},
     "output_type": "execute_result"
    }
   ],
   "source": [
    "fiveMinutesLaterEquation = generalEquation.subs({t : 5, T : 80, C1 : 69})\n",
    "fiveMinutesLaterEquation"
   ]
  },
  {
   "cell_type": "code",
   "execution_count": 8,
   "metadata": {},
   "outputs": [
    {
     "data": {
      "image/png": "[encoded data removed]",
      "text/latex": [
       "$\\displaystyle \\left[ \\log{\\left(\\frac{59^{\\frac{4}{5}} \\sqrt[5]{69}}{59} \\right)} - \\frac{4 i \\pi}{5}, \\  \\log{\\left(\\frac{59^{\\frac{4}{5}} \\sqrt[5]{69}}{59} \\right)} - \\frac{2 i \\pi}{5}, \\  \\log{\\left(\\frac{59^{\\frac{4}{5}} \\sqrt[5]{69}}{59} \\right)} + \\frac{2 i \\pi}{5}, \\  \\log{\\left(\\frac{59^{\\frac{4}{5}} \\sqrt[5]{69}}{59} \\right)} + \\frac{4 i \\pi}{5}, \\  \\log{\\left(\\frac{59^{\\frac{4}{5}} \\sqrt[5]{69}}{59} \\right)}\\right]$"
      ],
      "text/plain": [
       "⎡   ⎛  4/5 5 ____⎞             ⎛  4/5 5 ____⎞             ⎛  4/5 5 ____⎞      \n",
       "⎢   ⎜59   ⋅╲╱ 69 ⎟   4⋅ⅈ⋅π     ⎜59   ⋅╲╱ 69 ⎟   2⋅ⅈ⋅π     ⎜59   ⋅╲╱ 69 ⎟   2⋅ⅈ\n",
       "⎢log⎜────────────⎟ - ─────, log⎜────────────⎟ - ─────, log⎜────────────⎟ + ───\n",
       "⎣   ⎝     59     ⎠     5       ⎝     59     ⎠     5       ⎝     59     ⎠     5\n",
       "\n",
       "       ⎛  4/5 5 ____⎞             ⎛  4/5 5 ____⎞⎤\n",
       "⋅π     ⎜59   ⋅╲╱ 69 ⎟   4⋅ⅈ⋅π     ⎜59   ⋅╲╱ 69 ⎟⎥\n",
       "──, log⎜────────────⎟ + ─────, log⎜────────────⎟⎥\n",
       "       ⎝     59     ⎠     5       ⎝     59     ⎠⎦"
      ]
     },
     "execution_count": 8,
     "metadata": {},
     "output_type": "execute_result"
    }
   ],
   "source": [
    "proportionalConstant = solve(fiveMinutesLaterEquation, k)\n",
    "proportionalConstant"
   ]
  },
  {
   "cell_type": "code",
   "execution_count": 9,
   "metadata": {},
   "outputs": [
    {
     "data": {
      "image/png": "[encoded data removed]",
      "text/latex": [
       "$\\displaystyle T{\\left(t \\right)} = 21 + 69 e^{- 0.0313138121383082 t}$"
      ],
      "text/plain": [
       "                -0.0313138121383082⋅t\n",
       "T(t) = 21 + 69⋅ℯ                     "
      ]
     },
     "execution_count": 9,
     "metadata": {},
     "output_type": "execute_result"
    }
   ],
   "source": [
    "particularSolution = generalEquation.subs({k : np.log(59**(4/5) * (69)**(1/5) / 59), C1 : 69})\n",
    "particularSolution"
   ]
  },
  {
   "cell_type": "code",
   "execution_count": 10,
   "metadata": {},
   "outputs": [
    {
     "data": {
      "image/png": "[encoded data removed]",
      "text/latex": [
       "$\\displaystyle 50 = 21 + 69 e^{- 0.0313138121383082 t}$"
      ],
      "text/plain": [
       "              -0.0313138121383082⋅t\n",
       "50 = 21 + 69⋅ℯ                     "
      ]
     },
     "execution_count": 10,
     "metadata": {},
     "output_type": "execute_result"
    }
   ],
   "source": [
    "finalEquation = particularSolution.subs({T : 50}) \n",
    "finalEquation"
   ]
  },
  {
   "cell_type": "code",
   "execution_count": 12,
   "metadata": {},
   "outputs": [],
   "source": [
    "# timeRequired = solve(finalEquation, t)\n",
    "# The kernel is taking too long to solve this, hence we will do it in the following way..."
   ]
  },
  {
   "cell_type": "code",
   "execution_count": 25,
   "metadata": {},
   "outputs": [
    {
     "data": {
      "image/png": "[encoded data removed]",
      "text/latex": [
       "$\\displaystyle 50 = 69 \\cdot 2.71828182845905^{u} + 21$"
      ],
      "text/plain": [
       "                        u     \n",
       "50 = 69⋅2.71828182845905  + 21"
      ]
     },
     "execution_count": 25,
     "metadata": {},
     "output_type": "execute_result"
    }
   ],
   "source": [
    "# Let u = −0.0313138121383082t\n",
    "u = Symbol('u')\n",
    "modifiedFinalEquation = Eq(50, 21 + 69*np.e**u)\n",
    "modifiedFinalEquation"
   ]
  },
  {
   "cell_type": "code",
   "execution_count": 26,
   "metadata": {},
   "outputs": [
    {
     "data": {
      "image/png": "[encoded data removed]",
      "text/latex": [
       "$\\displaystyle \\left[ -0.866810674610784\\right]$"
      ],
      "text/plain": [
       "[-0.866810674610784]"
      ]
     },
     "execution_count": 26,
     "metadata": {},
     "output_type": "execute_result"
    }
   ],
   "source": [
    "# Solving for u...\n",
    "solve(modifiedFinalEquation, u)"
   ]
  },
  {
   "cell_type": "code",
   "execution_count": 28,
   "metadata": {},
   "outputs": [
    {
     "name": "stdout",
     "output_type": "stream",
     "text": [
      "Time required is 27.681416455531412 minutes.\n"
     ]
    }
   ],
   "source": [
    "# But u = −0.0313138121383082t, hence...\n",
    "print(\"Time required is\", -0.866810674610784/-0.0313138121383082, \"minutes.\")"
   ]
  },
  {
   "cell_type": "markdown",
   "metadata": {},
   "source": [
    "Hence, acording to Newton's law of cooling, the pot will reach 50°C after around 28 minutes, as can be observed in the plot below..."
   ]
  },
  {
   "cell_type": "code",
   "execution_count": 43,
   "metadata": {},
   "outputs": [
    {
     "data": {
      "image/png": "[encoded data removed]",
      "text/plain": [
       "<Figure size 432x288 with 1 Axes>"
      ]
     },
     "metadata": {
      "needs_background": "light"
     },
     "output_type": "display_data"
    }
   ],
   "source": [
    "t = np.linspace(0, 28, 1000)\n",
    "T = 21 +  69 * np.e**(-0.0313138121383082 * t)\n",
    "plt.plot(t, T)\n",
    "plt.title(\"Awfully hot coffee pot\")\n",
    "plt.xlabel(\"Time\")\n",
    "plt.ylabel(\"Temperature\")\n",
    "plt.xticks(ticks = range(0, 29, 2))\n",
    "None"
   ]
  }
 ],
 "metadata": {
  "kernelspec": {
   "display_name": "Python 3",
   "language": "python",
   "name": "python3"
  },
  "language_info": {
   "codemirror_mode": {
    "name": "ipython",
    "version": 3
   },
   "file_extension": ".py",
   "mimetype": "text/x-python",
   "name": "python",
   "nbconvert_exporter": "python",
   "pygments_lexer": "ipython3",
   "version": "3.8.5"
  }
 },
 "nbformat": 4,
 "nbformat_minor": 4
}
