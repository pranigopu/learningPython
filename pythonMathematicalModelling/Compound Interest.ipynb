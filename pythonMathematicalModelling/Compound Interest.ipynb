{
 "cells": [
  {
   "cell_type": "markdown",
   "metadata": {},
   "source": [
    "How long does it take for a given amount of money to double at 10% interest rate compounded\n",
    "<br>\n",
    "1. Annually\n",
    "2. Continuously"
   ]
  },
  {
   "cell_type": "code",
   "execution_count": 1,
   "metadata": {},
   "outputs": [],
   "source": [
    "from sympy import *\n",
    "from numpy import *"
   ]
  },
  {
   "cell_type": "markdown",
   "metadata": {},
   "source": [
    "1. Annually"
   ]
  },
  {
   "cell_type": "code",
   "execution_count": 11,
   "metadata": {},
   "outputs": [
    {
     "name": "stdout",
     "output_type": "stream",
     "text": [
      "Annual compound interest amount function\n",
      "                t\n",
      "f(t) = A⋅(r + 1) \n",
      "Substituting f(t) with 2*A and r with 0.1 to get the equation to solve\n",
      "         t  \n",
      "2⋅A = 1.1 ⋅A\n",
      "The time period required is 7.27254089734172\n"
     ]
    }
   ],
   "source": [
    "t = Symbol('t')\n",
    "f = Function('f')(t)\n",
    "A = Symbol('A')\n",
    "r = Symbol('r')\n",
    "K = Eq(f, A*(1 + r)**t)\n",
    "\n",
    "print(\"Annual compound interest amount function\")\n",
    "pprint(K)\n",
    "\n",
    "L = K.subs({f : 2*A, r : 0.1})\n",
    "print(\"Substituting f(t) with 2*A and r with 0.1 to get the equation to solve\")\n",
    "pprint(L)\n",
    "\n",
    "M = solve(L, t)\n",
    "print(\"The time period required is {0}\".format(M[0]))"
   ]
  },
  {
   "cell_type": "markdown",
   "metadata": {},
   "source": [
    "2. Continuously"
   ]
  },
  {
   "cell_type": "code",
   "execution_count": 12,
   "metadata": {},
   "outputs": [
    {
     "name": "stdout",
     "output_type": "stream",
     "text": [
      "Annual compound interest amount function\n",
      "                       r⋅t  \n",
      "f(t) = 2.71828182845905   ⋅A\n",
      "Substituting f(t) with 2*A and r with 0.1 to get the equation to solve\n",
      "                      0.1⋅t  \n",
      "2⋅A = 2.71828182845905     ⋅A\n",
      "The time period required is 6.93147180559944\n"
     ]
    }
   ],
   "source": [
    "t = Symbol('t')\n",
    "f = Function('f')(t)\n",
    "A = Symbol('A')\n",
    "r = Symbol('r')\n",
    "K = Eq(f, A*e**(r*t))\n",
    "\n",
    "print(\"Annual compound interest amount function\")\n",
    "pprint(K)\n",
    "\n",
    "L = K.subs({f : 2*A, r : 0.1})\n",
    "print(\"Substituting f(t) with 2*A and r with 0.1 to get the equation to solve\")\n",
    "pprint(L)\n",
    "\n",
    "M = solve(L, t)\n",
    "print(\"The time period required is {0}\".format(M[0]))"
   ]
  }
 ],
 "metadata": {
  "kernelspec": {
   "display_name": "Python 3",
   "language": "python",
   "name": "python3"
  },
  "language_info": {
   "codemirror_mode": {
    "name": "ipython",
    "version": 3
   },
   "file_extension": ".py",
   "mimetype": "text/x-python",
   "name": "python",
   "nbconvert_exporter": "python",
   "pygments_lexer": "ipython3",
   "version": "3.8.5"
  }
 },
 "nbformat": 4,
 "nbformat_minor": 4
}
