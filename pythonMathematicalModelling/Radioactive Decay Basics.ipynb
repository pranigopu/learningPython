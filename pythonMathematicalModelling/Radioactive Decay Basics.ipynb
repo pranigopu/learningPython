{
 "cells": [
  {
   "cell_type": "markdown",
   "metadata": {},
   "source": [
    "**Decay:** Changing of a substance's state to a collection of less massive, broken down substances (that together composed the original substance in some way)."
   ]
  },
  {
   "cell_type": "markdown",
   "metadata": {},
   "source": [
    "**Decay constant:** The decay constant defined for a substance, denoted by λ, is the amount of the substance's original nuclei that decay over a unit amount of time (such as a second, or millisecond, etc.)."
   ]
  },
  {
   "cell_type": "markdown",
   "metadata": {},
   "source": [
    "**Properties of radioactive decay:** The effects of the radiation do not vary with chemical state i.e. whether the radiactive chemical is in the form of an element or a compound. Furthermore, the radiation does not vary with with changes in temperature and pressure. Finally, the energy of the invisible radiation rays is not consistent with atomic eletron transitions."
   ]
  },
  {
   "cell_type": "markdown",
   "metadata": {},
   "source": [
    "**Radioactive decay law:** When an individual nucleus transforms into another, with a radiactive emission as a by-product, the nucleus is said to decay. The decay rate is proportional to the number of original nuclei N in a substance. The rate at which the nuclei are lost to decay at a given point in time is given by dN/dt, which is given by"
   ]
  },
  {
   "cell_type": "markdown",
   "metadata": {},
   "source": [
    "dN/dt = -λN (where λ, the decay constant, is positive) ...(1)\n",
    "=> dN = -λdt ...(2)"
   ]
  },
  {
   "cell_type": "markdown",
   "metadata": {},
   "source": [
    "Integrating on both sides, and defining N_0 to be the number of original nuclei at time t = 0, we get"
   ]
  },
  {
   "cell_type": "markdown",
   "metadata": {},
   "source": [
    "ln(N) - ln(N_0) = -λ => ln(N/N_0) = -λt =>\n",
    "N = N_0 e^(-λt)...\n",
    "This is called the radioactive decay law."
   ]
  }
 ],
 "metadata": {
  "kernelspec": {
   "display_name": "Python 3",
   "language": "python",
   "name": "python3"
  },
  "language_info": {
   "codemirror_mode": {
    "name": "ipython",
    "version": 3
   },
   "file_extension": ".py",
   "mimetype": "text/x-python",
   "name": "python",
   "nbconvert_exporter": "python",
   "pygments_lexer": "ipython3",
   "version": "3.8.5"
  }
 },
 "nbformat": 4,
 "nbformat_minor": 4
}
