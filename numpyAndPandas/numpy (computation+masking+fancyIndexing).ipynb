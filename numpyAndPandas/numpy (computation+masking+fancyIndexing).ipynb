{
 "cells": [
  {
   "cell_type": "code",
   "execution_count": 1,
   "metadata": {},
   "outputs": [],
   "source": [
    "import numpy as np"
   ]
  },
  {
   "cell_type": "markdown",
   "metadata": {},
   "source": [
    "# Computation on NumPy"
   ]
  },
  {
   "cell_type": "markdown",
   "metadata": {},
   "source": [
    "NumPy allows for operations on whole arrays, which vastly increases the operation speed with respect to looping."
   ]
  },
  {
   "cell_type": "markdown",
   "metadata": {},
   "source": [
    "## Array arithmetic"
   ]
  },
  {
   "cell_type": "code",
   "execution_count": 5,
   "metadata": {},
   "outputs": [],
   "source": [
    "alpha = np.array([1, 2, 3, 10, 12])"
   ]
  },
  {
   "cell_type": "code",
   "execution_count": 20,
   "metadata": {},
   "outputs": [
    {
     "name": "stdout",
     "output_type": "stream",
     "text": [
      "\n",
      "BINARY OPERATIONS\n",
      "alpha: [1 5 2]\n",
      "alpha + 7: [ 8 12  9]\n",
      "alpha - 7: [-6 -2 -5]\n",
      "alpha * 7: [ 7 35 14]\n",
      "alpha / 7: [0.14285714 0.71428571 0.28571429]\n",
      "alpha % 7: [1 5 2]\n",
      "\n",
      "UNARY OPERATIONS\n",
      "-alpha: [-1 -5 -2]\n",
      "alpha**2: [ 1 25  4]\n",
      "\n",
      "COMPOSITE OPERATION RESULTS\n",
      "[2 0 5]\n",
      "[ 4 10  4]\n"
     ]
    }
   ],
   "source": [
    "print(\"\\nBINARY OPERATIONS\")\n",
    "print(\"alpha:\", alpha)\n",
    "print(\"alpha + 7:\", alpha + 7)\n",
    "print(\"alpha - 7:\", alpha - 7)\n",
    "print(\"alpha * 7:\", alpha * 7)\n",
    "print(\"alpha / 7:\", alpha / 7)\n",
    "print(\"alpha % 7:\", alpha % 7)\n",
    "\n",
    "print(\"\\nUNARY OPERATIONS\")\n",
    "print(\"-alpha:\", -alpha)\n",
    "print(\"alpha**2:\", alpha**2)\n",
    "\n",
    "print(\"\\nCOMPOSITE OPERATION RESULTS\")\n",
    "print((alpha**2 - 12) % 13)\n",
    "print((alpha - 2) % 3 + (alpha * 2))"
   ]
  },
  {
   "cell_type": "markdown",
   "metadata": {},
   "source": [
    "# Masking"
   ]
  },
  {
   "cell_type": "markdown",
   "metadata": {},
   "source": [
    "Masking is used to extract, modify, count or generally manipulate values in an array based on some criterion. For example, you may want to count the number of values greater than a certain value, or remove all values that are above some threshold (outliers). In NumPy, Boolean masking is generally the most efficient way to accomplish these kinds of tasks."
   ]
  },
  {
   "cell_type": "markdown",
   "metadata": {},
   "source": [
    "Performing conditional operations on arrays results in an array with Boolean values based on whether the corresponding value in the array satisfies the condition. For example..."
   ]
  },
  {
   "cell_type": "code",
   "execution_count": 22,
   "metadata": {},
   "outputs": [
    {
     "name": "stdout",
     "output_type": "stream",
     "text": [
      "alpha: [1 5 2]\n",
      "alpha % 2 == 0: [False False  True]\n"
     ]
    }
   ],
   "source": [
    "alpha = np.array([1, 5, 2])\n",
    "print(\"alpha:\", alpha)\n",
    "print(\"alpha % 2 == 0:\", alpha % 2 == 0)"
   ]
  },
  {
   "cell_type": "markdown",
   "metadata": {},
   "source": [
    "We can retrieve the 'True' values i.e. the values that satisfy the condition in the following way..."
   ]
  },
  {
   "cell_type": "code",
   "execution_count": 25,
   "metadata": {},
   "outputs": [
    {
     "name": "stdout",
     "output_type": "stream",
     "text": [
      "[2]\n"
     ]
    }
   ],
   "source": [
    "print(alpha[alpha % 2 == 0])\n",
    "# Or, you can assign 'alpha % 2 == 0' to another variable to create a Boolean array.\n",
    "# Then, you can give this array as the reference (same thing, ultimately)."
   ]
  },
  {
   "cell_type": "markdown",
   "metadata": {},
   "source": [
    "Conditional operators involving two arrays will compare values in matching indices..."
   ]
  },
  {
   "cell_type": "code",
   "execution_count": 31,
   "metadata": {},
   "outputs": [
    {
     "name": "stdout",
     "output_type": "stream",
     "text": [
      "alpha: [1 2 3]\n",
      "beta: [1 0 3]\n",
      "alpha == beta [ True False  True]\n",
      "Values in alpha satisfying alpha == beta: [1 3]\n"
     ]
    }
   ],
   "source": [
    "alpha = np.array([1, 2, 3])\n",
    "beta = np.array([1, 0, 3])\n",
    "print(\"alpha:\", alpha)\n",
    "print(\"beta:\", beta)\n",
    "print(\"alpha == beta\", alpha == beta)\n",
    "print(\"Values in alpha satisfying alpha == beta:\", alpha[alpha == beta])"
   ]
  },
  {
   "cell_type": "markdown",
   "metadata": {},
   "source": [
    "When using logical operators ('and' and 'or') in NumPy arrays, use the conventional programming symbols '&' and '|' and not the keywords themselves (as doing so will result in a ValueError with the message \"The truth value of an array with more than one element is ambiguous. Use a.any( ) or a.all( )\", which means you can still use 'and' and 'or' but will need to use some functions to process the data first)..."
   ]
  },
  {
   "cell_type": "code",
   "execution_count": 33,
   "metadata": {},
   "outputs": [
    {
     "name": "stdout",
     "output_type": "stream",
     "text": [
      "Using 'and' won't work!\n",
      "(alpha >= 2) & (beta >= 2): [False False  True]\n"
     ]
    }
   ],
   "source": [
    "try: print((alpha >= 2) and (beta >= 2))\n",
    "except ValueError:\n",
    "    print(\"Using 'and' won't work!\")\n",
    "    print(\"(alpha >= 2) & (beta >= 2):\", (alpha >= 2) & (beta >= 2))"
   ]
  },
  {
   "cell_type": "markdown",
   "metadata": {},
   "source": [
    "# Fancy indexing"
   ]
  },
  {
   "cell_type": "markdown",
   "metadata": {},
   "source": [
    "This goes beyond slicing, and increases the ability to refer to array elements comprehensively, specficially and efficiently."
   ]
  },
  {
   "cell_type": "markdown",
   "metadata": {},
   "source": [
    "## Group of specific indices referred together"
   ]
  },
  {
   "cell_type": "markdown",
   "metadata": {},
   "source": [
    "You can reference multiple specific indices through a list..."
   ]
  },
  {
   "cell_type": "code",
   "execution_count": 45,
   "metadata": {},
   "outputs": [
    {
     "name": "stdout",
     "output_type": "stream",
     "text": [
      "alpha: [1 2 3 4 5 6 7 8]\n",
      "1st, 3rd and 5th elements: [1 3 5]\n"
     ]
    }
   ],
   "source": [
    "alpha = np.array([1, 2, 3, 4, 5, 6, 7, 8])\n",
    "print(\"alpha:\", alpha)\n",
    "print(\"1st, 3rd and 5th elements:\", alpha[[0, 2, 4]])"
   ]
  },
  {
   "cell_type": "markdown",
   "metadata": {},
   "source": [
    "Note that when using fancy indexing, the shape of the result reflects the shape of the index arrays rather than the shape of the array being indexed..."
   ]
  },
  {
   "cell_type": "code",
   "execution_count": 50,
   "metadata": {},
   "outputs": [
    {
     "name": "stdout",
     "output_type": "stream",
     "text": [
      "1st, 3rd and 5th elements in one row, and 2nd, 4th and 6th elements in the next row:\n",
      "[[1 3 5]\n",
      " [2 4 6]]\n"
     ]
    }
   ],
   "source": [
    "print(\"1st, 3rd and 5th elements in one row, and 2nd, 4th and 6th elements in the next row:\")\n",
    "indices = np.array([[0, 2, 4], [1, 3, 5]])\n",
    "print(alpha[indices])"
   ]
  },
  {
   "cell_type": "markdown",
   "metadata": {},
   "source": [
    "### For multidimensional arrays"
   ]
  },
  {
   "cell_type": "code",
   "execution_count": 60,
   "metadata": {},
   "outputs": [
    {
     "name": "stdout",
     "output_type": "stream",
     "text": [
      "beta:\n",
      " [[  1   2   3]\n",
      " [ 20  40  60]\n",
      " [300 600 900]]\n"
     ]
    }
   ],
   "source": [
    "# 2D array...\n",
    "beta = np.array([[1, 2, 3], [20, 40, 60], [300, 600, 900]])\n",
    "print(\"beta:\\n\", beta)"
   ]
  },
  {
   "cell_type": "code",
   "execution_count": 62,
   "metadata": {},
   "outputs": [
    {
     "name": "stdout",
     "output_type": "stream",
     "text": [
      "Elements in (1, 2), (2, 3) and (3, 3)\n",
      "(Coordinates are given in form (x, y))\n",
      "[  2  60 900]\n"
     ]
    }
   ],
   "source": [
    "print(\"Elements in (1, 2), (2, 3) and (3, 3)\")\n",
    "print(\"(Coordinates are given in form (x, y))\")\n",
    "rows = [0, 1, 2]\n",
    "cols = [1, 2, 2]\n",
    "print(beta[rows, cols])"
   ]
  },
  {
   "cell_type": "markdown",
   "metadata": {},
   "source": [
    "## Combining fancy indexing with simple indexing and slicing"
   ]
  },
  {
   "cell_type": "code",
   "execution_count": 67,
   "metadata": {},
   "outputs": [
    {
     "name": "stdout",
     "output_type": "stream",
     "text": [
      "beta:\n",
      " [[  1   2   3]\n",
      " [ 20  40  60]\n",
      " [300 600 900]]\n"
     ]
    }
   ],
   "source": [
    "beta = np.array([[1, 2, 3], [20, 40, 60], [300, 600, 900]])\n",
    "print(\"beta:\\n\", beta)"
   ]
  },
  {
   "cell_type": "code",
   "execution_count": 69,
   "metadata": {},
   "outputs": [
    {
     "name": "stdout",
     "output_type": "stream",
     "text": [
      "[20 40 60]\n"
     ]
    }
   ],
   "source": [
    "print(beta[1, [0, 1, 2]])"
   ]
  },
  {
   "cell_type": "markdown",
   "metadata": {},
   "source": [
    "Here, the row is always index 1 i.e. row 2, and the column indices are 0, 1 and 2 respectively (i.e. columns 1, 2 and 3 respectively)."
   ]
  },
  {
   "cell_type": "code",
   "execution_count": 70,
   "metadata": {},
   "outputs": [
    {
     "name": "stdout",
     "output_type": "stream",
     "text": [
      "[[ 1  2  3]\n",
      " [20 40 60]]\n"
     ]
    }
   ],
   "source": [
    "print(beta[0:2, [0, 1, 2]])"
   ]
  },
  {
   "cell_type": "markdown",
   "metadata": {},
   "source": [
    "Here, the rows are from index 0 to 2 i.e. rows 1 to 3, and the column indices are 0, 1 and 2 respectively (i.e. columns 1, 2 and 3 respectively)."
   ]
  }
 ],
 "metadata": {
  "kernelspec": {
   "display_name": "Python 3",
   "language": "python",
   "name": "python3"
  },
  "language_info": {
   "codemirror_mode": {
    "name": "ipython",
    "version": 3
   },
   "file_extension": ".py",
   "mimetype": "text/x-python",
   "name": "python",
   "nbconvert_exporter": "python",
   "pygments_lexer": "ipython3",
   "version": "3.8.5"
  }
 },
 "nbformat": 4,
 "nbformat_minor": 4
}
