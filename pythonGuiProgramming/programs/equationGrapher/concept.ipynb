{
 "cells": [
  {
   "cell_type": "code",
   "execution_count": 1,
   "metadata": {},
   "outputs": [],
   "source": [
    "from sympy import Symbol, Eq, solve\n",
    "from numpy import linspace\n",
    "from sympy.parsing.sympy_parser import parse_expr as parse\n",
    "from matplotlib.pyplot import scatter"
   ]
  },
  {
   "cell_type": "markdown",
   "metadata": {},
   "source": [
    "# Inputting equation"
   ]
  },
  {
   "cell_type": "code",
   "execution_count": 6,
   "metadata": {},
   "outputs": [
    {
     "name": "stdout",
     "output_type": "stream",
     "text": [
      "Enter equation: x**2/a**2-y**2/b**2=1\n"
     ]
    },
    {
     "data": {
      "text/latex": [
       "$\\displaystyle - \\frac{y^{2}}{b^{2}} + \\frac{x^{2}}{a^{2}} = 1$"
      ],
      "text/plain": [
       "Eq(-y**2/b**2 + x**2/a**2, 1)"
      ]
     },
     "execution_count": 6,
     "metadata": {},
     "output_type": "execute_result"
    }
   ],
   "source": [
    "equation = input(\"Enter equation: \")\n",
    "v = [\"x\", \"y\"] # Dependent variables (always same)\n",
    "params = [] # Independent parameters (any alphabet except x and y)\n",
    "#------------------------\n",
    "# Identifying parameters\n",
    "for c in equation:\n",
    "    if c.isalpha() and c not in v:\n",
    "        params.append(c)\n",
    "#------------------------\n",
    "equation = equation.split(\"=\")\n",
    "lhs, rhs = parse(equation[0].strip()), parse(equation[1].strip())\n",
    "equation = Eq(lhs, rhs)\n",
    "equation\n",
    "# '.strip' removes leading and trailing spaces"
   ]
  },
  {
   "cell_type": "markdown",
   "metadata": {},
   "source": [
    "# Inputting parameter values"
   ]
  },
  {
   "cell_type": "code",
   "execution_count": 7,
   "metadata": {},
   "outputs": [
    {
     "name": "stdout",
     "output_type": "stream",
     "text": [
      "a: 2\n",
      "b: 3\n"
     ]
    },
    {
     "data": {
      "text/latex": [
       "$\\displaystyle \\frac{x^{2}}{4} - \\frac{y^{2}}{9} = 1$"
      ],
      "text/plain": [
       "Eq(x**2/4 - y**2/9, 1)"
      ]
     },
     "execution_count": 7,
     "metadata": {},
     "output_type": "execute_result"
    }
   ],
   "source": [
    "specific = equation\n",
    "for i in params:\n",
    "    value = input(i + \": \")\n",
    "    specific = specific.subs({Symbol(i):value})\n",
    "specific"
   ]
  },
  {
   "cell_type": "markdown",
   "metadata": {},
   "source": [
    "# Creating plot"
   ]
  },
  {
   "cell_type": "code",
   "execution_count": 8,
   "metadata": {},
   "outputs": [],
   "source": [
    "domain = linspace(-10, 10, 100)\n",
    "x, y = [], []\n",
    "for i in domain:\n",
    "    tmp = specific.subs({Symbol(v[0]):i})\n",
    "    solutions = list(solve(tmp, Symbol(v[1])))\n",
    "    for s in solutions:\n",
    "        try:\n",
    "            s = float(s)\n",
    "            x.append(i)\n",
    "            y.append(s)\n",
    "        except: pass"
   ]
  },
  {
   "cell_type": "code",
   "execution_count": 9,
   "metadata": {},
   "outputs": [
    {
     "data": {
      "image/png": "[encoded data removed]",
      "text/plain": [
       "<Figure size 432x288 with 1 Axes>"
      ]
     },
     "metadata": {
      "needs_background": "light"
     },
     "output_type": "display_data"
    }
   ],
   "source": [
    "scatter(x, y)\n",
    "None"
   ]
  }
 ],
 "metadata": {
  "kernelspec": {
   "display_name": "Python 3",
   "language": "python",
   "name": "python3"
  },
  "language_info": {
   "codemirror_mode": {
    "name": "ipython",
    "version": 3
   },
   "file_extension": ".py",
   "mimetype": "text/x-python",
   "name": "python",
   "nbconvert_exporter": "python",
   "pygments_lexer": "ipython3",
   "version": "3.8.5"
  }
 },
 "nbformat": 4,
 "nbformat_minor": 4
}
