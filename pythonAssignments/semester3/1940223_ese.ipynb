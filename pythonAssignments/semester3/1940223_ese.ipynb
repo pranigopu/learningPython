{
 "cells": [
  {
   "cell_type": "markdown",
   "metadata": {},
   "source": [
    "# PYTHON SEMESTER 2 ESE"
   ]
  },
  {
   "cell_type": "markdown",
   "metadata": {},
   "source": [
    "Name: Pranav Gopalkrishna"
   ]
  },
  {
   "cell_type": "markdown",
   "metadata": {},
   "source": [
    "Register number: 1940223"
   ]
  },
  {
   "cell_type": "markdown",
   "metadata": {},
   "source": [
    "Class: 3 CMS"
   ]
  },
  {
   "cell_type": "markdown",
   "metadata": {},
   "source": [
    "## Question 1"
   ]
  },
  {
   "cell_type": "markdown",
   "metadata": {},
   "source": [
    "Output:"
   ]
  },
  {
   "cell_type": "markdown",
   "metadata": {},
   "source": [
    "80"
   ]
  },
  {
   "cell_type": "markdown",
   "metadata": {},
   "source": [
    "## Question 2"
   ]
  },
  {
   "cell_type": "code",
   "execution_count": 22,
   "metadata": {},
   "outputs": [],
   "source": [
    "from sympy import Symbol\n",
    "import matplotlib.pyplot as plt"
   ]
  },
  {
   "cell_type": "code",
   "execution_count": 12,
   "metadata": {},
   "outputs": [],
   "source": [
    "m1 = 1.5\n",
    "m2 = 2.3\n",
    "G = 6.674\n",
    "for i in range(1, 12):\n",
    "    G = G / 10 \n",
    "r = Symbol(\"r\")\n",
    "F = G * m1 * m2 / r**2"
   ]
  },
  {
   "cell_type": "code",
   "execution_count": 44,
   "metadata": {},
   "outputs": [],
   "source": [
    "xs = range(100, 1000, int((1000 - 100) /20))\n",
    "ys = []\n",
    "for i in xs:\n",
    "    ys.append(F.subs(r, i))"
   ]
  },
  {
   "cell_type": "code",
   "execution_count": 45,
   "metadata": {},
   "outputs": [
    {
     "data": {
      "image/png": "[encoded data removed]",
      "text/plain": [
       "<matplotlib.figure.Figure object at 0x1196b4c18>"
      ]
     },
     "metadata": {},
     "output_type": "display_data"
    }
   ],
   "source": [
    "plt.plot(xs, ys)\n",
    "plt.title(\"Gravitational force between two bodies accross 20 distances from 100m to 1000m\\n(Note: plotted y value to original y value ratio is 1: 10^(-14)\\n\\n\")\n",
    "plt.xlabel(\"Distance\")\n",
    "plt.ylabel(\"Gravitational force\")\n",
    "plt.show()"
   ]
  },
  {
   "cell_type": "markdown",
   "metadata": {},
   "source": [
    "## Question 3"
   ]
  },
  {
   "cell_type": "code",
   "execution_count": 55,
   "metadata": {},
   "outputs": [],
   "source": [
    "def LList():\n",
    "    lis = list(range(20,30))\n",
    "    print(\"Element at index 3: {0}\".format(lis[3]))\n",
    "    print(\"All the elements: {0}\".format(lis))\n",
    "    print(\"All the elements printed idividually:\", end = \" \")\n",
    "    upper = len(lis)\n",
    "    for i in range(0, upper):\n",
    "        print(lis[i], end = \" \")"
   ]
  },
  {
   "cell_type": "code",
   "execution_count": 56,
   "metadata": {},
   "outputs": [
    {
     "name": "stdout",
     "output_type": "stream",
     "text": [
      "Element at index 3: 23\n",
      "All the elements: [20, 21, 22, 23, 24, 25, 26, 27, 28, 29]\n",
      "All the elements printed idividually: 20 21 22 23 24 25 26 27 28 29 "
     ]
    }
   ],
   "source": [
    "LList()"
   ]
  },
  {
   "cell_type": "markdown",
   "metadata": {},
   "source": [
    "## Question 4"
   ]
  },
  {
   "cell_type": "code",
   "execution_count": 74,
   "metadata": {},
   "outputs": [],
   "source": [
    "def fibo(n):\n",
    "    n1 = 0\n",
    "    n2 = 1\n",
    "    for i in range(1, n + 1):\n",
    "        print(\"#{0}: {1}\".format(i, n2))\n",
    "        tmp = n2\n",
    "        n2 = n1 + n2\n",
    "        n1 = tmp"
   ]
  },
  {
   "cell_type": "code",
   "execution_count": 76,
   "metadata": {},
   "outputs": [
    {
     "name": "stdout",
     "output_type": "stream",
     "text": [
      "How many Fibonacci numbers to generate? 32\n",
      "#1: 1\n",
      "#2: 1\n",
      "#3: 2\n",
      "#4: 3\n",
      "#5: 5\n",
      "#6: 8\n",
      "#7: 13\n",
      "#8: 21\n",
      "#9: 34\n",
      "#10: 55\n",
      "#11: 89\n",
      "#12: 144\n",
      "#13: 233\n",
      "#14: 377\n",
      "#15: 610\n",
      "#16: 987\n",
      "#17: 1597\n",
      "#18: 2584\n",
      "#19: 4181\n",
      "#20: 6765\n",
      "#21: 10946\n",
      "#22: 17711\n",
      "#23: 28657\n",
      "#24: 46368\n",
      "#25: 75025\n",
      "#26: 121393\n",
      "#27: 196418\n",
      "#28: 317811\n",
      "#29: 514229\n",
      "#30: 832040\n",
      "#31: 1346269\n",
      "#32: 2178309\n"
     ]
    }
   ],
   "source": [
    "while True:\n",
    "    try:\n",
    "        n = int(input(\"How many Fibonacci numbers to generate? \"))\n",
    "        if n < 1:\n",
    "            print(\"Invalid input!\")\n",
    "        else:\n",
    "            fibo(n)\n",
    "            break\n",
    "    except:\n",
    "        print(\"Invalid input!\")"
   ]
  }
 ],
 "metadata": {
  "kernelspec": {
   "display_name": "Python 3",
   "language": "python",
   "name": "python3"
  },
  "language_info": {
   "codemirror_mode": {
    "name": "ipython",
    "version": 3
   },
   "file_extension": ".py",
   "mimetype": "text/x-python",
   "name": "python",
   "nbconvert_exporter": "python",
   "pygments_lexer": "ipython3",
   "version": "3.6.4"
  }
 },
 "nbformat": 4,
 "nbformat_minor": 2
}
