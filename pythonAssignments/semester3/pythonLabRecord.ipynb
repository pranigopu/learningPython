{
 "cells": [
  {
   "cell_type": "markdown",
   "metadata": {},
   "source": [
    "# PYTHON THIRD SEMESTER LAB RECORD"
   ]
  },
  {
   "cell_type": "markdown",
   "metadata": {},
   "source": [
    "Lab record done by Pranav Gopalkrishna, register number 1940223, class 3 CMS"
   ]
  },
  {
   "cell_type": "markdown",
   "metadata": {},
   "source": [
    "1. Introduction to Python\n",
    "2. Working with numbers in Python\n",
    "<br>&emsp; 2.1. Basic mathematical operations\n",
    "<br>&emsp; 2.2. Integers\n",
    "<br>&emsp; 2.3. Floating point numbers\n",
    "<br>&emsp; 2.4. Fractions\n",
    "<br>&emsp; 2.5. Complex numbers\n",
    "3. Programming structures\n",
    "<br>&emsp; 3.1. Conditional statements\n",
    "<br>&emsp; 3.2. Loops\n",
    "4. Lists, tuple and dictionaries\n",
    "<br>&emsp; 4.1. Lists\n",
    "<br>&emsp; 4.2. Tuples\n",
    "<br>&emsp; 4.3. Dictionaries\n",
    "5. Plotting of graphs\n",
    "<br>&emsp; 5.1. Basics\n",
    "<br>&emsp; 5.2. Multiple plots\n",
    "<br>&emsp; 5.3. Customising graphs\n",
    "<br>&emsp; 5.4. Using matplotlib module instead of pylab module\n",
    "<br>&emsp; 5.5. Plotting Newton's formula of gravitation\n",
    "<br>&emsp; 5.6. Saving plots\n",
    "<br>&emsp; 5.7. Projectile motion\n",
    "<br>&emsp; 5.8. Bar plot\n",
    "6. Working with symbols in Python\n",
    "<br>&emsp; 6.1. Variable symbols\n",
    "<br>&emsp; 6.2. Pretty printing\n",
    "<br>&emsp; 6.3. Operations on an expression\n",
    "<br>&emsp; 6.4. Substituting values into symbols in an expression\n",
    "<br>&emsp; 6.5. Making a series\n",
    "<br>&emsp; 6.6. Re-ordering a series of terms using init_printing()\n",
    "<br>&emsp; 6.7. Plotting a series\n",
    "7. The format method\n",
    "<br>&emsp; 7.1. Some examples of usage\n",
    "<br>&emsp; 7.2. Applied on variable strings\n",
    "<br>&emsp; 7.3. Applied without print( )\n",
    "<br>&emsp; 7.4. Applied in different orders\n",
    "<br>&emsp; 7.5. Repeating values\n",
    "<br>&emsp; 7.6. Rounding decimals\n",
    "8. Roots of a quadratic equation\n",
    "9. Converting units of measurements\n",
    "<br>&emsp; 9.1. Program to convert miles to kilometers or vice versa\n",
    "<br>&emsp; 9.2. Enhanced unit converter\n",
    "10. Exception handling"
   ]
  },
  {
   "cell_type": "markdown",
   "metadata": {},
   "source": [
    "# 1. Introduction to Python"
   ]
  },
  {
   "cell_type": "markdown",
   "metadata": {},
   "source": [
    "Python in an a high-level general purpose programming language that is interpreted, rather than compiled. It supports procedural, object-oriented and functional programming. It has a vast array of predefined libraries for numerous functionalities, ranging from formatting output to machine learning."
   ]
  },
  {
   "cell_type": "markdown",
   "metadata": {},
   "source": [
    "# 2. Working with numbers in Python"
   ]
  },
  {
   "cell_type": "markdown",
   "metadata": {},
   "source": [
    "Here, we learn to carry out basic mathematical operations, define fractions and define complex numbers in Python"
   ]
  },
  {
   "cell_type": "markdown",
   "metadata": {},
   "source": [
    "## 2.1. Basic mathematical operations"
   ]
  },
  {
   "cell_type": "code",
   "execution_count": 36,
   "metadata": {},
   "outputs": [],
   "source": [
    "a = 5\n",
    "b = 7"
   ]
  },
  {
   "cell_type": "code",
   "execution_count": 37,
   "metadata": {},
   "outputs": [
    {
     "name": "stdout",
     "output_type": "stream",
     "text": [
      "12\n",
      "-2\n",
      "35\n",
      "0.7142857142857143\n"
     ]
    }
   ],
   "source": [
    "print(a + b)\n",
    "print(a - b)\n",
    "print(a * b)\n",
    "print(a / b)"
   ]
  },
  {
   "cell_type": "markdown",
   "metadata": {},
   "source": [
    "## 2.2. Integers"
   ]
  },
  {
   "cell_type": "markdown",
   "metadata": {},
   "source": [
    "### Parsing as integers"
   ]
  },
  {
   "cell_type": "markdown",
   "metadata": {},
   "source": [
    "To convert a string or float to an integer, we use the int( ) function"
   ]
  },
  {
   "cell_type": "code",
   "execution_count": 38,
   "metadata": {},
   "outputs": [
    {
     "data": {
      "text/plain": [
       "2"
      ]
     },
     "execution_count": 38,
     "metadata": {},
     "output_type": "execute_result"
    }
   ],
   "source": [
    "int(2.3)"
   ]
  },
  {
   "cell_type": "code",
   "execution_count": 39,
   "metadata": {},
   "outputs": [
    {
     "data": {
      "text/plain": [
       "23"
      ]
     },
     "execution_count": 39,
     "metadata": {},
     "output_type": "execute_result"
    }
   ],
   "source": [
    "int(\"23\")"
   ]
  },
  {
   "cell_type": "markdown",
   "metadata": {},
   "source": [
    "However, a string cannot be a non integer"
   ]
  },
  {
   "cell_type": "code",
   "execution_count": 40,
   "metadata": {},
   "outputs": [
    {
     "ename": "ValueError",
     "evalue": "invalid literal for int() with base 10: '2.3'",
     "output_type": "error",
     "traceback": [
      "\u001b[0;31m---------------------------------------------------------------------------\u001b[0m",
      "\u001b[0;31mValueError\u001b[0m                                Traceback (most recent call last)",
      "\u001b[0;32m<ipython-input-40-5ed61bf3052f>\u001b[0m in \u001b[0;36m<module>\u001b[0;34m()\u001b[0m\n\u001b[0;32m----> 1\u001b[0;31m \u001b[0mint\u001b[0m\u001b[0;34m(\u001b[0m\u001b[0;34m\"2.3\"\u001b[0m\u001b[0;34m)\u001b[0m\u001b[0;34m\u001b[0m\u001b[0m\n\u001b[0m",
      "\u001b[0;31mValueError\u001b[0m: invalid literal for int() with base 10: '2.3'"
     ]
    }
   ],
   "source": [
    "int(\"2.3\")"
   ]
  },
  {
   "cell_type": "markdown",
   "metadata": {},
   "source": [
    "### Checking for integers"
   ]
  },
  {
   "cell_type": "markdown",
   "metadata": {},
   "source": [
    "is_integer( ) is a predefined function defined for float type numbers only"
   ]
  },
  {
   "cell_type": "code",
   "execution_count": 43,
   "metadata": {},
   "outputs": [
    {
     "data": {
      "text/plain": [
       "False"
      ]
     },
     "execution_count": 43,
     "metadata": {},
     "output_type": "execute_result"
    }
   ],
   "source": [
    "3.4.is_integer()"
   ]
  },
  {
   "cell_type": "code",
   "execution_count": 44,
   "metadata": {},
   "outputs": [
    {
     "data": {
      "text/plain": [
       "True"
      ]
     },
     "execution_count": 44,
     "metadata": {},
     "output_type": "execute_result"
    }
   ],
   "source": [
    "3.0.is_integer()"
   ]
  },
  {
   "cell_type": "markdown",
   "metadata": {},
   "source": [
    "The function is not defined for strings"
   ]
  },
  {
   "cell_type": "code",
   "execution_count": 45,
   "metadata": {},
   "outputs": [
    {
     "ename": "AttributeError",
     "evalue": "'str' object has no attribute 'is_integer'",
     "output_type": "error",
     "traceback": [
      "\u001b[0;31m---------------------------------------------------------------------------\u001b[0m",
      "\u001b[0;31mAttributeError\u001b[0m                            Traceback (most recent call last)",
      "\u001b[0;32m<ipython-input-45-6b6b18ac6ca9>\u001b[0m in \u001b[0;36m<module>\u001b[0;34m()\u001b[0m\n\u001b[0;32m----> 1\u001b[0;31m \u001b[0;34m\"3.4\"\u001b[0m\u001b[0;34m.\u001b[0m\u001b[0mis_integer\u001b[0m\u001b[0;34m(\u001b[0m\u001b[0;34m)\u001b[0m\u001b[0;34m\u001b[0m\u001b[0m\n\u001b[0m",
      "\u001b[0;31mAttributeError\u001b[0m: 'str' object has no attribute 'is_integer'"
     ]
    }
   ],
   "source": [
    "\"3.4\".is_integer()"
   ]
  },
  {
   "cell_type": "markdown",
   "metadata": {},
   "source": [
    "## 2.3. Floating point values"
   ]
  },
  {
   "cell_type": "markdown",
   "metadata": {},
   "source": [
    "A floating point number can be any real number, such as 3, 3.4, 100/33, $\\pi$, etc."
   ]
  },
  {
   "cell_type": "markdown",
   "metadata": {},
   "source": [
    "### Parsing as floating point numbers"
   ]
  },
  {
   "cell_type": "markdown",
   "metadata": {},
   "source": [
    "To convert a string or float to an integer, we use the float( ) function"
   ]
  },
  {
   "cell_type": "code",
   "execution_count": 46,
   "metadata": {},
   "outputs": [
    {
     "data": {
      "text/plain": [
       "3.0"
      ]
     },
     "execution_count": 46,
     "metadata": {},
     "output_type": "execute_result"
    }
   ],
   "source": [
    "float(3)"
   ]
  },
  {
   "cell_type": "code",
   "execution_count": 47,
   "metadata": {},
   "outputs": [
    {
     "data": {
      "text/plain": [
       "3.14"
      ]
     },
     "execution_count": 47,
     "metadata": {},
     "output_type": "execute_result"
    }
   ],
   "source": [
    "float(\"3.14\")"
   ]
  },
  {
   "cell_type": "code",
   "execution_count": 48,
   "metadata": {},
   "outputs": [
    {
     "data": {
      "text/plain": [
       "3.0"
      ]
     },
     "execution_count": 48,
     "metadata": {},
     "output_type": "execute_result"
    }
   ],
   "source": [
    "float(\"3\")"
   ]
  },
  {
   "cell_type": "markdown",
   "metadata": {},
   "source": [
    "## 2.4. Fractions"
   ]
  },
  {
   "cell_type": "code",
   "execution_count": 56,
   "metadata": {},
   "outputs": [],
   "source": [
    "from fractions import Fraction"
   ]
  },
  {
   "cell_type": "markdown",
   "metadata": {},
   "source": [
    "### Defining fractions"
   ]
  },
  {
   "cell_type": "code",
   "execution_count": 57,
   "metadata": {},
   "outputs": [],
   "source": [
    "frac1 = Fraction(3, 8)\n",
    "frac2 = Fraction(7, 8)"
   ]
  },
  {
   "cell_type": "code",
   "execution_count": 58,
   "metadata": {},
   "outputs": [
    {
     "name": "stdout",
     "output_type": "stream",
     "text": [
      "3/8\n",
      "7/8\n"
     ]
    }
   ],
   "source": [
    "print(frac1)\n",
    "print(frac2)"
   ]
  },
  {
   "cell_type": "markdown",
   "metadata": {},
   "source": [
    "### Parsing strings as fractions"
   ]
  },
  {
   "cell_type": "markdown",
   "metadata": {},
   "source": [
    "To parse a string as a fraction, write a fraction using /, without spaces"
   ]
  },
  {
   "cell_type": "markdown",
   "metadata": {},
   "source": [
    "For example: 3/5"
   ]
  },
  {
   "cell_type": "code",
   "execution_count": 59,
   "metadata": {},
   "outputs": [
    {
     "data": {
      "text/plain": [
       "Fraction(45, 67)"
      ]
     },
     "execution_count": 59,
     "metadata": {},
     "output_type": "execute_result"
    }
   ],
   "source": [
    "myFraction = \"45/67\"\n",
    "Fraction(myFraction)"
   ]
  },
  {
   "cell_type": "markdown",
   "metadata": {},
   "source": [
    "### Some operations on fractions"
   ]
  },
  {
   "cell_type": "markdown",
   "metadata": {},
   "source": [
    "Fraction with fraction"
   ]
  },
  {
   "cell_type": "code",
   "execution_count": 62,
   "metadata": {},
   "outputs": [
    {
     "name": "stdout",
     "output_type": "stream",
     "text": [
      "5/4\n",
      "-1/2\n",
      "21/64\n",
      "3/7\n"
     ]
    }
   ],
   "source": [
    "print(frac1 + frac2)\n",
    "print(frac1 - frac2)\n",
    "print(frac1 * frac2)\n",
    "print(frac1 / frac2)"
   ]
  },
  {
   "cell_type": "markdown",
   "metadata": {},
   "source": [
    "Fraction with any numerical constant"
   ]
  },
  {
   "cell_type": "code",
   "execution_count": 63,
   "metadata": {},
   "outputs": [
    {
     "name": "stdout",
     "output_type": "stream",
     "text": [
      "35/8\n",
      "-29/8\n",
      "3/2\n",
      "3/32\n"
     ]
    }
   ],
   "source": [
    "x = 4\n",
    "print(frac1 + x)\n",
    "print(frac1 - x)\n",
    "print(frac1 * x)\n",
    "print(frac1 / x)"
   ]
  },
  {
   "cell_type": "markdown",
   "metadata": {},
   "source": [
    "Here is a program that inputs and operates on two fractions..."
   ]
  },
  {
   "cell_type": "code",
   "execution_count": 66,
   "metadata": {},
   "outputs": [
    {
     "name": "stdout",
     "output_type": "stream",
     "text": [
      "Enter fraction 1: 3/8\n",
      "Enter fraction 2: 9/7\n",
      "Enter operator: -\n",
      "3/8 - 9/7 = -51/56\n"
     ]
    }
   ],
   "source": [
    "from fractions import Fraction\n",
    "def calculate(n1, n2, operator):\n",
    "    if operator == \"+\":\n",
    "        ans = n1 + n2\n",
    "    elif operator == \"-\":\n",
    "        ans = n1 - n2\n",
    "    elif operator == \"*\":\n",
    "        ans = n1 * n2\n",
    "    elif operator == \"/\":\n",
    "        ans = n1 / n2\n",
    "    else:\n",
    "        print(\"Operator not found!\")\n",
    "        return\n",
    "    print(\"{0} {1} {2} = {3}\".format(n1, operator, n2, ans))\n",
    "def fractionCalculator():\n",
    "    try:\n",
    "        frac1 = Fraction(input(\"Enter fraction 1: \"))\n",
    "        frac2 = Fraction(input(\"Enter fraction 2: \"))\n",
    "    except:\n",
    "        print(\"Invalid fraction!\")\n",
    "        return\n",
    "    operator = input(\"Enter operator: \")\n",
    "    calculate(frac1, frac2, operator)\n",
    "fractionCalculator()"
   ]
  },
  {
   "cell_type": "markdown",
   "metadata": {},
   "source": [
    "## 2.5. Complex numbers"
   ]
  },
  {
   "cell_type": "markdown",
   "metadata": {},
   "source": [
    "Python supports complex numbers with imaginary parts denoted by i or j in the output"
   ]
  },
  {
   "cell_type": "markdown",
   "metadata": {},
   "source": [
    "### Defining complex numbers"
   ]
  },
  {
   "cell_type": "code",
   "execution_count": 67,
   "metadata": {},
   "outputs": [],
   "source": [
    "complex1 = complex(4, 7)\n",
    "complex2= complex(3, 3)"
   ]
  },
  {
   "cell_type": "code",
   "execution_count": 68,
   "metadata": {},
   "outputs": [
    {
     "name": "stdout",
     "output_type": "stream",
     "text": [
      "(4+7j)\n",
      "(3+3j)\n"
     ]
    }
   ],
   "source": [
    "print(complex1)\n",
    "print(complex2)"
   ]
  },
  {
   "cell_type": "markdown",
   "metadata": {},
   "source": [
    "### Parsing strings as complex numbers"
   ]
  },
  {
   "cell_type": "markdown",
   "metadata": {},
   "source": [
    "To parse a string as a complex number, write a complex number without spaces"
   ]
  },
  {
   "cell_type": "markdown",
   "metadata": {},
   "source": [
    "Note that the real part must come before the imaginary part"
   ]
  },
  {
   "cell_type": "markdown",
   "metadata": {},
   "source": [
    "Add a 'j' at the end of the imaginary part, since j represents $\\sqrt{-1}$"
   ]
  },
  {
   "cell_type": "code",
   "execution_count": 69,
   "metadata": {},
   "outputs": [
    {
     "data": {
      "text/plain": [
       "(2+3j)"
      ]
     },
     "execution_count": 69,
     "metadata": {},
     "output_type": "execute_result"
    }
   ],
   "source": [
    "myComplexNum = \"2+3j\"\n",
    "complex(myComplexNum)"
   ]
  },
  {
   "cell_type": "markdown",
   "metadata": {},
   "source": [
    "### Some operations on complex numbers"
   ]
  },
  {
   "cell_type": "code",
   "execution_count": 70,
   "metadata": {},
   "outputs": [
    {
     "name": "stdout",
     "output_type": "stream",
     "text": [
      "(7+10j)\n",
      "(1+4j)\n",
      "(-9+33j)\n",
      "(1.8333333333333333+0.5j)\n"
     ]
    }
   ],
   "source": [
    "print(complex1 + complex2)\n",
    "print(complex1 - complex2)\n",
    "print(complex1 * complex2)\n",
    "print(complex1 / complex2)"
   ]
  },
  {
   "cell_type": "markdown",
   "metadata": {},
   "source": [
    "NOTE: Modulus (%) and floor division (//) is not valid for complex numbers, as seen below"
   ]
  },
  {
   "cell_type": "markdown",
   "metadata": {},
   "source": [
    "(Floor division means dividing two numbers and taking the result's floor)"
   ]
  },
  {
   "cell_type": "code",
   "execution_count": 71,
   "metadata": {},
   "outputs": [
    {
     "ename": "TypeError",
     "evalue": "can't mod complex numbers.",
     "output_type": "error",
     "traceback": [
      "\u001b[0;31m---------------------------------------------------------------------------\u001b[0m",
      "\u001b[0;31mTypeError\u001b[0m                                 Traceback (most recent call last)",
      "\u001b[0;32m<ipython-input-71-8f2535c34262>\u001b[0m in \u001b[0;36m<module>\u001b[0;34m()\u001b[0m\n\u001b[0;32m----> 1\u001b[0;31m \u001b[0mcomplex1\u001b[0m \u001b[0;34m%\u001b[0m \u001b[0;36m3\u001b[0m\u001b[0;34m\u001b[0m\u001b[0m\n\u001b[0m",
      "\u001b[0;31mTypeError\u001b[0m: can't mod complex numbers."
     ]
    }
   ],
   "source": [
    "complex1 % 3"
   ]
  },
  {
   "cell_type": "code",
   "execution_count": 72,
   "metadata": {},
   "outputs": [
    {
     "ename": "TypeError",
     "evalue": "can't take floor of complex number.",
     "output_type": "error",
     "traceback": [
      "\u001b[0;31m---------------------------------------------------------------------------\u001b[0m",
      "\u001b[0;31mTypeError\u001b[0m                                 Traceback (most recent call last)",
      "\u001b[0;32m<ipython-input-72-f0906135f151>\u001b[0m in \u001b[0;36m<module>\u001b[0;34m()\u001b[0m\n\u001b[0;32m----> 1\u001b[0;31m \u001b[0mcomplex1\u001b[0m \u001b[0;34m//\u001b[0m \u001b[0;36m3\u001b[0m\u001b[0;34m\u001b[0m\u001b[0m\n\u001b[0m",
      "\u001b[0;31mTypeError\u001b[0m: can't take floor of complex number."
     ]
    }
   ],
   "source": [
    "complex1 // 3"
   ]
  },
  {
   "cell_type": "markdown",
   "metadata": {},
   "source": [
    "Here is a program that inputs and operates on complex numbers..."
   ]
  },
  {
   "cell_type": "code",
   "execution_count": 74,
   "metadata": {},
   "outputs": [
    {
     "name": "stdout",
     "output_type": "stream",
     "text": [
      "Enter 1st complex number: 3+8j\n",
      "Enter 2nd complex number: 6-9j\n",
      "Addition of the complex numbers is  (9-1j)\n",
      "Subtraction of the complex numbers is  (-3+17j)\n",
      "Multiplication of the complex numbers is  (90+21j)\n",
      "Division of the complex numbers is  (-0.46153846153846156+0.641025641025641j)\n"
     ]
    }
   ],
   "source": [
    "z1 = complex(input(\"Enter 1st complex number: \"))\n",
    "z2 = complex(input(\"Enter 2nd complex number: \"))\n",
    "print(\"Addition of the complex numbers is \", z1+z2)\n",
    "print(\"Subtraction of the complex numbers is \", z1-z2)\n",
    "print(\"Multiplication of the complex numbers is \", z1*z2)\n",
    "print(\"Division of the complex numbers is \", z1/z2)"
   ]
  },
  {
   "cell_type": "markdown",
   "metadata": {},
   "source": [
    "### Isolating real and imaginary parts"
   ]
  },
  {
   "cell_type": "code",
   "execution_count": 75,
   "metadata": {},
   "outputs": [
    {
     "name": "stdout",
     "output_type": "stream",
     "text": [
      "(4+7j)\n",
      "4.0\n",
      "7.0\n"
     ]
    }
   ],
   "source": [
    "print(complex1)\n",
    "print(complex1.real)\n",
    "print(complex1.imag)"
   ]
  },
  {
   "cell_type": "markdown",
   "metadata": {},
   "source": [
    "### Conjugate"
   ]
  },
  {
   "cell_type": "code",
   "execution_count": 76,
   "metadata": {},
   "outputs": [
    {
     "name": "stdout",
     "output_type": "stream",
     "text": [
      "(4+7j)\n",
      "(4-7j)\n"
     ]
    }
   ],
   "source": [
    "print(complex1)\n",
    "print(complex1.conjugate())"
   ]
  },
  {
   "cell_type": "markdown",
   "metadata": {},
   "source": [
    "### Magnitude"
   ]
  },
  {
   "cell_type": "markdown",
   "metadata": {},
   "source": [
    "Magnitude of a complex number is given by $\\sqrt{real^2 + imaginary^2}$"
   ]
  },
  {
   "cell_type": "code",
   "execution_count": 77,
   "metadata": {},
   "outputs": [
    {
     "name": "stdout",
     "output_type": "stream",
     "text": [
      "(4+7j)\n",
      "The magnitude of the above number is\n",
      "8.06225774829855\n"
     ]
    }
   ],
   "source": [
    "print(complex1)\n",
    "print(\"The magnitude of the above number is\")\n",
    "print((complex1.real**2 + complex1.imag**2)**0.5)"
   ]
  },
  {
   "cell_type": "markdown",
   "metadata": {},
   "source": [
    "Alternatively, we can use the abs( ) method (absolute value finder) on a complex number to find its magnitude"
   ]
  },
  {
   "cell_type": "code",
   "execution_count": 78,
   "metadata": {},
   "outputs": [
    {
     "name": "stdout",
     "output_type": "stream",
     "text": [
      "(4+7j)\n",
      "The magnitude of the above number is\n",
      "8.06225774829855\n"
     ]
    }
   ],
   "source": [
    "print(complex1)\n",
    "print(\"The magnitude of the above number is\")\n",
    "print(abs(complex1))"
   ]
  },
  {
   "cell_type": "markdown",
   "metadata": {},
   "source": [
    "# 3. Programming structures"
   ]
  },
  {
   "cell_type": "markdown",
   "metadata": {},
   "source": [
    "## 3.1. Conditional structures"
   ]
  },
  {
   "cell_type": "markdown",
   "metadata": {},
   "source": [
    "To check for and act upon certain conditions, we use the if, elif and else statements"
   ]
  },
  {
   "cell_type": "markdown",
   "metadata": {},
   "source": [
    "### Program to check if input is positive or negative"
   ]
  },
  {
   "cell_type": "code",
   "execution_count": 79,
   "metadata": {},
   "outputs": [
    {
     "name": "stdout",
     "output_type": "stream",
     "text": [
      "Enter integer: -6\n",
      "-6 is negative.\n"
     ]
    }
   ],
   "source": [
    "n = int(input(\"Enter integer: \"))\n",
    "if n > 0:\n",
    "    print(n, \"is positive.\")\n",
    "elif n < 0:\n",
    "    print(n, \"is negative.\")\n",
    "else:\n",
    "    print(n, \"is zero.\")"
   ]
  },
  {
   "cell_type": "markdown",
   "metadata": {},
   "source": [
    "### Program to check if input is odd or even"
   ]
  },
  {
   "cell_type": "code",
   "execution_count": 80,
   "metadata": {},
   "outputs": [
    {
     "name": "stdout",
     "output_type": "stream",
     "text": [
      "Enter integer: 583\n",
      "583 is odd.\n"
     ]
    }
   ],
   "source": [
    "n = int(input(\"Enter integer: \"))\n",
    "if n % 2 == 0:\n",
    "    print(n, \"is even.\")\n",
    "else:\n",
    "    print(n, \"is odd.\")"
   ]
  },
  {
   "cell_type": "markdown",
   "metadata": {},
   "source": [
    "## 3.2. Loops"
   ]
  },
  {
   "cell_type": "markdown",
   "metadata": {},
   "source": [
    "Loops allow us to reuse code in consequent repetitions. This is helpful for various tasks, like adding a series, generating a sequence, or printing something repeatedly."
   ]
  },
  {
   "cell_type": "markdown",
   "metadata": {},
   "source": [
    "### The for loop"
   ]
  },
  {
   "cell_type": "markdown",
   "metadata": {},
   "source": [
    "The for loop has involves a variable that goes through a range or a set of values. The code under the loop repeats until the variable reaches the last value of the range or set."
   ]
  },
  {
   "cell_type": "code",
   "execution_count": 81,
   "metadata": {},
   "outputs": [
    {
     "name": "stdout",
     "output_type": "stream",
     "text": [
      "1\n",
      "2\n",
      "3\n",
      "4\n",
      "5\n"
     ]
    }
   ],
   "source": [
    "for i in range(1, 6):\n",
    "    print(i)"
   ]
  },
  {
   "cell_type": "markdown",
   "metadata": {},
   "source": [
    "#### Repeated printing"
   ]
  },
  {
   "cell_type": "code",
   "execution_count": 82,
   "metadata": {},
   "outputs": [
    {
     "name": "stdout",
     "output_type": "stream",
     "text": [
      "HA! HA! HA! "
     ]
    }
   ],
   "source": [
    "for i in range(1, 4):\n",
    "    print(\"HA\", end = \"! \")"
   ]
  },
  {
   "cell_type": "markdown",
   "metadata": {},
   "source": [
    "#### Adding a series"
   ]
  },
  {
   "cell_type": "markdown",
   "metadata": {},
   "source": [
    "Find the sum of the series $1^2 + 2^2 + 3^2 + ...$ for 504 terms"
   ]
  },
  {
   "cell_type": "code",
   "execution_count": 83,
   "metadata": {},
   "outputs": [
    {
     "name": "stdout",
     "output_type": "stream",
     "text": [
      "42801780\n"
     ]
    }
   ],
   "source": [
    "sum = 0\n",
    "for i in range(1, 505):\n",
    "    sum = sum + i*i\n",
    "print(sum)"
   ]
  },
  {
   "cell_type": "markdown",
   "metadata": {},
   "source": [
    "#### Generating a sequence"
   ]
  },
  {
   "cell_type": "markdown",
   "metadata": {},
   "source": [
    "Generate 20 terms of the Fibonacci sequence, which starts with $n_1 = 1, n_2 = 1$, and carries on with $n_i = n_{i - 1} + n_{i - 2}$"
   ]
  },
  {
   "cell_type": "code",
   "execution_count": 84,
   "metadata": {},
   "outputs": [
    {
     "name": "stdout",
     "output_type": "stream",
     "text": [
      "1\n",
      "1\n",
      "2\n",
      "3\n",
      "5\n",
      "8\n",
      "13\n",
      "21\n",
      "34\n",
      "55\n",
      "89\n",
      "144\n",
      "233\n",
      "377\n",
      "610\n",
      "987\n",
      "1597\n",
      "2584\n",
      "4181\n",
      "6765\n"
     ]
    }
   ],
   "source": [
    "n1 = 0\n",
    "n2 = 1\n",
    "for i in range(1, 21):\n",
    "    print(n2)\n",
    "    tmp = n2\n",
    "    n2 = n2 + n1\n",
    "    n1 = tmp"
   ]
  },
  {
   "cell_type": "markdown",
   "metadata": {},
   "source": [
    "#### Finding the factors of a number"
   ]
  },
  {
   "cell_type": "code",
   "execution_count": 86,
   "metadata": {},
   "outputs": [
    {
     "name": "stdout",
     "output_type": "stream",
     "text": [
      "Enter integer: 589\n",
      "Factors...\n",
      "1\n",
      "19\n",
      "31\n",
      "589\n"
     ]
    }
   ],
   "source": [
    "def is_factor(a, b):\n",
    "    if b % a == 0:\n",
    "        return True\n",
    "    else:\n",
    "        return False\n",
    "def factors(b):\n",
    "    for i in range(1, b + 1):\n",
    "        if is_factor(i, b):\n",
    "            print(i)\n",
    "b = input(\"Enter integer: \")\n",
    "b = float(b)\n",
    "if b.is_integer:\n",
    "    print(\"Factors...\")\n",
    "    factors(int(b))"
   ]
  },
  {
   "cell_type": "markdown",
   "metadata": {},
   "source": [
    "### The while loop"
   ]
  },
  {
   "cell_type": "markdown",
   "metadata": {},
   "source": [
    "The while loop has involves a condition, called the fail condition. If the fail condition is met, the loop terminates. This is a substitute for the for loop, but it can also be used for purposes with non-iterating variables."
   ]
  },
  {
   "cell_type": "markdown",
   "metadata": {},
   "source": [
    "#### User controlled exit"
   ]
  },
  {
   "cell_type": "markdown",
   "metadata": {},
   "source": [
    "Here is a program that generated how many ever multiples of a number the user wants, which is harder to achieve in a for loop"
   ]
  },
  {
   "cell_type": "code",
   "execution_count": 87,
   "metadata": {},
   "outputs": [
    {
     "name": "stdout",
     "output_type": "stream",
     "text": [
      "Enter a factor: 4\n",
      "4.0 X 1 = 4.0\n",
      "Next multiple? (y/n): y\n",
      "4.0 X 2 = 8.0\n",
      "Next multiple? (y/n): y\n",
      "4.0 X 3 = 12.0\n",
      "Next multiple? (y/n): y\n",
      "4.0 X 4 = 16.0\n",
      "Next multiple? (y/n): y\n",
      "4.0 X 5 = 20.0\n",
      "Next multiple? (y/n): n\n",
      "Goodbye.\n"
     ]
    }
   ],
   "source": [
    "i = 1\n",
    "n = float(input(\"Enter a factor: \"))\n",
    "print(\"{0} X {1} = {2}\".format(n, i, n * i))\n",
    "while True:\n",
    "    ans = input(\"Next multiple? (y/n): \")\n",
    "    if ans == \"y\":\n",
    "        i = i + 1\n",
    "        print(\"{0} X {1} = {2}\".format(n, i, n * i))\n",
    "    elif ans == \"n\":\n",
    "        print(\"Goodbye.\")\n",
    "        break\n",
    "    else:\n",
    "        print(\"Invalid option!\")"
   ]
  },
  {
   "cell_type": "markdown",
   "metadata": {},
   "source": [
    "# 4. Lists, tuples and dictionaries"
   ]
  },
  {
   "cell_type": "markdown",
   "metadata": {},
   "source": [
    "## 4.1. Lists"
   ]
  },
  {
   "cell_type": "markdown",
   "metadata": {},
   "source": [
    "### Creating a list"
   ]
  },
  {
   "cell_type": "code",
   "execution_count": 88,
   "metadata": {},
   "outputs": [
    {
     "name": "stdout",
     "output_type": "stream",
     "text": [
      "[4, 2, 7, 5, 9]\n"
     ]
    }
   ],
   "source": [
    "myList = [4, 2, 7, 5, 9]\n",
    "print(myList)"
   ]
  },
  {
   "cell_type": "markdown",
   "metadata": {},
   "source": [
    "#### Empty list"
   ]
  },
  {
   "cell_type": "code",
   "execution_count": 89,
   "metadata": {},
   "outputs": [
    {
     "name": "stdout",
     "output_type": "stream",
     "text": [
      "[]\n"
     ]
    }
   ],
   "source": [
    "emptyList = []\n",
    "print(emptyList)"
   ]
  },
  {
   "cell_type": "markdown",
   "metadata": {},
   "source": [
    "### Accessing elements of a list"
   ]
  },
  {
   "cell_type": "markdown",
   "metadata": {},
   "source": [
    "This involves accessing values in certain indices of the list"
   ]
  },
  {
   "cell_type": "markdown",
   "metadata": {},
   "source": [
    "\n",
    "Note that a list's indices begin from 0"
   ]
  },
  {
   "cell_type": "code",
   "execution_count": 91,
   "metadata": {},
   "outputs": [
    {
     "name": "stdout",
     "output_type": "stream",
     "text": [
      "Enter index: 4\n",
      "9\n"
     ]
    }
   ],
   "source": [
    "myList = [4, 2, 7, 5, 9]\n",
    "i = int(input(\"Enter index: \"))\n",
    "print(myList[i])"
   ]
  },
  {
   "cell_type": "markdown",
   "metadata": {},
   "source": [
    "#### Iterating through a list's elements"
   ]
  },
  {
   "cell_type": "code",
   "execution_count": 92,
   "metadata": {},
   "outputs": [
    {
     "name": "stdout",
     "output_type": "stream",
     "text": [
      "1\n",
      "4\n",
      "2\n",
      "5\n",
      "4\n",
      "Hello\n",
      "There\n"
     ]
    }
   ],
   "source": [
    "myList = [1, 4, 2, 5, 4, \"Hello\", \"There\"]\n",
    "for i in myList:\n",
    "    print(i)"
   ]
  },
  {
   "cell_type": "markdown",
   "metadata": {},
   "source": [
    "Iterating with indices (using enumerate function)"
   ]
  },
  {
   "cell_type": "code",
   "execution_count": 93,
   "metadata": {},
   "outputs": [
    {
     "name": "stdout",
     "output_type": "stream",
     "text": [
      "0 1\n",
      "1 4\n",
      "2 2\n",
      "3 5\n",
      "4 4\n",
      "5 Hello\n",
      "6 There\n"
     ]
    }
   ],
   "source": [
    "myList = [1, 4, 2, 5, 4, \"Hello\", \"There\"]\n",
    "for index, item in enumerate(myList):\n",
    "    print(index, item)"
   ]
  },
  {
   "cell_type": "markdown",
   "metadata": {},
   "source": [
    "### Other properties of a list"
   ]
  },
  {
   "cell_type": "markdown",
   "metadata": {},
   "source": [
    "Also note that a list can be of any data type, and it need not be homogenous in data type"
   ]
  },
  {
   "cell_type": "code",
   "execution_count": 94,
   "metadata": {},
   "outputs": [
    {
     "name": "stdout",
     "output_type": "stream",
     "text": [
      "['Meow', 1, 5.4, 'c']\n"
     ]
    }
   ],
   "source": [
    "myList = [\"Meow\", 1, 5.4, 'c']\n",
    "print(myList)"
   ]
  },
  {
   "cell_type": "markdown",
   "metadata": {},
   "source": [
    "Also note that a list can contain another list or tuple as a single element"
   ]
  },
  {
   "cell_type": "code",
   "execution_count": 95,
   "metadata": {},
   "outputs": [
    {
     "name": "stdout",
     "output_type": "stream",
     "text": [
      "[[1, 2, 3], ('a', 'b', 'c'), 'Hello', 'World']\n"
     ]
    }
   ],
   "source": [
    "myList = [[1, 2, 3], ('a', 'b', 'c'), \"Hello\", \"World\"]\n",
    "print(myList)"
   ]
  },
  {
   "cell_type": "markdown",
   "metadata": {},
   "source": [
    "### Append method"
   ]
  },
  {
   "cell_type": "code",
   "execution_count": 96,
   "metadata": {},
   "outputs": [
    {
     "name": "stdout",
     "output_type": "stream",
     "text": [
      "['Player', 1]\n"
     ]
    }
   ],
   "source": [
    "myList = []\n",
    "myList.append(\"Player\")\n",
    "myList.append(1)\n",
    "print(myList)"
   ]
  },
  {
   "cell_type": "markdown",
   "metadata": {},
   "source": [
    "Note that argument can also be a list or a tuple..."
   ]
  },
  {
   "cell_type": "code",
   "execution_count": 97,
   "metadata": {},
   "outputs": [
    {
     "data": {
      "text/plain": [
       "['Player', 1, ['Alpha', 'Beta', 'Gamma'], (1, 2, 3)]"
      ]
     },
     "execution_count": 97,
     "metadata": {},
     "output_type": "execute_result"
    }
   ],
   "source": [
    "myList.append([\"Alpha\", \"Beta\", \"Gamma\"])\n",
    "myList.append((1, 2, 3))\n",
    "myList"
   ]
  },
  {
   "cell_type": "markdown",
   "metadata": {},
   "source": [
    "### Length of a list"
   ]
  },
  {
   "cell_type": "markdown",
   "metadata": {},
   "source": [
    "To determine the length of a list i.e. the number of elements in the list, we can use the len( ) function"
   ]
  },
  {
   "cell_type": "code",
   "execution_count": 98,
   "metadata": {},
   "outputs": [
    {
     "data": {
      "text/plain": [
       "6"
      ]
     },
     "execution_count": 98,
     "metadata": {},
     "output_type": "execute_result"
    }
   ],
   "source": [
    "myList = [1, 2, 3, (\"I\", \"J\", \"K\"), \"Cat\", 3.4]\n",
    "len(myList)"
   ]
  },
  {
   "cell_type": "markdown",
   "metadata": {},
   "source": [
    "## 4.2. Tuples"
   ]
  },
  {
   "cell_type": "markdown",
   "metadata": {},
   "source": [
    "Creating and handling a tuple is similar to creating a list, but we use parentheses instead of square brackets. Also, append method does not apply for a tuple. While lists are mutable, tuples are immutable."
   ]
  },
  {
   "cell_type": "markdown",
   "metadata": {},
   "source": [
    "### Creating a tuple"
   ]
  },
  {
   "cell_type": "code",
   "execution_count": 99,
   "metadata": {},
   "outputs": [
    {
     "name": "stdout",
     "output_type": "stream",
     "text": [
      "(1, 2, 3.2, 'Pranav')\n"
     ]
    }
   ],
   "source": [
    "myTuple = (1, 2, 3.2 , \"Pranav\")\n",
    "print(myTuple)"
   ]
  },
  {
   "cell_type": "markdown",
   "metadata": {},
   "source": [
    "#### Empty tuple"
   ]
  },
  {
   "cell_type": "code",
   "execution_count": 100,
   "metadata": {},
   "outputs": [
    {
     "name": "stdout",
     "output_type": "stream",
     "text": [
      "()\n"
     ]
    }
   ],
   "source": [
    "emptyTuple = ()\n",
    "print(emptyTuple)"
   ]
  },
  {
   "cell_type": "markdown",
   "metadata": {},
   "source": [
    "### Accessing  elements of a tuple"
   ]
  },
  {
   "cell_type": "markdown",
   "metadata": {},
   "source": [
    "Other than the defintion of the tuple, accessing the elements of a tuple through an index works the exact same way as it does for a list"
   ]
  },
  {
   "cell_type": "markdown",
   "metadata": {},
   "source": [
    "#### Iterating through a tuple's elements"
   ]
  },
  {
   "cell_type": "markdown",
   "metadata": {},
   "source": [
    "Other than the definition of the tuple, iterating through a tuple works the exact same way as iterating through a list"
   ]
  },
  {
   "cell_type": "markdown",
   "metadata": {},
   "source": [
    "### Other properties of a tuple"
   ]
  },
  {
   "cell_type": "markdown",
   "metadata": {},
   "source": [
    "As with a list, a tuple need have homogenous data types. Also like a list, a tuple can contain other tuples and lists as elements. However, since a tuple is immutable, no new elements can be added, and no elements can be removed."
   ]
  },
  {
   "cell_type": "code",
   "execution_count": 101,
   "metadata": {},
   "outputs": [
    {
     "name": "stdout",
     "output_type": "stream",
     "text": [
      "([1, 2, 3], ('a', 'b', 'c'), 2.3, 3)\n"
     ]
    }
   ],
   "source": [
    "myTuple = ([1, 2, 3], ('a', 'b', 'c'), 2.3 , 3)\n",
    "print(myTuple)"
   ]
  },
  {
   "cell_type": "markdown",
   "metadata": {},
   "source": [
    "### Length of a tuple"
   ]
  },
  {
   "cell_type": "markdown",
   "metadata": {},
   "source": [
    "As with lists, we can use the len( ) function"
   ]
  },
  {
   "cell_type": "code",
   "execution_count": 102,
   "metadata": {},
   "outputs": [
    {
     "data": {
      "text/plain": [
       "4"
      ]
     },
     "execution_count": 102,
     "metadata": {},
     "output_type": "execute_result"
    }
   ],
   "source": [
    "myTuple = ([1, 2, 3], ('a', 'b', 'c'), 2.3 , 3)\n",
    "len(myTuple)"
   ]
  },
  {
   "cell_type": "markdown",
   "metadata": {},
   "source": [
    "## 4.3. Dictionaries"
   ]
  },
  {
   "cell_type": "markdown",
   "metadata": {},
   "source": [
    "A dictionary is a collection which is unordered, changeable and indexed. In Python dictionaries are written with curly brackets, and they have keys and values. They allow you to index items with your own indices."
   ]
  },
  {
   "cell_type": "markdown",
   "metadata": {},
   "source": [
    "### Creating a dictionary"
   ]
  },
  {
   "cell_type": "markdown",
   "metadata": {},
   "source": [
    "To the left of the colon is the index for the element which is to the right of the colon."
   ]
  },
  {
   "cell_type": "code",
   "execution_count": 103,
   "metadata": {},
   "outputs": [
    {
     "name": "stdout",
     "output_type": "stream",
     "text": [
      "{'one': 'I', 'two': 'II', 'three': 'III', 'four': 'IV', 'five': 'V'}\n"
     ]
    }
   ],
   "source": [
    "simpleDictionary = {\n",
    "    \"one\" : \"I\",\n",
    "    \"two\" : \"II\",\n",
    "    \"three\" : \"III\",\n",
    "    \"four\" : \"IV\",\n",
    "    \"five\" : \"V\"\n",
    "}\n",
    "print(simpleDictionary)"
   ]
  },
  {
   "cell_type": "markdown",
   "metadata": {},
   "source": [
    "#### Empty dictionary"
   ]
  },
  {
   "cell_type": "code",
   "execution_count": 104,
   "metadata": {},
   "outputs": [
    {
     "name": "stdout",
     "output_type": "stream",
     "text": [
      "{}\n"
     ]
    }
   ],
   "source": [
    "emptyDictionary = {}\n",
    "print(emptyDictionary)"
   ]
  },
  {
   "cell_type": "markdown",
   "metadata": {},
   "source": [
    "### Accessing elements of a dictionary"
   ]
  },
  {
   "cell_type": "markdown",
   "metadata": {},
   "source": [
    "Accessing an element in a dictionary can be done by referring to the index you have given it in the dictionary's definition."
   ]
  },
  {
   "cell_type": "markdown",
   "metadata": {},
   "source": [
    "#### Using square brackets"
   ]
  },
  {
   "cell_type": "code",
   "execution_count": 106,
   "metadata": {},
   "outputs": [
    {
     "name": "stdout",
     "output_type": "stream",
     "text": [
      "Enter index: four\n"
     ]
    },
    {
     "data": {
      "text/plain": [
       "'IV'"
      ]
     },
     "execution_count": 106,
     "metadata": {},
     "output_type": "execute_result"
    }
   ],
   "source": [
    "simpleDictionary = {\n",
    "    \"one\" : \"I\",\n",
    "    \"two\" : \"II\",\n",
    "    \"three\" : \"III\",\n",
    "    \"four\" : \"IV\",\n",
    "    \"five\" : \"V\"\n",
    "}\n",
    "i = input(\"Enter index: \")\n",
    "simpleDictionary[i]"
   ]
  },
  {
   "cell_type": "markdown",
   "metadata": {},
   "source": [
    "If you enter an invalid index..."
   ]
  },
  {
   "cell_type": "code",
   "execution_count": 107,
   "metadata": {},
   "outputs": [
    {
     "name": "stdout",
     "output_type": "stream",
     "text": [
      "Enter index: 3\n"
     ]
    },
    {
     "ename": "KeyError",
     "evalue": "'3'",
     "output_type": "error",
     "traceback": [
      "\u001b[0;31m---------------------------------------------------------------------------\u001b[0m",
      "\u001b[0;31mKeyError\u001b[0m                                  Traceback (most recent call last)",
      "\u001b[0;32m<ipython-input-107-cd9e42f984c1>\u001b[0m in \u001b[0;36m<module>\u001b[0;34m()\u001b[0m\n\u001b[1;32m      7\u001b[0m }\n\u001b[1;32m      8\u001b[0m \u001b[0mi\u001b[0m \u001b[0;34m=\u001b[0m \u001b[0minput\u001b[0m\u001b[0;34m(\u001b[0m\u001b[0;34m\"Enter index: \"\u001b[0m\u001b[0;34m)\u001b[0m\u001b[0;34m\u001b[0m\u001b[0m\n\u001b[0;32m----> 9\u001b[0;31m \u001b[0msimpleDictionary\u001b[0m\u001b[0;34m[\u001b[0m\u001b[0mi\u001b[0m\u001b[0;34m]\u001b[0m\u001b[0;34m\u001b[0m\u001b[0m\n\u001b[0m",
      "\u001b[0;31mKeyError\u001b[0m: '3'"
     ]
    }
   ],
   "source": [
    "simpleDictionary = {\n",
    "    \"one\" : \"I\",\n",
    "    \"two\" : \"II\",\n",
    "    \"three\" : \"III\",\n",
    "    \"four\" : \"IV\",\n",
    "    \"five\" : \"V\"\n",
    "}\n",
    "i = input(\"Enter index: \")\n",
    "simpleDictionary[i]"
   ]
  },
  {
   "cell_type": "markdown",
   "metadata": {},
   "source": [
    "#### Using the get( ) method"
   ]
  },
  {
   "cell_type": "markdown",
   "metadata": {},
   "source": [
    "The above result can also be achieved through the get( ) method, as follows. The difference is that if you enter an invalid index in the get( ) function, you will get no output, instead of an error message."
   ]
  },
  {
   "cell_type": "code",
   "execution_count": 108,
   "metadata": {},
   "outputs": [
    {
     "name": "stdout",
     "output_type": "stream",
     "text": [
      "Enter index: three\n"
     ]
    },
    {
     "data": {
      "text/plain": [
       "'III'"
      ]
     },
     "execution_count": 108,
     "metadata": {},
     "output_type": "execute_result"
    }
   ],
   "source": [
    "simpleDictionary = {\n",
    "    \"one\" : \"I\",\n",
    "    \"two\" : \"II\",\n",
    "    \"three\" : \"III\",\n",
    "    \"four\" : \"IV\",\n",
    "    \"five\" : \"V\"\n",
    "}\n",
    "i = input(\"Enter index: \")\n",
    "simpleDictionary.get(i)"
   ]
  },
  {
   "cell_type": "markdown",
   "metadata": {},
   "source": [
    "If you enter an invalid index..."
   ]
  },
  {
   "cell_type": "code",
   "execution_count": 109,
   "metadata": {},
   "outputs": [
    {
     "name": "stdout",
     "output_type": "stream",
     "text": [
      "Enter index: 2\n"
     ]
    }
   ],
   "source": [
    "simpleDictionary = {\n",
    "    \"one\" : \"I\",\n",
    "    \"two\" : \"II\",\n",
    "    \"three\" : \"III\",\n",
    "    \"four\" : \"IV\",\n",
    "    \"five\" : \"V\"\n",
    "}\n",
    "i = input(\"Enter index: \")\n",
    "simpleDictionary.get(i)"
   ]
  },
  {
   "cell_type": "markdown",
   "metadata": {},
   "source": [
    "#### Iterating through a dictionary's elements"
   ]
  },
  {
   "cell_type": "markdown",
   "metadata": {},
   "source": [
    "##### Iterating through values"
   ]
  },
  {
   "cell_type": "code",
   "execution_count": 110,
   "metadata": {},
   "outputs": [
    {
     "name": "stdout",
     "output_type": "stream",
     "text": [
      "I\n",
      "II\n",
      "III\n",
      "IV\n",
      "V\n"
     ]
    }
   ],
   "source": [
    "simpleDictionary = {\n",
    "    \"one\" : \"I\",\n",
    "    \"two\" : \"II\",\n",
    "    \"three\" : \"III\",\n",
    "    \"four\" : \"IV\",\n",
    "    \"five\" : \"V\"\n",
    "}\n",
    "for i in simpleDictionary.values():\n",
    "    print(i)"
   ]
  },
  {
   "cell_type": "markdown",
   "metadata": {},
   "source": [
    "##### Iterating through indices"
   ]
  },
  {
   "cell_type": "code",
   "execution_count": 111,
   "metadata": {},
   "outputs": [
    {
     "name": "stdout",
     "output_type": "stream",
     "text": [
      "one\n",
      "two\n",
      "three\n",
      "four\n",
      "five\n"
     ]
    }
   ],
   "source": [
    "simpleDictionary = {\n",
    "    \"one\" : \"I\",\n",
    "    \"two\" : \"II\",\n",
    "    \"three\" : \"III\",\n",
    "    \"four\" : \"IV\",\n",
    "    \"five\" : \"V\"\n",
    "}\n",
    "for i in simpleDictionary:\n",
    "    print(i)"
   ]
  },
  {
   "cell_type": "markdown",
   "metadata": {},
   "source": [
    "##### Iterating through indices and values together"
   ]
  },
  {
   "cell_type": "code",
   "execution_count": 112,
   "metadata": {},
   "outputs": [
    {
     "name": "stdout",
     "output_type": "stream",
     "text": [
      "('one', 'I')\n",
      "('two', 'II')\n",
      "('three', 'III')\n",
      "('four', 'IV')\n",
      "('five', 'V')\n"
     ]
    }
   ],
   "source": [
    "simpleDictionary = {\n",
    "    \"one\" : \"I\",\n",
    "    \"two\" : \"II\",\n",
    "    \"three\" : \"III\",\n",
    "    \"four\" : \"IV\",\n",
    "    \"five\" : \"V\"\n",
    "}\n",
    "for i in simpleDictionary.items():\n",
    "    print(i)"
   ]
  },
  {
   "cell_type": "markdown",
   "metadata": {},
   "source": [
    "### Other properties of a dictionary"
   ]
  },
  {
   "cell_type": "markdown",
   "metadata": {},
   "source": [
    "As with lists and tuples, the index names and elements need not be homogenous in data type"
   ]
  },
  {
   "cell_type": "code",
   "execution_count": 113,
   "metadata": {},
   "outputs": [
    {
     "name": "stdout",
     "output_type": "stream",
     "text": [
      "(3.14, 'Pie')\n",
      "('e', 2.7)\n",
      "('Stars', 0)\n",
      "(2, 'The Best')\n"
     ]
    }
   ],
   "source": [
    "mixedUp = {\n",
    "    3.14 : \"Pie\",\n",
    "    \"e\" : 2.7,\n",
    "    \"Stars\" : 0,\n",
    "    2 : \"The Best\"\n",
    "}\n",
    "for i in mixedUp.items():\n",
    "    print(i)"
   ]
  },
  {
   "cell_type": "markdown",
   "metadata": {},
   "source": [
    "As with lists and tuples, elements can also be lists and tuples"
   ]
  },
  {
   "cell_type": "code",
   "execution_count": 114,
   "metadata": {},
   "outputs": [
    {
     "name": "stdout",
     "output_type": "stream",
     "text": [
      "('Low-level', ('Assembly', 'Machine Code'))\n",
      "('Procedural', ('C', 'FORTRAAN', 'Pascal', 'Visual Basic'))\n",
      "('Object-oriented', ['Java', 'C++', 'Python'])\n"
     ]
    }
   ],
   "source": [
    "computerLanguages = {\n",
    "    \"Low-level\" : (\"Assembly\", \"Machine Code\"), #Tuple\n",
    "    \"Procedural\" : (\"C\", \"FORTRAAN\", \"Pascal\", \"Visual Basic\"), #List\n",
    "    \"Object-oriented\": [\"Java\", \"C++\", \"Python\"] #List\n",
    "}\n",
    "for i in computerLanguages.items():\n",
    "    print(i)"
   ]
  },
  {
   "cell_type": "markdown",
   "metadata": {},
   "source": [
    "### Length of a dictionary"
   ]
  },
  {
   "cell_type": "markdown",
   "metadata": {},
   "source": [
    "As with lists and tuples, we can use the len( ) function. Note that the length of dictionary is the number of index-element pairs in the dictionary."
   ]
  },
  {
   "cell_type": "code",
   "execution_count": 115,
   "metadata": {},
   "outputs": [
    {
     "data": {
      "text/plain": [
       "4"
      ]
     },
     "execution_count": 115,
     "metadata": {},
     "output_type": "execute_result"
    }
   ],
   "source": [
    "mixedUp = {\n",
    "    3.14 : \"Pie\",\n",
    "    \"e\" : 2.7,\n",
    "    \"Stars\" : 0,\n",
    "    2 : \"The Best\"\n",
    "}\n",
    "len(mixedUp)"
   ]
  },
  {
   "cell_type": "markdown",
   "metadata": {},
   "source": [
    "# 5. Plotting of graphs"
   ]
  },
  {
   "cell_type": "markdown",
   "metadata": {},
   "source": [
    "## 5.1. Basics"
   ]
  },
  {
   "cell_type": "markdown",
   "metadata": {},
   "source": [
    "We may use the 'pylab' module or the 'matplotlib' module. The functionality of the 'plot' function is similar in both modules."
   ]
  },
  {
   "cell_type": "code",
   "execution_count": 116,
   "metadata": {},
   "outputs": [],
   "source": [
    "from pylab import plot, show"
   ]
  },
  {
   "cell_type": "code",
   "execution_count": 117,
   "metadata": {},
   "outputs": [],
   "source": [
    "x_coords = [1, 5, 9]\n",
    "y_coords = [2, 10, 7]"
   ]
  },
  {
   "cell_type": "code",
   "execution_count": 118,
   "metadata": {},
   "outputs": [
    {
     "data": {
      "text/plain": [
       "[<matplotlib.lines.Line2D at 0x10ebf57f0>]"
      ]
     },
     "execution_count": 118,
     "metadata": {},
     "output_type": "execute_result"
    },
    {
     "data": {
      "image/png": "[encoded data removed]",
      "text/plain": [
       "<matplotlib.figure.Figure at 0x1091cb470>"
      ]
     },
     "metadata": {},
     "output_type": "display_data"
    }
   ],
   "source": [
    "plot(x_coords, y_coords)"
   ]
  },
  {
   "cell_type": "markdown",
   "metadata": {},
   "source": [
    "NOTE: If the x values are not specified, then a default range is taken, starting from 0, as seen below"
   ]
  },
  {
   "cell_type": "code",
   "execution_count": 119,
   "metadata": {},
   "outputs": [
    {
     "data": {
      "text/plain": [
       "[<matplotlib.lines.Line2D at 0x111fb47b8>]"
      ]
     },
     "execution_count": 119,
     "metadata": {},
     "output_type": "execute_result"
    },
    {
     "data": {
      "image/png": "[encoded data removed]",
      "text/plain": [
       "<matplotlib.figure.Figure at 0x10ec23198>"
      ]
     },
     "metadata": {},
     "output_type": "display_data"
    }
   ],
   "source": [
    "plot(y_coords)"
   ]
  },
  {
   "cell_type": "markdown",
   "metadata": {},
   "source": [
    "The 'show' function presents the graph alone"
   ]
  },
  {
   "cell_type": "code",
   "execution_count": 120,
   "metadata": {},
   "outputs": [
    {
     "data": {
      "image/png": "[encoded data removed]",
      "text/plain": [
       "<matplotlib.figure.Figure at 0x111ff45c0>"
      ]
     },
     "metadata": {},
     "output_type": "display_data"
    }
   ],
   "source": [
    "plot(x_coords, y_coords)\n",
    "show()"
   ]
  },
  {
   "cell_type": "markdown",
   "metadata": {},
   "source": [
    "### Marking points"
   ]
  },
  {
   "cell_type": "markdown",
   "metadata": {},
   "source": [
    "To mark the various points plotted by the graph, we can use the 'marker' option in the plot function. For the marker option, use one of the predefined characters, as follows."
   ]
  },
  {
   "cell_type": "code",
   "execution_count": 121,
   "metadata": {},
   "outputs": [
    {
     "data": {
      "image/png": "[encoded data removed]",
      "text/plain": [
       "<matplotlib.figure.Figure at 0x1120cbe80>"
      ]
     },
     "metadata": {},
     "output_type": "display_data"
    }
   ],
   "source": [
    "plot(x_coords, y_coords, marker = \"o\")\n",
    "show()"
   ]
  },
  {
   "cell_type": "code",
   "execution_count": 122,
   "metadata": {},
   "outputs": [
    {
     "data": {
      "image/png": "[encoded data removed]",
      "text/plain": [
       "<matplotlib.figure.Figure at 0x1121a9f98>"
      ]
     },
     "metadata": {},
     "output_type": "display_data"
    }
   ],
   "source": [
    "plot(x_coords, y_coords, marker = \"*\")\n",
    "show()"
   ]
  },
  {
   "cell_type": "code",
   "execution_count": 123,
   "metadata": {},
   "outputs": [
    {
     "data": {
      "image/png": "[encoded data removed]",
      "text/plain": [
       "<matplotlib.figure.Figure at 0x112272c50>"
      ]
     },
     "metadata": {},
     "output_type": "display_data"
    }
   ],
   "source": [
    "plot(x_coords, y_coords, marker = \"x\")\n",
    "show()"
   ]
  },
  {
   "cell_type": "markdown",
   "metadata": {},
   "source": [
    "Giving the marker option without typing 'marker = ' results in the plotting of the points alone, as seen below"
   ]
  },
  {
   "cell_type": "code",
   "execution_count": 124,
   "metadata": {},
   "outputs": [
    {
     "data": {
      "image/png": "[encoded data removed]",
      "text/plain": [
       "<matplotlib.figure.Figure at 0x11235ce48>"
      ]
     },
     "metadata": {},
     "output_type": "display_data"
    }
   ],
   "source": [
    "plot(x_coords, y_coords, \"o\")\n",
    "show()"
   ]
  },
  {
   "cell_type": "markdown",
   "metadata": {},
   "source": [
    "### Graphing temperatures in New York for one year"
   ]
  },
  {
   "cell_type": "code",
   "execution_count": 125,
   "metadata": {},
   "outputs": [],
   "source": [
    "months = range(1, 13)\n",
    "temperatures = [43, 25, 35, 36, 37, 20, 15, 10, 5, 7, 10, 23]"
   ]
  },
  {
   "cell_type": "code",
   "execution_count": 126,
   "metadata": {},
   "outputs": [
    {
     "name": "stdout",
     "output_type": "stream",
     "text": [
      "Temperatures in NYC\n"
     ]
    },
    {
     "data": {
      "image/png": "[encoded data removed]",
      "text/plain": [
       "<matplotlib.figure.Figure at 0x1124256a0>"
      ]
     },
     "metadata": {},
     "output_type": "display_data"
    }
   ],
   "source": [
    "plot(months, temperatures, marker = 'o')\n",
    "show(print(\"Temperatures in NYC\"))"
   ]
  },
  {
   "cell_type": "markdown",
   "metadata": {},
   "source": [
    "## 5.2. Multiple plots"
   ]
  },
  {
   "cell_type": "code",
   "execution_count": 127,
   "metadata": {},
   "outputs": [],
   "source": [
    "from pylab import plot, show"
   ]
  },
  {
   "cell_type": "code",
   "execution_count": 128,
   "metadata": {},
   "outputs": [],
   "source": [
    "year_2001 = [25, 25, 26, 27, 28, 30, 34, 19, 15, 15, 14, 14]\n",
    "year_2002 = [21, 30, 31, 31, 34, 35, 37, 27, 20, 20, 14, 12]\n",
    "year_2003 = [19, 19, 23, 30, 30, 30, 29, 18, 15, 14, 12, 10]"
   ]
  },
  {
   "cell_type": "markdown",
   "metadata": {},
   "source": [
    "### Method 1"
   ]
  },
  {
   "cell_type": "code",
   "execution_count": 129,
   "metadata": {},
   "outputs": [
    {
     "data": {
      "image/png": "[encoded data removed]",
      "text/plain": [
       "<matplotlib.figure.Figure at 0x112412710>"
      ]
     },
     "metadata": {},
     "output_type": "display_data"
    }
   ],
   "source": [
    "plot(range(1, 13), year_2001, range(1, 13), year_2002, range(1, 13), year_2003)\n",
    "show()"
   ]
  },
  {
   "cell_type": "markdown",
   "metadata": {},
   "source": [
    "### Method 2"
   ]
  },
  {
   "cell_type": "code",
   "execution_count": 130,
   "metadata": {},
   "outputs": [
    {
     "data": {
      "image/png": "[encoded data removed]",
      "text/plain": [
       "<matplotlib.figure.Figure at 0x112465c18>"
      ]
     },
     "metadata": {},
     "output_type": "display_data"
    }
   ],
   "source": [
    "plot(range(1, 13), year_2001)\n",
    "plot(range(1, 13), year_2002)\n",
    "plot(range(1, 13), year_2003)\n",
    "show()"
   ]
  },
  {
   "cell_type": "markdown",
   "metadata": {},
   "source": [
    "## 5.3. Customising graphs"
   ]
  },
  {
   "cell_type": "markdown",
   "metadata": {},
   "source": [
    "### Legends"
   ]
  },
  {
   "cell_type": "code",
   "execution_count": 131,
   "metadata": {},
   "outputs": [],
   "source": [
    "from pylab import plot, show, legend, title, xlabel, ylabel"
   ]
  },
  {
   "cell_type": "code",
   "execution_count": 132,
   "metadata": {},
   "outputs": [],
   "source": [
    "data1 = [1, 2, 3, 4, 5, 6, 7, 8, 7, 6, 5, 4]\n",
    "data2 = [2, 4, 8, 16, 32, 64, 32, 16, 8, 4, 2, 1]\n",
    "data3 = [1, 2, 5, 7, 12, 19, 31, 19, 12, 7, 5, 3]"
   ]
  },
  {
   "cell_type": "code",
   "execution_count": 133,
   "metadata": {},
   "outputs": [
    {
     "data": {
      "image/png": "[encoded data removed]",
      "text/plain": [
       "<matplotlib.figure.Figure at 0x112288eb8>"
      ]
     },
     "metadata": {},
     "output_type": "display_data"
    }
   ],
   "source": [
    "plot(range(1, 13), data1, range(1, 13), data2, range(1, 13), data3, marker = 'o')\n",
    "legend([2001, 2002, 2003])\n",
    "title(\"Average temperatures in Lalaland\")\n",
    "xlabel(\"Month\")\n",
    "ylabel(\"Temperature\")\n",
    "show()"
   ]
  },
  {
   "cell_type": "markdown",
   "metadata": {},
   "source": [
    "#### Positioning legends"
   ]
  },
  {
   "cell_type": "code",
   "execution_count": 134,
   "metadata": {},
   "outputs": [],
   "source": [
    "from pylab import plot, show, legend, title, xlabel, ylabel"
   ]
  },
  {
   "cell_type": "code",
   "execution_count": 135,
   "metadata": {},
   "outputs": [
    {
     "data": {
      "image/png": "[encoded data removed]",
      "text/plain": [
       "<matplotlib.figure.Figure at 0x112282dd8>"
      ]
     },
     "metadata": {},
     "output_type": "display_data"
    }
   ],
   "source": [
    "plot(range(1, 13), data1, range(1, 13), data2, range(1, 13), data3, marker = 'o')\n",
    "legend([2001, 2002, 2003], bbox_to_anchor = (0.8, 0.5))\n",
    "title(\"Average temperatures in Lalaland\")\n",
    "xlabel(\"Month\")\n",
    "ylabel(\"Temperature\")\n",
    "show()"
   ]
  },
  {
   "cell_type": "markdown",
   "metadata": {},
   "source": [
    "### Grids"
   ]
  },
  {
   "cell_type": "code",
   "execution_count": 143,
   "metadata": {},
   "outputs": [],
   "source": [
    "from pylab import plot, show, title, grid"
   ]
  },
  {
   "cell_type": "code",
   "execution_count": 144,
   "metadata": {},
   "outputs": [],
   "source": [
    "months = range(0, 12)\n",
    "temperatures = [32, 34, 28, 24, 25, 26, 27, 28, 29, 30, 30, 31]"
   ]
  },
  {
   "cell_type": "code",
   "execution_count": 145,
   "metadata": {},
   "outputs": [
    {
     "data": {
      "image/png": "[encoded data removed]",
      "text/plain": [
       "<matplotlib.figure.Figure at 0x1120f2908>"
      ]
     },
     "metadata": {},
     "output_type": "display_data"
    }
   ],
   "source": [
    "plot(temperatures)\n",
    "title(\"Temperatures in Delhi accross the months of the year 2056\")\n",
    "grid()\n",
    "show()"
   ]
  },
  {
   "cell_type": "markdown",
   "metadata": {},
   "source": [
    "### Labelling x and y values"
   ]
  },
  {
   "cell_type": "markdown",
   "metadata": {},
   "source": [
    "To do this, we use xticks and yticks functions..."
   ]
  },
  {
   "cell_type": "markdown",
   "metadata": {},
   "source": [
    "#### Labelling x-values"
   ]
  },
  {
   "cell_type": "code",
   "execution_count": 146,
   "metadata": {},
   "outputs": [],
   "source": [
    "from pylab import plot, show, title, xticks, grid"
   ]
  },
  {
   "cell_type": "code",
   "execution_count": 147,
   "metadata": {},
   "outputs": [],
   "source": [
    "months = range(0, 12)\n",
    "monthNames = [\"Jan\", \"Feb\", \"Mar\", \"Apr\", \"May\", \"Jun\", \"Jul\", \"Aug\", \"Sep\", \"Oct\", \"Nov\", \"Dec\"]\n",
    "temperatures = [32, 34, 28, 24, 25, 26, 27, 28, 29, 30, 30, 31]"
   ]
  },
  {
   "cell_type": "code",
   "execution_count": 148,
   "metadata": {},
   "outputs": [
    {
     "data": {
      "image/png": "[encoded data removed]",
      "text/plain": [
       "<matplotlib.figure.Figure at 0x112303630>"
      ]
     },
     "metadata": {},
     "output_type": "display_data"
    }
   ],
   "source": [
    "plot(temperatures)\n",
    "title(\"Temperatures in Perth accross the months of the year 3045\")\n",
    "xticks(months, monthNames)\n",
    "grid()\n",
    "show()"
   ]
  },
  {
   "cell_type": "markdown",
   "metadata": {},
   "source": [
    "#### Labelling y-values"
   ]
  },
  {
   "cell_type": "code",
   "execution_count": 149,
   "metadata": {},
   "outputs": [],
   "source": [
    "from pylab import plot, show, title, yticks, grid"
   ]
  },
  {
   "cell_type": "code",
   "execution_count": 150,
   "metadata": {},
   "outputs": [],
   "source": [
    "days = range(0, 5)\n",
    "ratingScale = range(1, 6)\n",
    "ratingNames = [\"Terrible\", \"Bad\", \"Okay\", \"Good\", \"Excellent\"]\n",
    "ratings = [4, 3, 4, 3, 5]"
   ]
  },
  {
   "cell_type": "code",
   "execution_count": 151,
   "metadata": {},
   "outputs": [
    {
     "data": {
      "image/png": "[encoded data removed]",
      "text/plain": [
       "<matplotlib.figure.Figure at 0x1120f2b70>"
      ]
     },
     "metadata": {},
     "output_type": "display_data"
    }
   ],
   "source": [
    "plot(days, ratings)\n",
    "title(\"Average experience in Hellblazer resort accross 5 days\")\n",
    "yticks(ratingScale, ratingNames)\n",
    "grid()\n",
    "show()"
   ]
  },
  {
   "cell_type": "markdown",
   "metadata": {},
   "source": [
    "### Axes"
   ]
  },
  {
   "cell_type": "markdown",
   "metadata": {},
   "source": [
    "With this function, we can set the minimum of the x or y axes."
   ]
  },
  {
   "cell_type": "code",
   "execution_count": 152,
   "metadata": {},
   "outputs": [],
   "source": [
    "from pylab import plot, show, axis"
   ]
  },
  {
   "cell_type": "code",
   "execution_count": 153,
   "metadata": {},
   "outputs": [],
   "source": [
    "data = [1, 2, 4, 8, 12, 14, 15, 15.5, 15, 14, 12, 8, 4, 2, 1]"
   ]
  },
  {
   "cell_type": "markdown",
   "metadata": {},
   "source": [
    "Without axes function..."
   ]
  },
  {
   "cell_type": "code",
   "execution_count": 154,
   "metadata": {},
   "outputs": [
    {
     "data": {
      "image/png": "[encoded data removed]",
      "text/plain": [
       "<matplotlib.figure.Figure at 0x1123c06d8>"
      ]
     },
     "metadata": {},
     "output_type": "display_data"
    }
   ],
   "source": [
    "plot(range(1, 16), data)\n",
    "show()"
   ]
  },
  {
   "cell_type": "markdown",
   "metadata": {},
   "source": [
    "With axes function..."
   ]
  },
  {
   "cell_type": "code",
   "execution_count": 155,
   "metadata": {},
   "outputs": [
    {
     "data": {
      "image/png": "[encoded data removed]",
      "text/plain": [
       "<matplotlib.figure.Figure at 0x11221ec88>"
      ]
     },
     "metadata": {},
     "output_type": "display_data"
    }
   ],
   "source": [
    "plot(range(1, 16), data)\n",
    "axis([1, 8, 0, 12])\n",
    "show()"
   ]
  },
  {
   "cell_type": "markdown",
   "metadata": {},
   "source": [
    "It can act as a method to zoom in or zoom out of particular areas of a graph"
   ]
  },
  {
   "cell_type": "markdown",
   "metadata": {},
   "source": [
    "## 5.4. Plotting using matplotlib module instead of pylab module"
   ]
  },
  {
   "cell_type": "markdown",
   "metadata": {},
   "source": [
    "The functionality of the pyplot module in the matplotlib module is almost the same as the pylab functions. The difference is that with matplotlib's pyplot module, it is easier to import with all functionalities (customisation functions) without either individually loading specific functions (as we did with pylab) or unnecessarily loading the memory (which would happen if we loaded the entire pylab module). In usage, the difference is that we need to write the functions in the format moduleName.functionName(...)"
   ]
  },
  {
   "cell_type": "code",
   "execution_count": 156,
   "metadata": {},
   "outputs": [],
   "source": [
    "import matplotlib.pyplot as plt"
   ]
  },
  {
   "cell_type": "code",
   "execution_count": 157,
   "metadata": {},
   "outputs": [],
   "source": [
    "data = [1, 2, 3, 4, 5, 6, 7, 8]"
   ]
  },
  {
   "cell_type": "code",
   "execution_count": 158,
   "metadata": {},
   "outputs": [
    {
     "data": {
      "image/png": "[encoded data removed]",
      "text/plain": [
       "<matplotlib.figure.Figure at 0x112717470>"
      ]
     },
     "metadata": {},
     "output_type": "display_data"
    }
   ],
   "source": [
    "plt.plot(range(0, 8), data)\n",
    "plt.title(\"Simple linear graph\")\n",
    "plt.xlabel(\"x\")\n",
    "plt.ylabel(\"y\")\n",
    "plt.show()"
   ]
  },
  {
   "cell_type": "markdown",
   "metadata": {},
   "source": [
    "## 5.5. Plotting Newton's formula of gravitation"
   ]
  },
  {
   "cell_type": "markdown",
   "metadata": {},
   "source": [
    "According to Newton's law of gravitation, the gravitational force exerted on two objects with masses m1 and m2, being apart by a distance of r, is given by $F = G m_1 m_2 / r^2$, where G is the gravitational constant."
   ]
  },
  {
   "cell_type": "code",
   "execution_count": 159,
   "metadata": {},
   "outputs": [],
   "source": [
    "import matplotlib.pyplot as plt"
   ]
  },
  {
   "cell_type": "markdown",
   "metadata": {},
   "source": [
    "Let the masses of the two objects be 1.5 kg and 2.3 kg, with the gravitation constant G being $6.674 * 10^{-11}$"
   ]
  },
  {
   "cell_type": "code",
   "execution_count": 160,
   "metadata": {},
   "outputs": [],
   "source": [
    "m1 = 1.5\n",
    "m2 = 2.3\n",
    "G = 6.674 / 10**(11)"
   ]
  },
  {
   "cell_type": "code",
   "execution_count": 161,
   "metadata": {},
   "outputs": [],
   "source": [
    "distances = range(100, 1000, int((1000 - 100) /20))\n",
    "gravitationalForces = []\n",
    "for i in distances:\n",
    "    gravitationalForces.append(G * m1 * m2 / i**2)"
   ]
  },
  {
   "cell_type": "code",
   "execution_count": 162,
   "metadata": {},
   "outputs": [
    {
     "data": {
      "image/png": "[encoded data removed]",
      "text/plain": [
       "<matplotlib.figure.Figure at 0x11285b208>"
      ]
     },
     "metadata": {},
     "output_type": "display_data"
    }
   ],
   "source": [
    "plt.plot(distances, gravitationalForces)\n",
    "plt.title(\"Gravitational force between two bodies accross 20 distances from 100m to 1000m\\n(Note: plotted y value to original y value ratio is 1: 10^(-14)\\n\\n\")\n",
    "plt.xlabel(\"Distance\")\n",
    "plt.ylabel(\"Gravitational force\")\n",
    "plt.grid()\n",
    "plt.show()"
   ]
  },
  {
   "cell_type": "markdown",
   "metadata": {},
   "source": [
    "## 5.6. Saving plots"
   ]
  },
  {
   "cell_type": "code",
   "execution_count": 163,
   "metadata": {},
   "outputs": [],
   "source": [
    "from pylab import savefig, plot, show, title, xlabel, ylabel"
   ]
  },
  {
   "cell_type": "markdown",
   "metadata": {},
   "source": [
    "Making some graph..."
   ]
  },
  {
   "cell_type": "code",
   "execution_count": 164,
   "metadata": {},
   "outputs": [],
   "source": [
    "x = [1, 2, 3, 4, 5, 6, 7, 8, 9, 10, 11, 12, 13]\n",
    "y = [1, 4, 9, 16, 20, 22, 23, 22, 20, 16, 9, 4, 1]\n",
    "p = [1, 2, 3, 4, 5, 6, 7, 8, 9, 10, 11, 12, 13]\n",
    "q = [1, 4, 9, 16, 25, 36, 49, 64, 81, 100, 121, 144, 169]"
   ]
  },
  {
   "cell_type": "code",
   "execution_count": 165,
   "metadata": {},
   "outputs": [
    {
     "data": {
      "image/png": "[encoded data removed]",
      "text/plain": [
       "<matplotlib.figure.Figure at 0x1127b95c0>"
      ]
     },
     "metadata": {},
     "output_type": "display_data"
    }
   ],
   "source": [
    "plot(x, y, color = 'magenta', marker = 'o')\n",
    "plot(p, q, color = 'green', marker = 'o')\n",
    "title(\"Some random graph\")\n",
    "xlabel(\"x\")\n",
    "ylabel(\"y\")\n",
    "savefig(\"someRandomGraph.pdf\")\n",
    "show()"
   ]
  },
  {
   "cell_type": "markdown",
   "metadata": {},
   "source": [
    "## 5.7. Projectile motion"
   ]
  },
  {
   "cell_type": "markdown",
   "metadata": {},
   "source": [
    "Initial velocity = u\n",
    "<br>\n",
    "Angle between projectile motion and ground = θ\n",
    "<br>\n",
    "The projectile has two velocity components, horizontal (x) and vertical (y)\n",
    "<br>\n",
    "x-direction component = $u_x = ucos\\theta$\n",
    "<br>\n",
    "y-direction component = $u_y = sin\\theta$"
   ]
  },
  {
   "cell_type": "markdown",
   "metadata": {},
   "source": [
    "As the projectile moves through space, the velocity changes. We represent the changed velocity as v\n",
    "<br>\n",
    "x-direction component of velocity change = $v_x$\n",
    "<br>\n",
    "y-direction component of velocity change = $v_y$"
   ]
  },
  {
   "cell_type": "markdown",
   "metadata": {},
   "source": [
    "Assume $v_x$ does not change, but $v_y$ does due to gravity\n",
    "<br>\n",
    "$v_y = u_y - gt$, where g is the gravitational constant and and t is the time from launch at which the instantaneous velocity v is measured\n",
    "<br>\n",
    "We have $u_y = usin\\theta$, hence $v_y = usin\\theta - gt$"
   ]
  },
  {
   "cell_type": "markdown",
   "metadata": {},
   "source": [
    "The x-direction component of the projectile motion does not change, so the horizontal distance traveled ($S_x$ ) is given by $S_x = v_xt$ => $S_x = u(cos\\theta)t$\n",
    "<br>\n",
    "The y-direction component of the projectile motion does changes, so the vertical distance traveled is given by the formula $S_y = v_yt$ => $S_y = usin(\\theta)t - \\frac{1}{2}gt^2$\n",
    "<br>\n",
    "$S_x$ and $S_y$ are used to calculate the position of the projectile at any given point in time."
   ]
  },
  {
   "cell_type": "markdown",
   "metadata": {},
   "source": [
    "Before we write our program, however, we'll need to find out how long the ball will be in  flight before it hits the ground so that we know when our program should stop plotting the trajectory of the ball. The ball reaches its highest point when the vertical component of the velocity $(v_y )$ is 0, which is when $v_y = u sin \\theta- gt = 0$. So we're looking for the value $t$ using the formula $t = \\frac{u sin\\theta}{g}$. We'll call this time $t_{peak}$.\n",
    "<br>\n",
    "<br>\n",
    "After it reaches its highest point, the ball will hit the ground after being airborne for another $t_{peak}$ seconds, so the total time of flight $(t_{flight} )$ of the ball is $t_{flight} = 2\\frac{u sin\\theta}{g} $\n",
    "<br>\n",
    "<br>\n",
    "Let's take a ball that's thrown with an initial velocity ($u$) of $5m/s$ at an angle ($\\theta$) of 45 degrees. To calculate the total time of fight, we substitute $u = 5; \\theta = 45$, and $g = 9.8$ into the equation we saw above. The ball will be in air for this period of time, so to draw the trajectory, we'll calculate its x- and y-coordinates at regular intervals during this time period."
   ]
  },
  {
   "cell_type": "code",
   "execution_count": 166,
   "metadata": {},
   "outputs": [],
   "source": [
    "from matplotlib import pyplot as plt\n",
    "import math"
   ]
  },
  {
   "cell_type": "markdown",
   "metadata": {},
   "source": [
    "The range( ) function can only create ranges with integer increments, so we need to make our own function that makes a range with fractional increments.\n",
    "<br>\n",
    "(We need fractional increments because drawing the graph with consequent x-values sufficiently close together will make a smoother graph)"
   ]
  },
  {
   "cell_type": "code",
   "execution_count": 167,
   "metadata": {},
   "outputs": [],
   "source": [
    "def frange(start, final, increment):\n",
    "    numbers = []\n",
    "    while start < final:\n",
    "        numbers.append(start)\n",
    "        start = start + increment\n",
    "    return numbers"
   ]
  },
  {
   "cell_type": "code",
   "execution_count": 168,
   "metadata": {},
   "outputs": [],
   "source": [
    "def drawTrajectory(u, theta):\n",
    "    theta = math.radians(theta) # Converting initial angle of the trajectory to radians\n",
    "    g = 9.8 # Gravitational constant (acceleration due to gravity on Earth)\n",
    "    t_flight = 2 * u * math.sin(theta) / g # Total time the ball is in the air\n",
    "    intervals = frange(0, t_flight, 0.01) # To make a smoother graph\n",
    "    x = []\n",
    "    y = []\n",
    "    for t in intervals:\n",
    "        x.append(u * math.cos(theta) * t)\n",
    "        y.append(u * math.sin(theta) * t - 0.5 * g * t * t)     \n",
    "    plt.plot(x, y)\n",
    "    plt.xlabel(\"x\")\n",
    "    plt.ylabel(\"x\")\n",
    "    plt.grid()\n",
    "    plt.title(\"Projectile motion of a ball\")"
   ]
  },
  {
   "cell_type": "code",
   "execution_count": 169,
   "metadata": {},
   "outputs": [
    {
     "name": "stdout",
     "output_type": "stream",
     "text": [
      "Enter the initial velocity (m/s): 340\n",
      "Enter the angle of projection (degrees):10\n"
     ]
    },
    {
     "data": {
      "image/png": "[encoded data removed]",
      "text/plain": [
       "<matplotlib.figure.Figure at 0x112841da0>"
      ]
     },
     "metadata": {},
     "output_type": "display_data"
    }
   ],
   "source": [
    "try:\n",
    "    u = float(input(\"Enter the initial velocity (m/s): \"))\n",
    "    theta = float(input(\"Enter the angle of projection (degrees):\"))\n",
    "except:\n",
    "    print(\"You entered an invalid input\")\n",
    "else:\n",
    "    drawTrajectory(u, theta)\n",
    "    plt.show() "
   ]
  },
  {
   "cell_type": "markdown",
   "metadata": {},
   "source": [
    "## 5.8. Bar plot"
   ]
  },
  {
   "cell_type": "code",
   "execution_count": 170,
   "metadata": {},
   "outputs": [],
   "source": [
    "import matplotlib.pyplot as plt"
   ]
  },
  {
   "cell_type": "code",
   "execution_count": 171,
   "metadata": {},
   "outputs": [],
   "source": [
    "data = [10, 50, 20, 23, 5]\n",
    "positions = range(1, len(data) + 1)\n",
    "labels = [\"Rent\", \"Labor\", \"Transport\", \"Material\", \"Miscellaneous\"]"
   ]
  },
  {
   "cell_type": "code",
   "execution_count": 172,
   "metadata": {},
   "outputs": [
    {
     "data": {
      "image/png": "[encoded data removed]",
      "text/plain": [
       "<matplotlib.figure.Figure at 0x112501eb8>"
      ]
     },
     "metadata": {},
     "output_type": "display_data"
    }
   ],
   "source": [
    "plt.barh(positions, data, align = 'center')\n",
    "plt.title(\"Expenditures\")\n",
    "plt.yticks(positions, labels)\n",
    "plt.grid(axis = 'x', linestyle = '-') \n",
    "# axis = x means vertical gridlines will be drawn from each x-value\n",
    "# axis = y means horizontal gridlines will be drawn from each y-value\n",
    "plt.show()"
   ]
  },
  {
   "cell_type": "markdown",
   "metadata": {},
   "source": [
    "# 6. Working with symbols"
   ]
  },
  {
   "cell_type": "markdown",
   "metadata": {},
   "source": [
    "Working with symbols is essential for algebraic computation. To work with symbols, we use the module sympy."
   ]
  },
  {
   "cell_type": "markdown",
   "metadata": {},
   "source": [
    "## 6.1. Variable symbols"
   ]
  },
  {
   "cell_type": "code",
   "execution_count": 173,
   "metadata": {},
   "outputs": [],
   "source": [
    "from sympy import Symbol"
   ]
  },
  {
   "cell_type": "code",
   "execution_count": 174,
   "metadata": {},
   "outputs": [
    {
     "name": "stdout",
     "output_type": "stream",
     "text": [
      "x**2 + 2*x + 3\n"
     ]
    }
   ],
   "source": [
    "x = Symbol('x')\n",
    "myExpression = x**2 + 2*x + 3\n",
    "print(myExpression)"
   ]
  },
  {
   "cell_type": "markdown",
   "metadata": {},
   "source": [
    "## 6.2. Pretty printing"
   ]
  },
  {
   "cell_type": "markdown",
   "metadata": {},
   "source": [
    "Pretty printing prints an expression in a manner closer to the way we write Mathematics in practice. The function for pretty printing is pprint( )."
   ]
  },
  {
   "cell_type": "code",
   "execution_count": 175,
   "metadata": {},
   "outputs": [],
   "source": [
    "from sympy import Symbol, pprint"
   ]
  },
  {
   "cell_type": "code",
   "execution_count": 176,
   "metadata": {},
   "outputs": [
    {
     "name": "stdout",
     "output_type": "stream",
     "text": [
      "   3      2          \n",
      "5⋅y  + 2⋅y  + 3⋅y + 9\n"
     ]
    }
   ],
   "source": [
    "y = Symbol('y')\n",
    "myExpression = 5*y**3 + 2*y**2 + 3*y + 9\n",
    "pprint(myExpression)"
   ]
  },
  {
   "cell_type": "markdown",
   "metadata": {},
   "source": [
    "## 6.3. Operations on an expression"
   ]
  },
  {
   "cell_type": "markdown",
   "metadata": {},
   "source": [
    "### Adding and subtracting terms"
   ]
  },
  {
   "cell_type": "code",
   "execution_count": 177,
   "metadata": {},
   "outputs": [],
   "source": [
    "from sympy import Symbol, pprint"
   ]
  },
  {
   "cell_type": "code",
   "execution_count": 178,
   "metadata": {},
   "outputs": [
    {
     "name": "stdout",
     "output_type": "stream",
     "text": [
      "Old expression:\n",
      "   3      2\n",
      "5⋅x  + 2⋅x \n",
      "New expression:\n",
      "   3      2          \n",
      "5⋅x  + 2⋅x  + 3⋅x - 9\n"
     ]
    }
   ],
   "source": [
    "x = Symbol('x')\n",
    "myExpression = 5*x**3 + 2*x**2\n",
    "print(\"Old expression:\")\n",
    "pprint(myExpression)\n",
    "\n",
    "newExpression = myExpression + 3*x - 9\n",
    "print(\"New expression:\")\n",
    "pprint(newExpression)"
   ]
  },
  {
   "cell_type": "markdown",
   "metadata": {},
   "source": [
    "You can also actually add and subtract terms, rather than merely append them to the expression..."
   ]
  },
  {
   "cell_type": "code",
   "execution_count": 179,
   "metadata": {},
   "outputs": [
    {
     "name": "stdout",
     "output_type": "stream",
     "text": [
      "Old expression:\n",
      "   3      2\n",
      "5⋅x  + 2⋅x \n",
      "New expression:\n",
      "   3\n",
      "8⋅x \n"
     ]
    }
   ],
   "source": [
    "x = Symbol('x')\n",
    "myExpression = 5*x**3 + 2*x**2\n",
    "print(\"Old expression:\")\n",
    "pprint(myExpression)\n",
    "\n",
    "newExpression = myExpression + 3*x**3 - 2*x**2\n",
    "print(\"New expression:\")\n",
    "pprint(newExpression)"
   ]
  },
  {
   "cell_type": "markdown",
   "metadata": {},
   "source": [
    "### Multiplying and dividing terms"
   ]
  },
  {
   "cell_type": "code",
   "execution_count": 180,
   "metadata": {},
   "outputs": [],
   "source": [
    "from sympy import Symbol, pprint"
   ]
  },
  {
   "cell_type": "code",
   "execution_count": 181,
   "metadata": {},
   "outputs": [
    {
     "name": "stdout",
     "output_type": "stream",
     "text": [
      "Old expression:\n",
      "   3      2\n",
      "5⋅x  + 2⋅x \n",
      "New expression:\n",
      "⎛   3      2⎞ ⎛   3      2⎞\n",
      "⎝5⋅x  + 2⋅x ⎠⋅⎝3⋅y  - 2⋅y ⎠\n",
      "───────────────────────────\n",
      "          3⋅z - 4          \n"
     ]
    }
   ],
   "source": [
    "x = Symbol('x')\n",
    "y = Symbol('y')\n",
    "z = Symbol('z')\n",
    "myExpression = 5*x**3 + 2*x**2\n",
    "print(\"Old expression:\")\n",
    "pprint(myExpression)\n",
    "\n",
    "newExpression = myExpression * (3*y**3 - 2*y**2) / (3*z - 4)\n",
    "print(\"New expression:\")\n",
    "pprint(newExpression)"
   ]
  },
  {
   "cell_type": "markdown",
   "metadata": {},
   "source": [
    "You can also multiply and divide terms with constants..."
   ]
  },
  {
   "cell_type": "code",
   "execution_count": 182,
   "metadata": {},
   "outputs": [
    {
     "name": "stdout",
     "output_type": "stream",
     "text": [
      "Expression:\n",
      "4⋅x + 2\n",
      "Expression X 8:\n",
      "32⋅x + 16\n",
      "Expression / 4:\n",
      "x + 1/2\n"
     ]
    }
   ],
   "source": [
    "x = Symbol('x')\n",
    "myExpression = 4*x + 2\n",
    "print(\"Expression:\")\n",
    "pprint(myExpression)\n",
    "\n",
    "newExpression = myExpression * 8\n",
    "print(\"Expression X 8:\")\n",
    "pprint(newExpression)\n",
    "\n",
    "newExpression = myExpression / 4\n",
    "print(\"Expression / 4:\")\n",
    "pprint(newExpression)"
   ]
  },
  {
   "cell_type": "markdown",
   "metadata": {},
   "source": [
    "Multiplying and dividing powers of the same symbol changes the powers of the symbol accordingly..."
   ]
  },
  {
   "cell_type": "code",
   "execution_count": 183,
   "metadata": {},
   "outputs": [
    {
     "name": "stdout",
     "output_type": "stream",
     "text": [
      "Expression: \n",
      " 3\n",
      "x \n",
      "Expression * x^2: \n",
      " 5\n",
      "x \n",
      "Expression / x^2: \n",
      "x\n"
     ]
    }
   ],
   "source": [
    "x = Symbol('x')\n",
    "myExpression = x**3\n",
    "print(\"Expression: \")\n",
    "pprint(myExpression)\n",
    "\n",
    "newExpression = myExpression * x**2\n",
    "print(\"Expression * x^2: \")\n",
    "pprint(newExpression)\n",
    "\n",
    "newExpression = myExpression / x**2\n",
    "print(\"Expression / x^2: \")\n",
    "pprint(newExpression)"
   ]
  },
  {
   "cell_type": "markdown",
   "metadata": {},
   "source": [
    "## 6.4. Substituting values into symbols in an expression"
   ]
  },
  {
   "cell_type": "markdown",
   "metadata": {},
   "source": [
    "To subsitute values into symbols in an expression, we use the subs( ) function\n",
    "<br>\n",
    "This function has two arguments: symbol, value\n",
    "<br>\n",
    "The function must be called by the expression object"
   ]
  },
  {
   "cell_type": "code",
   "execution_count": 184,
   "metadata": {},
   "outputs": [],
   "source": [
    "from sympy import Symbol, pprint"
   ]
  },
  {
   "cell_type": "code",
   "execution_count": 186,
   "metadata": {},
   "outputs": [
    {
     "name": "stdout",
     "output_type": "stream",
     "text": [
      "My expression: \n",
      "   0.5    3   1 \n",
      "5⋅x    + x  - ──\n",
      "               3\n",
      "              x \n",
      "Enter the value of x for which you want to evaluate the expression: 4.86\n"
     ]
    },
    {
     "data": {
      "text/plain": [
       "125.805248377602"
      ]
     },
     "execution_count": 186,
     "metadata": {},
     "output_type": "execute_result"
    }
   ],
   "source": [
    "x = Symbol('x')\n",
    "myExpression = x**3 + 5*x**(0.5) - x**(-3)\n",
    "print(\"My expression: \")\n",
    "pprint(myExpression)\n",
    "\n",
    "n = float(input(\"Enter the value of x for which you want to evaluate the expression: \"))\n",
    "myExpression.subs(x, n)"
   ]
  },
  {
   "cell_type": "markdown",
   "metadata": {},
   "source": [
    "## 6.5. Making a series"
   ]
  },
  {
   "cell_type": "markdown",
   "metadata": {},
   "source": [
    "Write the series $y = \\sum\\limits_{n=1}^\\infty = \\frac{(-1)^n x^{2n + 1}}{2n + 1}$ for 10 terms. We can see that the terms of the series are $- \\frac{x^3}{3} + \\frac{x^5}{5} - \\frac{x^7}{7} + \\frac{x^9}{9} - ...$"
   ]
  },
  {
   "cell_type": "code",
   "execution_count": 187,
   "metadata": {},
   "outputs": [],
   "source": [
    "from sympy import Symbol, pprint"
   ]
  },
  {
   "cell_type": "code",
   "execution_count": 188,
   "metadata": {},
   "outputs": [
    {
     "name": "stdout",
     "output_type": "stream",
     "text": [
      " 21    19    17    15    13    11    9    7    5    3\n",
      "x     x     x     x     x     x     x    x    x    x \n",
      "─── - ─── + ─── - ─── + ─── - ─── + ── - ── + ── - ──\n",
      " 21    19    17    15    13    11   9    7    5    3 \n"
     ]
    }
   ],
   "source": [
    "x = Symbol('x')\n",
    "mySeries = -(x**3)/3\n",
    "for i in range (2, 11):\n",
    "    mySeries = mySeries + ((-1)**i) * (x**(2*i + 1)) / (2*i + 1)\n",
    "pprint(mySeries)"
   ]
  },
  {
   "cell_type": "markdown",
   "metadata": {},
   "source": [
    "## 6.6. Re-ordering a series of terms using init_printing( )"
   ]
  },
  {
   "cell_type": "markdown",
   "metadata": {},
   "source": [
    "Normally, the terms of a series of terms are ordered with the highest power first. But while this is the standard for polynomials, series need to be arranged with the lowest powers first. To reverse the default order, we use the init_printing( ) function, and apply the option: order = \"rev-lex\""
   ]
  },
  {
   "cell_type": "code",
   "execution_count": 189,
   "metadata": {},
   "outputs": [],
   "source": [
    "from sympy import Symbol, pprint, init_printing"
   ]
  },
  {
   "cell_type": "markdown",
   "metadata": {},
   "source": [
    "Let us reverse the order of the series in the previous section..."
   ]
  },
  {
   "cell_type": "code",
   "execution_count": 190,
   "metadata": {},
   "outputs": [
    {
     "name": "stdout",
     "output_type": "stream",
     "text": [
      "   3    5    7    9    11    13    15    17    19    21\n",
      "  x    x    x    x    x     x     x     x     x     x  \n",
      "- ── + ── - ── + ── - ─── + ─── - ─── + ─── - ─── + ───\n",
      "  3    5    7    9     11    13    15    17    19    21\n"
     ]
    }
   ],
   "source": [
    "init_printing(order = 'rev-lex')\n",
    "x = Symbol('x')\n",
    "mySeries = -(x**3)/3\n",
    "for i in range (2, 11):\n",
    "    mySeries = mySeries + ((-1)**i) * (x**(2*i + 1)) / (2*i + 1)\n",
    "pprint(mySeries)"
   ]
  },
  {
   "cell_type": "markdown",
   "metadata": {},
   "source": [
    "## 6.7. Plotting a series"
   ]
  },
  {
   "cell_type": "markdown",
   "metadata": {},
   "source": [
    "Here, we write a Python program to calculate sine function using series expansion and plot it\n",
    "<br>\n",
    "Maclauring expansion of sin(x) is\n",
    "<br>\n",
    "$x - \\frac{x^3}{3!} + \\frac{x^5}{5!} - \\frac{x^7}{7!} + ...$"
   ]
  },
  {
   "cell_type": "code",
   "execution_count": 191,
   "metadata": {},
   "outputs": [],
   "source": [
    "from sympy import Symbol\n",
    "import matplotlib.pyplot as plt"
   ]
  },
  {
   "cell_type": "markdown",
   "metadata": {},
   "source": [
    "The factorial finding function..."
   ]
  },
  {
   "cell_type": "code",
   "execution_count": 192,
   "metadata": {},
   "outputs": [],
   "source": [
    "def factorial(n):\n",
    "    fact = int(1)\n",
    "    for i in range(2, n + 1):\n",
    "        fact = fact * i\n",
    "    return fact"
   ]
  },
  {
   "cell_type": "markdown",
   "metadata": {},
   "source": [
    "Making the series for 100 terms"
   ]
  },
  {
   "cell_type": "code",
   "execution_count": 193,
   "metadata": {},
   "outputs": [],
   "source": [
    "x = Symbol('x')\n",
    "sine = x\n",
    "for i in range(1, 100): \n",
    "# I chose 101 because the accuracy does not improve anymore \n",
    "# for 16 decimal places after i = 100, \n",
    "# for a sufficient range of x values\n",
    "    sine = sine + ((-1)**i) * (x**(2*i + 1)) / factorial(int(2*i + 1))"
   ]
  },
  {
   "cell_type": "markdown",
   "metadata": {},
   "source": [
    "Defining the x and y values...\n",
    "<br>\n",
    "x-values are defined as the interval [0, 2], with the distance between consequent x-values being 0.1\n",
    "<br>\n",
    "y-values are defined by substituting each x-value into the obtained series"
   ]
  },
  {
   "cell_type": "code",
   "execution_count": 194,
   "metadata": {},
   "outputs": [],
   "source": [
    "x_values = []\n",
    "y_values = []\n",
    "for i in range(0, 200, 1):\n",
    "    n = float(i) / 10\n",
    "    x_values.append(n)\n",
    "    y_values.append(sine.subs(x, n))"
   ]
  },
  {
   "cell_type": "markdown",
   "metadata": {},
   "source": [
    "Plotting the curve..."
   ]
  },
  {
   "cell_type": "code",
   "execution_count": 195,
   "metadata": {},
   "outputs": [
    {
     "data": {
      "image/png": "[encoded data removed]",
      "text/plain": [
       "<matplotlib.figure.Figure at 0x113595588>"
      ]
     },
     "metadata": {},
     "output_type": "display_data"
    }
   ],
   "source": [
    "plt.plot(x_values, y_values)\n",
    "plt.title(\"Sine surve\")\n",
    "plt.xlabel(\"x\")\n",
    "plt.ylabel(\"y\")\n",
    "plt.show()"
   ]
  },
  {
   "cell_type": "markdown",
   "metadata": {},
   "source": [
    "# 7. The format method"
   ]
  },
  {
   "cell_type": "markdown",
   "metadata": {},
   "source": [
    "This method is applicable for strings, and is used to insert separate arguments into the string. The return value of this method is string."
   ]
  },
  {
   "cell_type": "markdown",
   "metadata": {},
   "source": [
    "## 7.1. Some examples of usage"
   ]
  },
  {
   "cell_type": "code",
   "execution_count": 196,
   "metadata": {},
   "outputs": [
    {
     "name": "stdout",
     "output_type": "stream",
     "text": [
      "At the grocery store, I bought some orange, apple and mango.\n"
     ]
    }
   ],
   "source": [
    "item1 = \"orange\"\n",
    "item2 = \"apple\"\n",
    "item3 = \"mango\"\n",
    "print(\"At the grocery store, I bought some {0}, {1} and {2}.\".format(item1, item2, item3))"
   ]
  },
  {
   "cell_type": "code",
   "execution_count": 197,
   "metadata": {
    "scrolled": false
   },
   "outputs": [
    {
     "name": "stdout",
     "output_type": "stream",
     "text": [
      "Here we go in 3, 2, 1, go!\n"
     ]
    }
   ],
   "source": [
    "print(\"Here we go in {0}, {1}, {2}, {3}!\".format(3, 2, 1, \"go\"))"
   ]
  },
  {
   "cell_type": "code",
   "execution_count": 198,
   "metadata": {
    "scrolled": true
   },
   "outputs": [
    {
     "name": "stdout",
     "output_type": "stream",
     "text": [
      "This is version 2.0, called DoomSlayer, and its model number is 10.\n"
     ]
    }
   ],
   "source": [
    "print(\"This is version {0}, called {1}, and its model number is {2}.\".format(2.0, \"DoomSlayer\", 10))"
   ]
  },
  {
   "cell_type": "markdown",
   "metadata": {},
   "source": [
    "## 7.2. Applied on variable strings"
   ]
  },
  {
   "cell_type": "markdown",
   "metadata": {},
   "source": [
    "Demonstration that the method is applicable for any string..."
   ]
  },
  {
   "cell_type": "code",
   "execution_count": 199,
   "metadata": {},
   "outputs": [
    {
     "name": "stdout",
     "output_type": "stream",
     "text": [
      "My name is Pranav Gopalkrishna, and my roll number is 1940223 and my class is 3 CMS.\n"
     ]
    }
   ],
   "source": [
    "myString = \"My name is {0} {1}, and my roll number is {2} and my class is {3}.\"\n",
    "print(myString.format(\"Pranav\", \"Gopalkrishna\", 1940223, \"3 CMS\"))"
   ]
  },
  {
   "cell_type": "markdown",
   "metadata": {},
   "source": [
    "## 7.3. Applied without print( )"
   ]
  },
  {
   "cell_type": "markdown",
   "metadata": {},
   "source": [
    "Without the print function, calling the format method simply returns a string"
   ]
  },
  {
   "cell_type": "code",
   "execution_count": 200,
   "metadata": {},
   "outputs": [
    {
     "data": {
      "text/plain": [
       "'Here we go in 1, 2, 3, go.'"
      ]
     },
     "execution_count": 200,
     "metadata": {},
     "output_type": "execute_result"
    }
   ],
   "source": [
    "\"Here we go in {0}, {1}, {2}, {3}.\".format(1, 2, 3, \"go\")"
   ]
  },
  {
   "cell_type": "code",
   "execution_count": 201,
   "metadata": {},
   "outputs": [
    {
     "data": {
      "text/plain": [
       "'My name is Pranav Gopalkrishna, and my roll number is 1940223 and my class is 3 CMS.'"
      ]
     },
     "execution_count": 201,
     "metadata": {},
     "output_type": "execute_result"
    }
   ],
   "source": [
    "myString.format(\"Pranav\", \"Gopalkrishna\", 1940223, \"3 CMS\")"
   ]
  },
  {
   "cell_type": "markdown",
   "metadata": {},
   "source": [
    "## 7.4. Applied in different orders"
   ]
  },
  {
   "cell_type": "code",
   "execution_count": 202,
   "metadata": {},
   "outputs": [
    {
     "data": {
      "text/plain": [
       "'Here we go in 3, 2, 1, go.'"
      ]
     },
     "execution_count": 202,
     "metadata": {},
     "output_type": "execute_result"
    }
   ],
   "source": [
    "\"Here we go in {3}, {2}, {1}, {0}.\".format(\"go\", 1, 2, 3)"
   ]
  },
  {
   "cell_type": "code",
   "execution_count": 203,
   "metadata": {},
   "outputs": [
    {
     "data": {
      "text/plain": [
       "'HU, HU, HE, HE, HO, HO'"
      ]
     },
     "execution_count": 203,
     "metadata": {},
     "output_type": "execute_result"
    }
   ],
   "source": [
    "\"{2}, {2}, {1}, {1}, {0}, {0}\".format(\"HO\", \"HE\", \"HU\")"
   ]
  },
  {
   "cell_type": "markdown",
   "metadata": {},
   "source": [
    "## 7.5. Repeating values"
   ]
  },
  {
   "cell_type": "code",
   "execution_count": 204,
   "metadata": {},
   "outputs": [
    {
     "data": {
      "text/plain": [
       "'HAHAHAHA'"
      ]
     },
     "execution_count": 204,
     "metadata": {},
     "output_type": "execute_result"
    }
   ],
   "source": [
    "\"{0}\".format(\"HA\"*4)"
   ]
  },
  {
   "cell_type": "code",
   "execution_count": 205,
   "metadata": {},
   "outputs": [
    {
     "data": {
      "text/plain": [
       "'HAHA'"
      ]
     },
     "execution_count": 205,
     "metadata": {},
     "output_type": "execute_result"
    }
   ],
   "source": [
    "\"{0}\".format(\"HA\" + \"HA\")"
   ]
  },
  {
   "cell_type": "markdown",
   "metadata": {},
   "source": [
    "The repetition won't work for numbers"
   ]
  },
  {
   "cell_type": "code",
   "execution_count": 206,
   "metadata": {},
   "outputs": [
    {
     "data": {
      "text/plain": [
       "'6'"
      ]
     },
     "execution_count": 206,
     "metadata": {},
     "output_type": "execute_result"
    }
   ],
   "source": [
    "\"{0}\".format(3 * 2)"
   ]
  },
  {
   "cell_type": "code",
   "execution_count": 207,
   "metadata": {},
   "outputs": [
    {
     "data": {
      "text/plain": [
       "'7.7'"
      ]
     },
     "execution_count": 207,
     "metadata": {},
     "output_type": "execute_result"
    }
   ],
   "source": [
    "\"{0}\".format(3.2 + 4.5)"
   ]
  },
  {
   "cell_type": "markdown",
   "metadata": {},
   "source": [
    "## 7.6. Rounding decimals"
   ]
  },
  {
   "cell_type": "markdown",
   "metadata": {},
   "source": [
    "In the brackets { }, write {order_no:.num_of_decimal_places f)\n",
    "<br>\n",
    "Example: {1:.3f}"
   ]
  },
  {
   "cell_type": "code",
   "execution_count": 208,
   "metadata": {},
   "outputs": [
    {
     "data": {
      "text/plain": [
       "'3.24'"
      ]
     },
     "execution_count": 208,
     "metadata": {},
     "output_type": "execute_result"
    }
   ],
   "source": [
    "\"{0:.2f}\".format(3.237)"
   ]
  },
  {
   "cell_type": "code",
   "execution_count": 209,
   "metadata": {},
   "outputs": [
    {
     "data": {
      "text/plain": [
       "'2.00000'"
      ]
     },
     "execution_count": 209,
     "metadata": {},
     "output_type": "execute_result"
    }
   ],
   "source": [
    "\"{0:.5f}\".format(2)"
   ]
  },
  {
   "cell_type": "markdown",
   "metadata": {},
   "source": [
    "# 8. Roots of a quadratic equation"
   ]
  },
  {
   "cell_type": "markdown",
   "metadata": {},
   "source": [
    "Let general quadratic equation be  $ax^2+bx+c=0$. Let the roots of this equation be\n",
    "<br>$x_1 = \\frac{-b + \\sqrt{b^2 - 4ac}}{2a}$\n",
    "<br>$x_2 = \\frac{-b - \\sqrt{b^2 - 4ac}}{2a}$\n",
    "<br>\n",
    "<br>\n",
    "Comparing the general equation to $2x^2 + 4x + 7 = 0$, we have\n",
    "<br>$a = 2, b = 4, c = 7$\n",
    "<br>\n",
    "<br>\n",
    "To solve the equation, we store the values of $a, b$ and $c$. Then we substitute these values in the determinants, i.e. the values within the square root of $x_1$ and $x_2$, i.e. $b^2 - 4ac$. If determinant is positive, then proceed to  find $x_1$ and $x_2$. If determinant is negative, then find $\\frac{-b}{2a}$ separately as r, and write the roots as complex numbers $r + di$ and $r - di$, where d is the determinant and i is $\\sqrt-1$."
   ]
  },
  {
   "cell_type": "markdown",
   "metadata": {},
   "source": [
    "Quadratic equation root finder function defintion..."
   ]
  },
  {
   "cell_type": "code",
   "execution_count": 210,
   "metadata": {},
   "outputs": [],
   "source": [
    "from math import sqrt"
   ]
  },
  {
   "cell_type": "code",
   "execution_count": 211,
   "metadata": {},
   "outputs": [],
   "source": [
    "def roots(a, b, c):\n",
    "    a = float(a)\n",
    "    b = float(b)\n",
    "    c = float(c)\n",
    "    d = float(b*b - 4*a*c)\n",
    "    if d < 0:\n",
    "        print(\"Root 1: {0} + {1}i\".format(-b/2*a, sqrt(-d)/2*a))\n",
    "        print(\"Root 2: {0} - {1}i\".format(-b/2*a, sqrt(-d)/2*a))\n",
    "    else:\n",
    "        print(\"Root 1: {0}\".format((-b + sqrt(d))/2*a))\n",
    "        print(\"Root 2: {0}\".format((-b - sqrt(d))/2*a))"
   ]
  },
  {
   "cell_type": "markdown",
   "metadata": {},
   "source": [
    "Finding the roots of a quadratic equation, given the three coefficients..."
   ]
  },
  {
   "cell_type": "code",
   "execution_count": 213,
   "metadata": {},
   "outputs": [
    {
     "name": "stdout",
     "output_type": "stream",
     "text": [
      "Enter coefficient of x^2: 45\n",
      "Enter coefficient of x: 23\n",
      "Enter constant: 67\n",
      "Root 1: -517.5 + 2416.1061131498345i\n",
      "Root 2: -517.5 - 2416.1061131498345i\n"
     ]
    }
   ],
   "source": [
    "a = float(input(\"Enter coefficient of x^2: \"))\n",
    "b = float(input(\"Enter coefficient of x: \"))\n",
    "c = float(input(\"Enter constant: \"))\n",
    "roots(a, b, c)"
   ]
  },
  {
   "cell_type": "markdown",
   "metadata": {},
   "source": [
    "# 9. Converting units of measurement"
   ]
  },
  {
   "cell_type": "markdown",
   "metadata": {},
   "source": [
    "The international system of units defines 7 base quantities. Length, mass, time and temparature are 4 of the 7 based quantities, with their standard units of measurements being meters, grams, seconds and kelvin respectively.\n",
    "<br>"
   ]
  },
  {
   "cell_type": "markdown",
   "metadata": {},
   "source": [
    "1 inch = 2.54 centimeters"
   ]
  },
  {
   "cell_type": "markdown",
   "metadata": {},
   "source": [
    "1 mile = 1.609 km"
   ]
  },
  {
   "cell_type": "markdown",
   "metadata": {},
   "source": [
    "Celsius = (Fahrenheit - 32)*5/9"
   ]
  },
  {
   "cell_type": "markdown",
   "metadata": {},
   "source": [
    "Fahrenheit = Celsius*9/5 + 32"
   ]
  },
  {
   "cell_type": "markdown",
   "metadata": {},
   "source": [
    "## 9.1. Program to convert miles to kilometers or vice versa"
   ]
  },
  {
   "cell_type": "code",
   "execution_count": 214,
   "metadata": {},
   "outputs": [],
   "source": [
    "def options():\n",
    "    print(\"Enter 1 to convert kilometers to miles\")\n",
    "    print(\"Enter anything else to convert miles to kilometers\")\n",
    "    return input()"
   ]
  },
  {
   "cell_type": "code",
   "execution_count": 215,
   "metadata": {},
   "outputs": [],
   "source": [
    "def km_to_mil():\n",
    "    km = float(input(\"Enter no. of kilometers: \"))\n",
    "    print(\"{0} km = {1:.3f} mil\".format(km, km * 1.609))\n",
    "def mil_to_km():\n",
    "    mil= float(input(\"Enter no. of miles: \"))\n",
    "    print(\"{0} mil = {1:.3f} km\".format(mil, mil / 1.609))"
   ]
  },
  {
   "cell_type": "code",
   "execution_count": 216,
   "metadata": {},
   "outputs": [],
   "source": [
    "def km_mil_converter():\n",
    "    option = options()\n",
    "    if option == \"1\":\n",
    "        km_to_mil()\n",
    "    else:\n",
    "        mil_to_km()"
   ]
  },
  {
   "cell_type": "code",
   "execution_count": 217,
   "metadata": {},
   "outputs": [
    {
     "name": "stdout",
     "output_type": "stream",
     "text": [
      "Enter 1 to convert kilometers to miles\n",
      "Enter anything else to convert miles to kilometers\n",
      "1\n",
      "Enter no. of kilometers: 100\n",
      "100.0 km = 160.900 mil\n"
     ]
    }
   ],
   "source": [
    "km_mil_converter()"
   ]
  },
  {
   "cell_type": "markdown",
   "metadata": {},
   "source": [
    "## 9.2. Enhanced unit converter"
   ]
  },
  {
   "cell_type": "code",
   "execution_count": 218,
   "metadata": {},
   "outputs": [],
   "source": [
    "def moreOptions():\n",
    "    print(\"Enter 1 to convert kilometers to miles\")\n",
    "    print(\"Enter 2 to convert miles to kilometers\")\n",
    "    print(\"Enter 3 to convert Celsius to Fahrenheit\")\n",
    "    print(\"Enter 4 to convert Fahrenheit to Celsius\")\n",
    "    print(\"Enter 5 to convert kilograms to pounds\")\n",
    "    print(\"Enter 6 to convert pounds to kilograms\")\n",
    "    return input()"
   ]
  },
  {
   "cell_type": "code",
   "execution_count": 219,
   "metadata": {},
   "outputs": [],
   "source": [
    "def km_to_mil():\n",
    "    km = float(input(\"Enter no. of kilometers: \"))\n",
    "    print(\"{0} km = {1:.3f} mil\".format(km, km * 1.609))\n",
    "def mil_to_km():\n",
    "    mil= float(input(\"Enter no. of miles: \"))\n",
    "    print(\"{0} mil = {1:.3f} km\".format(mil, mil / 1.609))"
   ]
  },
  {
   "cell_type": "code",
   "execution_count": 220,
   "metadata": {},
   "outputs": [],
   "source": [
    "def celsius_to_fahr():\n",
    "    c = float(input(\"Enter degrees Celsius: \"))\n",
    "    print(\"{0}°C = {1:.3f}°F\".format(c, c * 9 / 5 + 32))\n",
    "def fahr_to_celsius():\n",
    "    f = float(input(\"Enter degrees Fahrenheit: \"))\n",
    "    print(\"{0}°C = {1:.3f}°F\".format(f, (f - 32) * 5 / 9))"
   ]
  },
  {
   "cell_type": "code",
   "execution_count": 221,
   "metadata": {},
   "outputs": [],
   "source": [
    "def kilo_to_pound():\n",
    "    k = float(input(\"Enter weight in kilograms: \"))\n",
    "    print(\"{0} kg = {1:.3f} pound\".format(k, k * 2.205))\n",
    "def pound_to_kilo():\n",
    "    p = float(input(\"Enter weight in pounds: \"))\n",
    "    print(\"{0} pound = {1:.3f} kg\".format(p, p / 2.205))"
   ]
  },
  {
   "cell_type": "code",
   "execution_count": 222,
   "metadata": {},
   "outputs": [],
   "source": [
    "def enhancedConverter():\n",
    "    option = moreOptions()\n",
    "    if option == \"1\":\n",
    "        km_to_mil()\n",
    "    elif option == \"2\":\n",
    "        mil_to_km()\n",
    "    elif option == \"3\":\n",
    "        celsius_to_fahr()\n",
    "    elif option == \"4\":\n",
    "        fahr_to_celsius()\n",
    "    elif option == \"5\":\n",
    "        kilo_to_pound()\n",
    "    elif option == \"6\":\n",
    "        pound_to_kilo()\n",
    "    else:\n",
    "        print(\"Invalid option\")"
   ]
  },
  {
   "cell_type": "code",
   "execution_count": 223,
   "metadata": {},
   "outputs": [
    {
     "name": "stdout",
     "output_type": "stream",
     "text": [
      "Enter 1 to convert kilometers to miles\n",
      "Enter 2 to convert miles to kilometers\n",
      "Enter 3 to convert Celsius to Fahrenheit\n",
      "Enter 4 to convert Fahrenheit to Celsius\n",
      "Enter 5 to convert kilograms to pounds\n",
      "Enter 6 to convert pounds to kilograms\n",
      "3\n",
      "Enter degrees Celsius: 100\n",
      "100.0°C = 212.000°F\n"
     ]
    }
   ],
   "source": [
    "enhancedConverter()"
   ]
  },
  {
   "cell_type": "markdown",
   "metadata": {},
   "source": [
    "# 10. Exception handling"
   ]
  },
  {
   "cell_type": "markdown",
   "metadata": {},
   "source": [
    "An exception is an unwanted event occurring in a program's execution that disrupts the algorithmic execution of the program. To handle exceptions, we use the try and except statements. In the following example, we apply exception handling to the multiplication table to ensure that the input is a number."
   ]
  },
  {
   "cell_type": "code",
   "execution_count": 224,
   "metadata": {},
   "outputs": [],
   "source": [
    "def enhancedMultiplicationTable():\n",
    "    try:\n",
    "        num = float(input(\"Enter a number to find its multiplication table: \"))\n",
    "        lim = int(input(\"Enter the factor until which you want to find multiples: \"))\n",
    "    except:\n",
    "        print(\"Invalid inputs! You must enter a number for the first, and an integer for the second\")\n",
    "        return\n",
    "    for i in range(1, lim + 1):\n",
    "        print(\"{0}\\tX\\t{1}\\t=\\t{2}\".format(num, i, num * i))"
   ]
  },
  {
   "cell_type": "code",
   "execution_count": 227,
   "metadata": {},
   "outputs": [
    {
     "name": "stdout",
     "output_type": "stream",
     "text": [
      "Enter a number to find its multiplication table: abc\n",
      "Invalid inputs! You must enter a number for the first, and an integer for the second\n"
     ]
    }
   ],
   "source": [
    "enhancedMultiplicationTable()"
   ]
  },
  {
   "cell_type": "code",
   "execution_count": 228,
   "metadata": {},
   "outputs": [
    {
     "name": "stdout",
     "output_type": "stream",
     "text": [
      "Enter a number to find its multiplication table: 10.4\n",
      "Enter the factor until which you want to find multiples: 10.4\n",
      "Invalid inputs! You must enter a number for the first, and an integer for the second\n"
     ]
    }
   ],
   "source": [
    "enhancedMultiplicationTable()"
   ]
  },
  {
   "cell_type": "code",
   "execution_count": 229,
   "metadata": {},
   "outputs": [
    {
     "name": "stdout",
     "output_type": "stream",
     "text": [
      "Enter a number to find its multiplication table: 10.4\n",
      "Enter the factor until which you want to find multiples: 10\n",
      "10.4\tX\t1\t=\t10.4\n",
      "10.4\tX\t2\t=\t20.8\n",
      "10.4\tX\t3\t=\t31.200000000000003\n",
      "10.4\tX\t4\t=\t41.6\n",
      "10.4\tX\t5\t=\t52.0\n",
      "10.4\tX\t6\t=\t62.400000000000006\n",
      "10.4\tX\t7\t=\t72.8\n",
      "10.4\tX\t8\t=\t83.2\n",
      "10.4\tX\t9\t=\t93.60000000000001\n",
      "10.4\tX\t10\t=\t104.0\n"
     ]
    }
   ],
   "source": [
    "enhancedMultiplicationTable()"
   ]
  }
 ],
 "metadata": {
  "kernelspec": {
   "display_name": "Python 3",
   "language": "python",
   "name": "python3"
  },
  "language_info": {
   "codemirror_mode": {
    "name": "ipython",
    "version": 3
   },
   "file_extension": ".py",
   "mimetype": "text/x-python",
   "name": "python",
   "nbconvert_exporter": "python",
   "pygments_lexer": "ipython3",
   "version": "3.6.4"
  }
 },
 "nbformat": 4,
 "nbformat_minor": 2
}
