{
 "cells": [
  {
   "cell_type": "markdown",
   "metadata": {},
   "source": [
    "# LA 1"
   ]
  },
  {
   "cell_type": "markdown",
   "metadata": {},
   "source": [
    "Name: Pranav Gopalkrishna"
   ]
  },
  {
   "cell_type": "markdown",
   "metadata": {},
   "source": [
    "Register number: 1940223"
   ]
  },
  {
   "cell_type": "markdown",
   "metadata": {},
   "source": [
    "## Question 1"
   ]
  },
  {
   "cell_type": "markdown",
   "metadata": {},
   "source": [
    "Write a python program to print a number in the binary format (for example, 5 will be printed as 101). Using this program convert your roll number in binary format."
   ]
  },
  {
   "cell_type": "code",
   "execution_count": 47,
   "metadata": {},
   "outputs": [],
   "source": [
    "def decToBin(myDec):\n",
    "    try:\n",
    "        dec = int(myDec)\n",
    "    except:\n",
    "        return print(\"Error: {0} is not an integer!\".format(myDec))\n",
    "        \n",
    "    ans = \"\"\n",
    "    while dec > 0:\n",
    "        if dec % 2 == 1:\n",
    "            ans = ans + \"1\"\n",
    "        else:\n",
    "            ans = ans + \"0\"\n",
    "        dec = int(dec / 2)\n",
    "    ans = ans [::-1]\n",
    "    return ans"
   ]
  },
  {
   "cell_type": "code",
   "execution_count": 55,
   "metadata": {},
   "outputs": [
    {
     "name": "stdout",
     "output_type": "stream",
     "text": [
      "Enter an integer to convert to binary format: 342\n"
     ]
    },
    {
     "data": {
      "text/plain": [
       "'101010110'"
      ]
     },
     "execution_count": 55,
     "metadata": {},
     "output_type": "execute_result"
    }
   ],
   "source": [
    "myDec = input(\"Enter an integer to convert to binary format: \")\n",
    "decToBin(myDec)"
   ]
  },
  {
   "cell_type": "markdown",
   "metadata": {},
   "source": [
    "Converting my roll number to binary"
   ]
  },
  {
   "cell_type": "code",
   "execution_count": 52,
   "metadata": {},
   "outputs": [
    {
     "data": {
      "text/plain": [
       "'111011001101011111111'"
      ]
     },
     "execution_count": 52,
     "metadata": {},
     "output_type": "execute_result"
    }
   ],
   "source": [
    "decToBin(1940223)"
   ]
  },
  {
   "cell_type": "markdown",
   "metadata": {},
   "source": [
    "## Question 2"
   ]
  },
  {
   "cell_type": "markdown",
   "metadata": {},
   "source": [
    "Define 2+5j and 2−5j as complex numbers, and find their product. Verify the result by defining the real and imaginary parts separately and using the multiplication formula."
   ]
  },
  {
   "cell_type": "code",
   "execution_count": 57,
   "metadata": {},
   "outputs": [
    {
     "data": {
      "text/plain": [
       "((2+5j), (2-5j))"
      ]
     },
     "execution_count": 57,
     "metadata": {},
     "output_type": "execute_result"
    }
   ],
   "source": [
    "z1 = complex(2, 5)\n",
    "z2 = complex(2, -5)\n",
    "z1, z2"
   ]
  },
  {
   "cell_type": "code",
   "execution_count": 58,
   "metadata": {},
   "outputs": [
    {
     "data": {
      "text/plain": [
       "(29+0j)"
      ]
     },
     "execution_count": 58,
     "metadata": {},
     "output_type": "execute_result"
    }
   ],
   "source": [
    "z1 * z2"
   ]
  },
  {
   "cell_type": "markdown",
   "metadata": {},
   "source": [
    "Verification..."
   ]
  },
  {
   "cell_type": "code",
   "execution_count": 71,
   "metadata": {},
   "outputs": [
    {
     "data": {
      "text/plain": [
       "(29+0j)"
      ]
     },
     "execution_count": 71,
     "metadata": {},
     "output_type": "execute_result"
    }
   ],
   "source": [
    "j = complex(0, 1)\n",
    "(z1.real + z1.imag*j) * (z2.real + z2.imag*j)"
   ]
  },
  {
   "cell_type": "markdown",
   "metadata": {},
   "source": [
    "## Question 3"
   ]
  },
  {
   "cell_type": "markdown",
   "metadata": {},
   "source": [
    "Write the multiplication table of 12 using while loop"
   ]
  },
  {
   "cell_type": "code",
   "execution_count": 73,
   "metadata": {},
   "outputs": [
    {
     "name": "stdout",
     "output_type": "stream",
     "text": [
      "12 X 1 = 12\n",
      "12 X 2 = 24\n",
      "12 X 3 = 36\n",
      "12 X 4 = 48\n",
      "12 X 5 = 60\n",
      "12 X 6 = 72\n",
      "12 X 7 = 84\n",
      "12 X 8 = 96\n",
      "12 X 9 = 108\n",
      "12 X 10 = 120\n"
     ]
    }
   ],
   "source": [
    "for i in range(1, 11):\n",
    "    print(\"{0} X {1} = {2}\".format(12, i, 12*i))"
   ]
  },
  {
   "cell_type": "markdown",
   "metadata": {},
   "source": [
    "## Question 4 "
   ]
  },
  {
   "cell_type": "markdown",
   "metadata": {},
   "source": [
    "Create an adding machine that will keep on asking the user for numbers, add them together and show the total after each step. Terminate when user enters a zero."
   ]
  },
  {
   "cell_type": "code",
   "execution_count": 74,
   "metadata": {},
   "outputs": [
    {
     "name": "stdout",
     "output_type": "stream",
     "text": [
      "Enter number: 2\n",
      "Total so far: 2.0\n",
      "Enter number: 2\n",
      "Total so far: 4.0\n",
      "Enter number: 5\n",
      "Total so far: 9.0\n",
      "Enter number: 0\n",
      "Done.\n"
     ]
    }
   ],
   "source": [
    "sum = float(0)\n",
    "n = float(1)\n",
    "while True:\n",
    "    try:\n",
    "        n = float(input(\"Enter number: \"))\n",
    "        if n == 0:\n",
    "            print(\"Done.\")\n",
    "            break\n",
    "    except:\n",
    "        print(\"Not a number. Enter again.\")\n",
    "        continue\n",
    "    sum = sum + n\n",
    "    print(\"{0}\".format(sum))"
   ]
  },
  {
   "cell_type": "markdown",
   "metadata": {},
   "source": [
    "## Question 5"
   ]
  },
  {
   "cell_type": "markdown",
   "metadata": {},
   "source": [
    "Create a script that uses a variable and will write 20 times “I will not talk in the class”. Make each sentence on a separate line."
   ]
  },
  {
   "cell_type": "code",
   "execution_count": 76,
   "metadata": {},
   "outputs": [
    {
     "name": "stdout",
     "output_type": "stream",
     "text": [
      "I will not talk in the class\n",
      "I will not talk in the class\n",
      "I will not talk in the class\n",
      "I will not talk in the class\n",
      "I will not talk in the class\n",
      "I will not talk in the class\n",
      "I will not talk in the class\n",
      "I will not talk in the class\n",
      "I will not talk in the class\n",
      "I will not talk in the class\n",
      "I will not talk in the class\n",
      "I will not talk in the class\n",
      "I will not talk in the class\n",
      "I will not talk in the class\n",
      "I will not talk in the class\n",
      "I will not talk in the class\n",
      "I will not talk in the class\n",
      "I will not talk in the class\n",
      "I will not talk in the class\n",
      "I will not talk in the class\n"
     ]
    }
   ],
   "source": [
    "message = \"I will not talk in the class\"\n",
    "for i in range(1, 21):\n",
    "    print(message)"
   ]
  },
  {
   "cell_type": "markdown",
   "metadata": {},
   "source": [
    "## Question 6"
   ]
  },
  {
   "cell_type": "markdown",
   "metadata": {},
   "source": [
    "Write a python program to calculate the area of a circle."
   ]
  },
  {
   "cell_type": "code",
   "execution_count": 78,
   "metadata": {},
   "outputs": [],
   "source": [
    "def floatInput(message):\n",
    "    while True:\n",
    "        try:\n",
    "            myInput = float(input(message))\n",
    "        except:\n",
    "            print(\"Not a valid number. Enter again.\")\n",
    "        return myInput"
   ]
  },
  {
   "cell_type": "code",
   "execution_count": 80,
   "metadata": {},
   "outputs": [
    {
     "name": "stdout",
     "output_type": "stream",
     "text": [
      "Enter circle radius: 42\n",
      "Area of the circle is 2*pi*radius = 2*3.14*42.0 = 263.76\n"
     ]
    }
   ],
   "source": [
    "pi = 3.14\n",
    "radius = floatInput(\"Enter circle radius: \")\n",
    "print(\"Area of the circle is 2*pi*radius = 2*{0}*{1} = {2}\".format(pi, radius, 2*pi*radius))"
   ]
  },
  {
   "cell_type": "markdown",
   "metadata": {},
   "source": [
    "## Question 7"
   ]
  },
  {
   "cell_type": "markdown",
   "metadata": {},
   "source": [
    "Write a function absolutevalue(num) that computes the absolute value of a number. You will need to use an ‘if’ statement. Remember if a number is less than zero then you must multiply by −1 to make it greater than zero. Give output in the form: The absolute value of -5 is 5"
   ]
  },
  {
   "cell_type": "code",
   "execution_count": 85,
   "metadata": {},
   "outputs": [],
   "source": [
    "def absolutevalue(num):\n",
    "    if num < 0:\n",
    "        print(\"Absolute value of {0} is {1}\".format(num, -num))\n",
    "    else:\n",
    "        print(\"Absolute value of {0} is {1}\".format(num, num))"
   ]
  },
  {
   "cell_type": "code",
   "execution_count": 86,
   "metadata": {},
   "outputs": [
    {
     "name": "stdout",
     "output_type": "stream",
     "text": [
      "Absolute value of -3 is 3\n"
     ]
    }
   ],
   "source": [
    "absolutevalue(-3)"
   ]
  }
 ],
 "metadata": {
  "kernelspec": {
   "display_name": "Python 3",
   "language": "python",
   "name": "python3"
  },
  "language_info": {
   "codemirror_mode": {
    "name": "ipython",
    "version": 3
   },
   "file_extension": ".py",
   "mimetype": "text/x-python",
   "name": "python",
   "nbconvert_exporter": "python",
   "pygments_lexer": "ipython3",
   "version": "3.6.4"
  }
 },
 "nbformat": 4,
 "nbformat_minor": 2
}
