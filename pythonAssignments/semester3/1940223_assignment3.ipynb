{
 "cells": [
  {
   "cell_type": "markdown",
   "metadata": {},
   "source": [
    "# Assignment 3"
   ]
  },
  {
   "cell_type": "markdown",
   "metadata": {},
   "source": [
    "## Question 1"
   ]
  },
  {
   "cell_type": "markdown",
   "metadata": {},
   "source": [
    "Write a Python program to guess a number between 1 to 1000."
   ]
  },
  {
   "cell_type": "code",
   "execution_count": 3,
   "metadata": {},
   "outputs": [],
   "source": [
    "import random"
   ]
  },
  {
   "cell_type": "code",
   "execution_count": 9,
   "metadata": {},
   "outputs": [
    {
     "data": {
      "text/plain": [
       "690"
      ]
     },
     "execution_count": 9,
     "metadata": {},
     "output_type": "execute_result"
    }
   ],
   "source": [
    "random.randint(1, 1001)"
   ]
  },
  {
   "cell_type": "markdown",
   "metadata": {},
   "source": [
    "## Question 2"
   ]
  },
  {
   "cell_type": "markdown",
   "metadata": {},
   "source": [
    "Write a Python program to construct the following pattern, using a nested for loop."
   ]
  },
  {
   "cell_type": "code",
   "execution_count": 1,
   "metadata": {},
   "outputs": [
    {
     "name": "stdout",
     "output_type": "stream",
     "text": [
      "\n",
      "*\n",
      "**\n",
      "***\n",
      "****\n",
      "*****\n",
      "****\n",
      "***\n",
      "**\n",
      "*\n",
      "\n"
     ]
    }
   ],
   "source": [
    "for i in range(-5, 6):\n",
    "    rep = 5 - abs(i)\n",
    "    for k in range(1, rep + 1):\n",
    "        print(\"*\", end = \"\")\n",
    "    print()"
   ]
  },
  {
   "cell_type": "markdown",
   "metadata": {},
   "source": [
    "## Question 3"
   ]
  },
  {
   "cell_type": "markdown",
   "metadata": {},
   "source": [
    "Write a Python program to construct the following pattern, using a nested loop number."
   ]
  },
  {
   "cell_type": "code",
   "execution_count": 14,
   "metadata": {},
   "outputs": [
    {
     "name": "stdout",
     "output_type": "stream",
     "text": [
      "1\n",
      "22\n",
      "333\n",
      "4444\n",
      "55555\n",
      "666666\n",
      "7777777\n",
      "88888888\n",
      "999999999\n"
     ]
    }
   ],
   "source": [
    "for i in range(1, 10):\n",
    "    for j in range (1, i + 1):\n",
    "        print(i, end = \"\")\n",
    "    print()\n"
   ]
  },
  {
   "cell_type": "markdown",
   "metadata": {},
   "source": [
    "## Question 4"
   ]
  },
  {
   "cell_type": "markdown",
   "metadata": {},
   "source": [
    "Write a Python program to get the smallest and largest number from a list."
   ]
  },
  {
   "cell_type": "code",
   "execution_count": 30,
   "metadata": {},
   "outputs": [],
   "source": [
    "def isInt(n):\n",
    "    try:\n",
    "        x = int(n)\n",
    "        return True\n",
    "    except:\n",
    "        return False\n",
    "        \n",
    "def inputList():\n",
    "    myList = []\n",
    "    i = int(1)\n",
    "    print(\"Enter your list (type & enter <quit> to stop)...\")\n",
    "    while True:\n",
    "        myInput = input(\"Enter element {0}: \".format(i))\n",
    "        if myInput == \"<quit>\":\n",
    "            break\n",
    "        myList.append(myInput)\n",
    "        i = i + 1\n",
    "    return myList\n",
    "\n",
    "def findExtremes(myList):\n",
    "    lastIndex = len(myList)\n",
    "    i = int(0)\n",
    "    while not(isInt(myList[i])) and i < lastIndex:\n",
    "        i = i + 1\n",
    "    minimum = int(myList[i])\n",
    "    maximum = int(myList[i])\n",
    "    for j in range(i + 1, lastIndex):\n",
    "        if isInt(myList[j]):\n",
    "            if int(myList[j]) > maximum:\n",
    "                maximum = int(myList[j])\n",
    "            elif int(myList[j]) < minimum:\n",
    "                minimum = int(myList[j])\n",
    "    return [minimum, maximum]"
   ]
  },
  {
   "cell_type": "code",
   "execution_count": 32,
   "metadata": {},
   "outputs": [
    {
     "name": "stdout",
     "output_type": "stream",
     "text": [
      "Enter your list (type & enter <quit> to stop)...\n",
      "Enter element 1: 3\n",
      "Enter element 2: 4\n",
      "Enter element 3: 2\n",
      "Enter element 4: 7\n",
      "Enter element 5: 34\n",
      "Enter element 6: 12\n",
      "Enter element 7: free\n",
      "Enter element 8: roar\n",
      "Enter element 9: <quit>\n",
      "min. integer = 2, max. integer = 34\n"
     ]
    }
   ],
   "source": [
    "myList = inputList()\n",
    "extremes = findExtremes(myList)\n",
    "print(\"min. integer = {0}, max. integer = {1}\".format(extremes[0], extremes[1]))"
   ]
  },
  {
   "cell_type": "markdown",
   "metadata": {},
   "source": [
    "## Question 5"
   ]
  },
  {
   "cell_type": "markdown",
   "metadata": {},
   "source": [
    "Write a Python program to create a list with infinite number of elements."
   ]
  },
  {
   "cell_type": "markdown",
   "metadata": {},
   "source": [
    "(I am assuming this means a list with how many ever elements the user wants)"
   ]
  },
  {
   "cell_type": "code",
   "execution_count": 33,
   "metadata": {},
   "outputs": [],
   "source": [
    "def inputList():\n",
    "    myList = []\n",
    "    i = int(1)\n",
    "    print(\"Enter your list (type & enter <quit> to stop)...\")\n",
    "    while True:\n",
    "        myInput = input(\"Enter element {0}: \".format(i))\n",
    "        if myInput == \"<quit>\":\n",
    "            break\n",
    "        myList.append(myInput)\n",
    "        i = i + 1\n",
    "    return myList"
   ]
  },
  {
   "cell_type": "code",
   "execution_count": 34,
   "metadata": {},
   "outputs": [
    {
     "name": "stdout",
     "output_type": "stream",
     "text": [
      "Enter your list (type & enter <quit> to stop)...\n",
      "Enter element 1: 4\n",
      "Enter element 2: 2\n",
      "Enter element 3: 53\n",
      "Enter element 4: Meow\n",
      "Enter element 5: Kat\n",
      "Enter element 6: Chat\n",
      "Enter element 7: 666\n",
      "Enter element 8: 420\n",
      "Enter element 9: 10\n",
      "Enter element 10: <quit>\n"
     ]
    }
   ],
   "source": [
    "myList = inputList()"
   ]
  },
  {
   "cell_type": "markdown",
   "metadata": {},
   "source": [
    "## Question 6"
   ]
  },
  {
   "cell_type": "markdown",
   "metadata": {},
   "source": [
    "Write a Python program to calculate arc length of an angle."
   ]
  },
  {
   "cell_type": "code",
   "execution_count": 37,
   "metadata": {},
   "outputs": [],
   "source": [
    "import math"
   ]
  },
  {
   "cell_type": "code",
   "execution_count": 66,
   "metadata": {},
   "outputs": [],
   "source": [
    "def inputFloat(message):\n",
    "    while True:\n",
    "        try:\n",
    "            n = float(input(message))\n",
    "            return n\n",
    "        except:\n",
    "            print(\"Not a number!\")\n",
    "\n",
    "def inputAngle():\n",
    "    option = input(\"Enter angle in degrees? (y/n)\")\n",
    "    if option == \"y\": \n",
    "        myInput = inputFloat(\"Enter angle in degrees: \")\n",
    "        myInput = math.radians(myInput)\n",
    "    else:\n",
    "        print(\"(Defaulting to radians)\")\n",
    "        myInput = inputFloat(\"Enter angle in radians: \")\n",
    "    if myInput > 2 * math.pi:\n",
    "        reduceBy = int(myInput / (2 * math.pi))\n",
    "        myInput = myInput - reduceBy * 2 * math.pi\n",
    "    return myInput"
   ]
  },
  {
   "cell_type": "code",
   "execution_count": 71,
   "metadata": {},
   "outputs": [
    {
     "name": "stdout",
     "output_type": "stream",
     "text": [
      "Enter angle in degrees? (y/n)\n",
      "(Defaulting to radians)\n",
      "Enter angle in radians: 32\n",
      "Enter circle radius: 13\n",
      "Arc length for your angle and circle is 7.592955033326895\n"
     ]
    }
   ],
   "source": [
    "angle = inputAngle()\n",
    "radius = inputFloat(\"Enter circle radius: \")\n",
    "print(\"Arc length for your angle and circle is {0}\".format(angle*radius))"
   ]
  },
  {
   "cell_type": "markdown",
   "metadata": {},
   "source": [
    "## Question 7"
   ]
  },
  {
   "cell_type": "markdown",
   "metadata": {},
   "source": [
    "Write an infinite loop"
   ]
  },
  {
   "cell_type": "markdown",
   "metadata": {},
   "source": [
    "(The following is potentially infinite... I didn't want to hang the kernel)"
   ]
  },
  {
   "cell_type": "code",
   "execution_count": 78,
   "metadata": {},
   "outputs": [
    {
     "name": "stdout",
     "output_type": "stream",
     "text": [
      "\n",
      "Ah\n",
      "\n",
      "Ah\n",
      "\n",
      "Ah\n",
      "\n",
      "Ah\n",
      "x\n"
     ]
    }
   ],
   "source": [
    "while True:\n",
    "    if input() == \"x\":\n",
    "        break\n",
    "    print(\"Ah\")"
   ]
  },
  {
   "cell_type": "markdown",
   "metadata": {},
   "source": [
    "## Question 8"
   ]
  },
  {
   "cell_type": "markdown",
   "metadata": {},
   "source": [
    "Write a program to calculate the factorial of the first 10 natural numbers."
   ]
  },
  {
   "cell_type": "code",
   "execution_count": 74,
   "metadata": {},
   "outputs": [],
   "source": [
    "def factorial(n):\n",
    "    try:\n",
    "        x = int(n)\n",
    "    except:\n",
    "        print(\"Not an integer!\")\n",
    "        return 0\n",
    "    if x == 0:\n",
    "        return 0\n",
    "    fact = 1\n",
    "    for i in range (1, x + 1):\n",
    "        fact = fact * i\n",
    "    return fact"
   ]
  },
  {
   "cell_type": "code",
   "execution_count": 77,
   "metadata": {},
   "outputs": [
    {
     "name": "stdout",
     "output_type": "stream",
     "text": [
      "Factorials of the first 10 natural numbers\n",
      "1! = 1\n",
      "2! = 2\n",
      "3! = 6\n",
      "4! = 24\n",
      "5! = 120\n",
      "6! = 720\n",
      "7! = 5040\n",
      "8! = 40320\n",
      "9! = 362880\n",
      "10! = 3628800\n"
     ]
    }
   ],
   "source": [
    "print(\"Factorials of the first 10 natural numbers\")\n",
    "for i in range(1, 11):\n",
    "    print(\"{0}! = {1}\".format(i, factorial(i)))"
   ]
  }
 ],
 "metadata": {
  "kernelspec": {
   "display_name": "Python 3",
   "language": "python",
   "name": "python3"
  },
  "language_info": {
   "codemirror_mode": {
    "name": "ipython",
    "version": 3
   },
   "file_extension": ".py",
   "mimetype": "text/x-python",
   "name": "python",
   "nbconvert_exporter": "python",
   "pygments_lexer": "ipython3",
   "version": "3.6.4"
  }
 },
 "nbformat": 4,
 "nbformat_minor": 2
}
