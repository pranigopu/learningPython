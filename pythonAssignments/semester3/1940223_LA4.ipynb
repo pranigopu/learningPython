{
 "cells": [
  {
   "cell_type": "markdown",
   "metadata": {},
   "source": [
    "# LA 4"
   ]
  },
  {
   "cell_type": "markdown",
   "metadata": {},
   "source": [
    "Name: Pranav Gopalkrishna"
   ]
  },
  {
   "cell_type": "markdown",
   "metadata": {},
   "source": [
    "Reg. no.: 1940223"
   ]
  },
  {
   "cell_type": "markdown",
   "metadata": {},
   "source": [
    "Class: 3 CMS"
   ]
  },
  {
   "cell_type": "markdown",
   "metadata": {},
   "source": [
    "## Question 1"
   ]
  },
  {
   "cell_type": "markdown",
   "metadata": {},
   "source": [
    "Evaluate $y = \\sum\\limits_{n=1}^\\infty = \\frac{(-1)^n x^{2n + 1}}{2n + 1}$ for 10 terms"
   ]
  },
  {
   "cell_type": "code",
   "execution_count": 18,
   "metadata": {},
   "outputs": [],
   "source": [
    "from sympy import Symbol, init_printing, pprint"
   ]
  },
  {
   "cell_type": "code",
   "execution_count": 19,
   "metadata": {},
   "outputs": [
    {
     "name": "stdout",
     "output_type": "stream",
     "text": [
      "   3    5    7    9    11    13    15    17    19    21\n",
      "  x    x    x    x    x     x     x     x     x     x  \n",
      "- ── + ── - ── + ── - ─── + ─── - ─── + ─── - ─── + ───\n",
      "  3    5    7    9     11    13    15    17    19    21\n"
     ]
    }
   ],
   "source": [
    "# To intialise the printing such that in the output, lower powers come first...\n",
    "init_printing(order = 'rev-lex') \n",
    "# Now the rest of the operations...\n",
    "x = Symbol('x')\n",
    "series = -(x**3)/3\n",
    "for i in range (2, 11):\n",
    "    series = series + ((-1)**i) * (x**(2*i + 1)) / (2*i + 1)\n",
    "pprint(series)"
   ]
  },
  {
   "cell_type": "markdown",
   "metadata": {},
   "source": [
    "## Question 2"
   ]
  },
  {
   "cell_type": "markdown",
   "metadata": {},
   "source": [
    "Write a Python program to calculate sine function using series expansion and plot it."
   ]
  },
  {
   "cell_type": "markdown",
   "metadata": {},
   "source": [
    "Maclauring expansion of sin(x) is"
   ]
  },
  {
   "cell_type": "markdown",
   "metadata": {},
   "source": [
    "$x - \\frac{x^3}{3!} + \\frac{x^5}{5!} - \\frac{x^7}{7!} + ...$"
   ]
  },
  {
   "cell_type": "code",
   "execution_count": 16,
   "metadata": {},
   "outputs": [],
   "source": [
    "from sympy import Symbol\n",
    "import matplotlib.pyplot as plt"
   ]
  },
  {
   "cell_type": "code",
   "execution_count": 11,
   "metadata": {},
   "outputs": [],
   "source": [
    "def factorial(n):\n",
    "    fact = int(1)\n",
    "    for i in range(2, n + 1):\n",
    "        fact = fact * i\n",
    "    return fact"
   ]
  },
  {
   "cell_type": "code",
   "execution_count": 67,
   "metadata": {},
   "outputs": [],
   "source": [
    "x = Symbol('x')\n",
    "sine = x\n",
    "for i in range(1, 100): \n",
    "# I chose 101 because the accuracy does not improve anymore \n",
    "# for 16 decimal places after i = 100, \n",
    "# for a sufficient range of x values\n",
    "    sine = sine + ((-1)**i) * (x**(2*i + 1)) / factorial(int(2*i + 1))"
   ]
  },
  {
   "cell_type": "code",
   "execution_count": 114,
   "metadata": {},
   "outputs": [],
   "source": [
    "xs_q2 = []\n",
    "ys_q2 = []\n",
    "for i in range(0, 200, 1):\n",
    "    n = float(i) / 10\n",
    "    xs_q2.append(n)\n",
    "    ys_q2.append(sine.subs(x, n))"
   ]
  },
  {
   "cell_type": "code",
   "execution_count": 115,
   "metadata": {},
   "outputs": [
    {
     "data": {
      "image/png": "[encoded data removed]",
      "text/plain": [
       "<matplotlib.figure.Figure at 0x116c4f748>"
      ]
     },
     "metadata": {},
     "output_type": "display_data"
    }
   ],
   "source": [
    "plt.plot(xs_q2, ys_q2)\n",
    "plt.title(\"Sine surve\")\n",
    "plt.xlabel(\"x\")\n",
    "plt.ylabel(\"y\")\n",
    "plt.show()"
   ]
  },
  {
   "cell_type": "markdown",
   "metadata": {},
   "source": [
    "## Question 3"
   ]
  },
  {
   "cell_type": "markdown",
   "metadata": {},
   "source": [
    "Write a Python program to calculate cosine function using series expansion and plot it."
   ]
  },
  {
   "cell_type": "markdown",
   "metadata": {},
   "source": [
    "Maclauring expansion of sin(x) is"
   ]
  },
  {
   "cell_type": "markdown",
   "metadata": {},
   "source": [
    "$1 - \\frac{x^2}{2!} + \\frac{x^4}{4!} - \\frac{x^6}{6!} + ...$"
   ]
  },
  {
   "cell_type": "code",
   "execution_count": 39,
   "metadata": {},
   "outputs": [],
   "source": [
    "from sympy import Symbol\n",
    "import matplotlib.pyplot as plt"
   ]
  },
  {
   "cell_type": "code",
   "execution_count": 41,
   "metadata": {},
   "outputs": [],
   "source": [
    "def factorial(n):\n",
    "    fact = int(1)\n",
    "    for i in range(2, n + 1):\n",
    "        fact = fact * i\n",
    "    return fact"
   ]
  },
  {
   "cell_type": "code",
   "execution_count": 42,
   "metadata": {},
   "outputs": [],
   "source": [
    "x = Symbol('x')\n",
    "cosine = 1\n",
    "for i in range(1, 100): \n",
    "# I chose 101 because the accuracy does not improve anymore \n",
    "# for 16 decimal places after i = 100, \n",
    "# for a sufficient range of x values.\n",
    "    cosine = cosine + ((-1)**i) * (x**(2*i)) / factorial(int(2*i))"
   ]
  },
  {
   "cell_type": "code",
   "execution_count": 43,
   "metadata": {},
   "outputs": [],
   "source": [
    "xs_q3 = []\n",
    "ys_q3 = []\n",
    "for i in range(0, 200, 1):\n",
    "    n = float(i) / 10\n",
    "    xs_q3.append(n)\n",
    "    ys_q3.append(cosine.subs(x, n))"
   ]
  },
  {
   "cell_type": "code",
   "execution_count": 44,
   "metadata": {},
   "outputs": [
    {
     "data": {
      "image/png": "[encoded data removed]",
      "text/plain": [
       "<matplotlib.figure.Figure at 0x11ba68358>"
      ]
     },
     "metadata": {},
     "output_type": "display_data"
    }
   ],
   "source": [
    "plt.plot(xs_q3, ys_q3)\n",
    "plt.title(\"Cosine surve\")\n",
    "plt.xlabel(\"x\")\n",
    "plt.ylabel(\"y\")\n",
    "plt.show()"
   ]
  },
  {
   "cell_type": "markdown",
   "metadata": {},
   "source": [
    "## Question 4"
   ]
  },
  {
   "cell_type": "markdown",
   "metadata": {},
   "source": [
    "Write Python program to find the sum of the series $1 + \\frac{1}{2} + \\frac{1}{3} + ... + \\frac{1}{n}$"
   ]
  },
  {
   "cell_type": "code",
   "execution_count": 120,
   "metadata": {},
   "outputs": [],
   "source": [
    "def sum(n):\n",
    "    seriesSum = 0\n",
    "    for i in range(1, n + 1):\n",
    "        seriesSum = 1 / i\n",
    "    return seriesSum"
   ]
  },
  {
   "cell_type": "code",
   "execution_count": 121,
   "metadata": {},
   "outputs": [
    {
     "name": "stdout",
     "output_type": "stream",
     "text": [
      "Enter n: 10\n"
     ]
    },
    {
     "data": {
      "image/png": "[encoded data removed]",
      "text/latex": [
       "$$0.05263157894736842$$"
      ],
      "text/plain": [
       "0.05263157894736842"
      ]
     },
     "execution_count": 121,
     "metadata": {},
     "output_type": "execute_result"
    }
   ],
   "source": [
    "input(\"Enter n: \")\n",
    "sum(int(n))"
   ]
  },
  {
   "cell_type": "markdown",
   "metadata": {},
   "source": [
    "## Question 5"
   ]
  },
  {
   "cell_type": "markdown",
   "metadata": {},
   "source": [
    "Find the area between the following curves:"
   ]
  },
  {
   "cell_type": "markdown",
   "metadata": {},
   "source": [
    "$f(x) = \\sqrt{16 - x^2}$"
   ]
  },
  {
   "cell_type": "markdown",
   "metadata": {},
   "source": [
    "$g(x) = \\sqrt{4 + x^2}$"
   ]
  },
  {
   "cell_type": "code",
   "execution_count": 18,
   "metadata": {},
   "outputs": [],
   "source": [
    "from sympy import Symbol, sqrt, integrate, solve\n",
    "import matplotlib.pyplot as plt"
   ]
  },
  {
   "cell_type": "code",
   "execution_count": 6,
   "metadata": {},
   "outputs": [],
   "source": [
    "x = Symbol('x')\n",
    "f = sqrt(16 - x**2)\n",
    "g = sqrt(4 + x**2)"
   ]
  },
  {
   "cell_type": "markdown",
   "metadata": {},
   "source": [
    "Note that if x < -4 or x > 4, then f becomes complex. Hence, the domain of the function is [-4, 4]"
   ]
  },
  {
   "cell_type": "code",
   "execution_count": 7,
   "metadata": {},
   "outputs": [],
   "source": [
    "xs_q5 = []\n",
    "ys_q5_f = []\n",
    "ys_q5_g = []\n",
    "for i in range(-40, 40): # Because they will be divided by 10...\n",
    "    n = float(i) / 10 # Making the separation between x values 0.1, so the graph is smooth\n",
    "    xs_q5.append(n)\n",
    "    ys_q5_f.append(float(f.subs(x, n)))\n",
    "    ys_q5_g.append(float(g.subs(x, n)))"
   ]
  },
  {
   "cell_type": "code",
   "execution_count": 50,
   "metadata": {},
   "outputs": [
    {
     "data": {
      "image/png": "[encoded data removed]",
      "text/plain": [
       "<matplotlib.figure.Figure at 0x1185045f8>"
      ]
     },
     "metadata": {},
     "output_type": "display_data"
    }
   ],
   "source": [
    "plt.plot(xs_q5, ys_q5_f, xs_q5, ys_q5_g)\n",
    "plt.fill_between(xs_q5, ys_q5_f, ys_q5_g, color = \"pink\")\n",
    "plt.title(\"The two functions f and g, and the area in between (shaded pink)\")\n",
    "plt.xlabel(\"x\")\n",
    "plt.ylabel(\"y\")\n",
    "plt.legend([\"f\", \"g\"], bbox_to_anchor = (1, 1.03))\n",
    "plt.show()"
   ]
  },
  {
   "cell_type": "markdown",
   "metadata": {},
   "source": [
    "Finding the x values of the intersections points (or finding approximates that are within 0.05 units from the x-values of the intersection points)..."
   ]
  },
  {
   "cell_type": "markdown",
   "metadata": {},
   "source": [
    "### Method 1 (less accurate)"
   ]
  },
  {
   "cell_type": "code",
   "execution_count": 38,
   "metadata": {},
   "outputs": [],
   "source": [
    "intersections = []\n",
    "flag = 2\n",
    "upper = len(xs_q5)\n",
    "for i in range(0, upper):\n",
    "    if ys_q5_f[i] == ys_q5_g[i]:\n",
    "        intersections.append(xs_q5[i])\n",
    "    elif ys_q5_f[i] > ys_q5_g[i]:\n",
    "        if flag == 0: # Curves must have crossed if this is the case\n",
    "            intersections.append((xs_q5[i] + xs_q5[i - 1]) / 2) \n",
    "            # The midpoint between the last x and the current x to make the approximation closer, since the x-value of the intersection is in between\n",
    "        flag = 1\n",
    "    elif ys_q5_f[i] < ys_q5_g[i]:\n",
    "        if flag == 1: # Curves must have crossed if this is the case\n",
    "            intersections.append((xs_q5[i] + xs_q5[i - 1]) / 2)\n",
    "            # The midpoint between the last x and the current x to make the approximation closer, since the x-value of the intersection is in between\n",
    "        flag = 0"
   ]
  },
  {
   "cell_type": "markdown",
   "metadata": {},
   "source": [
    "The x-values at the intersections are approximately as follows..."
   ]
  },
  {
   "cell_type": "code",
   "execution_count": 10,
   "metadata": {},
   "outputs": [
    {
     "data": {
      "text/plain": [
       "[-2.45, 2.45]"
      ]
     },
     "execution_count": 10,
     "metadata": {},
     "output_type": "execute_result"
    }
   ],
   "source": [
    "intersections"
   ]
  },
  {
   "cell_type": "markdown",
   "metadata": {},
   "source": [
    "### Method 2 (more accurate)"
   ]
  },
  {
   "cell_type": "markdown",
   "metadata": {},
   "source": [
    "This method uses the fact that f - g = 0 at their intersections."
   ]
  },
  {
   "cell_type": "code",
   "execution_count": 45,
   "metadata": {},
   "outputs": [],
   "source": [
    "intersections = solve(f - g, x)"
   ]
  },
  {
   "cell_type": "code",
   "execution_count": 46,
   "metadata": {},
   "outputs": [
    {
     "data": {
      "text/plain": [
       "[-sqrt(6), sqrt(6)]"
      ]
     },
     "execution_count": 46,
     "metadata": {},
     "output_type": "execute_result"
    }
   ],
   "source": [
    "intersections"
   ]
  },
  {
   "cell_type": "markdown",
   "metadata": {},
   "source": [
    "## Validation and final result..."
   ]
  },
  {
   "cell_type": "markdown",
   "metadata": {},
   "source": [
    "To visually confirm intersections..."
   ]
  },
  {
   "cell_type": "code",
   "execution_count": 63,
   "metadata": {},
   "outputs": [
    {
     "data": {
      "image/png": "[encoded data removed]",
      "text/plain": [
       "<matplotlib.figure.Figure at 0x11c1067f0>"
      ]
     },
     "metadata": {},
     "output_type": "display_data"
    }
   ],
   "source": [
    "plt.plot(xs_q5, ys_q5_f, xs_q5, ys_q5_g)\n",
    "plt.plot([intersections[0], intersections[0]], [0, 4], color = \"green\") # Intersection 1\n",
    "plt.plot([intersections[1], intersections[1]], [0, 4], color = \"black\") # Intersection 2\n",
    "plt.fill_between(xs_q5, ys_q5_f, ys_q5_g, color = \"pink\")\n",
    "plt.title(\"The two functions f and g, and the area in between (shaded pink)\")\n",
    "plt.xlabel(\"x\")\n",
    "plt.ylabel(\"y\")\n",
    "plt.legend([\"f\", \"g\", \"x = {0}\".format(intersections[0]), \"x = {0}\".format(intersections[1])], bbox_to_anchor = (1, 1.03))\n",
    "plt.show()"
   ]
  },
  {
   "cell_type": "markdown",
   "metadata": {},
   "source": [
    "Calculating the pink area using built-in functions..."
   ]
  },
  {
   "cell_type": "code",
   "execution_count": 48,
   "metadata": {},
   "outputs": [
    {
     "name": "stdout",
     "output_type": "stream",
     "text": [
      "Area between f and g is 12.8361088708628 square units.\n"
     ]
    }
   ],
   "source": [
    "intersectionsAndLimits = []\n",
    "areasBetweenCurves = []\n",
    "\n",
    "# Appending limits and intersection points into a new list...\n",
    "intersectionsAndLimits.append(-4)\n",
    "upper = len(intersections)\n",
    "for i in range(0, upper):\n",
    "    intersectionsAndLimits.append(intersections[i])\n",
    "intersectionsAndLimits.append(4)\n",
    "\n",
    "# Finding the various areas between the curves...\n",
    "upper = len(intersectionsAndLimits) - 1\n",
    "for i in range(0, upper):\n",
    "    p = integrate(f, (x, intersectionsAndLimits[i], intersectionsAndLimits[i + 1]))\n",
    "    q = integrate(f, (x, intersectionsAndLimits[i], intersectionsAndLimits[i + 1]))\n",
    "    areasBetweenCurves.append(abs(p - q))\n",
    "\n",
    "# Totalling the areas between the curves...\n",
    "upper = len(areasBetweenCurves)\n",
    "totalAreaBetweenCurves = 0\n",
    "for i in range(0, upper):\n",
    "    totalAreaBetweenCurves = totalAreaBetweenCurves + areasBetweenCurves[i]\n",
    "print(\"Area between f and g is {0} square units.\".format(area))"
   ]
  }
 ],
 "metadata": {
  "kernelspec": {
   "display_name": "Python 3",
   "language": "python",
   "name": "python3"
  },
  "language_info": {
   "codemirror_mode": {
    "name": "ipython",
    "version": 3
   },
   "file_extension": ".py",
   "mimetype": "text/x-python",
   "name": "python",
   "nbconvert_exporter": "python",
   "pygments_lexer": "ipython3",
   "version": "3.6.4"
  }
 },
 "nbformat": 4,
 "nbformat_minor": 2
}
