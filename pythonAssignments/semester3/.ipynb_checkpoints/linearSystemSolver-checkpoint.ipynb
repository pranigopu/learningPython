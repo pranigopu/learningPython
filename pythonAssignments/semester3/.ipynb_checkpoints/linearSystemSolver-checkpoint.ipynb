{
 "cells": [
  {
   "cell_type": "markdown",
   "metadata": {},
   "source": [
    "# System solver"
   ]
  },
  {
   "cell_type": "code",
   "execution_count": null,
   "metadata": {},
   "outputs": [],
   "source": [
    "import numpy as np\n",
    "def solveEqs(order):\n",
    "    try:\n",
    "        n = int(order)\n",
    "    except:\n",
    "        print(\"Not a positive integer!\")\n",
    "    if n < 1:\n",
    "        print(\"Number of equations\")\n",
    "        return 0\n",
    "    A = np.zeros((n, n))\n",
    "    B = np.zeros((n, 1))\n",
    "    for i in range(0, n):\n",
    "        print(\"Equation #{0}:\".format(i + 1))\n",
    "        for j in range(0, n):\n",
    "            try:\n",
    "                A[i][j] = float(input((\"Coefficient #{0}: \").format(j + 1)))\n",
    "            except:\n",
    "                print(\"Invalid input\")\n",
    "                return 0\n",
    "        try:\n",
    "            B[i][0] = float(input((\"Constant sum: \")))\n",
    "        except:\n",
    "            print(\"Invalid input\")\n",
    "            return 0\n",
    "        print()\n",
    "    X = np.linalg.solve(A, B)\n",
    "    print(X)\n",
    "    print(\"x = {0}\".format(float(X[0][0])))\n",
    "    print(\"y = {0}\".format(float(X[1][0])))\n",
    "    print(\"z = {0}\".format(float(X[2][0])))"
   ]
  },
  {
   "cell_type": "code",
   "execution_count": 69,
   "metadata": {},
   "outputs": [
    {
     "name": "stdout",
     "output_type": "stream",
     "text": [
      "Equation #1:\n",
      "Coefficient #1: 3\n",
      "Coefficient #2: 4\n",
      "Coefficient #3: 2\n",
      "Constant sum: 3\n",
      "\n",
      "Equation #2:\n",
      "Coefficient #1: 6\n",
      "Coefficient #2: 2\n",
      "Coefficient #3: 7\n",
      "Constant sum: 4\n",
      "\n",
      "Equation #3:\n",
      "Coefficient #1: 8\n",
      "Coefficient #2: 5\n",
      "Coefficient #3: 6\n",
      "Constant sum: 3\n",
      "\n",
      "[[-1.35897436]\n",
      " [ 1.05128205]\n",
      " [ 1.43589744]]\n",
      "x = -1\n"
     ]
    }
   ],
   "source": [
    "solveEqs(3)"
   ]
  },
  {
   "cell_type": "code",
   "execution_count": null,
   "metadata": {},
   "outputs": [],
   "source": []
  }
 ],
 "metadata": {
  "kernelspec": {
   "display_name": "Python 3",
   "language": "python",
   "name": "python3"
  },
  "language_info": {
   "codemirror_mode": {
    "name": "ipython",
    "version": 3
   },
   "file_extension": ".py",
   "mimetype": "text/x-python",
   "name": "python",
   "nbconvert_exporter": "python",
   "pygments_lexer": "ipython3",
   "version": "3.8.5"
  }
 },
 "nbformat": 4,
 "nbformat_minor": 4
}
