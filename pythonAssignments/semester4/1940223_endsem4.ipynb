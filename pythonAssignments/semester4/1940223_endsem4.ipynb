{
 "cells": [
  {
   "cell_type": "markdown",
   "metadata": {},
   "source": [
    "# "
   ]
  },
  {
   "cell_type": "code",
   "execution_count": 4,
   "metadata": {},
   "outputs": [],
   "source": [
    "from scipy.integrate import odeint\n",
    "import matplotlib.pyplot as plt\n",
    "import numpy as np"
   ]
  },
  {
   "cell_type": "markdown",
   "metadata": {},
   "source": [
    "## "
   ]
  },
  {
   "cell_type": "markdown",
   "metadata": {},
   "source": [
    "The general equation for logistical model:\n",
    "<br>\n",
    "$\\frac{dP}{dt} = kP\\frac{N - P}{N}$\n",
    "<br>\n",
    "In our case,\n",
    "<br>\n",
    "N = 200\n",
    "<br>\n",
    "k = 3\n",
    "<br>\n",
    "Hence, the equation to plot the number of panthers in the game preserve is\n",
    "<br>\n",
    "$\\frac{dP}{dt} = 3P\\frac{200 - P}{200}$"
   ]
  },
  {
   "cell_type": "markdown",
   "metadata": {},
   "source": [
    "## "
   ]
  },
  {
   "cell_type": "code",
   "execution_count": 40,
   "metadata": {},
   "outputs": [
    {
     "data": {
      "image/png": "[encoded data removed]",
      "text/plain": [
       "<Figure size 432x288 with 1 Axes>"
      ]
     },
     "metadata": {
      "needs_background": "light"
     },
     "output_type": "display_data"
    }
   ],
   "source": [
    "def f(P, t):\n",
    "    eq = k * P * (1 - P/N) # equation for logistic model where we take N = 10000 \n",
    "    return eq\n",
    "N = 200\n",
    "k = 3 # per capita growth rate\n",
    "P0 = 25 # population at time t = 0  (the initial condition)\n",
    "t = np.linspace(0, 5, 100) # time points\n",
    "growth = odeint(f, P0, t) # odeint(DE, Intial Condition, time points)\n",
    "plt.plot(t, growth)\n",
    "None"
   ]
  },
  {
   "cell_type": "code",
   "execution_count": 41,
   "metadata": {},
   "outputs": [
    {
     "data": {
      "text/plain": [
       "(4.0, 5.0, 0.0, 250.0)"
      ]
     },
     "execution_count": 41,
     "metadata": {},
     "output_type": "execute_result"
    },
    {
     "data": {
      "image/png": "[encoded data removed]",
      "text/plain": [
       "<Figure size 432x288 with 1 Axes>"
      ]
     },
     "metadata": {
      "needs_background": "light"
     },
     "output_type": "display_data"
    }
   ],
   "source": [
    "plt.plot(t, growth)\n",
    "plt.axis([4, 5, 0, 250])\n",
    "None"
   ]
  },
  {
   "cell_type": "markdown",
   "metadata": {},
   "source": [
    "# "
   ]
  },
  {
   "cell_type": "markdown",
   "metadata": {},
   "source": [
    "After five years, the preserve will have reached its carrying capacity of 200 panthers."
   ]
  },
  {
   "cell_type": "code",
   "execution_count": 42,
   "metadata": {},
   "outputs": [],
   "source": [
    "from sympy import Symbol, Function, Eq, dsolve, solve, init_printing\n",
    "import matplotlib.pyplot as plt\n",
    "import numpy as np"
   ]
  },
  {
   "cell_type": "markdown",
   "metadata": {},
   "source": [
    "## "
   ]
  },
  {
   "cell_type": "markdown",
   "metadata": {},
   "source": [
    "Initial population is 125 bacteria."
   ]
  },
  {
   "cell_type": "markdown",
   "metadata": {},
   "source": [
    "## "
   ]
  },
  {
   "cell_type": "code",
   "execution_count": 49,
   "metadata": {},
   "outputs": [],
   "source": [
    "t = Symbol('t') # Time\n",
    "k = Symbol('k') # Proportional constant\n",
    "p = Function('p')(t) # Monetary value of the computer after time t\n",
    "C1 = Symbol('C1') # Eventually arising integration constant"
   ]
  },
  {
   "cell_type": "code",
   "execution_count": 50,
   "metadata": {},
   "outputs": [
    {
     "data": {
      "text/latex": [
       "$\\displaystyle \\frac{d}{d t} p{\\left(t \\right)} = k p{\\left(t \\right)}$"
      ],
      "text/plain": [
       "Eq(Derivative(p(t), t), k*p(t))"
      ]
     },
     "execution_count": 50,
     "metadata": {},
     "output_type": "execute_result"
    }
   ],
   "source": [
    "differentialEquation = Eq(p.diff(t), k * p)\n",
    "differentialEquation"
   ]
  },
  {
   "cell_type": "code",
   "execution_count": 51,
   "metadata": {},
   "outputs": [
    {
     "data": {
      "text/latex": [
       "$\\displaystyle p{\\left(t \\right)} = C_{1} e^{k t}$"
      ],
      "text/plain": [
       "Eq(p(t), C1*exp(k*t))"
      ]
     },
     "execution_count": 51,
     "metadata": {},
     "output_type": "execute_result"
    }
   ],
   "source": [
    "generalEquation = dsolve(differentialEquation)\n",
    "generalEquation"
   ]
  },
  {
   "cell_type": "markdown",
   "metadata": {},
   "source": [
    "Clearly, at t = 0, since we know the initial population is 125, C1 will be 125."
   ]
  },
  {
   "cell_type": "code",
   "execution_count": 52,
   "metadata": {},
   "outputs": [
    {
     "data": {
      "text/latex": [
       "$\\displaystyle 350 = 125 e^{2 k}$"
      ],
      "text/plain": [
       "Eq(350, 125*exp(2*k))"
      ]
     },
     "execution_count": 52,
     "metadata": {},
     "output_type": "execute_result"
    }
   ],
   "source": [
    "twoHoursLaterEquation = generalEquation.subs({t : 2, p : 350, C1 : 125})\n",
    "twoHoursLaterEquation"
   ]
  },
  {
   "cell_type": "code",
   "execution_count": 54,
   "metadata": {},
   "outputs": [
    {
     "data": {
      "text/plain": [
       "[-log(5) + log(70)/2, -log(5) + log(70)/2 + I*pi]"
      ]
     },
     "execution_count": 54,
     "metadata": {},
     "output_type": "execute_result"
    }
   ],
   "source": [
    "proportionalConstant = solve(twoHoursLaterEquation, k)\n",
    "proportionalConstant"
   ]
  },
  {
   "cell_type": "code",
   "execution_count": 57,
   "metadata": {},
   "outputs": [
    {
     "data": {
      "text/plain": [
       "0.5148097085905794"
      ]
     },
     "execution_count": 57,
     "metadata": {},
     "output_type": "execute_result"
    }
   ],
   "source": [
    "proportionalConstant = -np.log(5) + np.log(70)/2\n",
    "proportionalConstant"
   ]
  },
  {
   "cell_type": "markdown",
   "metadata": {},
   "source": [
    "To describe exponential growth, we have\n",
    "<br>\n",
    "$\\frac{dp}{dt} = kp(t)$\n",
    "<br>\n",
    "where k > 0. In our case we know\n",
    "<br>\n",
    "k = 0.5148097085905794\n",
    "<br>\n",
    "Hence, we have\n",
    "<br>\n",
    "$\\frac{dp}{dt} = 5148097085905794 • p(t)$\n",
    "<br>"
   ]
  },
  {
   "cell_type": "markdown",
   "metadata": {},
   "source": [
    "## "
   ]
  },
  {
   "cell_type": "code",
   "execution_count": 59,
   "metadata": {},
   "outputs": [
    {
     "data": {
      "text/latex": [
       "$\\displaystyle p{\\left(t \\right)} = 125 e^{0.514809708590579 t}$"
      ],
      "text/plain": [
       "Eq(p(t), 125*exp(0.514809708590579*t))"
      ]
     },
     "execution_count": 59,
     "metadata": {},
     "output_type": "execute_result"
    }
   ],
   "source": [
    "particularSolution = generalEquation.subs({k : proportionalConstant, C1 : 125})\n",
    "particularSolution"
   ]
  },
  {
   "cell_type": "markdown",
   "metadata": {},
   "source": [
    "After 4 hours..."
   ]
  },
  {
   "cell_type": "code",
   "execution_count": 60,
   "metadata": {},
   "outputs": [
    {
     "data": {
      "text/latex": [
       "$\\displaystyle p{\\left(4 \\right)} = 980.000000000001$"
      ],
      "text/plain": [
       "Eq(p(4), 980.000000000001)"
      ]
     },
     "execution_count": 60,
     "metadata": {},
     "output_type": "execute_result"
    }
   ],
   "source": [
    "particularSolution.subs({t : 4})"
   ]
  },
  {
   "cell_type": "markdown",
   "metadata": {},
   "source": [
    "Hence, after 4 hours, we can expect the number of bacteria to be 980."
   ]
  }
 ],
 "metadata": {
  "kernelspec": {
   "display_name": "Python 3",
   "language": "python",
   "name": "python3"
  },
  "language_info": {
   "codemirror_mode": {
    "name": "ipython",
    "version": 3
   },
   "file_extension": ".py",
   "mimetype": "text/x-python",
   "name": "python",
   "nbconvert_exporter": "python",
   "pygments_lexer": "ipython3",
   "version": "3.8.5"
  }
 },
 "nbformat": 4,
 "nbformat_minor": 4
}
