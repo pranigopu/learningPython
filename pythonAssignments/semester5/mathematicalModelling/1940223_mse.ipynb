{
 "cells": [
  {
   "cell_type": "markdown",
   "metadata": {},
   "source": [
    "# "
   ]
  },
  {
   "cell_type": "markdown",
   "metadata": {},
   "source": [
    "The number of fish in an aquarium is decreasing exponentially. The population of fish is\n",
    "decreasing by 7% each year. There are 1500 fish in the aquarium today. Write a program\n",
    "to predict the number of fish that will be left in the aquarium after 4 years."
   ]
  },
  {
   "cell_type": "code",
   "execution_count": 1,
   "metadata": {},
   "outputs": [],
   "source": [
    "from sympy import Symbol, Function, Eq, dsolve, solve, init_printing\n",
    "import matplotlib.pyplot as plt\n",
    "import numpy as np"
   ]
  },
  {
   "cell_type": "code",
   "execution_count": 24,
   "metadata": {},
   "outputs": [],
   "source": [
    "init_printing(use_unicode = True)\n",
    "t = Symbol('t') # Time\n",
    "k = 7/100 # Proportional constant i.e. 7% decrease per year\n",
    "p = Function('p')(t) # Monetary value of the computer after time t\n",
    "C1 = Symbol('C1') # Eventually arising integration constant"
   ]
  },
  {
   "cell_type": "code",
   "execution_count": 25,
   "metadata": {},
   "outputs": [
    {
     "data": {
      "image/png": "[encoded data removed]",
      "text/latex": [
       "$\\displaystyle \\frac{d}{d t} p{\\left(t \\right)} = - 0.07 p{\\left(t \\right)}$"
      ],
      "text/plain": [
       "d                    \n",
       "──(p(t)) = -0.07⋅p(t)\n",
       "dt                   "
      ]
     },
     "execution_count": 25,
     "metadata": {},
     "output_type": "execute_result"
    }
   ],
   "source": [
    "differentialEquation = Eq(p.diff(t), -k * p)\n",
    "differentialEquation"
   ]
  },
  {
   "cell_type": "code",
   "execution_count": 26,
   "metadata": {},
   "outputs": [
    {
     "data": {
      "image/png": "[encoded data removed]",
      "text/latex": [
       "$\\displaystyle p{\\left(t \\right)} = C_{1} e^{- 0.07 t}$"
      ],
      "text/plain": [
       "           -0.07⋅t\n",
       "p(t) = C₁⋅ℯ       "
      ]
     },
     "execution_count": 26,
     "metadata": {},
     "output_type": "execute_result"
    }
   ],
   "source": [
    "mainEquation = dsolve(differentialEquation)\n",
    "mainEquation"
   ]
  },
  {
   "cell_type": "markdown",
   "metadata": {},
   "source": [
    "Since the initial population is 1500, C1 will also be 1500. To confirm this computationally..."
   ]
  },
  {
   "cell_type": "code",
   "execution_count": 27,
   "metadata": {},
   "outputs": [
    {
     "data": {
      "image/png": "[encoded data removed]",
      "text/latex": [
       "$\\displaystyle \\left[ 1500\\right]$"
      ],
      "text/plain": [
       "[1500]"
      ]
     },
     "execution_count": 27,
     "metadata": {},
     "output_type": "execute_result"
    }
   ],
   "source": [
    "initialEquation = mainEquation.subs({t : 0, p : 1500})\n",
    "constantValue = solve(initialEquation, C1)\n",
    "constantValue"
   ]
  },
  {
   "cell_type": "code",
   "execution_count": 28,
   "metadata": {},
   "outputs": [
    {
     "data": {
      "image/png": "[encoded data removed]",
      "text/latex": [
       "$\\displaystyle p{\\left(t \\right)} = 1500 e^{- 0.07 t}$"
      ],
      "text/plain": [
       "             -0.07⋅t\n",
       "p(t) = 1500⋅ℯ       "
      ]
     },
     "execution_count": 28,
     "metadata": {},
     "output_type": "execute_result"
    }
   ],
   "source": [
    "mainEquation = mainEquation.subs({C1 : 1500})\n",
    "mainEquation"
   ]
  },
  {
   "cell_type": "markdown",
   "metadata": {},
   "source": [
    "After 4 years i.e. t = 4..."
   ]
  },
  {
   "cell_type": "code",
   "execution_count": 29,
   "metadata": {},
   "outputs": [
    {
     "data": {
      "image/png": "[encoded data removed]",
      "text/latex": [
       "$\\displaystyle p{\\left(4 \\right)} = 1133.67561218359$"
      ],
      "text/plain": [
       "p(4) = 1133.67561218359"
      ]
     },
     "execution_count": 29,
     "metadata": {},
     "output_type": "execute_result"
    }
   ],
   "source": [
    "mainEquation.subs({t : 4})"
   ]
  },
  {
   "cell_type": "markdown",
   "metadata": {},
   "source": [
    "Hence, if the population of fish is decreasing exponentially, then after 4 years, there will be around 1134 fish left."
   ]
  },
  {
   "cell_type": "markdown",
   "metadata": {},
   "source": [
    "# "
   ]
  },
  {
   "cell_type": "markdown",
   "metadata": {},
   "source": [
    "Obtain the solution for the differential equation:"
   ]
  },
  {
   "cell_type": "markdown",
   "metadata": {},
   "source": [
    "$\\frac{d^2y}{dt^2}+3\\frac{dy}{dt}-5y=0$, where $y(0) = 0, y'(0) = 5$"
   ]
  },
  {
   "cell_type": "markdown",
   "metadata": {},
   "source": [
    "at time points t are 5, 10 and 15. Represent them by scatterplot."
   ]
  },
  {
   "cell_type": "code",
   "execution_count": 46,
   "metadata": {},
   "outputs": [
    {
     "data": {
      "text/plain": [
       "array([[0.00000000e+00, 5.00000000e+00],\n",
       "       [3.60936505e+02, 4.30446525e+02],\n",
       "       [1.40310648e+05, 1.67332010e+05]])"
      ]
     },
     "execution_count": 46,
     "metadata": {},
     "output_type": "execute_result"
    }
   ],
   "source": [
    "from numpy import linspace, cos\n",
    "from scipy.integrate import odeint\n",
    "import matplotlib.pyplot as plt\n",
    "def dy_dx(y, t):\n",
    "    return [y[1], - 3*y[1] + 5*y[0]]\n",
    "initialValues = [0, 5] # Initial values of y and y' respectively (initial => t = 0).\n",
    "timePoints = [5, 10, 15] # A selected list of time points.\n",
    "dependents = odeint(dy_dx, initialValues, timePoints)\n",
    "\"\"\"\n",
    "'dependents' contains an array of lists, and in each list:\n",
    "index = 0 has the y value for a value of t\n",
    "index = 1 has the y' value for a value of t\n",
    "\"\"\"\n",
    "dependents"
   ]
  },
  {
   "cell_type": "code",
   "execution_count": 49,
   "metadata": {},
   "outputs": [
    {
     "data": {
      "image/png": "[encoded data removed]",
      "text/plain": [
       "<Figure size 432x288 with 1 Axes>"
      ]
     },
     "metadata": {
      "needs_background": "light"
     },
     "output_type": "display_data"
    }
   ],
   "source": [
    "y = dependents[:, 0] # Picking only the y values for the given t values.\n",
    "plt.scatter(timePoints, y)\n",
    "plt.title(\"Solution of $y''+3y'-5y=0$\")\n",
    "plt.xlabel(\"t\")\n",
    "plt.ylabel(\"y\")\n",
    "None"
   ]
  }
 ],
 "metadata": {
  "kernelspec": {
   "display_name": "Python 3",
   "language": "python",
   "name": "python3"
  },
  "language_info": {
   "codemirror_mode": {
    "name": "ipython",
    "version": 3
   },
   "file_extension": ".py",
   "mimetype": "text/x-python",
   "name": "python",
   "nbconvert_exporter": "python",
   "pygments_lexer": "ipython3",
   "version": "3.8.5"
  }
 },
 "nbformat": 4,
 "nbformat_minor": 4
}
