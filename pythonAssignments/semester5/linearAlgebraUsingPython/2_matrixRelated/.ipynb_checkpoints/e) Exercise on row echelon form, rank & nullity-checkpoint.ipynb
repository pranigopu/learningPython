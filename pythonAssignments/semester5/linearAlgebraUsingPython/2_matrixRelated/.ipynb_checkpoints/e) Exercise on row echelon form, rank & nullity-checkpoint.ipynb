{
 "cells": [
  {
   "cell_type": "markdown",
   "metadata": {},
   "source": [
    "# Finding rank of 2 given matrices"
   ]
  },
  {
   "cell_type": "code",
   "execution_count": 26,
   "metadata": {},
   "outputs": [
    {
     "name": "stdout",
     "output_type": "stream",
     "text": [
      "G =\n",
      "⎡1  2  1 ⎤\n",
      "⎢        ⎥\n",
      "⎢3  1  -2⎥\n",
      "⎢        ⎥\n",
      "⎣2  5  7 ⎦\n",
      "S =\n",
      "⎡7  5  1 ⎤\n",
      "⎢        ⎥\n",
      "⎢9  8  -1⎥\n",
      "⎢        ⎥\n",
      "⎣8  4  3 ⎦\n"
     ]
    }
   ],
   "source": [
    "from sympy import Matrix, zeros, pprint\n",
    "G = Matrix([[1, 2, 1], [3, 1, -2], [2, 5, 7]])\n",
    "S = Matrix([[7, 5, 1], [9, 8, -1], [8, 4, 3]])\n",
    "print(\"G =\")\n",
    "pprint(G)\n",
    "print(\"S =\")\n",
    "pprint(S)"
   ]
  },
  {
   "cell_type": "code",
   "execution_count": 28,
   "metadata": {},
   "outputs": [
    {
     "name": "stdout",
     "output_type": "stream",
     "text": [
      "Ranks of G and S\n",
      "G rank = 3\n",
      "S rank = 3\n"
     ]
    }
   ],
   "source": [
    "print(\"Ranks of G and S\")\n",
    "print(\"G rank =\", G.rank())\n",
    "print(\"S rank =\", S.rank())"
   ]
  },
  {
   "cell_type": "markdown",
   "metadata": {},
   "source": [
    "# Working on 2 user-inputted matrices"
   ]
  },
  {
   "cell_type": "code",
   "execution_count": 1,
   "metadata": {},
   "outputs": [],
   "source": [
    "# Support functions...\n",
    "from sympy import Matrix, zeros, pprint\n",
    "def inputPositiveInteger(prompt):\n",
    "    while True:\n",
    "        try:\n",
    "            i = input(prompt)\n",
    "            if i == \"x\": return 0\n",
    "            i = int(i)\n",
    "            if i <= 0: i = 1/0\n",
    "            return i\n",
    "        except:\n",
    "            print(\"Invalid integer, please re-enter.\")\n",
    "def floatInput(prompt):\n",
    "    while True:\n",
    "        try:\n",
    "            i = float(input(prompt))\n",
    "            return i\n",
    "        except:\n",
    "            print(\"Invalid number, please re-enter.\")\n",
    "            \n",
    "def matrixInput(nRow, nCol):\n",
    "    print(\"\\nEnter row by row, each element in the row separated by comma...\")\n",
    "    A, i = zeros(nRow, nCol), 0\n",
    "    while i < nRow:\n",
    "        row = input(\"R{0}: \".format(i + 1)).split(\",\")\n",
    "        if \"x\" in row: break # To stop inputting anymore\n",
    "        if len(row) != nCol:\n",
    "            print(\"ERROR: You must only enter\", nCol, \"per row\")\n",
    "            continue\n",
    "        for j in range(0, nCol):\n",
    "            try:\n",
    "                A[i, j] = float(row[j])\n",
    "            except:\n",
    "                print(\"ERROR: Non-numeric inputs.\")\n",
    "                j = -1\n",
    "                break\n",
    "        if j != -1: i = i + 1\n",
    "    return A"
   ]
  },
  {
   "cell_type": "code",
   "execution_count": 3,
   "metadata": {},
   "outputs": [
    {
     "name": "stdout",
     "output_type": "stream",
     "text": [
      "MATRIX 1\n",
      "\n",
      "Enter row by row, each element in the row separated by comma...\n",
      "R1: 1, 4, 5\n",
      "R2: 2, 7, 4\n",
      "R3: 9, 9, 0\n",
      "\n",
      "MATRIX 2\n",
      "\n",
      "Enter row by row, each element in the row separated by comma...\n",
      "R1: 0, 3, 1\n",
      "R2: 9, 6, 4\n",
      "R3: 0, 8, 2\n"
     ]
    }
   ],
   "source": [
    "print(\"MATRIX 1\")\n",
    "A = matrixInput(3, 3)\n",
    "print(\"\\nMATRIX 2\")\n",
    "B = matrixInput(3, 3)"
   ]
  },
  {
   "cell_type": "code",
   "execution_count": 9,
   "metadata": {},
   "outputs": [
    {
     "name": "stdout",
     "output_type": "stream",
     "text": [
      "A =\n",
      "⎡1.0  4.0  5.0⎤\n",
      "⎢             ⎥\n",
      "⎢2.0  7.0  4.0⎥\n",
      "⎢             ⎥\n",
      "⎣9.0  9.0  0.0⎦\n",
      "B =\n",
      "⎡0.0  3.0  1.0⎤\n",
      "⎢             ⎥\n",
      "⎢9.0  6.0  4.0⎥\n",
      "⎢             ⎥\n",
      "⎣0.0  8.0  2.0⎦\n"
     ]
    }
   ],
   "source": [
    "print(\"A =\")\n",
    "pprint(A)\n",
    "print(\"B =\")\n",
    "pprint(B)"
   ]
  },
  {
   "cell_type": "code",
   "execution_count": 12,
   "metadata": {},
   "outputs": [
    {
     "name": "stdout",
     "output_type": "stream",
     "text": [
      "Row echelon forms...\n",
      "For A:\n",
      "⎡1  0  0⎤\n",
      "⎢       ⎥\n",
      "⎢0  1  0⎥\n",
      "⎢       ⎥\n",
      "⎣0  0  1⎦\n",
      "For B:\n",
      "⎡1  0  0⎤\n",
      "⎢       ⎥\n",
      "⎢0  1  0⎥\n",
      "⎢       ⎥\n",
      "⎣0  0  1⎦\n"
     ]
    }
   ],
   "source": [
    "print(\"Row echelon forms...\")\n",
    "print(\"For A:\")\n",
    "pprint(A.rref()[0])\n",
    "print(\"For B:\")\n",
    "pprint(B.rref()[0])"
   ]
  },
  {
   "cell_type": "code",
   "execution_count": 17,
   "metadata": {},
   "outputs": [
    {
     "name": "stdout",
     "output_type": "stream",
     "text": [
      "Checking if singular or not...\n",
      "A is non-singular!\n",
      "B is non-singular!\n"
     ]
    }
   ],
   "source": [
    "print(\"Checking if singular or not...\")\n",
    "def isSingular(M, name):\n",
    "    try:\n",
    "        M.det()\n",
    "        print(name + \" is non-singular!\")\n",
    "    except: print(name + \" is singular!\")\n",
    "\n",
    "isSingular(A, 'A')\n",
    "isSingular(B, 'B')"
   ]
  },
  {
   "cell_type": "code",
   "execution_count": 19,
   "metadata": {},
   "outputs": [
    {
     "name": "stdout",
     "output_type": "stream",
     "text": [
      "Rank and nullity...\n",
      "------------\n",
      "For A:\n",
      "Rank: 3\n",
      "Nullity: 0\n",
      "------------\n",
      "For B:\n",
      "Rank: 3\n",
      "Nullity: 0\n"
     ]
    }
   ],
   "source": [
    "print(\"Rank and nullity...\")\n",
    "def rankAndNullity(M, name):\n",
    "    print(\"------------\\nFor \" + name + \":\")\n",
    "    # Rank\n",
    "    print(\"Rank:\", M.rank())\n",
    "    # Nullity\n",
    "    nullspace = M.nullspace()\n",
    "    nullity = len(nullspace)\n",
    "    print(\"Nullity:\", nullity)\n",
    "\n",
    "rankAndNullity(A, 'A')\n",
    "rankAndNullity(B, 'B')"
   ]
  },
  {
   "cell_type": "markdown",
   "metadata": {},
   "source": [
    "**NULLITY**: The null space of any matrix A consists of all the vectors B such that AB = 0 and B is not zero. It can also be thought as the solution obtained from AB = 0 where A is known matrix of size m x n and B is matrix to be found of size n x 1. The nullity of A is the number of vectors in its nullspace. The nullspace function for sympy matrices returns a list of vectors that are in the nullspace of A, as defined above. By getting its length, we can figure out the nullity of A."
   ]
  },
  {
   "cell_type": "code",
   "execution_count": 21,
   "metadata": {},
   "outputs": [
    {
     "name": "stdout",
     "output_type": "stream",
     "text": [
      "Ranks of A+B, A-B and A•B...\n",
      "Rank: 3\n",
      "Rank: 3\n",
      "Rank: 3\n"
     ]
    }
   ],
   "source": [
    "print(\"Ranks of A+B, A-B and A•B...\")\n",
    "print(\"Rank:\", (A + B).rank())\n",
    "print(\"Rank:\", (A - B).rank())\n",
    "print(\"Rank:\", (A * B).rank())"
   ]
  },
  {
   "cell_type": "markdown",
   "metadata": {},
   "source": [
    "As we can see, the ranks of all the above matrices are 3."
   ]
  }
 ],
 "metadata": {
  "kernelspec": {
   "display_name": "Python 3",
   "language": "python",
   "name": "python3"
  },
  "language_info": {
   "codemirror_mode": {
    "name": "ipython",
    "version": 3
   },
   "file_extension": ".py",
   "mimetype": "text/x-python",
   "name": "python",
   "nbconvert_exporter": "python",
   "pygments_lexer": "ipython3",
   "version": "3.8.5"
  }
 },
 "nbformat": 4,
 "nbformat_minor": 4
}
