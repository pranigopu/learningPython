{
 "cells": [
  {
   "cell_type": "markdown",
   "metadata": {},
   "source": [
    "# AIM"
   ]
  },
  {
   "cell_type": "markdown",
   "metadata": {},
   "source": [
    "Matrices are a vital tool in linear algebra. Here, we will look at their basic properties and functionalities."
   ]
  },
  {
   "cell_type": "markdown",
   "metadata": {},
   "source": [
    "# Operations on matrices"
   ]
  },
  {
   "cell_type": "markdown",
   "metadata": {},
   "source": [
    "A matrix is a 2D array where elements are divided into rows and columns."
   ]
  },
  {
   "cell_type": "markdown",
   "metadata": {},
   "source": [
    "## Defining matrices using lists (not a good idea)"
   ]
  },
  {
   "cell_type": "markdown",
   "metadata": {},
   "source": [
    "Defining matrix using list..."
   ]
  },
  {
   "cell_type": "code",
   "execution_count": 1,
   "metadata": {},
   "outputs": [
    {
     "name": "stdout",
     "output_type": "stream",
     "text": [
      "[[1, 2, 3], [4, 5, 6], [7, 8, 9]]\n"
     ]
    }
   ],
   "source": [
    "A = [[1, 2, 3], [4, 5, 6], [7, 8, 9]]\n",
    "print(A)"
   ]
  },
  {
   "cell_type": "markdown",
   "metadata": {},
   "source": [
    "Accessing particular rows, columns and elements..."
   ]
  },
  {
   "cell_type": "code",
   "execution_count": 7,
   "metadata": {},
   "outputs": [
    {
     "name": "stdout",
     "output_type": "stream",
     "text": [
      "First row: [1, 2, 3]\n",
      "First element: 1\n"
     ]
    }
   ],
   "source": [
    "A = [[1, 2, 3], [4, 5, 6], [7, 8, 9]]\n",
    "print(\"First row: {0}\".format(A[0]))\n",
    "print(\"First element: {0}\".format(A[0][0]))"
   ]
  },
  {
   "cell_type": "markdown",
   "metadata": {},
   "source": [
    "Columns cannot be selected easily using this definition of matrices."
   ]
  },
  {
   "cell_type": "markdown",
   "metadata": {},
   "source": [
    "Matrices cannot be operated on using this definition of matrices (list of lists)..."
   ]
  },
  {
   "cell_type": "code",
   "execution_count": 12,
   "metadata": {},
   "outputs": [
    {
     "name": "stdout",
     "output_type": "stream",
     "text": [
      "[[1, 2, 3], [4, 5, 6], [7, 8, 9], [-1, -2, -3], [-4, -5, -6], [-7, -8, -9]]\n"
     ]
    }
   ],
   "source": [
    "A = [[1, 2, 3], [4, 5, 6], [7, 8, 9]]\n",
    "B = [[-1, -2, -3], [-4, -5, -6], [-7, -8, -9]]\n",
    "print(A + B)"
   ]
  },
  {
   "cell_type": "markdown",
   "metadata": {},
   "source": [
    "You cannot use -, * and / for lists."
   ]
  },
  {
   "cell_type": "markdown",
   "metadata": {},
   "source": [
    "The above issues that arise from defining a matrix as a list compel us to use numpy to define matrices instead."
   ]
  },
  {
   "cell_type": "markdown",
   "metadata": {},
   "source": [
    "## Defining matrices using the numpy library (numerical python)"
   ]
  },
  {
   "cell_type": "code",
   "execution_count": 3,
   "metadata": {},
   "outputs": [],
   "source": [
    "import numpy as np"
   ]
  },
  {
   "cell_type": "markdown",
   "metadata": {},
   "source": [
    "### As an array"
   ]
  },
  {
   "cell_type": "code",
   "execution_count": 16,
   "metadata": {},
   "outputs": [
    {
     "name": "stdout",
     "output_type": "stream",
     "text": [
      "[[1 2 3]\n",
      " [4 5 6]\n",
      " [7 8 9]]\n"
     ]
    }
   ],
   "source": [
    "A = np.array([[1, 2, 3], [4, 5, 6], [7, 8, 9]])\n",
    "print(A)"
   ]
  },
  {
   "cell_type": "code",
   "execution_count": 21,
   "metadata": {},
   "outputs": [
    {
     "name": "stdout",
     "output_type": "stream",
     "text": [
      "[[0 0 0]\n",
      " [0 0 0]\n",
      " [0 0 0]]\n",
      "---\n",
      "[[ 2  4  6]\n",
      " [ 8 10 12]\n",
      " [14 16 18]]\n",
      "---\n",
      "[[ -1  -4  -9]\n",
      " [-16 -25 -36]\n",
      " [-49 -64 -81]]\n",
      "---\n",
      "[[-1. -1. -1.]\n",
      " [-1. -1. -1.]\n",
      " [-1. -1. -1.]]\n"
     ]
    }
   ],
   "source": [
    "A = np.array([[1, 2, 3], [4, 5, 6], [7, 8, 9]])\n",
    "B = np.array([[-1, -2, -3], [-4, -5, -6], [-7, -8, -9]])\n",
    "print(A + B)\n",
    "print(\"---\")\n",
    "print(A - B)\n",
    "print(\"---\")\n",
    "print(A * B)\n",
    "print(\"---\")\n",
    "print(A / B)"
   ]
  },
  {
   "cell_type": "markdown",
   "metadata": {},
   "source": [
    "### As a matrix"
   ]
  },
  {
   "cell_type": "code",
   "execution_count": 18,
   "metadata": {},
   "outputs": [
    {
     "name": "stdout",
     "output_type": "stream",
     "text": [
      "[[1 2 3]\n",
      " [4 5 6]\n",
      " [7 8 9]]\n"
     ]
    }
   ],
   "source": [
    "B = np.matrix([[-1, -2, -3], [-4, -5, -6], [-7, -8, -9]])\n",
    "print(A)"
   ]
  },
  {
   "cell_type": "code",
   "execution_count": 22,
   "metadata": {},
   "outputs": [
    {
     "name": "stdout",
     "output_type": "stream",
     "text": [
      "[[0 0 0]\n",
      " [0 0 0]\n",
      " [0 0 0]]\n",
      "---\n",
      "[[ 2  4  6]\n",
      " [ 8 10 12]\n",
      " [14 16 18]]\n",
      "---\n",
      "[[ -30  -36  -42]\n",
      " [ -66  -81  -96]\n",
      " [-102 -126 -150]]\n",
      "---\n",
      "[[-1. -1. -1.]\n",
      " [-1. -1. -1.]\n",
      " [-1. -1. -1.]]\n"
     ]
    }
   ],
   "source": [
    "A = np.matrix([[1, 2, 3], [4, 5, 6], [7, 8, 9]])\n",
    "B = np.matrix([[-1, -2, -3], [-4, -5, -6], [-7, -8, -9]])\n",
    "print(A + B)\n",
    "print(\"---\")\n",
    "print(A - B)\n",
    "print(\"---\")\n",
    "print(A * B)\n",
    "print(\"---\")\n",
    "print(A / B)"
   ]
  },
  {
   "cell_type": "markdown",
   "metadata": {},
   "source": [
    "Array allows any number of dimensions, while matrix is strictly 2D. Also, the methods available for the latter also differ, and are more specialised for matrix operations."
   ]
  },
  {
   "cell_type": "markdown",
   "metadata": {},
   "source": [
    "### Accessing rows, columns and elements"
   ]
  },
  {
   "cell_type": "code",
   "execution_count": 56,
   "metadata": {},
   "outputs": [
    {
     "name": "stdout",
     "output_type": "stream",
     "text": [
      "The matrix:\n",
      "[[1 2 3]\n",
      " [4 5 6]\n",
      " [7 8 9]]\n",
      "3rd row:\n",
      "[[7 8 9]]\n",
      "1st column:\n",
      "[[1]\n",
      " [4]\n",
      " [7]]\n",
      "Element at 2nd row, 3rd column:\n",
      "6\n"
     ]
    }
   ],
   "source": [
    "A = np.matrix([[1, 2, 3], [4, 5, 6], [7, 8, 9]])\n",
    "print(\"The matrix:\\n{0}\".format(A))\n",
    "print(\"3rd row:\\n{0}\".format(A[2]))\n",
    "print(\"1st column:\\n{0}\".format(A[:,0]))\n",
    "print(\"Element at 2nd row, 3rd column:\\n{0}\".format(A[1, 2]))"
   ]
  },
  {
   "cell_type": "markdown",
   "metadata": {},
   "source": [
    "### Methods"
   ]
  },
  {
   "cell_type": "code",
   "execution_count": 4,
   "metadata": {},
   "outputs": [
    {
     "name": "stdout",
     "output_type": "stream",
     "text": [
      "9\n",
      "(3, 3)\n"
     ]
    }
   ],
   "source": [
    "A = np.matrix([[1, 2, 3], [4, 5, 6], [7, 8, 9]])\n",
    "print(A.size) # Gives size of matrix\n",
    "print(A.shape) # Gives order of matrix i.e. (no. of rows, no. of columns)\n",
    "# NOTE: These work for arrays also"
   ]
  },
  {
   "cell_type": "code",
   "execution_count": 6,
   "metadata": {},
   "outputs": [
    {
     "name": "stdout",
     "output_type": "stream",
     "text": [
      "[[0. 0.]\n",
      " [0. 0.]\n",
      " [0. 0.]]\n",
      "[[1. 1. 1. 1. 1. 1.]\n",
      " [1. 1. 1. 1. 1. 1.]\n",
      " [1. 1. 1. 1. 1. 1.]]\n"
     ]
    }
   ],
   "source": [
    "N = np.zeros((3,2)) # Makes a matrix of the given order consisting only of zeros\n",
    "print(N)\n",
    "M = np.ones((3,6)) # Makes a matrix of the given order consisting only of ones\n",
    "print(M)\n",
    "# NOTE: These can also create arrays, ex. np.zeros(4) i.e. an array of 4 zeros"
   ]
  },
  {
   "cell_type": "code",
   "execution_count": 43,
   "metadata": {},
   "outputs": [
    {
     "name": "stdout",
     "output_type": "stream",
     "text": [
      "The matrix: [[1 2 3]\n",
      " [4 5 6]\n",
      " [7 8 9]]\n",
      "The determinant: -9.51619735392994e-16\n"
     ]
    }
   ],
   "source": [
    "A = np.matrix([[1, 2, 3], [4, 5, 6], [7, 8, 9]])\n",
    "print(\"The matrix: {0}\".format(A))\n",
    "print(\"The determinant: {0}\".format(np.linalg.det(A)))"
   ]
  },
  {
   "cell_type": "markdown",
   "metadata": {},
   "source": [
    "Note that to find the determinant, the matrix must be a square matrix."
   ]
  },
  {
   "cell_type": "code",
   "execution_count": 53,
   "metadata": {},
   "outputs": [
    {
     "name": "stdout",
     "output_type": "stream",
     "text": [
      "The matrix:\n",
      "[[1 2 3]\n",
      " [4 5 6]\n",
      " [7 8 9]]\n",
      "The inverse:\n",
      "[[ 3.15251974e+15 -6.30503948e+15  3.15251974e+15]\n",
      " [-6.30503948e+15  1.26100790e+16 -6.30503948e+15]\n",
      " [ 3.15251974e+15 -6.30503948e+15  3.15251974e+15]]\n",
      "The inverse:\n",
      "[[-1.05083991e+15 -4.20335965e+15 -7.35587939e+15]\n",
      " [-2.10167983e+15 -5.25419957e+15 -8.40671930e+15]\n",
      " [-3.15251974e+15 -6.30503948e+15 -9.45755922e+15]]\n"
     ]
    }
   ],
   "source": [
    "A = np.matrix([[1, 2, 3], [4, 5, 6], [7, 8, 9]])\n",
    "print(\"The matrix:\\n{0}\".format(A))\n",
    "print(\"The inverse:\\n{0}\".format(np.linalg.inv(A)))\n",
    "print(\"The inverse:\\n{0}\".format(A.getH() / np.linalg.det(A))) # A.getH() gets the adjoint of A"
   ]
  },
  {
   "cell_type": "markdown",
   "metadata": {},
   "source": [
    "### Matrix operations"
   ]
  },
  {
   "cell_type": "code",
   "execution_count": 29,
   "metadata": {},
   "outputs": [],
   "source": [
    "A = np.matrix([[3, 4, 5], [5, 7, 4], [6, 3, 2]])\n",
    "B = np.matrix([[-2, 4, 2], [-6, 3, -4], [-3, 5, 2]])"
   ]
  },
  {
   "cell_type": "code",
   "execution_count": 30,
   "metadata": {},
   "outputs": [
    {
     "name": "stdout",
     "output_type": "stream",
     "text": [
      "[[ 1  8  7]\n",
      " [-1 10  0]\n",
      " [ 3  8  4]]\n",
      "[[ 1  8  7]\n",
      " [-1 10  0]\n",
      " [ 3  8  4]]\n",
      "[[ 5  0  3]\n",
      " [11  4  8]\n",
      " [ 9 -2  0]]\n",
      "[[ 5  0  3]\n",
      " [11  4  8]\n",
      " [ 9 -2  0]]\n"
     ]
    }
   ],
   "source": [
    "print(A + B)\n",
    "print(np.add(A, B))\n",
    "print(A - B)\n",
    "print(np.add(A, -B))"
   ]
  },
  {
   "cell_type": "code",
   "execution_count": 31,
   "metadata": {},
   "outputs": [
    {
     "name": "stdout",
     "output_type": "stream",
     "text": [
      "To do matrix multiplication\n",
      "[[-45  49   0]\n",
      " [-64  61 -10]\n",
      " [-36  43   4]]\n",
      "[[-45  49   0]\n",
      " [-64  61 -10]\n",
      " [-36  43   4]]\n",
      "To multiply element-wise\n",
      "[[ -6  16  10]\n",
      " [-30  21 -16]\n",
      " [-18  15   4]]\n"
     ]
    }
   ],
   "source": [
    "print(\"To do matrix multiplication\")\n",
    "print(A * B) # Apparently only works for square matrices\n",
    "print(np.dot(A, B))\n",
    "print(\"To multiply element-wise\")\n",
    "print(np.multiply(A, B))"
   ]
  },
  {
   "cell_type": "code",
   "execution_count": 34,
   "metadata": {},
   "outputs": [
    {
     "name": "stdout",
     "output_type": "stream",
     "text": [
      "[[-1.5         1.          2.5       ]\n",
      " [-0.83333333  2.33333333 -1.        ]\n",
      " [-2.          0.6         1.        ]]\n",
      "[[-1.5         1.          2.5       ]\n",
      " [-0.83333333  2.33333333 -1.        ]\n",
      " [-2.          0.6         1.        ]]\n",
      "[[-1.5         1.          2.5       ]\n",
      " [-0.83333333  2.33333333 -1.        ]\n",
      " [-2.          0.6         1.        ]]\n"
     ]
    }
   ],
   "source": [
    "print(A / B)\n",
    "print(np.divide(A, B))\n",
    "print(np.multiply(A, 1/B))"
   ]
  },
  {
   "cell_type": "markdown",
   "metadata": {},
   "source": [
    "Note that for matrix multiplication, the matrices must be such that the no. of columns of one matrix must equal the no. of rows in the second matrix."
   ]
  },
  {
   "cell_type": "code",
   "execution_count": 25,
   "metadata": {},
   "outputs": [
    {
     "name": "stdout",
     "output_type": "stream",
     "text": [
      "[[59 55 41]\n",
      " [74 81 61]\n",
      " [45 51 46]]\n"
     ]
    }
   ],
   "source": [
    "print(A**2)\n",
    "# Repeated multiplication of matrix. Only works with square matrix because of the condition for matrix multiplication."
   ]
  },
  {
   "cell_type": "code",
   "execution_count": 46,
   "metadata": {},
   "outputs": [
    {
     "name": "stdout",
     "output_type": "stream",
     "text": [
      "Original\n",
      "[[1 2 3]\n",
      " [4 5 6]\n",
      " [7 8 9]]\n",
      "Transposed\n",
      "[[1 4 7]\n",
      " [2 5 8]\n",
      " [3 6 9]]\n",
      "[[1 4 7]\n",
      " [2 5 8]\n",
      " [3 6 9]]\n",
      "[[1 4 7]\n",
      " [2 5 8]\n",
      " [3 6 9]]\n"
     ]
    }
   ],
   "source": [
    "print(\"Original\")\n",
    "print(A)\n",
    "print(\"Transposed\")\n",
    "print(np.transpose(A))\n",
    "print(A.transpose())\n",
    "print(A.T)"
   ]
  },
  {
   "cell_type": "markdown",
   "metadata": {},
   "source": [
    "# CONCLUSION"
   ]
  },
  {
   "cell_type": "markdown",
   "metadata": {},
   "source": [
    "Matrices are far more powerful than lists, when it comes to numerical collections. The wide availablility of functions makes it easy to use for linear algebra."
   ]
  }
 ],
 "metadata": {
  "kernelspec": {
   "display_name": "Python 3",
   "language": "python",
   "name": "python3"
  },
  "language_info": {
   "codemirror_mode": {
    "name": "ipython",
    "version": 3
   },
   "file_extension": ".py",
   "mimetype": "text/x-python",
   "name": "python",
   "nbconvert_exporter": "python",
   "pygments_lexer": "ipython3",
   "version": "3.8.5"
  }
 },
 "nbformat": 4,
 "nbformat_minor": 4
}
