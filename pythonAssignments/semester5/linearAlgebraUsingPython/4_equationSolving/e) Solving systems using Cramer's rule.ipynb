{
 "cells": [
  {
   "cell_type": "markdown",
   "metadata": {},
   "source": [
    "# INTRODUCTION"
   ]
  },
  {
   "cell_type": "markdown",
   "metadata": {},
   "source": [
    "Cramer's rule is an explicit formula for solving systems of linear equations."
   ]
  },
  {
   "cell_type": "markdown",
   "metadata": {},
   "source": [
    "Consider the system of equations $a_1x - b_1y + c_1z = d_1$, $a_2x + b_2y - b_3z = d_2$ and $a_3x + b_3y + c_3z = d_3$\n",
    "<br>"
   ]
  },
  {
   "cell_type": "markdown",
   "metadata": {},
   "source": [
    "$A =$ Coefficient matrix $=\\begin{pmatrix}a_1&b_1&c_1\\\\a_2&b_2&c_2\\\\a_3&b_3&c_3\\\\\\end{pmatrix}$"
   ]
  },
  {
   "cell_type": "markdown",
   "metadata": {},
   "source": [
    "$B =$ Constant matrix $= \\begin{pmatrix}d_1\\\\d_2\\\\d_3\\\\\\end{pmatrix}$"
   ]
  },
  {
   "cell_type": "markdown",
   "metadata": {},
   "source": [
    "$X =$ Variable matrix $= \\begin{pmatrix}x_1\\\\x_2\\\\\n",
    "x_3\\\\\\end{pmatrix}$"
   ]
  },
  {
   "cell_type": "markdown",
   "metadata": {},
   "source": [
    "Cramer's rule states that $x_i=\\frac{|A_i|}{|A|}$, where $i=1,2,3$, and $A_i$ is the resultant matrix when you replace the ith column of $A$ with the column vector $B$."
   ]
  },
  {
   "cell_type": "markdown",
   "metadata": {},
   "source": [
    "# PYTHON CODE"
   ]
  },
  {
   "cell_type": "markdown",
   "metadata": {},
   "source": [
    "Solving equation systems using Cramer's rule. Hence, consider the following in the context of simultaneous equations."
   ]
  },
  {
   "cell_type": "code",
   "execution_count": 1,
   "metadata": {},
   "outputs": [],
   "source": [
    "import numpy as np\n",
    "import copy as cp\n",
    "def cramersRule(A, B):\n",
    "# A is the matrix of coefficients.\n",
    "# B is the column matrix of constant sums.\n",
    "    X = []\n",
    "    solutions = [] # Intended list of solutions.\n",
    "    nVars = len(A[0]) # Length of a row => Number of variables.\n",
    "    for i in range(0, nVars + 1):\n",
    "        X.append(cp.deepcopy(A))\n",
    "        X[i][:, i] = B\n",
    "        solutions.append(np.linalg.det(X[i])/np.linalg.det(A))\n",
    "    return solutions"
   ]
  },
  {
   "cell_type": "markdown",
   "metadata": {},
   "source": [
    "# EXAMPLE"
   ]
  },
  {
   "cell_type": "markdown",
   "metadata": {},
   "source": [
    "$4x+y=6200$"
   ]
  },
  {
   "cell_type": "markdown",
   "metadata": {},
   "source": [
    "$3x+3y=5600$"
   ]
  },
  {
   "cell_type": "code",
   "execution_count": 2,
   "metadata": {},
   "outputs": [
    {
     "data": {
      "text/plain": [
       "[1444.4444444444437, 422.22222222222246]"
      ]
     },
     "execution_count": 2,
     "metadata": {},
     "output_type": "execute_result"
    }
   ],
   "source": [
    "A = np.matrix([[4, 1], [3, 3]]) # Matrix of coefficients.\n",
    "B = np.matrix([[6200], [5600]]) # Matrix of constant sums.\n",
    "cramersRule(A, B)"
   ]
  }
 ],
 "metadata": {
  "kernelspec": {
   "display_name": "Python 3",
   "language": "python",
   "name": "python3"
  },
  "language_info": {
   "codemirror_mode": {
    "name": "ipython",
    "version": 3
   },
   "file_extension": ".py",
   "mimetype": "text/x-python",
   "name": "python",
   "nbconvert_exporter": "python",
   "pygments_lexer": "ipython3",
   "version": "3.8.5"
  }
 },
 "nbformat": 4,
 "nbformat_minor": 4
}
