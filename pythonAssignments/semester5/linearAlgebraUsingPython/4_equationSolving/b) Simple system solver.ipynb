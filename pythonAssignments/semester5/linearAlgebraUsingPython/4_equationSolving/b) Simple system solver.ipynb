{
 "cells": [
  {
   "cell_type": "markdown",
   "metadata": {},
   "source": [
    "# AIM"
   ]
  },
  {
   "cell_type": "markdown",
   "metadata": {},
   "source": [
    "Creating a basic function that inputs coefficients and constants of a system of linear equations and solves this system."
   ]
  },
  {
   "cell_type": "code",
   "execution_count": 1,
   "metadata": {},
   "outputs": [],
   "source": [
    "import numpy as np\n",
    "def solveEqs(order):\n",
    "    try:\n",
    "        n = int(order)\n",
    "    except:\n",
    "        print(\"Not a positive integer!\")\n",
    "    if n < 1:\n",
    "        print(\"Number of equations is too small\")\n",
    "        return 0\n",
    "    A = np.zeros((n, n))\n",
    "    B = np.zeros((n, 1))\n",
    "    for i in range(0, n):\n",
    "        print(\"Equation #{0}:\".format(i + 1))\n",
    "        for j in range(0, n):\n",
    "            try:\n",
    "                A[i][j] = float(input((\"Coefficient #{0}: \").format(j + 1)))\n",
    "            except:\n",
    "                print(\"Invalid input\")\n",
    "                return 0\n",
    "        try:\n",
    "            B[i][0] = float(input((\"Constant sum: \")))\n",
    "        except:\n",
    "            print(\"Invalid input\")\n",
    "            return 0\n",
    "        print()\n",
    "    X = np.linalg.solve(A, B)\n",
    "    print(X)\n",
    "    print(\"x = {0}\".format(float(X[0, 0])))\n",
    "    print(\"y = {0}\".format(float(X[1, 0])))\n",
    "    print(\"z = {0}\".format(float(X[2, 0])))"
   ]
  },
  {
   "cell_type": "code",
   "execution_count": 2,
   "metadata": {},
   "outputs": [
    {
     "name": "stdout",
     "output_type": "stream",
     "text": [
      "Equation #1:\n",
      "Coefficient #1: 2\n",
      "Coefficient #2: 3\n",
      "Coefficient #3: 4\n",
      "Constant sum: -3\n",
      "\n",
      "Equation #2:\n",
      "Coefficient #1: 3\n",
      "Coefficient #2: 4\n",
      "Coefficient #3: 2\n",
      "Constant sum: -3\n",
      "\n",
      "Equation #3:\n",
      "Coefficient #1: -4\n",
      "Coefficient #2: 0\n",
      "Coefficient #3: 23\n",
      "Constant sum: -1\n",
      "\n",
      "[[-3.47058824]\n",
      " [ 2.17647059]\n",
      " [-0.64705882]]\n",
      "x = -3.4705882352941178\n",
      "y = 2.1764705882352944\n",
      "z = -0.6470588235294118\n"
     ]
    }
   ],
   "source": [
    "solveEqs(3)"
   ]
  }
 ],
 "metadata": {
  "kernelspec": {
   "display_name": "Python 3",
   "language": "python",
   "name": "python3"
  },
  "language_info": {
   "codemirror_mode": {
    "name": "ipython",
    "version": 3
   },
   "file_extension": ".py",
   "mimetype": "text/x-python",
   "name": "python",
   "nbconvert_exporter": "python",
   "pygments_lexer": "ipython3",
   "version": "3.8.5"
  }
 },
 "nbformat": 4,
 "nbformat_minor": 4
}
