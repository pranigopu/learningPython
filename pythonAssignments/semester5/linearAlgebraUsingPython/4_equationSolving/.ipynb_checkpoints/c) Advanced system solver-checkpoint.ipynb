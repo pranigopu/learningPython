{
 "cells": [
  {
   "cell_type": "markdown",
   "metadata": {},
   "source": [
    "**Support functions...**"
   ]
  },
  {
   "cell_type": "code",
   "execution_count": 10,
   "metadata": {},
   "outputs": [],
   "source": [
    "import numpy as np\n",
    "# Reads the equation strings and converts them into lists of various values...\n",
    "def getLists(equationList):\n",
    "    var, coef, const, varCount, eqCount = {}, [], [], 0, 0\n",
    "    # NOTES:\n",
    "    # 'coef' is a list of lists.\n",
    "    # Each sublist is for a variable, each sublist element corresponds to the equation number.\n",
    "    # 'var' is the dictionary, with key as variable name and value as the variable index.\n",
    "    # Variable indices are simply to help associate the coefficient lists to the variables.\n",
    "    for e in equationList:\n",
    "        e, i, varsFound, sign = e + \"\\\\\", 0, [], 1\n",
    "        # If coefficient of a variable is to the right of \"=\", we will take it to the LHS, reversing its sign.\n",
    "        # If constant term is to the left of \"=\", we will take it to the RHS, reversing its sign.\n",
    "        \n",
    "        # Going through the equation...\n",
    "        while e[i] != \"\\\\\":\n",
    "            coefValue = \"\"\n",
    "            while e[i].isspace(): i = i + 1 # To traverse possible spaces before '-'.\n",
    "            if e[i] == \"-\": coefValue, i = coefValue + \"-\", i + 1 # Negative sign detection.\n",
    "            while e[i].isspace(): i = i + 1 # To traverse possible spaces after '-'.\n",
    "            \n",
    "            # Number encountered...\n",
    "            if e[i].isnumeric():\n",
    "                coefValue, i = coefValue + e[i], i + 1\n",
    "                while e[i].isnumeric() and e[i] != \"\\\\\":\n",
    "                    coefValue, i = coefValue + e[i], i + 1\n",
    "            \n",
    "            # Alphabet encountered (potential variable)...\n",
    "            if e[i].isalpha():\n",
    "                varName, i = e[i], i + 1\n",
    "                while e[i].isalnum() and e[i] != \"\\\\\":\n",
    "                    varName, i = varName + e[i], i + 1\n",
    "                # (This stores the entire unspaced string as a variable, if encountered)\n",
    "                \n",
    "                # If variable already encountered in equation...\n",
    "                if varName in varsFound:\n",
    "                    coef[var[varName]][-1] = coef[var[varName]][-1] + float(coefValue) * sign\n",
    "                    # Coefficients get added.\n",
    "                    \n",
    "                # If variable is newly encountered in the equation...\n",
    "                else:\n",
    "                    varsFound.append(varName)\n",
    "                    # If the variable is newly encountered in the system...\n",
    "                    if(varName not in var):\n",
    "                        var[varName], varCount = varCount, varCount + 1\n",
    "                        coef.append([])\n",
    "                    # If no numerical coefficient specified...\n",
    "                    if coefValue == \"\" or coefValue == \"-\": coefValue = coefValue + \"1\"\n",
    "                    # Making sure zero constants are put where required...\n",
    "                    l = len(coef[var[varName]])\n",
    "                    while l < eqCount:\n",
    "                        coef[var[varName]].append(0)\n",
    "                        l = l + 1\n",
    "                    coef[var[varName]].append(float(coefValue) * sign)\n",
    "            \n",
    "            # If a constant is identified...\n",
    "            elif coefValue != \"\":\n",
    "                # If a constant already exists in the equation...\n",
    "                if \"c\" in varsFound:\n",
    "                    const[-1] = const[-1] + float(coefValue) * -sign\n",
    "                # If a constant hasn't been encountered before...\n",
    "                else:\n",
    "                    varsFound.append(\"c\")\n",
    "                    const.append(float(coefValue) * -sign)\n",
    "            \n",
    "            # If equal-to sign encountered, invert the sign variable...\n",
    "            else:\n",
    "                if e[i] == \"=\": sign = -1\n",
    "                i = i + 1\n",
    "        eqCount = eqCount + 1\n",
    "        \n",
    "        # Making sure zero constant sums are put where required...\n",
    "        if len(const) < eqCount: const.append(0)\n",
    "    return (coef, const, var)\n",
    "\n",
    "# Uses the lists of values from \"getLists\" and creates the necessary matrices...\n",
    "def getMatrices(equationList):\n",
    "    (coef, const, var) = getLists(equationList)\n",
    "    nVar, nEq = len(coef), len(const)\n",
    "    A = np.zeros((nEq, nVar))\n",
    "    B = np.zeros((nEq, 1))\n",
    "    for i in range(0, nEq):\n",
    "        for j in range(0, nVar):\n",
    "            try: A[i][j] = coef[j][i]\n",
    "            except: A[i][j] = 0\n",
    "    for i in range(0, nEq):\n",
    "        B[i][0] = const[i]\n",
    "    return (A, B, var)"
   ]
  },
  {
   "cell_type": "markdown",
   "metadata": {},
   "source": [
    "**Main function...**"
   ]
  },
  {
   "cell_type": "code",
   "execution_count": 15,
   "metadata": {},
   "outputs": [],
   "source": [
    "# Uses the matrices from \"getMatrices\" and finds the solutions if they exists...\n",
    "\n",
    "def solveSystem(equationList):\n",
    "    (A, B, var) = getMatrices(equationList)\n",
    "    A = np.matrix(A)\n",
    "    B = np.matrix(B)\n",
    "    print(\"Coefficient matrix:\")\n",
    "    print(A)\n",
    "    print(\"Constant sum matrix:\")\n",
    "    print(B)\n",
    "    try: np.linalg.inv(A)\n",
    "    except:\n",
    "        print(\"Inverse of coefficient matrix does not exist.\")\n",
    "        print(\"No solutions.\")\n",
    "    else: print(\"Inverse of coefficient matrix exists.\")\n",
    "    X = np.linalg.solve(A, B)\n",
    "    for i in var:\n",
    "        print(\"{0} = {1}\".format(i, X[var[i], 0]))"
   ]
  },
  {
   "cell_type": "markdown",
   "metadata": {},
   "source": [
    "# EXAMPLES"
   ]
  },
  {
   "cell_type": "markdown",
   "metadata": {},
   "source": [
    "## "
   ]
  },
  {
   "cell_type": "code",
   "execution_count": 22,
   "metadata": {},
   "outputs": [
    {
     "name": "stdout",
     "output_type": "stream",
     "text": [
      "Coefficient matrix:\n",
      "[[  8.   5.  -9.]\n",
      " [  3.   0.   2.]\n",
      " [-11.   4.   3.]]\n",
      "Constant sum matrix:\n",
      "[[0.]\n",
      " [9.]\n",
      " [0.]]\n",
      "Inverse of coefficient matrix exists.\n",
      "x = 1.4036697247706422\n",
      "y = 2.064220183486239\n",
      "z = 2.3944954128440368\n"
     ]
    }
   ],
   "source": [
    "eqs = [ \"8x + 5y = 9z\",\n",
    "        \"3x + 2z = 9\",\n",
    "        \"4y + 3z = 11x\"]\n",
    "solveSystem(eqs)"
   ]
  },
  {
   "cell_type": "markdown",
   "metadata": {},
   "source": [
    "## "
   ]
  },
  {
   "cell_type": "code",
   "execution_count": 23,
   "metadata": {},
   "outputs": [
    {
     "name": "stdout",
     "output_type": "stream",
     "text": [
      "Coefficient matrix:\n",
      "[[ 1.  2. -1.]\n",
      " [ 2.  1.  4.]\n",
      " [ 3.  3.  4.]]\n",
      "Constant sum matrix:\n",
      "[[-1.]\n",
      " [ 2.]\n",
      " [ 1.]]\n",
      "Inverse of coefficient matrix exists.\n",
      "x1 = 1.6666666666666679\n",
      "x2 = -1.3333333333333341\n",
      "x3 = -3.7007434154171906e-16\n"
     ]
    }
   ],
   "source": [
    "eqs = [ \"x1 + 2x2 + x3 - 2x3 = -1\",\n",
    "        \"2x1 + x2 + 4x3 = 2\",\n",
    "        \"3x1 + 3x2 + 4x3 = 1\"]\n",
    "solveSystem(eqs)"
   ]
  },
  {
   "cell_type": "markdown",
   "metadata": {},
   "source": [
    "# CONCLUSION"
   ]
  },
  {
   "cell_type": "markdown",
   "metadata": {},
   "source": [
    "This function allows for any arrangement of variables, any spacing, any variable names and any number of equations and variables, since its data structures are designed to dynamically generate their structure and data based on the inputs."
   ]
  }
 ],
 "metadata": {
  "kernelspec": {
   "display_name": "Python 3",
   "language": "python",
   "name": "python3"
  },
  "language_info": {
   "codemirror_mode": {
    "name": "ipython",
    "version": 3
   },
   "file_extension": ".py",
   "mimetype": "text/x-python",
   "name": "python",
   "nbconvert_exporter": "python",
   "pygments_lexer": "ipython3",
   "version": "3.8.5"
  }
 },
 "nbformat": 4,
 "nbformat_minor": 4
}
