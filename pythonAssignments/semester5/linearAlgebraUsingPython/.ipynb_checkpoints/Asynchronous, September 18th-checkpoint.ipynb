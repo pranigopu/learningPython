{
 "cells": [
  {
   "cell_type": "markdown",
   "metadata": {},
   "source": [
    "# "
   ]
  },
  {
   "cell_type": "markdown",
   "metadata": {},
   "source": [
    "Expressing a matrix as a sum of symmetric and skew-symmetric matrices..."
   ]
  },
  {
   "cell_type": "markdown",
   "metadata": {},
   "source": [
    "A square matrix M can be expressed as..."
   ]
  },
  {
   "cell_type": "markdown",
   "metadata": {},
   "source": [
    "$M=\\frac{1}{2}(M+M^T)+\\frac{1}{2}(M-M^T)$"
   ]
  },
  {
   "cell_type": "markdown",
   "metadata": {},
   "source": [
    "Now, a transpose of any matrix M is such that row i of M becomes column i of M's transpose. Hence, row i in M's transpose is column i in M. Hence, by adding M and its transpose, we are essentially adding row i of M to column i of M, and adding every column i of M to row i. Hence, every row becomes row i + column i, and every column becomes column i + row i, meaning the rows and columns become equal i.e. interchangeable. Hence, by definition, $M+M^T$ is a symmetric matrix, meaning $\\frac{1}{2}(M+M^T)$ is also symmetric."
   ]
  },
  {
   "cell_type": "markdown",
   "metadata": {},
   "source": [
    "Now, if we subtract M's transpose from M, we get that every row i of M becomes row i - column i, and the left-most element becomes zero. However, every column i of M becomes column i - row i by the same operation, and the top element becomes zero. Hence, we have the 1st row and 1st column as zero, and every other row and column such that row i = negative of column i i.e. every row becomes interchangeable with the corresponding column's negative. Hence, by definition, $M-M^T$ is a skew-symmetric matrix, meaning $\\frac{1}{2}(M+M^T)$ is also skew-symmetric."
   ]
  },
  {
   "cell_type": "markdown",
   "metadata": {},
   "source": [
    "This, way, M can be expressed as a sum of symmetric and skew-symmetric matrices."
   ]
  },
  {
   "cell_type": "code",
   "execution_count": 2,
   "metadata": {},
   "outputs": [
    {
     "name": "stdout",
     "output_type": "stream",
     "text": [
      "We have that...\n",
      "⎡1   8  0 ⎤\n",
      "⎢         ⎥\n",
      "⎢3   5  2 ⎥\n",
      "⎢         ⎥\n",
      "⎣-8  9  -2⎦\n",
      "can be expressed as the sum of the following...\n",
      "------------\n",
      "⎡ 1    11/2   -4 ⎤\n",
      "⎢                ⎥\n",
      "⎢11/2   5    11/2⎥\n",
      "⎢                ⎥\n",
      "⎣ -4   11/2   -2 ⎦\n",
      "Is symmetric? True\n",
      "------------\n",
      "⎡ 0    5/2   4  ⎤\n",
      "⎢               ⎥\n",
      "⎢-5/2   0   -7/2⎥\n",
      "⎢               ⎥\n",
      "⎣ -4   7/2   0  ⎦\n",
      "Is skew-symmetric? True\n",
      "------------\n",
      "To confirm...\n",
      "⎡1   8  0 ⎤\n",
      "⎢         ⎥\n",
      "⎢3   5  2 ⎥\n",
      "⎢         ⎥\n",
      "⎣-8  9  -2⎦\n"
     ]
    }
   ],
   "source": [
    "from sympy import Matrix, pprint\n",
    "M = Matrix([[1, 8, 0], [3, 5, 2], [-8, 9, -2]])\n",
    "Mt = M.transpose()\n",
    "M1 = (M + Mt)/2\n",
    "M2 = (M - Mt)/2\n",
    "# Transposes of M1 and M2...\n",
    "M1t = M1.transpose()\n",
    "M2t = M2.transpose()\n",
    "print(\"We have that...\")\n",
    "pprint(M)\n",
    "print(\"can be expressed as the sum of the following...\")\n",
    "print(\"------------\")\n",
    "pprint(M1)\n",
    "print(\"Is symmetric? {0}\".format(M1 == M1t))\n",
    "print(\"------------\")\n",
    "pprint(M2)\n",
    "print(\"Is skew-symmetric? {0}\".format(M2 == -M2t))\n",
    "print(\"------------\")\n",
    "print(\"To confirm...\")\n",
    "pprint(M1 + M2)"
   ]
  },
  {
   "cell_type": "markdown",
   "metadata": {},
   "source": [
    "# "
   ]
  },
  {
   "cell_type": "code",
   "execution_count": 37,
   "metadata": {},
   "outputs": [],
   "source": [
    "# Support functions...\n",
    "from numpy import matrix, zeros, sum, product, trace, min, max, sort\n",
    "def inputPositiveInteger(prompt):\n",
    "    while True:\n",
    "        try:\n",
    "            i = input(prompt)\n",
    "            if i == \"x\": return 0\n",
    "            i = int(i)\n",
    "            if i <= 0: i = 1/0\n",
    "            return i\n",
    "        except:\n",
    "            print(\"Invalid integer, please re-enter.\")\n",
    "def floatInput(prompt):\n",
    "    while True:\n",
    "        try:\n",
    "            i = float(input(prompt))\n",
    "            return i\n",
    "        except:\n",
    "            print(\"Invalid number, please re-enter.\")\n",
    "            \n",
    "def matrixInput(nRow, nCol):\n",
    "    print(\"\\nEnter row by row, each element in the row separated by comma...\")\n",
    "    A, i = zeros((nRow, nCol)), 0\n",
    "    while i < nRow:\n",
    "        row = input(\"R{0}: \".format(i + 1)).split(\",\")\n",
    "        if \"x\" in row: break # To stop inputting anymore\n",
    "        if len(row) != nCol:\n",
    "            print(\"ERROR: You must only enter\", nCol, \"per row\")\n",
    "            continue\n",
    "        for j in range(0, nCol):\n",
    "            try:\n",
    "                A[i][j] = float(row[j])\n",
    "            except:\n",
    "                print(\"ERROR: Non-numeric inputs.\")\n",
    "                j = -1\n",
    "                break\n",
    "        if j != -1: i = i + 1\n",
    "    return A"
   ]
  },
  {
   "cell_type": "code",
   "execution_count": 13,
   "metadata": {},
   "outputs": [
    {
     "name": "stdout",
     "output_type": "stream",
     "text": [
      "Rows\t: 2\n",
      "Columns\t: 3\n",
      "\n",
      "Enter row by row, each element in the row separated by comma...\n",
      "R1: 1,2,3\n",
      "R2: 1,5,2\n",
      "The matrix...\n",
      "[[1. 2. 3.]\n",
      " [1. 5. 2.]]\n",
      "\n",
      "Sum = 14.0\n",
      "Product = 60.0\n",
      "Trace = 6.0\n",
      "Minimum = 1.0\n",
      "Maximum = 5.0\n",
      "\n",
      "The matrix with every row sorted...\n",
      "[[1. 2. 3.]\n",
      " [1. 2. 5.]]\n"
     ]
    }
   ],
   "source": [
    "# NOTE:\n",
    "# For a multi-dimensional array or matrix...\n",
    "# - sum from numpy can add all the elements\n",
    "# - product from numpy can multiply all the elements\n",
    "# - min and max from numpy can find the minimum and maximum values\n",
    "\n",
    "# Matrix input\n",
    "nRow = inputPositiveInteger(\"Rows\\t: \")\n",
    "nCol = inputPositiveInteger(\"Columns\\t: \")\n",
    "M = matrixInput(nRow, nCol)\n",
    "print(\"The matrix...\\n{0}\\n\".format(M))\n",
    "print(\"Sum =\", sum(M))\n",
    "print(\"Product =\",product(M))\n",
    "print(\"Trace =\", trace(M))\n",
    "print(\"Minimum =\", min(M))\n",
    "print(\"Maximum =\", max(M))\n",
    "print(\"\\nThe matrix with every row sorted...\\n{0}\".format(sort(M)))\n",
    "# NOTE\n",
    "# Even though we pass the matrix, the sort function only sorts each row, since it only sorts 1D arrays."
   ]
  },
  {
   "cell_type": "markdown",
   "metadata": {},
   "source": [
    "# "
   ]
  },
  {
   "cell_type": "code",
   "execution_count": 96,
   "metadata": {},
   "outputs": [],
   "source": [
    "# Some functions...\n",
    "def randomMatrix(n, m):\n",
    "    A = zeros((n, m))\n",
    "    for i in range(0, n):\n",
    "        for j in range(0, m):\n",
    "            A[i][j] = random.randint(1, 25)\n",
    "    return A\n",
    "def randomSkewMatrix(n, m):\n",
    "    A = zeros((n, m))\n",
    "    # Creating upper triangle...\n",
    "    for i in range(0, n):\n",
    "        A[i][i] = 0\n",
    "        for j in range(i + 1, m):\n",
    "            A[i][j] = random.randint(1, 25)\n",
    "    for i in range(0, n):\n",
    "        for j in range(0, i):\n",
    "            A[i][j] = -A[j][i]\n",
    "    return A"
   ]
  },
  {
   "cell_type": "code",
   "execution_count": 130,
   "metadata": {},
   "outputs": [
    {
     "name": "stdout",
     "output_type": "stream",
     "text": [
      "Matrix:\n",
      "[[ 4  3  2]\n",
      " [ 1  4  1]\n",
      " [ 3 10  4]]\n",
      "------------------------\n",
      "PROPERTY 1:\n",
      "Eigen values:\n",
      "8.982056720677654\n",
      "2.1289177050273396\n",
      "0.8890255742950103\n",
      "\n",
      "Number of eigen values: 3\n",
      "------------------------\n",
      "PROPERTY 2:\n",
      "Sum of eigen values: 12.0\n",
      "Sum of diagonal values: 12\n",
      "------------------------\n",
      "PROPERTY 3:\n",
      "Product of eigen values: 17.0\n",
      "Determinant of matrix of: 17.0\n",
      "------------------------\n",
      "PROPERTY 4:\n",
      "Identity matrix:\n",
      "[[1. 0. 0.]\n",
      " [0. 1. 0.]\n",
      " [0. 0. 1.]]\n",
      "Eigen values:\n",
      "1.0\n",
      "1.0\n",
      "1.0\n",
      "------------------------\n",
      "PROPERTY 5:\n",
      "Lower triangular matrix:\n",
      "[[ 5.  0.  0.  0.  0.]\n",
      " [21. 23.  0.  0.  0.]\n",
      " [ 9. 12.  2.  0.  0.]\n",
      " [24. 20. 19. 14.  0.]\n",
      " [13.  6. 13.  6.  9.]]\n",
      "Eigen values:\n",
      "9.0\n",
      "14.0\n",
      "2.0\n",
      "23.0\n",
      "5.0\n",
      "------------------------\n",
      "PROPERTY 6:\n",
      "Matrix:\n",
      "[[  0.   8.  22.]\n",
      " [ -8.   0.  10.]\n",
      " [-22. -10.   0.]]\n",
      "Eigen values:\n",
      "(-6.661338147750939e-16+25.455844122715714j)\n",
      "(-6.661338147750939e-16-25.455844122715714j)\n",
      "(6.676925621055143e-16+0j)\n",
      "------------------------\n",
      "PROPERTY 7:\n",
      "Orthogonal matrix:\n",
      "[[ 0.33333333  0.66666667  0.66666667]\n",
      " [ 0.66666667  0.33333333 -0.66666667]\n",
      " [-0.66666667  0.66666667 -0.33333333]]\n",
      "Eigen values:\n",
      "(1+0j)\n",
      "(-0.333+0.943j)\n",
      "(-0.333-0.943j)\n",
      "------------------------\n",
      "PROPERTY 8:\n",
      "Idempotent matrix:\n",
      "[[ 2 -2 -4]\n",
      " [-1  3  4]\n",
      " [ 1 -2 -3]]\n",
      "Eigen values:\n",
      "0.0\n",
      "1.0\n",
      "1.0\n"
     ]
    }
   ],
   "source": [
    "from numpy import linalg, matrix, identity, tril, random, round\n",
    "# tril returns the lower triangular matrix for an array or matrix.\n",
    "# The 1st argument is the array or matrix.\n",
    "# The 2nd arguemnt specifies whether zeros should be at (k = -1) or above (k = 0) the diagonal.\n",
    "\n",
    "# Matrix input\n",
    "# n = inputPositiveInteger(\"n (rows or columns in the square matrix): \")\n",
    "# M = matrixInput(n, n)\n",
    "M = matrix([[4, 3, 2], [1, 4, 1], [3, 10, 4]])\n",
    "print(\"Matrix:\\n{0}\".format(M))\n",
    "# Proving properties of eigenvalues and eigenvectors...\n",
    "# 1. For a nxn matrix, the number of eigen values is n.\n",
    "print(\"------------------------\")\n",
    "print(\"PROPERTY 1:\")\n",
    "print(\"Eigen values:\")\n",
    "eigenValues = linalg.eigvals(M)\n",
    "for e in eigenValues: print(e)\n",
    "print(\"\\nNumber of eigen values:\", len(eigenValues))\n",
    "# 2. The sum of eigen values is equal to the sum of the diagonal elements of matrix.\n",
    "print(\"------------------------\")\n",
    "print(\"PROPERTY 2:\")\n",
    "print(\"Sum of eigen values:\", round(sum(eigenValues), 3))\n",
    "print(\"Sum of diagonal values:\", trace(M))\n",
    "# 3. The product of eigenvalues is equal to the determinant of the matrix.\n",
    "print(\"------------------------\")\n",
    "print(\"PROPERTY 3:\")\n",
    "print(\"Product of eigen values:\", round(product(eigenValues), 3))\n",
    "print(\"Determinant of matrix of:\", (linalg.det(M)))\n",
    "# 4. The eigen value for an identity matrix is 1.\n",
    "print(\"------------------------\")\n",
    "print(\"PROPERTY 4:\")\n",
    "I = identity(3)\n",
    "print(\"Identity matrix:\\n{}\".format(I))\n",
    "print(\"Eigen values:\")\n",
    "tmp = linalg.eigvals(I)\n",
    "for e in tmp: print(e)\n",
    "# 5. The eigen value of a triangular matrix is same as the diagonal elements of a matrix.\n",
    "print(\"------------------------\")\n",
    "print(\"PROPERTY 5:\")\n",
    "# Random matrix...\n",
    "A = matrix(randomMatrix(5, 5))\n",
    "# Lower triangular matrix...  \n",
    "T = tril(A, 0)\n",
    "print(\"Lower triangular matrix:\\n{}\".format(T))\n",
    "print(\"Eigen values:\")\n",
    "tmp = linalg.eigvals(T)\n",
    "for e in tmp: print(e)\n",
    "# 6. For a skew symmetric matrix, the eigen values are imaginary.\n",
    "print(\"------------------------\")\n",
    "print(\"PROPERTY 6:\")\n",
    "A = matrix(randomSkewMatrix(3, 3))\n",
    "print(\"Matrix:\\n{0}\".format(A))\n",
    "print(\"Eigen values:\")\n",
    "tmp = linalg.eigvals(A)\n",
    "for e in tmp: print(e)\n",
    "# 7. For orthogonal matrix the values of eigen values are 1 or -1.\n",
    "print(\"------------------------\")\n",
    "print(\"PROPERTY 7:\")\n",
    "A = matrix([[1, 2, 2], [2, 1, -2], [-2, 2, -1]]) / 3\n",
    "print(\"Orthogonal matrix:\\n{0}\".format(A))\n",
    "print(\"Eigen values:\")\n",
    "tmp = linalg.eigvals(A)\n",
    "for e in tmp: print(round(e, 3))\n",
    "# 8. For idempotent matrix the eigenvalues are 0 and 1.\n",
    "print(\"------------------------\")\n",
    "print(\"PROPERTY 8:\")\n",
    "A = matrix([[2, -2, -4], [-1, 3, 4], [1, -2, -3]])\n",
    "print(\"Idempotent matrix:\\n{0}\".format(A))\n",
    "print(\"Eigen values:\")\n",
    "tmp = linalg.eigvals(A)\n",
    "for e in tmp: print(round(e, 3))"
   ]
  },
  {
   "cell_type": "markdown",
   "metadata": {},
   "source": [
    "## NOTES"
   ]
  },
  {
   "cell_type": "markdown",
   "metadata": {},
   "source": [
    "### Orthogonal matrices"
   ]
  },
  {
   "cell_type": "markdown",
   "metadata": {},
   "source": [
    "When we say two vectors are orthogonal, we mean that they are perpendicular or form a right angle."
   ]
  },
  {
   "cell_type": "markdown",
   "metadata": {},
   "source": [
    "In linear algebra, an orthogonal matrix, or orthonormal matrix, is a real square matrix whose columns and rows are orthonormal vectors."
   ]
  },
  {
   "cell_type": "markdown",
   "metadata": {},
   "source": [
    "A square matrix with real numbers or elements is said to be an orthogonal matrix, if its transpose is equal to its inverse matrix. Or we can say, when the product of a square matrix and its transpose gives an identity matrix, then the square matrix is known as an orthogonal matrix."
   ]
  }
 ],
 "metadata": {
  "kernelspec": {
   "display_name": "Python 3",
   "language": "python",
   "name": "python3"
  },
  "language_info": {
   "codemirror_mode": {
    "name": "ipython",
    "version": 3
   },
   "file_extension": ".py",
   "mimetype": "text/x-python",
   "name": "python",
   "nbconvert_exporter": "python",
   "pygments_lexer": "ipython3",
   "version": "3.8.5"
  }
 },
 "nbformat": 4,
 "nbformat_minor": 4
}
