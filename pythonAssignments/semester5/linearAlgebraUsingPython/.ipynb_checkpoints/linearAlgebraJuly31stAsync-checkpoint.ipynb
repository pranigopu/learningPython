{
 "cells": [
  {
   "cell_type": "markdown",
   "metadata": {},
   "source": [
    "Write a python program to generate the grade of a student based on the percentage obtained."
   ]
  },
  {
   "cell_type": "code",
   "execution_count": 12,
   "metadata": {},
   "outputs": [
    {
     "name": "stdout",
     "output_type": "stream",
     "text": [
      "Enter student's percentage: 78\n",
      "Received grade: B+\n"
     ]
    }
   ],
   "source": [
    "# Inputting percentage and validating input\n",
    "while True:  \n",
    "    try:\n",
    "        percentage = int(input(\"Enter student's percentage: \"))\n",
    "        if percentage < 0 or percentage > 100:\n",
    "            percentage = 1/0\n",
    "        else:\n",
    "            break\n",
    "    except:\n",
    "        print(\"Invalid input!\")\n",
    "        \n",
    "# Percentage to grade conversion\n",
    "if percentage > 90:\n",
    "    grade = \"A+\"\n",
    "elif percentage > 80:\n",
    "    grade = \"A\"\n",
    "elif percentage > 75:\n",
    "    grade = \"B+\"\n",
    "elif percentage > 70:\n",
    "    grade = \"B\"\n",
    "elif percentage > 65:\n",
    "    grade = \"C+\"\n",
    "elif percentage > 60:\n",
    "    grade = \"C\"\n",
    "elif percentage > 55:\n",
    "    grade = \"D+\"\n",
    "elif percentage > 50:\n",
    "    grade = \"D\"\n",
    "elif percentage > 40:\n",
    "    grade = \"E\"\n",
    "else:\n",
    "    grade = \"F\"\n",
    "\n",
    "print(\"Received grade: \" + grade)"
   ]
  },
  {
   "cell_type": "markdown",
   "metadata": {},
   "source": [
    "Write a python program to accept a number from the user and predict whether it is a prime or not. If it is not a prime, then display all the factors of the number."
   ]
  },
  {
   "cell_type": "code",
   "execution_count": 8,
   "metadata": {},
   "outputs": [
    {
     "name": "stdout",
     "output_type": "stream",
     "text": [
      "Enter an integer: 677\n",
      "677 is prime.\n"
     ]
    }
   ],
   "source": [
    "# Inputting integer\n",
    "while True:  \n",
    "    try:\n",
    "        n = int(input(\"Enter an integer: \"))\n",
    "        break\n",
    "    except:\n",
    "        print(\"Not an integer!\")\n",
    "\n",
    "# Checking if prime, and finding factors if not\n",
    "i = 2\n",
    "isPrime = 1\n",
    "factors = []\n",
    "# This uses the minimum exit condition to check if n is prime\n",
    "while i * i <= n:\n",
    "    if n % i == 0:\n",
    "        factors.append(i)\n",
    "        isPrime = 0\n",
    "    i = i + 1\n",
    "# Finding the remaining factors if number is non-prime\n",
    "if isPrime == 0:\n",
    "    while i <= n/2:\n",
    "        if n % i == 0:\n",
    "            factors.append(i)\n",
    "        i = i + 1\n",
    "if isPrime:\n",
    "    print(n, \"is prime.\")\n",
    "else:\n",
    "    print(\"The factors of\", n, \"are\", factors)"
   ]
  },
  {
   "cell_type": "markdown",
   "metadata": {},
   "source": [
    "Write a python program to check if a triangle is equilateral, isosceles or scalene."
   ]
  },
  {
   "cell_type": "code",
   "execution_count": 11,
   "metadata": {},
   "outputs": [
    {
     "name": "stdout",
     "output_type": "stream",
     "text": [
      "Program to check if your triangle is equilateral, isosceles or scalene\n",
      "------------------------\n",
      "Enter x to input lengths of edges\n",
      "Enter anything else to input interior angles\n",
      "r\n",
      "Enter two interior angles in degrees...\n",
      "a = 45\n",
      "b = 87\n",
      "c = 54.0\n",
      "Triangle type: Scalene\n"
     ]
    }
   ],
   "source": [
    "print(\"Program to check if your triangle is equilateral, isosceles or scalene\")\n",
    "print(\"------------------------\")\n",
    "print(\"Enter x to input lengths of edges\")\n",
    "print(\"Enter anything else to input interior angles\")\n",
    "option = input()\n",
    "\n",
    "if option == \"x\":\n",
    "    while True:\n",
    "        try:\n",
    "            print(\"Enter lengths of edges...\")\n",
    "            a = float(input(\"a = \"))\n",
    "            b = float(input(\"b = \"))\n",
    "            c = float(input(\"c = \"))\n",
    "            break\n",
    "        except:\n",
    "            print(\"Non-numeric inputs!\")\n",
    "else:\n",
    "    while True:\n",
    "        try:\n",
    "            print(\"Enter two interior angles in degrees...\")\n",
    "            a = float(input(\"a = \"))\n",
    "            b = float(input(\"b = \"))\n",
    "            c = 180 - a - c\n",
    "            print(\"c =\", c)\n",
    "            break\n",
    "        except:\n",
    "            print(\"Non-numeric inputs!\")\n",
    "print(\"Triangle type:\", end = \" \")\n",
    "if a == b and b == c:\n",
    "    print(\"Equilateral\")\n",
    "elif a == b or b == c:\n",
    "    print(\"Isosceles\")\n",
    "else:\n",
    "    print(\"Scalene\")"
   ]
  },
  {
   "cell_type": "markdown",
   "metadata": {},
   "source": [
    "Write a python program to find the sum of squares of first n natural numbers."
   ]
  },
  {
   "cell_type": "code",
   "execution_count": 17,
   "metadata": {},
   "outputs": [
    {
     "name": "stdout",
     "output_type": "stream",
     "text": [
      "Enter upper limit: 87\n",
      "The sum of the squares of the first 87 natural numbers is 223300\n"
     ]
    }
   ],
   "source": [
    "while True:  \n",
    "    try:\n",
    "        n = int(input(\"Enter upper limit: \"))\n",
    "        if n < 0:\n",
    "            n = 1/0\n",
    "        else:\n",
    "            break\n",
    "    except:\n",
    "        print(\"Input must be a natural number!\")\n",
    "mySum = 0\n",
    "for i in range(1, n + 1):\n",
    "    mySum = mySum + i * i\n",
    "print(\"The sum of the squares of the first\", n, \"natural numbers is\", mySum)"
   ]
  }
 ],
 "metadata": {
  "kernelspec": {
   "display_name": "Python 3",
   "language": "python",
   "name": "python3"
  },
  "language_info": {
   "codemirror_mode": {
    "name": "ipython",
    "version": 3
   },
   "file_extension": ".py",
   "mimetype": "text/x-python",
   "name": "python",
   "nbconvert_exporter": "python",
   "pygments_lexer": "ipython3",
   "version": "3.8.5"
  }
 },
 "nbformat": 4,
 "nbformat_minor": 4
}
