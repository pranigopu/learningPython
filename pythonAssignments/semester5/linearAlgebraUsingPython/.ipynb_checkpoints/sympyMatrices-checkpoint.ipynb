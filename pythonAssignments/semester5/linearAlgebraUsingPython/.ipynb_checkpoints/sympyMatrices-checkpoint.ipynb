{
 "cells": [
  {
   "cell_type": "markdown",
   "metadata": {},
   "source": [
    "# "
   ]
  },
  {
   "cell_type": "markdown",
   "metadata": {},
   "source": [
    "Getting the row echelon form of matrices..."
   ]
  },
  {
   "cell_type": "code",
   "execution_count": 1,
   "metadata": {},
   "outputs": [
    {
     "name": "stdout",
     "output_type": "stream",
     "text": [
      "------------\n",
      "Matrix B is...\n",
      "⎡1  1  1 ⎤\n",
      "⎢        ⎥\n",
      "⎢3  1  -2⎥\n",
      "⎢        ⎥\n",
      "⎣2  4  7 ⎦\n",
      "Row echelon form of B...\n",
      "⎡1  0  -3/2⎤\n",
      "⎢          ⎥\n",
      "⎢0  1  5/2 ⎥\n",
      "⎢          ⎥\n",
      "⎣0  0   0  ⎦\n",
      "------------\n",
      "Matrix C is...\n",
      "⎡7  5  3 ⎤\n",
      "⎢        ⎥\n",
      "⎢9  8  -1⎥\n",
      "⎢        ⎥\n",
      "⎣8  4  3 ⎦\n",
      "Row echelon form of C...\n",
      "⎡1  0  0⎤\n",
      "⎢       ⎥\n",
      "⎢0  1  0⎥\n",
      "⎢       ⎥\n",
      "⎣0  0  1⎦\n"
     ]
    }
   ],
   "source": [
    "from sympy import Matrix, pprint\n",
    "B = Matrix([[1, 1, 1], [3, 1, -2], [2, 4, 7]])\n",
    "C = Matrix([[7, 5, 3], [9, 8, -1], [8, 4, 3]])\n",
    "print(\"------------\\nMatrix B is...\")\n",
    "pprint(B)\n",
    "print(\"Row echelon form of B...\")\n",
    "pprint(B.rref()[0])\n",
    "# Matrix.rref(M) returns a tuple.\n",
    "# The first element is the row reduced matrix.\n",
    "# The second element is a tuple of non-zero i.e. pivot column numbers.\n",
    "print(\"------------\\nMatrix C is...\")\n",
    "pprint(C)\n",
    "print(\"Row echelon form of C...\")\n",
    "pprint(C.rref()[0])"
   ]
  },
  {
   "cell_type": "markdown",
   "metadata": {},
   "source": [
    "# "
   ]
  },
  {
   "cell_type": "markdown",
   "metadata": {},
   "source": [
    "Expressing a matrix as a sum of symmetric and skew-symmetric matrices..."
   ]
  },
  {
   "cell_type": "markdown",
   "metadata": {},
   "source": [
    "A square matrix M can be expressed as"
   ]
  },
  {
   "cell_type": "markdown",
   "metadata": {},
   "source": [
    "$M=\\frac{1}{2}(M+M^T)+\\frac{1}{2}(M-M^T)$"
   ]
  },
  {
   "cell_type": "markdown",
   "metadata": {},
   "source": [
    "Now, a transpose of any matrix M is such that row i of M becomes column i of M's transpose. Hence, row i in M's transpose is column i in M. Hence, by adding M and its transpose, we are essentially adding row i of M to column i of M, and adding every column i of M to row i. Hence, every row becomes row i + column i, and every column becomes column i + row i, meaning the rows and columns become equal i.e. interchangeable. Hence, by definition, $M+M^T$ is a symmetric matrix, meaning $\\frac{1}{2}(M+M^T)$ is also symmetric."
   ]
  },
  {
   "cell_type": "markdown",
   "metadata": {},
   "source": [
    "Now, if we subtract M's transpose from M, we get that every row i of M becomes row i - column i, and the left-most element becomes zero. However, every column i of M becomes column i - row i by the same operation, and the top element becomes zero. Hence, we have the 1st row and 1st column as zero, and every other row and column such that row i = negative of column i i.e. every row becomes interchangeable with the corresponding column's negative. Hence, by definition, $M-M^T$ is a skew-symmetric matrix, meaning $\\frac{1}{2}(M+M^T)$ is also skew-symmetric."
   ]
  },
  {
   "cell_type": "markdown",
   "metadata": {},
   "source": [
    "This, way, M can be expressed as a sum of symmetric and skew-symmetric matrices."
   ]
  },
  {
   "cell_type": "code",
   "execution_count": 20,
   "metadata": {},
   "outputs": [
    {
     "name": "stdout",
     "output_type": "stream",
     "text": [
      "We have that...\n",
      "⎡1   8  0 ⎤\n",
      "⎢         ⎥\n",
      "⎢3   5  2 ⎥\n",
      "⎢         ⎥\n",
      "⎣-8  9  -2⎦\n",
      "can be expressed as the sum of the following...\n",
      "------------\n",
      "⎡ 1    11/2   -4 ⎤\n",
      "⎢                ⎥\n",
      "⎢11/2   5    11/2⎥\n",
      "⎢                ⎥\n",
      "⎣ -4   11/2   -2 ⎦\n",
      "Is symmetric? True\n",
      "------------\n",
      "⎡ 0    5/2   4  ⎤\n",
      "⎢               ⎥\n",
      "⎢-5/2   0   -7/2⎥\n",
      "⎢               ⎥\n",
      "⎣ -4   7/2   0  ⎦\n",
      "Is skew-symmetric? True\n",
      "------------\n",
      "To confirm...\n",
      "⎡1   8  0 ⎤\n",
      "⎢         ⎥\n",
      "⎢3   5  2 ⎥\n",
      "⎢         ⎥\n",
      "⎣-8  9  -2⎦\n"
     ]
    }
   ],
   "source": [
    "from sympy import Matrix, pprint\n",
    "M = Matrix([[1, 8, 0], [3, 5, 2], [-8, 9, -2]])\n",
    "M_t = M.transpose()\n",
    "M1 = (M + M_t)/2\n",
    "M2 = (M - M_t)/2\n",
    "# Transposes of M1 and M2...\n",
    "M1_t = M1.transpose()\n",
    "M2_t = M2.transpose()\n",
    "print(\"We have that...\")\n",
    "pprint(M)\n",
    "print(\"can be expressed as the sum of the following...\")\n",
    "print(\"------------\")\n",
    "pprint(M1)\n",
    "print(\"Is symmetric? {0}\".format(M1 == M1_t))\n",
    "print(\"------------\")\n",
    "pprint(M2)\n",
    "print(\"Is skew-symmetric? {0}\".format(M2 == -M2_t))\n",
    "print(\"------------\")\n",
    "print(\"To confirm...\")\n",
    "pprint(M1 + M2)"
   ]
  },
  {
   "cell_type": "markdown",
   "metadata": {},
   "source": [
    "# "
   ]
  },
  {
   "cell_type": "markdown",
   "metadata": {},
   "source": []
  },
  {
   "cell_type": "code",
   "execution_count": 9,
   "metadata": {},
   "outputs": [],
   "source": [
    "from sympy import Matrix, zeros, pprint\n",
    "def inputPositiveInteger(prompt):\n",
    "    while True:\n",
    "        try:\n",
    "            i = input(prompt)\n",
    "            if i == \"x\": return 0\n",
    "            i = int(i)\n",
    "            if i <= 0: i = 1/0\n",
    "            return i\n",
    "        except:\n",
    "            print(\"Invalid integer, please re-enter.\")\n",
    "def floatInput(prompt):\n",
    "    while True:\n",
    "        try:\n",
    "            i = float(input(prompt))\n",
    "            return i\n",
    "        except:\n",
    "            print(\"Invalid number, please re-enter.\")\n",
    "            \n",
    "def matrixInput(nRow, nCol):\n",
    "    print(\"\\nEnter row by row, each element in the row separated by comma...\")\n",
    "    A, i = zeros(nRow, nCol), 0\n",
    "    while i < nRow:\n",
    "        row = input(\"R{0}: \".format(i + 1)).split(\",\")\n",
    "        if \"x\" in row: break # To stop inputting anymore\n",
    "        if len(row) != nCol:\n",
    "            print(\"ERROR: You must only enter\", nCol, \"per row\")\n",
    "            continue\n",
    "        for j in range(0, nCol):\n",
    "            try:\n",
    "                A[i, j] = float(row[j])\n",
    "            except:\n",
    "                print(\"ERROR: Non-numeric inputs.\")\n",
    "                j = -1\n",
    "                break\n",
    "        if j != -1: i = i + 1\n",
    "    return A"
   ]
  },
  {
   "cell_type": "code",
   "execution_count": 34,
   "metadata": {},
   "outputs": [
    {
     "name": "stdout",
     "output_type": "stream",
     "text": [
      "MATRIX 1\n",
      "Rows\t: 3\n",
      "Columns\t: 3\n",
      "\n",
      "Enter row by row, each element in the row separated by comma...\n",
      "R1: 32,-2, 0\n",
      "R2: 21, 0, 231\n",
      "R3: 2, 3, -3\n",
      "Your matrix:\n",
      "⎡32.0  -2.0   0.0 ⎤\n",
      "⎢                 ⎥\n",
      "⎢21.0  0.0   231.0⎥\n",
      "⎢                 ⎥\n",
      "⎣2.0   3.0   -3.0 ⎦\n",
      "------------\n",
      "Results of certain functions on this matrix...\n",
      "Determinant: -23226.0000000000\n",
      "Row echelon form:\n",
      "⎡1  0  0⎤\n",
      "⎢       ⎥\n",
      "⎢0  1  0⎥\n",
      "⎢       ⎥\n",
      "⎣0  0  1⎦\n",
      "Is singular: False\n",
      "Trace: 29.0000000000000\n",
      "Rank: 3\n",
      "Nullity: 0\n",
      "Nullspace: Empty\n"
     ]
    }
   ],
   "source": [
    "singular = False\n",
    "print(\"MATRIX 1\")\n",
    "nRow = inputPositiveInteger(\"Rows\\t: \")\n",
    "nCol = inputPositiveInteger(\"Columns\\t: \")\n",
    "A = matrixInput(nRow, nCol)\n",
    "print(\"Your matrix:\")\n",
    "pprint(A)\n",
    "print(\"------------\\nResults of certain functions on this matrix...\")\n",
    "# Determinant\n",
    "try:\n",
    "    det = A.det()\n",
    "    print(\"Determinant:\", det)\n",
    "    if det == 0: singular = True\n",
    "except:\n",
    "    print(\"Determinant: Unobtainable for non-square matrix!\")\n",
    "# Row echelon form\n",
    "print(\"Row echelon form:\")\n",
    "pprint(A.rref()[0])\n",
    "# Is singular?\n",
    "print(\"Is singular:\", singular)\n",
    "# Trace\n",
    "try:\n",
    "    print(\"Trace:\", A.trace())\n",
    "except:\n",
    "    print(\"Trace: Unobtainable for non-square matrix!\")\n",
    "# Rank\n",
    "print(\"Rank:\", A.rank())\n",
    "# Nullity\n",
    "nullspace = A.nullspace()\n",
    "nullity = len(nullspace)\n",
    "print(\"Nullity:\", nullity)\n",
    "# Nullspace\n",
    "if nullity == 0:\n",
    "    print(\"Nullspace: Empty\")\n",
    "else:\n",
    "    print(\"Nullspace:\")\n",
    "    for M in nullspace:\n",
    "        pprint(M)"
   ]
  },
  {
   "cell_type": "markdown",
   "metadata": {},
   "source": [
    "## NOTES"
   ]
  },
  {
   "cell_type": "markdown",
   "metadata": {},
   "source": [
    "### Nullspace"
   ]
  },
  {
   "cell_type": "markdown",
   "metadata": {},
   "source": [
    "The null space of any matrix A consists of all the vectors B such that AB = 0 and B is not zero. It can also be thought as the solution obtained from AB = 0 where A is known matrix of size m x n and B is matrix to be found of size n x 1. The nullity of A is the number of vectors in its nullspace."
   ]
  },
  {
   "cell_type": "markdown",
   "metadata": {},
   "source": [
    "The nullspace function for sympy matrices returns a list of vectors that are in the nullspace of A, as defined above. By getting its length, we can figure out the nullity of A."
   ]
  },
  {
   "cell_type": "code",
   "execution_count": 22,
   "metadata": {},
   "outputs": [
    {
     "data": {
      "text/latex": [
       "$\\displaystyle \\left[\\begin{matrix}\\frac{3}{2}\\\\- \\frac{5}{2}\\\\1\\end{matrix}\\right]$"
      ],
      "text/plain": [
       "Matrix([\n",
       "[ 3/2],\n",
       "[-5/2],\n",
       "[   1]])"
      ]
     },
     "execution_count": 22,
     "metadata": {},
     "output_type": "execute_result"
    }
   ],
   "source": [
    "B = Matrix([[1, 1, 1], [3, 1, -2], [2, 4, 7]])\n",
    "B.nullspace()[0]"
   ]
  }
 ],
 "metadata": {
  "kernelspec": {
   "display_name": "Python 3",
   "language": "python",
   "name": "python3"
  },
  "language_info": {
   "codemirror_mode": {
    "name": "ipython",
    "version": 3
   },
   "file_extension": ".py",
   "mimetype": "text/x-python",
   "name": "python",
   "nbconvert_exporter": "python",
   "pygments_lexer": "ipython3",
   "version": "3.8.5"
  }
 },
 "nbformat": 4,
 "nbformat_minor": 4
}
