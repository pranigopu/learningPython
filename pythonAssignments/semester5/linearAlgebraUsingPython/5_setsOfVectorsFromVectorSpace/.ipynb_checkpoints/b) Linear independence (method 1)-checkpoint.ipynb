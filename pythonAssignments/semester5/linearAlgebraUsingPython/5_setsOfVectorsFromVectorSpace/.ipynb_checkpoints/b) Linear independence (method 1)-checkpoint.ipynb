{
 "cells": [
  {
   "cell_type": "markdown",
   "metadata": {},
   "source": [
    "# INTRODUCTION"
   ]
  },
  {
   "cell_type": "markdown",
   "metadata": {},
   "source": [
    "If a set of vectors is linearly independent, then the only way their linear combination will equal zero is if all their scalar coefficients are zero. There are other ways to check if a set of vectors is linearly independent, based on different results. Here,I will look at two of them, and demonstrate the insufficiency of the first method..."
   ]
  },
  {
   "cell_type": "markdown",
   "metadata": {},
   "source": [
    "# Using system of linear equations"
   ]
  },
  {
   "cell_type": "markdown",
   "metadata": {},
   "source": [
    "We cannot use the methods for solving equations for finding the independence of a set of vectors, since the 'solve' function in the 'linalg' module in the NumPy library will only return the trivial solution (i.e. all scalars are zero) if we use the linear equation system solving methods as follows..."
   ]
  },
  {
   "cell_type": "code",
   "execution_count": 2,
   "metadata": {},
   "outputs": [
    {
     "name": "stdout",
     "output_type": "stream",
     "text": [
      "\n",
      "Matrix of vectors {v1, v2, v3}:\n",
      "[[ 5  6  4]\n",
      " [-2 -8  7]\n",
      " [ 7  3 -1]]\n",
      "\n",
      "Vector of zeros:\n",
      "[[0.]\n",
      " [0.]\n",
      " [0.]]\n",
      "\n",
      "Coefficients for v1, v2 and v3 if their linear combination is zero:\n",
      "[[ 0.]\n",
      " [-0.]\n",
      " [ 0.]]\n"
     ]
    }
   ],
   "source": [
    "import numpy as np\n",
    "v1 = np.matrix([[5], [-2], [7]])\n",
    "v2 = np.matrix([[6], [-8], [3]])\n",
    "v3 = np.matrix([[4], [7], [-1]])\n",
    "\n",
    "print(\"\\nMatrix of vectors {v1, v2, v3}:\")\n",
    "V = np.hstack([v1, v2, v3])\n",
    "print(V)\n",
    "\n",
    "print(\"\\nVector of zeros:\")\n",
    "c = np.zeros((3, 1))\n",
    "print(c)\n",
    "\n",
    "print(\"\\nCoefficients for v1, v2 and v3 if their linear combination is zero:\")\n",
    "print(np.linalg.solve(V, c))"
   ]
  },
  {
   "cell_type": "markdown",
   "metadata": {},
   "source": [
    "The given coefficients i.e. scalars multiplied to the vectors in the given set of vectors will always be given as 0, since this is the simplest solution, and this is all the solve function looks for."
   ]
  },
  {
   "cell_type": "markdown",
   "metadata": {},
   "source": [
    "# Checking the determinant of the vector matrix"
   ]
  },
  {
   "cell_type": "markdown",
   "metadata": {},
   "source": [
    "So, to check for linear independence, we use a result. Note that this result is applicable only to vector spaces that are defined over the real number field. The result is as follows..."
   ]
  },
  {
   "cell_type": "markdown",
   "metadata": {},
   "source": [
    "The set of vectors S from the vector space V defined over the field of real numbers is linearly independent if and only if $|S|≠ 0$, where S is the matrix constructed from the set of vectors S."
   ]
  },
  {
   "cell_type": "code",
   "execution_count": 18,
   "metadata": {},
   "outputs": [
    {
     "name": "stdout",
     "output_type": "stream",
     "text": [
      "\n",
      "Matrix of vectors V = {v1, v2, v3}:\n",
      "[[ 1 -2  7]\n",
      " [ 6 -2  3]\n",
      " [ 3  1 -2]]\n",
      "\n",
      "Determinant of V = 0?: False\n"
     ]
    }
   ],
   "source": [
    "import numpy as np\n",
    "v1 = np.matrix([1, -2, 7])\n",
    "v2 = np.matrix([6, -2, 3])\n",
    "v3 = np.matrix([3, 1, -2])\n",
    "\n",
    "print(\"\\nMatrix of vectors V = {v1, v2, v3}:\")\n",
    "V = np.vstack([v1, v2, v3])\n",
    "print(V)\n",
    "\n",
    "print(\"\\nDeterminant of V = 0?:\", np.linalg.det(V) == 0)"
   ]
  },
  {
   "cell_type": "markdown",
   "metadata": {},
   "source": [
    "Hence, we have that the set of vectors $\\{(1,-2,7),(6,-2,3),(3,1,-2)\\}$ is linearly independent."
   ]
  }
 ],
 "metadata": {
  "kernelspec": {
   "display_name": "Python 3",
   "language": "python",
   "name": "python3"
  },
  "language_info": {
   "codemirror_mode": {
    "name": "ipython",
    "version": 3
   },
   "file_extension": ".py",
   "mimetype": "text/x-python",
   "name": "python",
   "nbconvert_exporter": "python",
   "pygments_lexer": "ipython3",
   "version": "3.8.5"
  }
 },
 "nbformat": 4,
 "nbformat_minor": 4
}
